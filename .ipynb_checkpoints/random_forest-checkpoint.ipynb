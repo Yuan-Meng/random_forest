{
 "cells": [
  {
   "cell_type": "markdown",
   "metadata": {
    "toc-hr-collapsed": false
   },
   "source": [
    "# student loan"
   ]
  },
  {
   "cell_type": "markdown",
   "metadata": {
    "persistent_id": "7693e835-6587-4dc0-b1db-d9957f84096f"
   },
   "source": [
    "## background\n",
    "The company [LendingClub](https://www.lendingclub.com/info/statistics.action) has [data](https://www.dropbox.com/s/0so14yudedjmm5m/LoanStats3d.csv?dl=1) on student loans and factors that might help predict loan status (e.g., current, fully paid, late, in grace period, etc.). Here I will use Random Forest to build predictive models based on given features. "
   ]
  },
  {
   "cell_type": "markdown",
   "metadata": {
    "persistent_id": "c1b28f9e-04b1-4361-afa1-340ff7d53ee4"
   },
   "source": [
    "## load data"
   ]
  },
  {
   "cell_type": "code",
   "execution_count": null,
   "metadata": {
    "execution_event_id": "51b5c8b9-a702-4fea-a38b-962de08b6b47",
    "last_executed_text": "# import libraries\nimport pandas as pd\nimport numpy as np\nimport matplotlib.pyplot as plt\nfrom sklearn import ensemble\nfrom sklearn.model_selection import cross_val_score\nfrom sklearn.preprocessing import StandardScaler\nfrom sklearn.model_selection import train_test_split\nfrom sklearn.decomposition import PCA\nfrom sklearn.ensemble import RandomForestClassifier\n\nimport warnings\n\nwarnings.filterwarnings(\"ignore\")\n\n%matplotlib inline",
    "persistent_id": "47827e5d-9598-4b20-88c8-d5f63cfe04b4"
   },
   "outputs": [],
   "source": [
    "# import libraries\n",
    "import pandas as pd\n",
    "import numpy as np\n",
    "import matplotlib.pyplot as plt\n",
    "from sklearn import ensemble\n",
    "from sklearn.model_selection import cross_val_score\n",
    "from sklearn.preprocessing import StandardScaler\n",
    "from sklearn.model_selection import train_test_split\n",
    "from sklearn.decomposition import PCA\n",
    "from sklearn.ensemble import RandomForestClassifier\n",
    "\n",
    "import warnings\n",
    "\n",
    "warnings.filterwarnings(\"ignore\")\n",
    "\n",
    "%matplotlib inline"
   ]
  },
  {
   "cell_type": "code",
   "execution_count": null,
   "metadata": {
    "execution_event_id": "5cd0953d-d08a-4b55-af78-e4256f168cd3",
    "last_executed_text": "# read data from file\nraw = pd.read_csv(\"LoanStats3d.csv\", skipinitialspace=True, header=1)\n\n# show first 5 rows\nraw.head()",
    "persistent_id": "0ff2576a-01f5-4050-a162-f50f1dadb654"
   },
   "outputs": [],
   "source": [
    "# read data from file\n",
    "raw = pd.read_csv(\n",
    "    \"https://www.dropbox.com/s/0so14yudedjmm5m/LoanStats3d.csv?dl=1\",\n",
    "    skipinitialspace=True,\n",
    "    header=1,\n",
    ")\n",
    "\n",
    "\n",
    "# show first 5 rows\n",
    "raw.head()"
   ]
  },
  {
   "cell_type": "markdown",
   "metadata": {
    "execution_event_id": "6ccadb55-cefd-4222-bbac-29dcdabf5a56",
    "last_executed_text": "raw.columns.shape",
    "persistent_id": "5cb5d6cf-a08c-423b-bb7d-e1e65e32543c",
    "toc-hr-collapsed": true
   },
   "source": [
    "## model preparation"
   ]
  },
  {
   "cell_type": "markdown",
   "metadata": {
    "persistent_id": "44ad413d-78e5-4c35-b3d9-d96e46067b0d",
    "toc-hr-collapsed": true
   },
   "source": [
    "### data cleaning"
   ]
  },
  {
   "cell_type": "markdown",
   "metadata": {
    "persistent_id": "1919ec7f-6812-4785-b52b-38c48ad702d3"
   },
   "source": [
    "#### data types\n",
    "Let's make sure each column has the correct data type. A discrete column with too many categories may be continuous (e.g., id) or unnecessary (e.g., zip code, url). "
   ]
  },
  {
   "cell_type": "code",
   "execution_count": null,
   "metadata": {
    "execution_event_id": "a7743c53-e425-4bb7-8cd7-bf9347b6d688",
    "last_executed_text": "# number of unique values in each column\ncategorical = raw.select_dtypes(include=[\"object\"])\nfor col in categorical.columns:\n    print(\"{}: {}\".format(col, categorical[col].nunique()))",
    "persistent_id": "5b2f0e29-b19e-4b09-a92b-aa4ad1a3d6ce"
   },
   "outputs": [],
   "source": [
    "# number of unique values in each column\n",
    "categorical = raw.select_dtypes(include=[\"object\"])\n",
    "for col in categorical.columns:\n",
    "    print(\"{}: {}\".format(col, categorical[col].nunique()))"
   ]
  },
  {
   "cell_type": "code",
   "execution_count": null,
   "metadata": {
    "execution_event_id": "c96cc57d-af0d-48ed-81ee-33030840604a",
    "last_executed_text": "# create a copy of the original data\nloans = raw.copy()\n\n# convert ID and interest rate to numeric.\nloans[\"id\"] = pd.to_numeric(loans[\"id\"], errors=\"coerce\")\nloans[\"int_rate\"] = pd.to_numeric(loans[\"int_rate\"].str.strip(\"%\"), errors=\"coerce\")\n\n# drop columns with too many unique values\nloans.drop(\n    [\n        \"url\",\n        \"emp_title\",\n        \"zip_code\",\n        \"earliest_cr_line\",\n        \"revol_util\",\n        \"sub_grade\",\n        \"addr_state\",\n        \"desc\",\n    ],\n    1,\n    inplace=True,\n)",
    "persistent_id": "7cf6bb84-5b95-4d11-ada9-a353bb090802"
   },
   "outputs": [],
   "source": [
    "# create a copy of the original data\n",
    "loans = raw.copy()\n",
    "\n",
    "# convert ID and interest rate to numeric.\n",
    "loans[\"id\"] = pd.to_numeric(loans[\"id\"], errors=\"coerce\")\n",
    "loans[\"int_rate\"] = pd.to_numeric(loans[\"int_rate\"].str.strip(\"%\"), errors=\"coerce\")\n",
    "\n",
    "# drop columns with too many unique values\n",
    "loans.drop(\n",
    "    [\n",
    "        \"url\",\n",
    "        \"emp_title\",\n",
    "        \"zip_code\",\n",
    "        \"earliest_cr_line\",\n",
    "        \"revol_util\",\n",
    "        \"sub_grade\",\n",
    "        \"addr_state\",\n",
    "        \"desc\",\n",
    "    ],\n",
    "    1,\n",
    "    inplace=True,\n",
    ")"
   ]
  },
  {
   "cell_type": "markdown",
   "metadata": {
    "execution_event_id": "c6dc9371-d017-4cde-b63e-205a9d3cea35",
    "last_executed_text": "# drop other columns with too many unique variables\nloans.drop(['url', 'emp_title', 'zip_code', 'earliest_cr_line', 'revol_util',\n            'sub_grade', 'addr_state', 'desc'], 1, inplace=True)",
    "persistent_id": "30e3640e-96b7-45d0-8a06-0d3980e36ad5"
   },
   "source": [
    "#### missing data\n",
    "Let's drop rows without any data."
   ]
  },
  {
   "cell_type": "code",
   "execution_count": null,
   "metadata": {
    "execution_event_id": "4d6b0d05-b6a8-4905-a26d-aba4c29e9d82",
    "last_executed_text": "loans.dropna(how=\"all\", inplace=True)",
    "persistent_id": "17c49fba-75fa-4a9c-b2ce-00b9d9177dd1"
   },
   "outputs": [],
   "source": [
    "loans.dropna(how=\"all\", inplace=True)"
   ]
  },
  {
   "cell_type": "markdown",
   "metadata": {
    "persistent_id": "825c9046-633c-458a-94b8-7dc5e89a5636"
   },
   "source": [
    "### one hot encoding\n",
    "Since most models (including Random Forest) only accept numeric values as input, we can use [one hot encoding](https://www.geeksforgeeks.org/ml-one-hot-encoding-of-datasets-in-python/) to convert categorical data ($N$ levels) into numerical data ($N$ columns) before training models."
   ]
  },
  {
   "cell_type": "code",
   "execution_count": null,
   "metadata": {
    "execution_event_id": "8148c0e2-5933-414d-a7df-ed847a123721",
    "last_executed_text": "# target variable\ny = loans[\"loan_status\"]\n\n# feature vector\nX = loans.drop(\"loan_status\", 1)\n\n# one hot encoding\nX = pd.get_dummies(X)\n\n# drop rows with missing data\nX = X.dropna(axis=1)",
    "persistent_id": "2017abed-11da-4e1d-9b28-cb95437c807e"
   },
   "outputs": [],
   "source": [
    "# target variable\n",
    "y = loans[\"loan_status\"]\n",
    "\n",
    "# feature vector\n",
    "X = loans.drop(\"loan_status\", 1)\n",
    "\n",
    "# one hot encoding\n",
    "X = pd.get_dummies(X)\n",
    "\n",
    "# drop rows with missing data\n",
    "X = X.dropna(axis=1)"
   ]
  },
  {
   "cell_type": "markdown",
   "metadata": {},
   "source": [
    "Since one hot encoding often creates many more columns than before, we often need to follow it with principle component analysis (PCA) or other dimensionality reduction techniques to select features."
   ]
  },
  {
   "cell_type": "markdown",
   "metadata": {
    "persistent_id": "091865d5-7d42-4f6a-8677-1cf4bda39b19"
   },
   "source": [
    "### train/test split\n",
    "Before performing PCA, let's save up 20% of the data for testing. We want to split first because PCA relies the specific data we observed; we shouldn't let testing data influence the decision in this step."
   ]
  },
  {
   "cell_type": "code",
   "execution_count": null,
   "metadata": {
    "execution_event_id": "5772ed3b-404f-45c4-bd6d-6614be1bb3db",
    "last_executed_text": "X_train, X_test, y_train, y_test = train_test_split(X, y, test_size=0.2, random_state=0)",
    "persistent_id": "90f8fe66-3b9f-41a0-bc75-02a19dfe9795"
   },
   "outputs": [],
   "source": [
    "X_train, X_test, y_train, y_test = train_test_split(X, y, test_size=0.2, random_state=0)"
   ]
  },
  {
   "cell_type": "markdown",
   "metadata": {
    "persistent_id": "a8c065da-196c-4853-ad46-64eaaf971c0a"
   },
   "source": [
    "### standardization\n",
    "PCA works best with normalized features, so let's do so below."
   ]
  },
  {
   "cell_type": "code",
   "execution_count": null,
   "metadata": {
    "execution_event_id": "8ca06650-1fe8-4f2f-93cb-d89786c16332",
    "last_executed_text": "sc = StandardScaler()\nX_train = sc.fit_transform(X_train)\nX_test = sc.transform(X_test)",
    "persistent_id": "9db882cf-c91c-4a3d-b367-a18fda494f9b"
   },
   "outputs": [],
   "source": [
    "sc = StandardScaler()\n",
    "X_train = sc.fit_transform(X_train)\n",
    "X_test = sc.transform(X_test)"
   ]
  },
  {
   "cell_type": "markdown",
   "metadata": {
    "persistent_id": "bae1a19f-46bd-40a0-87dc-caa2b9c7061d",
    "toc-hr-collapsed": false
   },
   "source": [
    "## predictive modeling"
   ]
  },
  {
   "cell_type": "markdown",
   "metadata": {
    "persistent_id": "b44aad7c-d010-4684-872a-dfa45013ceff"
   },
   "source": [
    "### PCA\n",
    "To get a rough estimate of how many components are needed to describe the data, we can plot the *cumulative explained variance* as a function the number of components selected."
   ]
  },
  {
   "cell_type": "code",
   "execution_count": null,
   "metadata": {
    "execution_event_id": "9e7654c9-eceb-4134-b015-f001a3e8f4de",
    "last_executed_text": "pca = PCA().fit(X_train)\nplt.plot(np.cumsum(pca.explained_variance_ratio_))\nplt.xlabel('number of components')\nplt.ylabel('cumulative explained variance');",
    "persistent_id": "1e984b11-1cc0-42b4-819d-d9111d3947fa"
   },
   "outputs": [],
   "source": [
    "pca = PCA().fit(X_train)\n",
    "plt.plot(np.cumsum(pca.explained_variance_ratio_))\n",
    "plt.xlabel(\"number of components\")\n",
    "plt.ylabel(\"cumulative explained variance\");"
   ]
  },
  {
   "cell_type": "markdown",
   "metadata": {},
   "source": [
    "For the student loan dataset, it seems we need as many as 150 components to describe the data!"
   ]
  },
  {
   "cell_type": "code",
   "execution_count": null,
   "metadata": {
    "execution_event_id": "9eefbe79-f66f-468e-ae40-f83c526ae7ea",
    "last_executed_text": "n_components = 150\n\npca = PCA(n_components=n_components)\nX_train = pca.fit_transform(X_train)\nX_test = pca.transform(X_test)",
    "persistent_id": "69b13d58-d904-4002-a0ab-8ceb1b3d601e"
   },
   "outputs": [],
   "source": [
    "n_components = 150\n",
    "\n",
    "pca = PCA(n_components=n_components)\n",
    "X_train = pca.fit_transform(X_train)\n",
    "X_test = pca.transform(X_test)"
   ]
  },
  {
   "cell_type": "markdown",
   "metadata": {
    "persistent_id": "79e88246-e64e-4344-a6a1-bbd686f08eef"
   },
   "source": [
    "### training and predicting"
   ]
  },
  {
   "cell_type": "code",
   "execution_count": null,
   "metadata": {
    "execution_event_id": "0996783c-3567-4ef7-8f45-3885093222be",
    "last_executed_text": "classifier = RandomForestClassifier(max_depth=2, random_state=0)\nclassifier.fit(X_train, y_train)\n\ny_pred = classifier.predict(X_test)",
    "persistent_id": "627587f2-27ac-4da5-8ba3-e03ac7fd60c5"
   },
   "outputs": [],
   "source": [
    "classifier = RandomForestClassifier(max_depth=2, random_state=0)\n",
    "classifier.fit(X_train, y_train)\n",
    "\n",
    "y_pred = classifier.predict(X_test)"
   ]
  },
  {
   "cell_type": "markdown",
   "metadata": {
    "persistent_id": "9dc6a264-0eb5-4786-8b14-938dc552d921"
   },
   "source": [
    "### evaluate performance"
   ]
  },
  {
   "cell_type": "code",
   "execution_count": null,
   "metadata": {
    "execution_event_id": "653599b3-c14f-49b7-9e74-9595a60e77b7",
    "last_executed_text": "from sklearn.metrics import confusion_matrix\nfrom sklearn.metrics import accuracy_score\n\ncm = confusion_matrix(y_test, y_pred)\nprint(\"Confusion matrix: \\n{}\\n\".format(cm))\nprint(\n    \"Accuracy is {} with {} components.\".format(\n        accuracy_score(y_test, y_pred), n_components\n    )\n)",
    "persistent_id": "620aac66-497b-4957-a744-86dae8e55a29"
   },
   "outputs": [],
   "source": [
    "from sklearn.metrics import confusion_matrix\n",
    "from sklearn.metrics import accuracy_score\n",
    "\n",
    "cm = confusion_matrix(y_test, y_pred)\n",
    "print(\"Confusion matrix: \\n{}\\n\".format(cm))\n",
    "print(\n",
    "    \"Accuracy is {} with {} components.\".format(\n",
    "        accuracy_score(y_test, y_pred), n_components\n",
    "    )\n",
    ")"
   ]
  },
  {
   "cell_type": "markdown",
   "metadata": {
    "persistent_id": "b45138ba-3065-4716-a5d4-ddb85f19ed15"
   },
   "source": [
    "## doing without payment/outstanding amounts\n",
    "Predicting loan status kind of feels like cheating when payment or outstanding amounts are known. Let's see if we can make good predictions without variables related to these. To do so, we can drop columns that contain substrings \"pymnt\" or \"out\"."
   ]
  },
  {
   "cell_type": "markdown",
   "metadata": {
    "persistent_id": "263167fa-9034-4127-a961-81553834a65f"
   },
   "source": [
    "### drop columns"
   ]
  },
  {
   "cell_type": "code",
   "execution_count": null,
   "metadata": {
    "execution_event_id": "98d7e857-65bc-422d-80dc-9953739552e6",
    "last_executed_text": "to_drop = [col for col in raw.columns if \"pymnt\" in col or \"out\" in col]",
    "persistent_id": "41da0e10-e7a8-42c6-bed2-a606e5c6e993"
   },
   "outputs": [],
   "source": [
    "# select columns to drop\n",
    "to_drop = [col for col in raw.columns if \"pymnt\" in col or \"out\" in col]\n",
    "\n",
    "# drop from a copy of the raw data\n",
    "loans2 = raw.copy()\n",
    "loans2 = raw.drop(to_drop, axis=1)"
   ]
  },
  {
   "cell_type": "markdown",
   "metadata": {
    "persistent_id": "cad87251-8095-431a-922c-6ca5650e8d2a"
   },
   "source": [
    "### data cleaning"
   ]
  },
  {
   "cell_type": "markdown",
   "metadata": {
    "persistent_id": "8df330be-8a93-4e67-bd15-6bf40defde8d"
   },
   "source": [
    "However we cleaned the previous dataset, we need to do the same to the new dataset."
   ]
  },
  {
   "cell_type": "code",
   "execution_count": null,
   "metadata": {
    "execution_event_id": "7cc9031a-7bba-4f17-9b8e-c4e8303e99d6",
    "last_executed_text": "# convert ID and interest rate to numeric.\nloans2[\"id\"] = pd.to_numeric(loans2[\"id\"], errors=\"coerce\")\nloans2[\"int_rate\"] = pd.to_numeric(loans2[\"int_rate\"].str.strip(\"%\"), errors=\"coerce\")\n\n# drop columns with too many unique values\nloans2.drop(\n    [\n        \"url\",\n        \"emp_title\",\n        \"zip_code\",\n        \"earliest_cr_line\",\n        \"revol_util\",\n        \"sub_grade\",\n        \"addr_state\",\n        \"desc\",\n    ],\n    1,\n    inplace=True,\n)",
    "persistent_id": "9ed9cae6-b727-44cc-a577-4cf7f1b6d50f"
   },
   "outputs": [],
   "source": [
    "# convert ID and interest rate to numeric.\n",
    "loans2[\"id\"] = pd.to_numeric(loans2[\"id\"], errors=\"coerce\")\n",
    "loans2[\"int_rate\"] = pd.to_numeric(loans2[\"int_rate\"].str.strip(\"%\"), errors=\"coerce\")\n",
    "\n",
    "# drop columns with too many unique values\n",
    "loans2.drop(\n",
    "    [\n",
    "        \"url\",\n",
    "        \"emp_title\",\n",
    "        \"zip_code\",\n",
    "        \"earliest_cr_line\",\n",
    "        \"revol_util\",\n",
    "        \"sub_grade\",\n",
    "        \"addr_state\",\n",
    "        \"desc\",\n",
    "    ],\n",
    "    1,\n",
    "    inplace=True,\n",
    ")\n",
    "\n",
    "# drop rows without any data\n",
    "loans2.dropna(how=\"all\", inplace=True)\n",
    "\n",
    "# new feature vector\n",
    "X_new = loans2.drop(\"loan_status\", 1)\n",
    "\n",
    "# one hot encoding\n",
    "X_new = pd.get_dummies(X)\n",
    "\n",
    "# drop rows with missing data\n",
    "X_new = X_new.dropna(axis=1)"
   ]
  },
  {
   "cell_type": "markdown",
   "metadata": {
    "persistent_id": "7ba9c977-19f4-4bde-bff3-b4ed3fc5606e"
   },
   "source": [
    "### train/test split"
   ]
  },
  {
   "cell_type": "code",
   "execution_count": null,
   "metadata": {
    "execution_event_id": "23587f32-51a8-428d-bf10-99f10e3536b5",
    "last_executed_text": "X_train2, X_test2, y_train2, y_test2 = train_test_split(X_new, y, test_size=0.2, random_state=0)",
    "persistent_id": "775e151f-6da0-434a-848a-ae6b35c1747b"
   },
   "outputs": [],
   "source": [
    "X_train2, X_test2, y_train2, y_test2 = train_test_split(\n",
    "    X_new, y, test_size=0.2, random_state=0\n",
    ")"
   ]
  },
  {
   "cell_type": "markdown",
   "metadata": {
    "persistent_id": "6201d79c-ab57-4c78-9234-0156173d4f2f"
   },
   "source": [
    "### PCA\n",
    "Similarly, let's estimate how many components are needed."
   ]
  },
  {
   "cell_type": "code",
   "execution_count": null,
   "metadata": {
    "execution_event_id": "eddae823-5d54-4184-bd42-1b765cf55c29",
    "last_executed_text": "pca = PCA().fit(X_train2)\nplt.plot(np.cumsum(pca.explained_variance_ratio_))\nplt.xlabel('number of components')\nplt.ylabel('cumulative explained variance');",
    "persistent_id": "b049abdc-0238-4421-80a2-283d70fce852"
   },
   "outputs": [],
   "source": [
    "pca = PCA().fit(X_train2)\n",
    "plt.plot(np.cumsum(pca.explained_variance_ratio_))\n",
    "plt.xlabel(\"number of components\")\n",
    "plt.ylabel(\"cumulative explained variance\");"
   ]
  },
  {
   "cell_type": "markdown",
   "metadata": {
    "persistent_id": "5af1f849-65df-409a-aef4-cfb81ed8f6b2"
   },
   "source": [
    "This time, we only seem to need about 5 principle components."
   ]
  },
  {
   "cell_type": "markdown",
   "metadata": {
    "persistent_id": "fad9e58b-9b57-4cd5-b78f-80d214d0d4c3"
   },
   "source": [
    "### training and predicting"
   ]
  },
  {
   "cell_type": "code",
   "execution_count": null,
   "metadata": {
    "execution_event_id": "873ffc41-32b0-44f3-8604-1982fd9ade19",
    "last_executed_text": "classifier = RandomForestClassifier(max_depth=2, random_state=0)\nclassifier.fit(X_train2, y_train2)\n\ny_pred = classifier.predict(X_test2)",
    "persistent_id": "815f8941-0da7-449d-8336-c0c8f8428c66"
   },
   "outputs": [],
   "source": [
    "classifier = RandomForestClassifier(max_depth=2, random_state=0)\n",
    "classifier.fit(X_train2, y_train2)\n",
    "\n",
    "y_pred = classifier.predict(X_test2)"
   ]
  },
  {
   "cell_type": "markdown",
   "metadata": {
    "persistent_id": "e4895c40-7ce5-4038-810f-0ab97bc2d390"
   },
   "source": [
    "### evaluate performance"
   ]
  },
  {
   "cell_type": "code",
   "execution_count": null,
   "metadata": {
    "persistent_id": "96a63a7a-7a1a-46c9-85e6-1cd72c099f72"
   },
   "outputs": [],
   "source": [
    "cm = confusion_matrix(y_test2, y_pred)\n",
    "print(\"Confusion matrix: \\n{}\\n\".format(cm))\n",
    "print(\n",
    "    \"Accuracy is {} with {} components.\".format(\n",
    "        accuracy_score(y_test2, y_pred), n_components\n",
    "    )\n",
    ")"
   ]
  }
 ],
 "metadata": {
  "history": [
   {
    "cell": {
     "executionCount": 1,
     "executionEventId": "1778b369-30d2-408f-b047-5735b20e8ba6",
     "hasError": false,
     "id": "087d1d67-aec1-4c65-9310-ba063529c530",
     "outputs": [],
     "persistentId": "47827e5d-9598-4b20-88c8-d5f63cfe04b4",
     "text": "import pandas as pd\nimport numpy as np\nimport matplotlib.pyplot as plt\n%matplotlib inline"
    },
    "executionTime": "2020-01-13T04:50:26.768Z"
   },
   {
    "cell": {
     "executionCount": 2,
     "executionEventId": "54a374d0-e3ae-49c9-861f-34d422a9d7f5",
     "hasError": false,
     "id": "4b387283-d2d1-4abf-98c7-2cb0238c4f1a",
     "outputs": [
      {
       "name": "stderr",
       "output_type": "stream",
       "text": "/Users/apple/anaconda3/lib/python3.7/site-packages/IPython/core/interactiveshell.py:3057: DtypeWarning: Columns (0,1,2,3,4,7,13,19,24,25,27,28,29,30,31,32,34,36,37,38,39,40,41,42,43,44,46,49,50,51,53,54,55,56,57,58,59,60,61,62,63,64,65,66,67,68,69,70,71,72,73,74,75,76,77,78,79,80,81,82,83,84,85,86,87,88,89,90,91,92,93,94,95,96,97,98,99,100,101,102,103,104,105,106,107,108,109,110) have mixed types. Specify dtype option on import or set low_memory=False.\n  interactivity=interactivity, compiler=compiler, result=result)\n"
      }
     ],
     "persistentId": "0ff2576a-01f5-4050-a162-f50f1dadb654",
     "text": "raw = pd.read_csv(\"LoanStats3d.csv\")"
    },
    "executionTime": "2020-01-13T04:51:00.366Z"
   },
   {
    "cell": {
     "executionCount": 3,
     "executionEventId": "6705e76b-b0e0-49ac-a47f-726e3639c6d6",
     "hasError": false,
     "id": "4b387283-d2d1-4abf-98c7-2cb0238c4f1a",
     "outputs": [],
     "persistentId": "0ff2576a-01f5-4050-a162-f50f1dadb654",
     "text": "raw = pd.read_csv(\"LoanStats3d.csv\", low_memory=False)"
    },
    "executionTime": "2020-01-13T04:51:36.962Z"
   },
   {
    "cell": {
     "executionCount": 4,
     "executionEventId": "72c3c086-c786-482d-b60e-e9580c5f930f",
     "hasError": false,
     "id": "dbb50bed-0783-45cd-84b0-b8b2190d6bd4",
     "outputs": [
      {
       "data": {
        "text/html": "<div>\n<style scoped>\n    .dataframe tbody tr th:only-of-type {\n        vertical-align: middle;\n    }\n\n    .dataframe tbody tr th {\n        vertical-align: top;\n    }\n\n    .dataframe thead th {\n        text-align: right;\n    }\n</style>\n<table border=\"1\" class=\"dataframe\">\n  <thead>\n    <tr style=\"text-align: right;\">\n      <th></th>\n      <th></th>\n      <th></th>\n      <th></th>\n      <th></th>\n      <th></th>\n      <th></th>\n      <th></th>\n      <th></th>\n      <th></th>\n      <th></th>\n      <th></th>\n      <th></th>\n      <th></th>\n      <th></th>\n      <th></th>\n      <th></th>\n      <th></th>\n      <th></th>\n      <th></th>\n      <th></th>\n      <th></th>\n      <th></th>\n      <th></th>\n      <th></th>\n      <th></th>\n      <th></th>\n      <th></th>\n      <th></th>\n      <th></th>\n      <th></th>\n      <th></th>\n      <th></th>\n      <th></th>\n      <th></th>\n      <th></th>\n      <th></th>\n      <th></th>\n      <th></th>\n      <th></th>\n      <th></th>\n      <th></th>\n      <th></th>\n      <th></th>\n      <th></th>\n      <th></th>\n      <th></th>\n      <th></th>\n      <th></th>\n      <th></th>\n      <th></th>\n      <th></th>\n      <th></th>\n      <th></th>\n      <th></th>\n      <th></th>\n      <th></th>\n      <th></th>\n      <th></th>\n      <th></th>\n      <th></th>\n      <th></th>\n      <th></th>\n      <th></th>\n      <th></th>\n      <th></th>\n      <th></th>\n      <th></th>\n      <th></th>\n      <th></th>\n      <th></th>\n      <th></th>\n      <th></th>\n      <th></th>\n      <th></th>\n      <th></th>\n      <th></th>\n      <th></th>\n      <th></th>\n      <th></th>\n      <th></th>\n      <th></th>\n      <th></th>\n      <th></th>\n      <th></th>\n      <th></th>\n      <th></th>\n      <th></th>\n      <th></th>\n      <th></th>\n      <th></th>\n      <th></th>\n      <th></th>\n      <th></th>\n      <th></th>\n      <th></th>\n      <th></th>\n      <th></th>\n      <th></th>\n      <th></th>\n      <th></th>\n      <th></th>\n      <th></th>\n      <th></th>\n      <th></th>\n      <th></th>\n      <th></th>\n      <th></th>\n      <th></th>\n      <th></th>\n      <th>Notes offered by Prospectus (https://www.lendingclub.com/info/prospectus.action)</th>\n    </tr>\n  </thead>\n  <tbody>\n    <tr>\n      <th>id</th>\n      <th>member_id</th>\n      <th>loan_amnt</th>\n      <th>funded_amnt</th>\n      <th>funded_amnt_inv</th>\n      <th>term</th>\n      <th>int_rate</th>\n      <th>installment</th>\n      <th>grade</th>\n      <th>sub_grade</th>\n      <th>emp_title</th>\n      <th>emp_length</th>\n      <th>home_ownership</th>\n      <th>annual_inc</th>\n      <th>verification_status</th>\n      <th>issue_d</th>\n      <th>loan_status</th>\n      <th>pymnt_plan</th>\n      <th>url</th>\n      <th>desc</th>\n      <th>purpose</th>\n      <th>title</th>\n      <th>zip_code</th>\n      <th>addr_state</th>\n      <th>dti</th>\n      <th>delinq_2yrs</th>\n      <th>earliest_cr_line</th>\n      <th>inq_last_6mths</th>\n      <th>mths_since_last_delinq</th>\n      <th>mths_since_last_record</th>\n      <th>open_acc</th>\n      <th>pub_rec</th>\n      <th>revol_bal</th>\n      <th>revol_util</th>\n      <th>total_acc</th>\n      <th>initial_list_status</th>\n      <th>out_prncp</th>\n      <th>out_prncp_inv</th>\n      <th>total_pymnt</th>\n      <th>total_pymnt_inv</th>\n      <th>total_rec_prncp</th>\n      <th>total_rec_int</th>\n      <th>total_rec_late_fee</th>\n      <th>recoveries</th>\n      <th>collection_recovery_fee</th>\n      <th>last_pymnt_d</th>\n      <th>last_pymnt_amnt</th>\n      <th>next_pymnt_d</th>\n      <th>last_credit_pull_d</th>\n      <th>collections_12_mths_ex_med</th>\n      <th>mths_since_last_major_derog</th>\n      <th>policy_code</th>\n      <th>application_type</th>\n      <th>annual_inc_joint</th>\n      <th>dti_joint</th>\n      <th>verification_status_joint</th>\n      <th>acc_now_delinq</th>\n      <th>tot_coll_amt</th>\n      <th>tot_cur_bal</th>\n      <th>open_acc_6m</th>\n      <th>open_il_6m</th>\n      <th>open_il_12m</th>\n      <th>open_il_24m</th>\n      <th>mths_since_rcnt_il</th>\n      <th>total_bal_il</th>\n      <th>il_util</th>\n      <th>open_rv_12m</th>\n      <th>open_rv_24m</th>\n      <th>max_bal_bc</th>\n      <th>all_util</th>\n      <th>total_rev_hi_lim</th>\n      <th>inq_fi</th>\n      <th>total_cu_tl</th>\n      <th>inq_last_12m</th>\n      <th>acc_open_past_24mths</th>\n      <th>avg_cur_bal</th>\n      <th>bc_open_to_buy</th>\n      <th>bc_util</th>\n      <th>chargeoff_within_12_mths</th>\n      <th>delinq_amnt</th>\n      <th>mo_sin_old_il_acct</th>\n      <th>mo_sin_old_rev_tl_op</th>\n      <th>mo_sin_rcnt_rev_tl_op</th>\n      <th>mo_sin_rcnt_tl</th>\n      <th>mort_acc</th>\n      <th>mths_since_recent_bc</th>\n      <th>mths_since_recent_bc_dlq</th>\n      <th>mths_since_recent_inq</th>\n      <th>mths_since_recent_revol_delinq</th>\n      <th>num_accts_ever_120_pd</th>\n      <th>num_actv_bc_tl</th>\n      <th>num_actv_rev_tl</th>\n      <th>num_bc_sats</th>\n      <th>num_bc_tl</th>\n      <th>num_il_tl</th>\n      <th>num_op_rev_tl</th>\n      <th>num_rev_accts</th>\n      <th>num_rev_tl_bal_gt_0</th>\n      <th>num_sats</th>\n      <th>num_tl_120dpd_2m</th>\n      <th>num_tl_30dpd</th>\n      <th>num_tl_90g_dpd_24m</th>\n      <th>num_tl_op_past_12m</th>\n      <th>pct_tl_nvr_dlq</th>\n      <th>percent_bc_gt_75</th>\n      <th>pub_rec_bankruptcies</th>\n      <th>tax_liens</th>\n      <th>tot_hi_cred_lim</th>\n      <th>total_bal_ex_mort</th>\n      <th>total_bc_limit</th>\n      <td>total_il_high_credit_limit</td>\n    </tr>\n    <tr>\n      <th>68009401</th>\n      <th>72868139</th>\n      <th>16000</th>\n      <th>16000</th>\n      <th>16000</th>\n      <th>60 months</th>\n      <th>14.85%</th>\n      <th>379.39</th>\n      <th>C</th>\n      <th>C5</th>\n      <th>Bookkeeper/Accounting</th>\n      <th>10+ years</th>\n      <th>MORTGAGE</th>\n      <th>48000</th>\n      <th>Not Verified</th>\n      <th>Dec-2015</th>\n      <th>Current</th>\n      <th>n</th>\n      <th>https://lendingclub.com/browse/loanDetail.action?loan_id=68009401</th>\n      <th>NaN</th>\n      <th>credit_card</th>\n      <th>Credit card refinancing</th>\n      <th>297xx</th>\n      <th>SC</th>\n      <th>33.18</th>\n      <th>0</th>\n      <th>Jun-1991</th>\n      <th>0</th>\n      <th>33</th>\n      <th>2</th>\n      <th>11</th>\n      <th>2</th>\n      <th>19108</th>\n      <th>29.6%</th>\n      <th>19</th>\n      <th>w</th>\n      <th>13668.88</th>\n      <th>13668.88</th>\n      <th>4519.68</th>\n      <th>4519.68</th>\n      <th>2331.12</th>\n      <th>2188.56</th>\n      <th>0.0</th>\n      <th>0.0</th>\n      <th>0.0</th>\n      <th>Jan-2017</th>\n      <th>379.39</th>\n      <th>Jan-2017</th>\n      <th>Jan-2017</th>\n      <th>0</th>\n      <th>33</th>\n      <th>1</th>\n      <th>INDIVIDUAL</th>\n      <th>NaN</th>\n      <th>NaN</th>\n      <th>NaN</th>\n      <th>0</th>\n      <th>0</th>\n      <th>31329</th>\n      <th>1</th>\n      <th>2</th>\n      <th>1</th>\n      <th>2</th>\n      <th>6</th>\n      <th>12221</th>\n      <th>91</th>\n      <th>1</th>\n      <th>4</th>\n      <th>14982</th>\n      <th>65</th>\n      <th>284700</th>\n      <th>0</th>\n      <th>0</th>\n      <th>1</th>\n      <th>6</th>\n      <th>2848</th>\n      <th>263953</th>\n      <th>17.6</th>\n      <th>0</th>\n      <th>0</th>\n      <th>131</th>\n      <th>294</th>\n      <th>11</th>\n      <th>6</th>\n      <th>2</th>\n      <th>11</th>\n      <th>76</th>\n      <th>11</th>\n      <th>76</th>\n      <th>2</th>\n      <th>6</th>\n      <th>9</th>\n      <th>6</th>\n      <th>8</th>\n      <th>6</th>\n      <th>9</th>\n      <th>11</th>\n      <th>9</th>\n      <th>11</th>\n      <th>0</th>\n      <th>0</th>\n      <th>0</th>\n      <th>2</th>\n      <th>78.9</th>\n      <th>0</th>\n      <th>0</th>\n      <th>2</th>\n      <th>298100</th>\n      <th>31329</th>\n      <th>281300</th>\n      <td>13400</td>\n    </tr>\n    <tr>\n      <th>68354783</th>\n      <th>73244544</th>\n      <th>9600</th>\n      <th>9600</th>\n      <th>9600</th>\n      <th>36 months</th>\n      <th>7.49%</th>\n      <th>298.58</th>\n      <th>A</th>\n      <th>A4</th>\n      <th>tech</th>\n      <th>8 years</th>\n      <th>MORTGAGE</th>\n      <th>60000</th>\n      <th>Not Verified</th>\n      <th>Dec-2015</th>\n      <th>Current</th>\n      <th>n</th>\n      <th>https://lendingclub.com/browse/loanDetail.action?loan_id=68354783</th>\n      <th>NaN</th>\n      <th>credit_card</th>\n      <th>Credit card refinancing</th>\n      <th>299xx</th>\n      <th>SC</th>\n      <th>22.44</th>\n      <th>0</th>\n      <th>Jun-1996</th>\n      <th>0</th>\n      <th>NaN</th>\n      <th>NaN</th>\n      <th>7</th>\n      <th>0</th>\n      <th>7722</th>\n      <th>59.4%</th>\n      <th>9</th>\n      <th>w</th>\n      <th>6635.69</th>\n      <th>6635.69</th>\n      <th>3572.97</th>\n      <th>3572.97</th>\n      <th>2964.31</th>\n      <th>608.66</th>\n      <th>0.0</th>\n      <th>0.0</th>\n      <th>0.0</th>\n      <th>Jan-2017</th>\n      <th>298.58</th>\n      <th>Jan-2017</th>\n      <th>Jan-2017</th>\n      <th>0</th>\n      <th>NaN</th>\n      <th>1</th>\n      <th>INDIVIDUAL</th>\n      <th>NaN</th>\n      <th>NaN</th>\n      <th>NaN</th>\n      <th>0</th>\n      <th>0</th>\n      <th>55387</th>\n      <th>0</th>\n      <th>3</th>\n      <th>0</th>\n      <th>0</th>\n      <th>47</th>\n      <th>47665</th>\n      <th>43</th>\n      <th>2</th>\n      <th>2</th>\n      <th>4744</th>\n      <th>50</th>\n      <th>13000</th>\n      <th>0</th>\n      <th>0</th>\n      <th>2</th>\n      <th>2</th>\n      <th>7912</th>\n      <th>4778</th>\n      <th>61.8</th>\n      <th>0</th>\n      <th>0</th>\n      <th>234</th>\n      <th>91</th>\n      <th>9</th>\n      <th>9</th>\n      <th>0</th>\n      <th>11</th>\n      <th>NaN</th>\n      <th>9</th>\n      <th>NaN</th>\n      <th>0</th>\n      <th>3</th>\n      <th>3</th>\n      <th>3</th>\n      <th>3</th>\n      <th>5</th>\n      <th>4</th>\n      <th>4</th>\n      <th>3</th>\n      <th>7</th>\n      <th>0</th>\n      <th>0</th>\n      <th>0</th>\n      <th>2</th>\n      <th>100</th>\n      <th>66.7</th>\n      <th>0</th>\n      <th>0</th>\n      <th>88635</th>\n      <th>55387</th>\n      <th>12500</th>\n      <td>75635</td>\n    </tr>\n    <tr>\n      <th>68466916</th>\n      <th>73356753</th>\n      <th>25000</th>\n      <th>25000</th>\n      <th>25000</th>\n      <th>36 months</th>\n      <th>7.49%</th>\n      <th>777.55</th>\n      <th>A</th>\n      <th>A4</th>\n      <th>Sales Manager</th>\n      <th>10+ years</th>\n      <th>MORTGAGE</th>\n      <th>109000</th>\n      <th>Not Verified</th>\n      <th>Dec-2015</th>\n      <th>Fully Paid</th>\n      <th>n</th>\n      <th>https://lendingclub.com/browse/loanDetail.action?loan_id=68466916</th>\n      <th>NaN</th>\n      <th>debt_consolidation</th>\n      <th>Debt consolidation</th>\n      <th>226xx</th>\n      <th>VA</th>\n      <th>26.02</th>\n      <th>0</th>\n      <th>Dec-2001</th>\n      <th>1</th>\n      <th>NaN</th>\n      <th>NaN</th>\n      <th>9</th>\n      <th>0</th>\n      <th>20862</th>\n      <th>54.3%</th>\n      <th>19</th>\n      <th>w</th>\n      <th>0.00</th>\n      <th>0.00</th>\n      <th>26224.23</th>\n      <th>26224.23</th>\n      <th>25000.00</th>\n      <th>1224.23</th>\n      <th>0.0</th>\n      <th>0.0</th>\n      <th>0.0</th>\n      <th>Sep-2016</th>\n      <th>20807.39</th>\n      <th>NaN</th>\n      <th>Jan-2017</th>\n      <th>0</th>\n      <th>NaN</th>\n      <th>1</th>\n      <th>INDIVIDUAL</th>\n      <th>NaN</th>\n      <th>NaN</th>\n      <th>NaN</th>\n      <th>0</th>\n      <th>0</th>\n      <th>305781</th>\n      <th>0</th>\n      <th>3</th>\n      <th>0</th>\n      <th>1</th>\n      <th>13</th>\n      <th>47194</th>\n      <th>58</th>\n      <th>0</th>\n      <th>1</th>\n      <th>8937</th>\n      <th>57</th>\n      <th>38400</th>\n      <th>1</th>\n      <th>0</th>\n      <th>1</th>\n      <th>2</th>\n      <th>33976</th>\n      <th>17538</th>\n      <th>54.3</th>\n      <th>0</th>\n      <th>0</th>\n      <th>142</th>\n      <th>168</th>\n      <th>13</th>\n      <th>13</th>\n      <th>3</th>\n      <th>13</th>\n      <th>NaN</th>\n      <th>0</th>\n      <th>NaN</th>\n      <th>0</th>\n      <th>3</th>\n      <th>3</th>\n      <th>5</th>\n      <th>6</th>\n      <th>7</th>\n      <th>5</th>\n      <th>9</th>\n      <th>3</th>\n      <th>9</th>\n      <th>0</th>\n      <th>0</th>\n      <th>0</th>\n      <th>0</th>\n      <th>100</th>\n      <th>20</th>\n      <th>0</th>\n      <th>0</th>\n      <th>373572</th>\n      <th>68056</th>\n      <th>38400</th>\n      <td>82117</td>\n    </tr>\n    <tr>\n      <th>68466961</th>\n      <th>73356799</th>\n      <th>28000</th>\n      <th>28000</th>\n      <th>28000</th>\n      <th>36 months</th>\n      <th>6.49%</th>\n      <th>858.05</th>\n      <th>A</th>\n      <th>A2</th>\n      <th>Senior Manager</th>\n      <th>10+ years</th>\n      <th>MORTGAGE</th>\n      <th>92000</th>\n      <th>Not Verified</th>\n      <th>Dec-2015</th>\n      <th>Current</th>\n      <th>n</th>\n      <th>https://lendingclub.com/browse/loanDetail.action?loan_id=68466961</th>\n      <th>NaN</th>\n      <th>debt_consolidation</th>\n      <th>Debt consolidation</th>\n      <th>275xx</th>\n      <th>NC</th>\n      <th>21.6</th>\n      <th>0</th>\n      <th>May-1984</th>\n      <th>0</th>\n      <th>42</th>\n      <th>NaN</th>\n      <th>16</th>\n      <th>0</th>\n      <th>51507</th>\n      <th>64.5%</th>\n      <th>24</th>\n      <th>w</th>\n      <th>19263.77</th>\n      <th>19263.77</th>\n      <th>10271.36</th>\n      <th>10271.36</th>\n      <th>8736.23</th>\n      <th>1535.13</th>\n      <th>0.0</th>\n      <th>0.0</th>\n      <th>0.0</th>\n      <th>Jan-2017</th>\n      <th>858.05</th>\n      <th>Jan-2017</th>\n      <th>Jan-2017</th>\n      <th>0</th>\n      <th>NaN</th>\n      <th>1</th>\n      <th>INDIVIDUAL</th>\n      <th>NaN</th>\n      <th>NaN</th>\n      <th>NaN</th>\n      <th>0</th>\n      <th>0</th>\n      <th>221110</th>\n      <th>0</th>\n      <th>2</th>\n      <th>0</th>\n      <th>0</th>\n      <th>27</th>\n      <th>23413</th>\n      <th>55</th>\n      <th>0</th>\n      <th>1</th>\n      <th>8752</th>\n      <th>61</th>\n      <th>79900</th>\n      <th>0</th>\n      <th>1</th>\n      <th>0</th>\n      <th>1</th>\n      <th>13819</th>\n      <th>16623</th>\n      <th>59.9</th>\n      <th>0</th>\n      <th>0</th>\n      <th>82</th>\n      <th>379</th>\n      <th>19</th>\n      <th>19</th>\n      <th>2</th>\n      <th>19</th>\n      <th>48</th>\n      <th>NaN</th>\n      <th>42</th>\n      <th>0</th>\n      <th>7</th>\n      <th>9</th>\n      <th>9</th>\n      <th>11</th>\n      <th>4</th>\n      <th>13</th>\n      <th>18</th>\n      <th>9</th>\n      <th>16</th>\n      <th>0</th>\n      <th>0</th>\n      <th>0</th>\n      <th>0</th>\n      <th>91.7</th>\n      <th>22.2</th>\n      <th>0</th>\n      <th>0</th>\n      <th>304003</th>\n      <th>74920</th>\n      <th>41500</th>\n      <td>42503</td>\n    </tr>\n  </tbody>\n</table>\n</div>",
        "text/plain": "                                                                                                                                                                                                                                                                                                                                                                                                                                                                                                                                                                                                                                                                                                                                                                                                                                                                                                                                                                                                                                                                                                                                                                                                                                                                                                                                                                                                                                                                                                                                                                                                                                                                                                                     Notes offered by Prospectus (https://www.lendingclub.com/info/prospectus.action)\nid       member_id loan_amnt funded_amnt funded_amnt_inv term       int_rate installment grade sub_grade emp_title             emp_length home_ownership annual_inc verification_status issue_d  loan_status pymnt_plan url                                                desc purpose            title                   zip_code addr_state dti   delinq_2yrs earliest_cr_line inq_last_6mths mths_since_last_delinq mths_since_last_record open_acc pub_rec revol_bal revol_util total_acc initial_list_status out_prncp out_prncp_inv total_pymnt total_pymnt_inv total_rec_prncp total_rec_int total_rec_late_fee recoveries collection_recovery_fee last_pymnt_d last_pymnt_amnt next_pymnt_d last_credit_pull_d collections_12_mths_ex_med mths_since_last_major_derog policy_code application_type annual_inc_joint dti_joint verification_status_joint acc_now_delinq tot_coll_amt tot_cur_bal open_acc_6m open_il_6m open_il_12m open_il_24m mths_since_rcnt_il total_bal_il il_util open_rv_12m open_rv_24m max_bal_bc all_util total_rev_hi_lim inq_fi total_cu_tl inq_last_12m acc_open_past_24mths avg_cur_bal bc_open_to_buy bc_util chargeoff_within_12_mths delinq_amnt mo_sin_old_il_acct mo_sin_old_rev_tl_op mo_sin_rcnt_rev_tl_op mo_sin_rcnt_tl mort_acc mths_since_recent_bc mths_since_recent_bc_dlq mths_since_recent_inq mths_since_recent_revol_delinq num_accts_ever_120_pd num_actv_bc_tl num_actv_rev_tl num_bc_sats num_bc_tl num_il_tl num_op_rev_tl num_rev_accts num_rev_tl_bal_gt_0 num_sats num_tl_120dpd_2m num_tl_30dpd num_tl_90g_dpd_24m num_tl_op_past_12m pct_tl_nvr_dlq percent_bc_gt_75 pub_rec_bankruptcies tax_liens tot_hi_cred_lim total_bal_ex_mort total_bc_limit                         total_il_high_credit_limit                              \n68009401 72868139  16000     16000       16000            60 months  14.85%  379.39      C     C5        Bookkeeper/Accounting 10+ years  MORTGAGE       48000      Not Verified        Dec-2015 Current     n          https://lendingclub.com/browse/loanDetail.actio... NaN  credit_card        Credit card refinancing 297xx    SC         33.18 0           Jun-1991         0              33                     2                      11       2       19108     29.6%      19        w                   13668.88  13668.88      4519.68     4519.68         2331.12         2188.56       0.0                0.0        0.0                     Jan-2017     379.39          Jan-2017     Jan-2017           0                          33                          1           INDIVIDUAL       NaN              NaN       NaN                       0              0            31329       1           2          1           2           6                  12221        91      1           4           14982      65       284700           0      0           1            6                    2848        263953         17.6    0                        0           131                294                  11                    6              2        11                   76                       11                    76                             2                     6              9               6           8         6         9             11            9                   11       0                0            0                  2                  78.9           0                0                    2         298100          31329             281300                                                      13400                              \n68354783 73244544  9600      9600        9600             36 months   7.49%  298.58      A     A4        tech                  8 years    MORTGAGE       60000      Not Verified        Dec-2015 Current     n          https://lendingclub.com/browse/loanDetail.actio... NaN  credit_card        Credit card refinancing 299xx    SC         22.44 0           Jun-1996         0              NaN                    NaN                    7        0       7722      59.4%      9         w                   6635.69   6635.69       3572.97     3572.97         2964.31         608.66        0.0                0.0        0.0                     Jan-2017     298.58          Jan-2017     Jan-2017           0                          NaN                         1           INDIVIDUAL       NaN              NaN       NaN                       0              0            55387       0           3          0           0           47                 47665        43      2           2           4744       50       13000            0      0           2            2                    7912        4778           61.8    0                        0           234                91                   9                     9              0        11                   NaN                      9                     NaN                            0                     3              3               3           3         5         4             4             3                   7        0                0            0                  2                  100            66.7             0                    0         88635           55387             12500                                                       75635                              \n68466916 73356753  25000     25000       25000            36 months   7.49%  777.55      A     A4        Sales Manager         10+ years  MORTGAGE       109000     Not Verified        Dec-2015 Fully Paid  n          https://lendingclub.com/browse/loanDetail.actio... NaN  debt_consolidation Debt consolidation      226xx    VA         26.02 0           Dec-2001         1              NaN                    NaN                    9        0       20862     54.3%      19        w                   0.00      0.00          26224.23    26224.23        25000.00        1224.23       0.0                0.0        0.0                     Sep-2016     20807.39        NaN          Jan-2017           0                          NaN                         1           INDIVIDUAL       NaN              NaN       NaN                       0              0            305781      0           3          0           1           13                 47194        58      0           1           8937       57       38400            1      0           1            2                    33976       17538          54.3    0                        0           142                168                  13                    13             3        13                   NaN                      0                     NaN                            0                     3              3               5           6         7         5             9             3                   9        0                0            0                  0                  100            20               0                    0         373572          68056             38400                                                       82117                              \n68466961 73356799  28000     28000       28000            36 months   6.49%  858.05      A     A2        Senior Manager        10+ years  MORTGAGE       92000      Not Verified        Dec-2015 Current     n          https://lendingclub.com/browse/loanDetail.actio... NaN  debt_consolidation Debt consolidation      275xx    NC         21.6  0           May-1984         0              42                     NaN                    16       0       51507     64.5%      24        w                   19263.77  19263.77      10271.36    10271.36        8736.23         1535.13       0.0                0.0        0.0                     Jan-2017     858.05          Jan-2017     Jan-2017           0                          NaN                         1           INDIVIDUAL       NaN              NaN       NaN                       0              0            221110      0           2          0           0           27                 23413        55      0           1           8752       61       79900            0      1           0            1                    13819       16623          59.9    0                        0           82                 379                  19                    19             2        19                   48                       NaN                   42                             0                     7              9               9           11        4         13            18            9                   16       0                0            0                  0                  91.7           22.2             0                    0         304003          74920             41500                                                       42503                              "
       },
       "execution_count": 4,
       "metadata": {},
       "output_type": "execute_result"
      }
     ],
     "persistentId": "9e85501e-d9b5-4a6f-8e52-36215e46f322",
     "text": "raw.head()"
    },
    "executionTime": "2020-01-13T04:52:18.498Z"
   },
   {
    "cell": {
     "executionCount": 5,
     "executionEventId": "00bdba53-66a2-451a-9478-19db4d12d30d",
     "hasError": false,
     "id": "d1f57be9-5435-4b49-aeba-516b8645f874",
     "outputs": [
      {
       "data": {
        "text/plain": "(421098, 1)"
       },
       "execution_count": 5,
       "metadata": {},
       "output_type": "execute_result"
      }
     ],
     "persistentId": "5cb5d6cf-a08c-423b-bb7d-e1e65e32543c",
     "text": "raw.shape"
    },
    "executionTime": "2020-01-13T04:52:56.187Z"
   },
   {
    "cell": {
     "executionCount": 6,
     "executionEventId": "61a183a5-42b3-4c50-b32f-5bf9615726c3",
     "hasError": false,
     "id": "d1f57be9-5435-4b49-aeba-516b8645f874",
     "outputs": [
      {
       "data": {
        "text/plain": "Index(['Notes offered by Prospectus (https://www.lendingclub.com/info/prospectus.action)'], dtype='object')"
       },
       "execution_count": 6,
       "metadata": {},
       "output_type": "execute_result"
      }
     ],
     "persistentId": "5cb5d6cf-a08c-423b-bb7d-e1e65e32543c",
     "text": "raw.columns"
    },
    "executionTime": "2020-01-13T04:53:13.889Z"
   },
   {
    "cell": {
     "executionCount": 7,
     "executionEventId": "6ccadb55-cefd-4222-bbac-29dcdabf5a56",
     "hasError": false,
     "id": "d1f57be9-5435-4b49-aeba-516b8645f874",
     "outputs": [
      {
       "data": {
        "text/plain": "(1,)"
       },
       "execution_count": 7,
       "metadata": {},
       "output_type": "execute_result"
      }
     ],
     "persistentId": "5cb5d6cf-a08c-423b-bb7d-e1e65e32543c",
     "text": "raw.columns.shape"
    },
    "executionTime": "2020-01-13T04:53:18.273Z"
   },
   {
    "cell": {
     "executionCount": 8,
     "executionEventId": "98ea303d-2af1-4638-8551-3a1b06cc09e6",
     "hasError": true,
     "id": "dbb50bed-0783-45cd-84b0-b8b2190d6bd4",
     "outputs": [
      {
       "ename": "KeyError",
       "evalue": "'id'",
       "output_type": "error",
       "traceback": [
        "\u001b[0;31m---------------------------------------------------------------------------\u001b[0m",
        "\u001b[0;31mKeyError\u001b[0m                                  Traceback (most recent call last)",
        "\u001b[0;32m~/anaconda3/lib/python3.7/site-packages/pandas/core/indexes/base.py\u001b[0m in \u001b[0;36mget_loc\u001b[0;34m(self, key, method, tolerance)\u001b[0m\n\u001b[1;32m   2656\u001b[0m             \u001b[0;32mtry\u001b[0m\u001b[0;34m:\u001b[0m\u001b[0;34m\u001b[0m\u001b[0;34m\u001b[0m\u001b[0m\n\u001b[0;32m-> 2657\u001b[0;31m                 \u001b[0;32mreturn\u001b[0m \u001b[0mself\u001b[0m\u001b[0;34m.\u001b[0m\u001b[0m_engine\u001b[0m\u001b[0;34m.\u001b[0m\u001b[0mget_loc\u001b[0m\u001b[0;34m(\u001b[0m\u001b[0mkey\u001b[0m\u001b[0;34m)\u001b[0m\u001b[0;34m\u001b[0m\u001b[0;34m\u001b[0m\u001b[0m\n\u001b[0m\u001b[1;32m   2658\u001b[0m             \u001b[0;32mexcept\u001b[0m \u001b[0mKeyError\u001b[0m\u001b[0;34m:\u001b[0m\u001b[0;34m\u001b[0m\u001b[0;34m\u001b[0m\u001b[0m\n",
        "\u001b[0;32mpandas/_libs/index.pyx\u001b[0m in \u001b[0;36mpandas._libs.index.IndexEngine.get_loc\u001b[0;34m()\u001b[0m\n",
        "\u001b[0;32mpandas/_libs/index.pyx\u001b[0m in \u001b[0;36mpandas._libs.index.IndexEngine.get_loc\u001b[0;34m()\u001b[0m\n",
        "\u001b[0;32mpandas/_libs/hashtable_class_helper.pxi\u001b[0m in \u001b[0;36mpandas._libs.hashtable.PyObjectHashTable.get_item\u001b[0;34m()\u001b[0m\n",
        "\u001b[0;32mpandas/_libs/hashtable_class_helper.pxi\u001b[0m in \u001b[0;36mpandas._libs.hashtable.PyObjectHashTable.get_item\u001b[0;34m()\u001b[0m\n",
        "\u001b[0;31mKeyError\u001b[0m: 'id'",
        "\nDuring handling of the above exception, another exception occurred:\n",
        "\u001b[0;31mKeyError\u001b[0m                                  Traceback (most recent call last)",
        "\u001b[0;32m<ipython-input-8-1be1ee82ac69>\u001b[0m in \u001b[0;36m<module>\u001b[0;34m\u001b[0m\n\u001b[0;32m----> 1\u001b[0;31m \u001b[0mraw\u001b[0m\u001b[0;34m[\u001b[0m\u001b[0;34m\"id\"\u001b[0m\u001b[0;34m]\u001b[0m\u001b[0;34m\u001b[0m\u001b[0;34m\u001b[0m\u001b[0m\n\u001b[0m",
        "\u001b[0;32m~/anaconda3/lib/python3.7/site-packages/pandas/core/frame.py\u001b[0m in \u001b[0;36m__getitem__\u001b[0;34m(self, key)\u001b[0m\n\u001b[1;32m   2925\u001b[0m             \u001b[0;32mif\u001b[0m \u001b[0mself\u001b[0m\u001b[0;34m.\u001b[0m\u001b[0mcolumns\u001b[0m\u001b[0;34m.\u001b[0m\u001b[0mnlevels\u001b[0m \u001b[0;34m>\u001b[0m \u001b[0;36m1\u001b[0m\u001b[0;34m:\u001b[0m\u001b[0;34m\u001b[0m\u001b[0;34m\u001b[0m\u001b[0m\n\u001b[1;32m   2926\u001b[0m                 \u001b[0;32mreturn\u001b[0m \u001b[0mself\u001b[0m\u001b[0;34m.\u001b[0m\u001b[0m_getitem_multilevel\u001b[0m\u001b[0;34m(\u001b[0m\u001b[0mkey\u001b[0m\u001b[0;34m)\u001b[0m\u001b[0;34m\u001b[0m\u001b[0;34m\u001b[0m\u001b[0m\n\u001b[0;32m-> 2927\u001b[0;31m             \u001b[0mindexer\u001b[0m \u001b[0;34m=\u001b[0m \u001b[0mself\u001b[0m\u001b[0;34m.\u001b[0m\u001b[0mcolumns\u001b[0m\u001b[0;34m.\u001b[0m\u001b[0mget_loc\u001b[0m\u001b[0;34m(\u001b[0m\u001b[0mkey\u001b[0m\u001b[0;34m)\u001b[0m\u001b[0;34m\u001b[0m\u001b[0;34m\u001b[0m\u001b[0m\n\u001b[0m\u001b[1;32m   2928\u001b[0m             \u001b[0;32mif\u001b[0m \u001b[0mis_integer\u001b[0m\u001b[0;34m(\u001b[0m\u001b[0mindexer\u001b[0m\u001b[0;34m)\u001b[0m\u001b[0;34m:\u001b[0m\u001b[0;34m\u001b[0m\u001b[0;34m\u001b[0m\u001b[0m\n\u001b[1;32m   2929\u001b[0m                 \u001b[0mindexer\u001b[0m \u001b[0;34m=\u001b[0m \u001b[0;34m[\u001b[0m\u001b[0mindexer\u001b[0m\u001b[0;34m]\u001b[0m\u001b[0;34m\u001b[0m\u001b[0;34m\u001b[0m\u001b[0m\n",
        "\u001b[0;32m~/anaconda3/lib/python3.7/site-packages/pandas/core/indexes/base.py\u001b[0m in \u001b[0;36mget_loc\u001b[0;34m(self, key, method, tolerance)\u001b[0m\n\u001b[1;32m   2657\u001b[0m                 \u001b[0;32mreturn\u001b[0m \u001b[0mself\u001b[0m\u001b[0;34m.\u001b[0m\u001b[0m_engine\u001b[0m\u001b[0;34m.\u001b[0m\u001b[0mget_loc\u001b[0m\u001b[0;34m(\u001b[0m\u001b[0mkey\u001b[0m\u001b[0;34m)\u001b[0m\u001b[0;34m\u001b[0m\u001b[0;34m\u001b[0m\u001b[0m\n\u001b[1;32m   2658\u001b[0m             \u001b[0;32mexcept\u001b[0m \u001b[0mKeyError\u001b[0m\u001b[0;34m:\u001b[0m\u001b[0;34m\u001b[0m\u001b[0;34m\u001b[0m\u001b[0m\n\u001b[0;32m-> 2659\u001b[0;31m                 \u001b[0;32mreturn\u001b[0m \u001b[0mself\u001b[0m\u001b[0;34m.\u001b[0m\u001b[0m_engine\u001b[0m\u001b[0;34m.\u001b[0m\u001b[0mget_loc\u001b[0m\u001b[0;34m(\u001b[0m\u001b[0mself\u001b[0m\u001b[0;34m.\u001b[0m\u001b[0m_maybe_cast_indexer\u001b[0m\u001b[0;34m(\u001b[0m\u001b[0mkey\u001b[0m\u001b[0;34m)\u001b[0m\u001b[0;34m)\u001b[0m\u001b[0;34m\u001b[0m\u001b[0;34m\u001b[0m\u001b[0m\n\u001b[0m\u001b[1;32m   2660\u001b[0m         \u001b[0mindexer\u001b[0m \u001b[0;34m=\u001b[0m \u001b[0mself\u001b[0m\u001b[0;34m.\u001b[0m\u001b[0mget_indexer\u001b[0m\u001b[0;34m(\u001b[0m\u001b[0;34m[\u001b[0m\u001b[0mkey\u001b[0m\u001b[0;34m]\u001b[0m\u001b[0;34m,\u001b[0m \u001b[0mmethod\u001b[0m\u001b[0;34m=\u001b[0m\u001b[0mmethod\u001b[0m\u001b[0;34m,\u001b[0m \u001b[0mtolerance\u001b[0m\u001b[0;34m=\u001b[0m\u001b[0mtolerance\u001b[0m\u001b[0;34m)\u001b[0m\u001b[0;34m\u001b[0m\u001b[0;34m\u001b[0m\u001b[0m\n\u001b[1;32m   2661\u001b[0m         \u001b[0;32mif\u001b[0m \u001b[0mindexer\u001b[0m\u001b[0;34m.\u001b[0m\u001b[0mndim\u001b[0m \u001b[0;34m>\u001b[0m \u001b[0;36m1\u001b[0m \u001b[0;32mor\u001b[0m \u001b[0mindexer\u001b[0m\u001b[0;34m.\u001b[0m\u001b[0msize\u001b[0m \u001b[0;34m>\u001b[0m \u001b[0;36m1\u001b[0m\u001b[0;34m:\u001b[0m\u001b[0;34m\u001b[0m\u001b[0;34m\u001b[0m\u001b[0m\n",
        "\u001b[0;32mpandas/_libs/index.pyx\u001b[0m in \u001b[0;36mpandas._libs.index.IndexEngine.get_loc\u001b[0;34m()\u001b[0m\n",
        "\u001b[0;32mpandas/_libs/index.pyx\u001b[0m in \u001b[0;36mpandas._libs.index.IndexEngine.get_loc\u001b[0;34m()\u001b[0m\n",
        "\u001b[0;32mpandas/_libs/hashtable_class_helper.pxi\u001b[0m in \u001b[0;36mpandas._libs.hashtable.PyObjectHashTable.get_item\u001b[0;34m()\u001b[0m\n",
        "\u001b[0;32mpandas/_libs/hashtable_class_helper.pxi\u001b[0m in \u001b[0;36mpandas._libs.hashtable.PyObjectHashTable.get_item\u001b[0;34m()\u001b[0m\n",
        "\u001b[0;31mKeyError\u001b[0m: 'id'"
       ]
      }
     ],
     "persistentId": "9e85501e-d9b5-4a6f-8e52-36215e46f322",
     "text": "raw[\"id\"]"
    },
    "executionTime": "2020-01-13T04:53:36.362Z"
   },
   {
    "cell": {
     "executionCount": 10,
     "executionEventId": "f28d0ba6-720f-427f-839f-5f4be3e57cfb",
     "hasError": false,
     "id": "4b387283-d2d1-4abf-98c7-2cb0238c4f1a",
     "outputs": [],
     "persistentId": "0ff2576a-01f5-4050-a162-f50f1dadb654",
     "text": "raw = pd.read_csv(\"LoanStats3d.csv\", skipinitialspace=True, header=1)"
    },
    "executionTime": "2020-01-13T04:54:41.357Z"
   },
   {
    "cell": {
     "executionCount": 11,
     "executionEventId": "57f5424c-29a4-4cbf-8154-5194cbc05bcc",
     "hasError": false,
     "id": "dbb50bed-0783-45cd-84b0-b8b2190d6bd4",
     "outputs": [
      {
       "data": {
        "text/html": "<div>\n<style scoped>\n    .dataframe tbody tr th:only-of-type {\n        vertical-align: middle;\n    }\n\n    .dataframe tbody tr th {\n        vertical-align: top;\n    }\n\n    .dataframe thead th {\n        text-align: right;\n    }\n</style>\n<table border=\"1\" class=\"dataframe\">\n  <thead>\n    <tr style=\"text-align: right;\">\n      <th></th>\n      <th>id</th>\n      <th>member_id</th>\n      <th>loan_amnt</th>\n      <th>funded_amnt</th>\n      <th>funded_amnt_inv</th>\n      <th>term</th>\n      <th>int_rate</th>\n      <th>installment</th>\n      <th>grade</th>\n      <th>sub_grade</th>\n      <th>...</th>\n      <th>num_tl_90g_dpd_24m</th>\n      <th>num_tl_op_past_12m</th>\n      <th>pct_tl_nvr_dlq</th>\n      <th>percent_bc_gt_75</th>\n      <th>pub_rec_bankruptcies</th>\n      <th>tax_liens</th>\n      <th>tot_hi_cred_lim</th>\n      <th>total_bal_ex_mort</th>\n      <th>total_bc_limit</th>\n      <th>total_il_high_credit_limit</th>\n    </tr>\n  </thead>\n  <tbody>\n    <tr>\n      <th>0</th>\n      <td>68009401</td>\n      <td>72868139.0</td>\n      <td>16000.0</td>\n      <td>16000.0</td>\n      <td>16000.0</td>\n      <td>60 months</td>\n      <td>14.85%</td>\n      <td>379.39</td>\n      <td>C</td>\n      <td>C5</td>\n      <td>...</td>\n      <td>0.0</td>\n      <td>2.0</td>\n      <td>78.9</td>\n      <td>0.0</td>\n      <td>0.0</td>\n      <td>2.0</td>\n      <td>298100.0</td>\n      <td>31329.0</td>\n      <td>281300.0</td>\n      <td>13400.0</td>\n    </tr>\n    <tr>\n      <th>1</th>\n      <td>68354783</td>\n      <td>73244544.0</td>\n      <td>9600.0</td>\n      <td>9600.0</td>\n      <td>9600.0</td>\n      <td>36 months</td>\n      <td>7.49%</td>\n      <td>298.58</td>\n      <td>A</td>\n      <td>A4</td>\n      <td>...</td>\n      <td>0.0</td>\n      <td>2.0</td>\n      <td>100.0</td>\n      <td>66.7</td>\n      <td>0.0</td>\n      <td>0.0</td>\n      <td>88635.0</td>\n      <td>55387.0</td>\n      <td>12500.0</td>\n      <td>75635.0</td>\n    </tr>\n    <tr>\n      <th>2</th>\n      <td>68466916</td>\n      <td>73356753.0</td>\n      <td>25000.0</td>\n      <td>25000.0</td>\n      <td>25000.0</td>\n      <td>36 months</td>\n      <td>7.49%</td>\n      <td>777.55</td>\n      <td>A</td>\n      <td>A4</td>\n      <td>...</td>\n      <td>0.0</td>\n      <td>0.0</td>\n      <td>100.0</td>\n      <td>20.0</td>\n      <td>0.0</td>\n      <td>0.0</td>\n      <td>373572.0</td>\n      <td>68056.0</td>\n      <td>38400.0</td>\n      <td>82117.0</td>\n    </tr>\n    <tr>\n      <th>3</th>\n      <td>68466961</td>\n      <td>73356799.0</td>\n      <td>28000.0</td>\n      <td>28000.0</td>\n      <td>28000.0</td>\n      <td>36 months</td>\n      <td>6.49%</td>\n      <td>858.05</td>\n      <td>A</td>\n      <td>A2</td>\n      <td>...</td>\n      <td>0.0</td>\n      <td>0.0</td>\n      <td>91.7</td>\n      <td>22.2</td>\n      <td>0.0</td>\n      <td>0.0</td>\n      <td>304003.0</td>\n      <td>74920.0</td>\n      <td>41500.0</td>\n      <td>42503.0</td>\n    </tr>\n    <tr>\n      <th>4</th>\n      <td>68495092</td>\n      <td>73384866.0</td>\n      <td>8650.0</td>\n      <td>8650.0</td>\n      <td>8650.0</td>\n      <td>36 months</td>\n      <td>19.89%</td>\n      <td>320.99</td>\n      <td>E</td>\n      <td>E3</td>\n      <td>...</td>\n      <td>0.0</td>\n      <td>12.0</td>\n      <td>100.0</td>\n      <td>50.0</td>\n      <td>1.0</td>\n      <td>0.0</td>\n      <td>38998.0</td>\n      <td>18926.0</td>\n      <td>2750.0</td>\n      <td>18248.0</td>\n    </tr>\n  </tbody>\n</table>\n<p>5 rows × 111 columns</p>\n</div>",
        "text/plain": "         id   member_id  loan_amnt  funded_amnt  funded_amnt_inv        term  \\\n0  68009401  72868139.0    16000.0      16000.0          16000.0   60 months   \n1  68354783  73244544.0     9600.0       9600.0           9600.0   36 months   \n2  68466916  73356753.0    25000.0      25000.0          25000.0   36 months   \n3  68466961  73356799.0    28000.0      28000.0          28000.0   36 months   \n4  68495092  73384866.0     8650.0       8650.0           8650.0   36 months   \n\n  int_rate  installment grade sub_grade  ... num_tl_90g_dpd_24m  \\\n0   14.85%       379.39     C        C5  ...                0.0   \n1    7.49%       298.58     A        A4  ...                0.0   \n2    7.49%       777.55     A        A4  ...                0.0   \n3    6.49%       858.05     A        A2  ...                0.0   \n4   19.89%       320.99     E        E3  ...                0.0   \n\n  num_tl_op_past_12m pct_tl_nvr_dlq  percent_bc_gt_75 pub_rec_bankruptcies  \\\n0                2.0           78.9               0.0                  0.0   \n1                2.0          100.0              66.7                  0.0   \n2                0.0          100.0              20.0                  0.0   \n3                0.0           91.7              22.2                  0.0   \n4               12.0          100.0              50.0                  1.0   \n\n  tax_liens tot_hi_cred_lim total_bal_ex_mort total_bc_limit  \\\n0       2.0        298100.0           31329.0       281300.0   \n1       0.0         88635.0           55387.0        12500.0   \n2       0.0        373572.0           68056.0        38400.0   \n3       0.0        304003.0           74920.0        41500.0   \n4       0.0         38998.0           18926.0         2750.0   \n\n  total_il_high_credit_limit  \n0                    13400.0  \n1                    75635.0  \n2                    82117.0  \n3                    42503.0  \n4                    18248.0  \n\n[5 rows x 111 columns]"
       },
       "execution_count": 11,
       "metadata": {},
       "output_type": "execute_result"
      }
     ],
     "persistentId": "9e85501e-d9b5-4a6f-8e52-36215e46f322",
     "text": "raw.head()"
    },
    "executionTime": "2020-01-13T04:56:32.139Z"
   },
   {
    "cell": {
     "executionCount": 12,
     "executionEventId": "d1b855e0-a859-4c27-98b1-43dad64fb9a9",
     "hasError": false,
     "id": "087d1d67-aec1-4c65-9310-ba063529c530",
     "outputs": [],
     "persistentId": "47827e5d-9598-4b20-88c8-d5f63cfe04b4",
     "text": "import pandas as pd\nimport numpy as np\nimport matplotlib.pyplot as plt\nfrom sklearn import ensemble\nfrom sklearn.model_selection import cross_val_score\n\n%matplotlib inline"
    },
    "executionTime": "2020-01-13T04:57:19.403Z"
   },
   {
    "cell": {
     "executionCount": 1,
     "executionEventId": "3ebc8e8e-b010-44bf-b4f5-e19b970154ad",
     "hasError": false,
     "id": "087d1d67-aec1-4c65-9310-ba063529c530",
     "outputs": [],
     "persistentId": "47827e5d-9598-4b20-88c8-d5f63cfe04b4",
     "text": "import pandas as pd\nimport numpy as np\nimport matplotlib.pyplot as plt\nfrom sklearn import ensemble\nfrom sklearn.model_selection import cross_val_score\n\n%matplotlib inline"
    },
    "executionTime": "2020-01-13T04:57:29.454Z"
   },
   {
    "cell": {
     "executionCount": 2,
     "executionEventId": "d0663080-00ee-40f5-b3da-6cc9f164f3b5",
     "hasError": false,
     "id": "4b387283-d2d1-4abf-98c7-2cb0238c4f1a",
     "outputs": [
      {
       "name": "stderr",
       "output_type": "stream",
       "text": "/Users/apple/anaconda3/lib/python3.7/site-packages/IPython/core/interactiveshell.py:3057: DtypeWarning: Columns (0,19,55) have mixed types. Specify dtype option on import or set low_memory=False.\n  interactivity=interactivity, compiler=compiler, result=result)\n"
      }
     ],
     "persistentId": "0ff2576a-01f5-4050-a162-f50f1dadb654",
     "text": "raw = pd.read_csv(\"LoanStats3d.csv\", skipinitialspace=True, header=1)"
    },
    "executionTime": "2020-01-13T04:57:34.887Z"
   },
   {
    "cell": {
     "executionCount": 3,
     "executionEventId": "1861a738-680f-481b-87de-ec516c7a1b71",
     "hasError": false,
     "id": "dbb50bed-0783-45cd-84b0-b8b2190d6bd4",
     "outputs": [
      {
       "data": {
        "text/html": "<div>\n<style scoped>\n    .dataframe tbody tr th:only-of-type {\n        vertical-align: middle;\n    }\n\n    .dataframe tbody tr th {\n        vertical-align: top;\n    }\n\n    .dataframe thead th {\n        text-align: right;\n    }\n</style>\n<table border=\"1\" class=\"dataframe\">\n  <thead>\n    <tr style=\"text-align: right;\">\n      <th></th>\n      <th>id</th>\n      <th>member_id</th>\n      <th>loan_amnt</th>\n      <th>funded_amnt</th>\n      <th>funded_amnt_inv</th>\n      <th>term</th>\n      <th>int_rate</th>\n      <th>installment</th>\n      <th>grade</th>\n      <th>sub_grade</th>\n      <th>...</th>\n      <th>num_tl_90g_dpd_24m</th>\n      <th>num_tl_op_past_12m</th>\n      <th>pct_tl_nvr_dlq</th>\n      <th>percent_bc_gt_75</th>\n      <th>pub_rec_bankruptcies</th>\n      <th>tax_liens</th>\n      <th>tot_hi_cred_lim</th>\n      <th>total_bal_ex_mort</th>\n      <th>total_bc_limit</th>\n      <th>total_il_high_credit_limit</th>\n    </tr>\n  </thead>\n  <tbody>\n    <tr>\n      <th>0</th>\n      <td>68009401</td>\n      <td>72868139.0</td>\n      <td>16000.0</td>\n      <td>16000.0</td>\n      <td>16000.0</td>\n      <td>60 months</td>\n      <td>14.85%</td>\n      <td>379.39</td>\n      <td>C</td>\n      <td>C5</td>\n      <td>...</td>\n      <td>0.0</td>\n      <td>2.0</td>\n      <td>78.9</td>\n      <td>0.0</td>\n      <td>0.0</td>\n      <td>2.0</td>\n      <td>298100.0</td>\n      <td>31329.0</td>\n      <td>281300.0</td>\n      <td>13400.0</td>\n    </tr>\n    <tr>\n      <th>1</th>\n      <td>68354783</td>\n      <td>73244544.0</td>\n      <td>9600.0</td>\n      <td>9600.0</td>\n      <td>9600.0</td>\n      <td>36 months</td>\n      <td>7.49%</td>\n      <td>298.58</td>\n      <td>A</td>\n      <td>A4</td>\n      <td>...</td>\n      <td>0.0</td>\n      <td>2.0</td>\n      <td>100.0</td>\n      <td>66.7</td>\n      <td>0.0</td>\n      <td>0.0</td>\n      <td>88635.0</td>\n      <td>55387.0</td>\n      <td>12500.0</td>\n      <td>75635.0</td>\n    </tr>\n    <tr>\n      <th>2</th>\n      <td>68466916</td>\n      <td>73356753.0</td>\n      <td>25000.0</td>\n      <td>25000.0</td>\n      <td>25000.0</td>\n      <td>36 months</td>\n      <td>7.49%</td>\n      <td>777.55</td>\n      <td>A</td>\n      <td>A4</td>\n      <td>...</td>\n      <td>0.0</td>\n      <td>0.0</td>\n      <td>100.0</td>\n      <td>20.0</td>\n      <td>0.0</td>\n      <td>0.0</td>\n      <td>373572.0</td>\n      <td>68056.0</td>\n      <td>38400.0</td>\n      <td>82117.0</td>\n    </tr>\n    <tr>\n      <th>3</th>\n      <td>68466961</td>\n      <td>73356799.0</td>\n      <td>28000.0</td>\n      <td>28000.0</td>\n      <td>28000.0</td>\n      <td>36 months</td>\n      <td>6.49%</td>\n      <td>858.05</td>\n      <td>A</td>\n      <td>A2</td>\n      <td>...</td>\n      <td>0.0</td>\n      <td>0.0</td>\n      <td>91.7</td>\n      <td>22.2</td>\n      <td>0.0</td>\n      <td>0.0</td>\n      <td>304003.0</td>\n      <td>74920.0</td>\n      <td>41500.0</td>\n      <td>42503.0</td>\n    </tr>\n    <tr>\n      <th>4</th>\n      <td>68495092</td>\n      <td>73384866.0</td>\n      <td>8650.0</td>\n      <td>8650.0</td>\n      <td>8650.0</td>\n      <td>36 months</td>\n      <td>19.89%</td>\n      <td>320.99</td>\n      <td>E</td>\n      <td>E3</td>\n      <td>...</td>\n      <td>0.0</td>\n      <td>12.0</td>\n      <td>100.0</td>\n      <td>50.0</td>\n      <td>1.0</td>\n      <td>0.0</td>\n      <td>38998.0</td>\n      <td>18926.0</td>\n      <td>2750.0</td>\n      <td>18248.0</td>\n    </tr>\n  </tbody>\n</table>\n<p>5 rows × 111 columns</p>\n</div>",
        "text/plain": "         id   member_id  loan_amnt  funded_amnt  funded_amnt_inv        term  \\\n0  68009401  72868139.0    16000.0      16000.0          16000.0   60 months   \n1  68354783  73244544.0     9600.0       9600.0           9600.0   36 months   \n2  68466916  73356753.0    25000.0      25000.0          25000.0   36 months   \n3  68466961  73356799.0    28000.0      28000.0          28000.0   36 months   \n4  68495092  73384866.0     8650.0       8650.0           8650.0   36 months   \n\n  int_rate  installment grade sub_grade  ... num_tl_90g_dpd_24m  \\\n0   14.85%       379.39     C        C5  ...                0.0   \n1    7.49%       298.58     A        A4  ...                0.0   \n2    7.49%       777.55     A        A4  ...                0.0   \n3    6.49%       858.05     A        A2  ...                0.0   \n4   19.89%       320.99     E        E3  ...                0.0   \n\n  num_tl_op_past_12m pct_tl_nvr_dlq  percent_bc_gt_75 pub_rec_bankruptcies  \\\n0                2.0           78.9               0.0                  0.0   \n1                2.0          100.0              66.7                  0.0   \n2                0.0          100.0              20.0                  0.0   \n3                0.0           91.7              22.2                  0.0   \n4               12.0          100.0              50.0                  1.0   \n\n  tax_liens tot_hi_cred_lim total_bal_ex_mort total_bc_limit  \\\n0       2.0        298100.0           31329.0       281300.0   \n1       0.0         88635.0           55387.0        12500.0   \n2       0.0        373572.0           68056.0        38400.0   \n3       0.0        304003.0           74920.0        41500.0   \n4       0.0         38998.0           18926.0         2750.0   \n\n  total_il_high_credit_limit  \n0                    13400.0  \n1                    75635.0  \n2                    82117.0  \n3                    42503.0  \n4                    18248.0  \n\n[5 rows x 111 columns]"
       },
       "execution_count": 3,
       "metadata": {},
       "output_type": "execute_result"
      }
     ],
     "persistentId": "9e85501e-d9b5-4a6f-8e52-36215e46f322",
     "text": "raw.head()"
    },
    "executionTime": "2020-01-13T04:57:34.916Z"
   },
   {
    "cell": {
     "executionCount": 4,
     "executionEventId": "5ee00178-ec7a-4f3a-a7a0-0794732e83d6",
     "hasError": false,
     "id": "4b387283-d2d1-4abf-98c7-2cb0238c4f1a",
     "outputs": [
      {
       "data": {
        "text/html": "<div>\n<style scoped>\n    .dataframe tbody tr th:only-of-type {\n        vertical-align: middle;\n    }\n\n    .dataframe tbody tr th {\n        vertical-align: top;\n    }\n\n    .dataframe thead th {\n        text-align: right;\n    }\n</style>\n<table border=\"1\" class=\"dataframe\">\n  <thead>\n    <tr style=\"text-align: right;\">\n      <th></th>\n      <th>id</th>\n      <th>member_id</th>\n      <th>loan_amnt</th>\n      <th>funded_amnt</th>\n      <th>funded_amnt_inv</th>\n      <th>term</th>\n      <th>int_rate</th>\n      <th>installment</th>\n      <th>grade</th>\n      <th>sub_grade</th>\n      <th>...</th>\n      <th>num_tl_90g_dpd_24m</th>\n      <th>num_tl_op_past_12m</th>\n      <th>pct_tl_nvr_dlq</th>\n      <th>percent_bc_gt_75</th>\n      <th>pub_rec_bankruptcies</th>\n      <th>tax_liens</th>\n      <th>tot_hi_cred_lim</th>\n      <th>total_bal_ex_mort</th>\n      <th>total_bc_limit</th>\n      <th>total_il_high_credit_limit</th>\n    </tr>\n  </thead>\n  <tbody>\n    <tr>\n      <th>0</th>\n      <td>68009401</td>\n      <td>72868139.0</td>\n      <td>16000.0</td>\n      <td>16000.0</td>\n      <td>16000.0</td>\n      <td>60 months</td>\n      <td>14.85%</td>\n      <td>379.39</td>\n      <td>C</td>\n      <td>C5</td>\n      <td>...</td>\n      <td>0.0</td>\n      <td>2.0</td>\n      <td>78.9</td>\n      <td>0.0</td>\n      <td>0.0</td>\n      <td>2.0</td>\n      <td>298100.0</td>\n      <td>31329.0</td>\n      <td>281300.0</td>\n      <td>13400.0</td>\n    </tr>\n    <tr>\n      <th>1</th>\n      <td>68354783</td>\n      <td>73244544.0</td>\n      <td>9600.0</td>\n      <td>9600.0</td>\n      <td>9600.0</td>\n      <td>36 months</td>\n      <td>7.49%</td>\n      <td>298.58</td>\n      <td>A</td>\n      <td>A4</td>\n      <td>...</td>\n      <td>0.0</td>\n      <td>2.0</td>\n      <td>100.0</td>\n      <td>66.7</td>\n      <td>0.0</td>\n      <td>0.0</td>\n      <td>88635.0</td>\n      <td>55387.0</td>\n      <td>12500.0</td>\n      <td>75635.0</td>\n    </tr>\n    <tr>\n      <th>2</th>\n      <td>68466916</td>\n      <td>73356753.0</td>\n      <td>25000.0</td>\n      <td>25000.0</td>\n      <td>25000.0</td>\n      <td>36 months</td>\n      <td>7.49%</td>\n      <td>777.55</td>\n      <td>A</td>\n      <td>A4</td>\n      <td>...</td>\n      <td>0.0</td>\n      <td>0.0</td>\n      <td>100.0</td>\n      <td>20.0</td>\n      <td>0.0</td>\n      <td>0.0</td>\n      <td>373572.0</td>\n      <td>68056.0</td>\n      <td>38400.0</td>\n      <td>82117.0</td>\n    </tr>\n    <tr>\n      <th>3</th>\n      <td>68466961</td>\n      <td>73356799.0</td>\n      <td>28000.0</td>\n      <td>28000.0</td>\n      <td>28000.0</td>\n      <td>36 months</td>\n      <td>6.49%</td>\n      <td>858.05</td>\n      <td>A</td>\n      <td>A2</td>\n      <td>...</td>\n      <td>0.0</td>\n      <td>0.0</td>\n      <td>91.7</td>\n      <td>22.2</td>\n      <td>0.0</td>\n      <td>0.0</td>\n      <td>304003.0</td>\n      <td>74920.0</td>\n      <td>41500.0</td>\n      <td>42503.0</td>\n    </tr>\n    <tr>\n      <th>4</th>\n      <td>68495092</td>\n      <td>73384866.0</td>\n      <td>8650.0</td>\n      <td>8650.0</td>\n      <td>8650.0</td>\n      <td>36 months</td>\n      <td>19.89%</td>\n      <td>320.99</td>\n      <td>E</td>\n      <td>E3</td>\n      <td>...</td>\n      <td>0.0</td>\n      <td>12.0</td>\n      <td>100.0</td>\n      <td>50.0</td>\n      <td>1.0</td>\n      <td>0.0</td>\n      <td>38998.0</td>\n      <td>18926.0</td>\n      <td>2750.0</td>\n      <td>18248.0</td>\n    </tr>\n  </tbody>\n</table>\n<p>5 rows × 111 columns</p>\n</div>",
        "text/plain": "         id   member_id  loan_amnt  funded_amnt  funded_amnt_inv        term  \\\n0  68009401  72868139.0    16000.0      16000.0          16000.0   60 months   \n1  68354783  73244544.0     9600.0       9600.0           9600.0   36 months   \n2  68466916  73356753.0    25000.0      25000.0          25000.0   36 months   \n3  68466961  73356799.0    28000.0      28000.0          28000.0   36 months   \n4  68495092  73384866.0     8650.0       8650.0           8650.0   36 months   \n\n  int_rate  installment grade sub_grade  ... num_tl_90g_dpd_24m  \\\n0   14.85%       379.39     C        C5  ...                0.0   \n1    7.49%       298.58     A        A4  ...                0.0   \n2    7.49%       777.55     A        A4  ...                0.0   \n3    6.49%       858.05     A        A2  ...                0.0   \n4   19.89%       320.99     E        E3  ...                0.0   \n\n  num_tl_op_past_12m pct_tl_nvr_dlq  percent_bc_gt_75 pub_rec_bankruptcies  \\\n0                2.0           78.9               0.0                  0.0   \n1                2.0          100.0              66.7                  0.0   \n2                0.0          100.0              20.0                  0.0   \n3                0.0           91.7              22.2                  0.0   \n4               12.0          100.0              50.0                  1.0   \n\n  tax_liens tot_hi_cred_lim total_bal_ex_mort total_bc_limit  \\\n0       2.0        298100.0           31329.0       281300.0   \n1       0.0         88635.0           55387.0        12500.0   \n2       0.0        373572.0           68056.0        38400.0   \n3       0.0        304003.0           74920.0        41500.0   \n4       0.0         38998.0           18926.0         2750.0   \n\n  total_il_high_credit_limit  \n0                    13400.0  \n1                    75635.0  \n2                    82117.0  \n3                    42503.0  \n4                    18248.0  \n\n[5 rows x 111 columns]"
       },
       "execution_count": 4,
       "metadata": {},
       "output_type": "execute_result"
      }
     ],
     "persistentId": "0ff2576a-01f5-4050-a162-f50f1dadb654",
     "text": "# read data from file\nraw = pd.read_csv(\"LoanStats3d.csv\", skipinitialspace=True, header=1)\n\n# show first 5 rows\nraw.head()"
    },
    "executionTime": "2020-01-13T04:59:13.002Z"
   },
   {
    "cell": {
     "executionCount": 5,
     "executionEventId": "424cfbb7-8c03-424b-a0b0-749fe432aec5",
     "hasError": false,
     "id": "8b44dda3-0965-4d6d-8ead-a544a81537c6",
     "outputs": [],
     "persistentId": "7cf6bb84-5b95-4d11-ada9-a353bb090802",
     "text": "# create a copy\nloans = raw.copy()"
    },
    "executionTime": "2020-01-13T05:00:11.327Z"
   },
   {
    "cell": {
     "executionCount": 6,
     "executionEventId": "3eb82e10-5c53-4b55-bcc6-43a1f2a92a11",
     "hasError": false,
     "id": "2c8ad38f-dc24-422d-bc25-58618650d28e",
     "outputs": [
      {
       "name": "stdout",
       "output_type": "stream",
       "text": "id\n421097\nterm\n2\nint_rate\n110\ngrade\n7\nsub_grade\n35\nemp_title\n120812\nemp_length\n11\nhome_ownership\n4\nverification_status\n3\nissue_d\n12\nloan_status\n7\npymnt_plan\n1\nurl\n421095\ndesc\n34\npurpose\n14\ntitle\n27\nzip_code\n914\naddr_state\n49\nearliest_cr_line\n668\nrevol_util\n1211\ninitial_list_status\n2\nlast_pymnt_d\n25\nnext_pymnt_d\n4\nlast_credit_pull_d\n26\napplication_type\n2\nverification_status_joint\n3\n"
      }
     ],
     "persistentId": "5b2f0e29-b19e-4b09-a92b-aa4ad1a3d6ce",
     "text": "categorical = raw.select_dtypes(include=['object'])\nfor i in categorical:\n    column = categorical[i]\n    print(i)\n    print(column.nunique())\n    "
    },
    "executionTime": "2020-01-13T05:01:42.351Z"
   },
   {
    "cell": {
     "executionCount": 7,
     "executionEventId": "c56286c2-ff92-45ab-9c05-d8cfb5082ea6",
     "hasError": false,
     "id": "b5369fe8-64d5-4418-a70f-8b7fac59a4f4",
     "outputs": [],
     "persistentId": "e0f9d043-ec87-4b59-8b87-d8304bc338c7",
     "text": "categorical = raw.select_dtypes(include=['object'])"
    },
    "executionTime": "2020-01-13T05:06:14.720Z"
   },
   {
    "cell": {
     "executionCount": 8,
     "executionEventId": "82ba4471-69c1-49ac-b2d5-610789b9a105",
     "hasError": false,
     "id": "b5369fe8-64d5-4418-a70f-8b7fac59a4f4",
     "outputs": [
      {
       "data": {
        "text/plain": "Index(['id', 'term', 'int_rate', 'grade', 'sub_grade', 'emp_title',\n       'emp_length', 'home_ownership', 'verification_status', 'issue_d',\n       'loan_status', 'pymnt_plan', 'url', 'desc', 'purpose', 'title',\n       'zip_code', 'addr_state', 'earliest_cr_line', 'revol_util',\n       'initial_list_status', 'last_pymnt_d', 'next_pymnt_d',\n       'last_credit_pull_d', 'application_type', 'verification_status_joint'],\n      dtype='object')"
       },
       "execution_count": 8,
       "metadata": {},
       "output_type": "execute_result"
      }
     ],
     "persistentId": "e0f9d043-ec87-4b59-8b87-d8304bc338c7",
     "text": "categorical.columns"
    },
    "executionTime": "2020-01-13T05:06:22.745Z"
   },
   {
    "cell": {
     "executionCount": 9,
     "executionEventId": "d97c721d-a0c5-43b6-bf51-87a87e314b43",
     "hasError": true,
     "id": "2c8ad38f-dc24-422d-bc25-58618650d28e",
     "outputs": [
      {
       "ename": "SyntaxError",
       "evalue": "invalid syntax (<ipython-input-9-b82a37545541>, line 4)",
       "output_type": "error",
       "traceback": [
        "\u001b[0;36m  File \u001b[0;32m\"<ipython-input-9-b82a37545541>\"\u001b[0;36m, line \u001b[0;32m4\u001b[0m\n\u001b[0;31m    print({}.format(col: categorical[col].nunique()))\u001b[0m\n\u001b[0m                       ^\u001b[0m\n\u001b[0;31mSyntaxError\u001b[0m\u001b[0;31m:\u001b[0m invalid syntax\n"
       ]
      }
     ],
     "persistentId": "5b2f0e29-b19e-4b09-a92b-aa4ad1a3d6ce",
     "text": "# number of unique values in each column\ncategorical = raw.select_dtypes(include=['object'])\nfor col in categorical.columns:\n    print({}.format(col: categorical[col].nunique()))"
    },
    "executionTime": "2020-01-13T05:06:43.592Z"
   },
   {
    "cell": {
     "executionCount": 10,
     "executionEventId": "e7eebd32-b44a-46dc-9b1d-363aa21e5762",
     "hasError": true,
     "id": "2c8ad38f-dc24-422d-bc25-58618650d28e",
     "outputs": [
      {
       "ename": "SyntaxError",
       "evalue": "invalid syntax (<ipython-input-10-3b020cb58314>, line 4)",
       "output_type": "error",
       "traceback": [
        "\u001b[0;36m  File \u001b[0;32m\"<ipython-input-10-3b020cb58314>\"\u001b[0;36m, line \u001b[0;32m4\u001b[0m\n\u001b[0;31m    print({} :.format(col, categorical[col].nunique()))\u001b[0m\n\u001b[0m             ^\u001b[0m\n\u001b[0;31mSyntaxError\u001b[0m\u001b[0;31m:\u001b[0m invalid syntax\n"
       ]
      }
     ],
     "persistentId": "5b2f0e29-b19e-4b09-a92b-aa4ad1a3d6ce",
     "text": "# number of unique values in each column\ncategorical = raw.select_dtypes(include=['object'])\nfor col in categorical.columns:\n    print({} :.format(col, categorical[col].nunique()))"
    },
    "executionTime": "2020-01-13T05:06:59.976Z"
   },
   {
    "cell": {
     "executionCount": 11,
     "executionEventId": "277243d5-2986-4b7d-a938-80d4a9e55fea",
     "hasError": false,
     "id": "2c8ad38f-dc24-422d-bc25-58618650d28e",
     "outputs": [
      {
       "name": "stdout",
       "output_type": "stream",
       "text": "id : 421097\nterm : 2\nint_rate : 110\ngrade : 7\nsub_grade : 35\nemp_title : 120812\nemp_length : 11\nhome_ownership : 4\nverification_status : 3\nissue_d : 12\nloan_status : 7\npymnt_plan : 1\nurl : 421095\ndesc : 34\npurpose : 14\ntitle : 27\nzip_code : 914\naddr_state : 49\nearliest_cr_line : 668\nrevol_util : 1211\ninitial_list_status : 2\nlast_pymnt_d : 25\nnext_pymnt_d : 4\nlast_credit_pull_d : 26\napplication_type : 2\nverification_status_joint : 3\n"
      }
     ],
     "persistentId": "5b2f0e29-b19e-4b09-a92b-aa4ad1a3d6ce",
     "text": "# number of unique values in each column\ncategorical = raw.select_dtypes(include=['object'])\nfor col in categorical.columns:\n    print(\"{} : {}\".format(col, categorical[col].nunique()))"
    },
    "executionTime": "2020-01-13T05:07:16.870Z"
   },
   {
    "cell": {
     "executionCount": 12,
     "executionEventId": "f78b895c-6ef3-4651-9112-3397ffdb8f62",
     "hasError": false,
     "id": "2c8ad38f-dc24-422d-bc25-58618650d28e",
     "outputs": [
      {
       "name": "stdout",
       "output_type": "stream",
       "text": "id: 421097\nterm: 2\nint_rate: 110\ngrade: 7\nsub_grade: 35\nemp_title: 120812\nemp_length: 11\nhome_ownership: 4\nverification_status: 3\nissue_d: 12\nloan_status: 7\npymnt_plan: 1\nurl: 421095\ndesc: 34\npurpose: 14\ntitle: 27\nzip_code: 914\naddr_state: 49\nearliest_cr_line: 668\nrevol_util: 1211\ninitial_list_status: 2\nlast_pymnt_d: 25\nnext_pymnt_d: 4\nlast_credit_pull_d: 26\napplication_type: 2\nverification_status_joint: 3\n"
      }
     ],
     "persistentId": "5b2f0e29-b19e-4b09-a92b-aa4ad1a3d6ce",
     "text": "# number of unique values in each column\ncategorical = raw.select_dtypes(include=['object'])\nfor col in categorical.columns:\n    print(\"{}: {}\".format(col, categorical[col].nunique()))"
    },
    "executionTime": "2020-01-13T05:07:21.052Z"
   },
   {
    "cell": {
     "executionCount": 13,
     "executionEventId": "864e18aa-9bb0-4e47-9b7f-c3dd917e46a4",
     "hasError": false,
     "id": "8b44dda3-0965-4d6d-8ead-a544a81537c6",
     "outputs": [],
     "persistentId": "7cf6bb84-5b95-4d11-ada9-a353bb090802",
     "text": "# create a copy of the original data\nloans = raw.copy()\n\n# convert ID and interest rate to numeric.\nloans['id'] = pd.to_numeric(loans['id'], errors='coerce')\nloans['int_rate'] = pd.to_numeric(loans['int_rate'].str.strip('%'), errors='coerce')"
    },
    "executionTime": "2020-01-13T05:09:59.857Z"
   },
   {
    "cell": {
     "executionCount": 14,
     "executionEventId": "c6dc9371-d017-4cde-b63e-205a9d3cea35",
     "hasError": false,
     "id": "1eb46b2e-51c2-41d1-a224-877bace07b4e",
     "outputs": [],
     "persistentId": "30e3640e-96b7-45d0-8a06-0d3980e36ad5",
     "text": "# drop other columns with too many unique variables\nloans.drop(['url', 'emp_title', 'zip_code', 'earliest_cr_line', 'revol_util',\n            'sub_grade', 'addr_state', 'desc'], 1, inplace=True)"
    },
    "executionTime": "2020-01-13T05:10:31.497Z"
   },
   {
    "cell": {
     "executionCount": 15,
     "executionEventId": "21f672b0-e8ce-4771-845d-a859ad45ab8f",
     "hasError": false,
     "id": "baefa0f7-32a1-438c-aa48-793ebea67d67",
     "outputs": [],
     "persistentId": "fe0fe1d8-47dc-4b67-966d-e861dab860a1",
     "text": "loans.dropna(how='all', inplace=True)"
    },
    "executionTime": "2020-01-13T05:13:14.399Z"
   },
   {
    "cell": {
     "executionCount": 16,
     "executionEventId": "85c344b4-2d4b-4c79-98af-3f9226e32076",
     "hasError": false,
     "id": "9978a2d9-0988-40bc-8431-f6b9ce1cc26a",
     "outputs": [
      {
       "data": {
        "text/plain": "0                    Current\n1                    Current\n2                 Fully Paid\n3                    Current\n4                 Fully Paid\n5                    Current\n6                    Current\n7                 Fully Paid\n8                    Current\n9                 Fully Paid\n10                   Current\n11                   Current\n12                   Current\n13                   Current\n14                Fully Paid\n15                   Current\n16                   Current\n17                   Current\n18                   Current\n19                   Current\n20                   Current\n21                Fully Paid\n22                   Current\n23                   Current\n24                   Current\n25                   Current\n26                   Current\n27                Fully Paid\n28                   Current\n29                   Current\n                 ...        \n421065               Current\n421066               Current\n421067               Current\n421068           Charged Off\n421069            Fully Paid\n421070               Current\n421071            Fully Paid\n421072               Current\n421073               Current\n421074    Late (31-120 days)\n421075               Current\n421076            Fully Paid\n421077               Current\n421078               Current\n421079            Fully Paid\n421080               Current\n421081            Fully Paid\n421082            Fully Paid\n421083            Fully Paid\n421084               Current\n421085            Fully Paid\n421086               Current\n421087           Charged Off\n421088            Fully Paid\n421089           Charged Off\n421090               Current\n421091               Current\n421092           Charged Off\n421093           Charged Off\n421094               Current\nName: loan_status, Length: 421095, dtype: object"
       },
       "execution_count": 16,
       "metadata": {},
       "output_type": "execute_result"
      }
     ],
     "persistentId": "f4979e39-e29f-4fcc-ba75-ca2c4a1c309d",
     "text": "loans['loan_status']"
    },
    "executionTime": "2020-01-13T05:13:37.228Z"
   },
   {
    "cell": {
     "executionCount": 17,
     "executionEventId": "96dc63b5-ca5a-45ac-8c1d-6d627a47b488",
     "hasError": false,
     "id": "7c52b63c-0b58-40d6-a984-689dbae7cb2a",
     "outputs": [
      {
       "data": {
        "text/plain": "Current               287414\nFully Paid             87989\nCharged Off            29178\nLate (31-120 days)      9510\nIn Grace Period         4320\nLate (16-30 days)       1888\nDefault                  796\nName: loan_status, dtype: int64"
       },
       "execution_count": 17,
       "metadata": {},
       "output_type": "execute_result"
      }
     ],
     "persistentId": "ef4b11ff-ce00-42e4-b117-90a0696a5345",
     "text": "loans['loan_status'].value_counts()"
    },
    "executionTime": "2020-01-13T05:13:55.598Z"
   },
   {
    "cell": {
     "executionCount": 18,
     "executionEventId": "f600616c-7570-4546-b019-b59f7ccaa5c3",
     "hasError": false,
     "id": "3da9939a-49f9-48bf-a56e-ebb405c8b3cf",
     "outputs": [
      {
       "data": {
        "text/html": "<div>\n<style scoped>\n    .dataframe tbody tr th:only-of-type {\n        vertical-align: middle;\n    }\n\n    .dataframe tbody tr th {\n        vertical-align: top;\n    }\n\n    .dataframe thead th {\n        text-align: right;\n    }\n</style>\n<table border=\"1\" class=\"dataframe\">\n  <thead>\n    <tr style=\"text-align: right;\">\n      <th></th>\n      <th>id</th>\n      <th>member_id</th>\n      <th>loan_amnt</th>\n      <th>funded_amnt</th>\n      <th>funded_amnt_inv</th>\n      <th>int_rate</th>\n      <th>installment</th>\n      <th>annual_inc</th>\n      <th>dti</th>\n      <th>delinq_2yrs</th>\n      <th>...</th>\n      <th>last_credit_pull_d_Nov-2016</th>\n      <th>last_credit_pull_d_Oct-2015</th>\n      <th>last_credit_pull_d_Oct-2016</th>\n      <th>last_credit_pull_d_Sep-2015</th>\n      <th>last_credit_pull_d_Sep-2016</th>\n      <th>application_type_INDIVIDUAL</th>\n      <th>application_type_JOINT</th>\n      <th>verification_status_joint_Not Verified</th>\n      <th>verification_status_joint_Source Verified</th>\n      <th>verification_status_joint_Verified</th>\n    </tr>\n  </thead>\n  <tbody>\n    <tr>\n      <th>0</th>\n      <td>68009401.0</td>\n      <td>72868139.0</td>\n      <td>16000.0</td>\n      <td>16000.0</td>\n      <td>16000.0</td>\n      <td>14.85</td>\n      <td>379.39</td>\n      <td>48000.0</td>\n      <td>33.18</td>\n      <td>0.0</td>\n      <td>...</td>\n      <td>0</td>\n      <td>0</td>\n      <td>0</td>\n      <td>0</td>\n      <td>0</td>\n      <td>1</td>\n      <td>0</td>\n      <td>0</td>\n      <td>0</td>\n      <td>0</td>\n    </tr>\n    <tr>\n      <th>1</th>\n      <td>68354783.0</td>\n      <td>73244544.0</td>\n      <td>9600.0</td>\n      <td>9600.0</td>\n      <td>9600.0</td>\n      <td>7.49</td>\n      <td>298.58</td>\n      <td>60000.0</td>\n      <td>22.44</td>\n      <td>0.0</td>\n      <td>...</td>\n      <td>0</td>\n      <td>0</td>\n      <td>0</td>\n      <td>0</td>\n      <td>0</td>\n      <td>1</td>\n      <td>0</td>\n      <td>0</td>\n      <td>0</td>\n      <td>0</td>\n    </tr>\n    <tr>\n      <th>2</th>\n      <td>68466916.0</td>\n      <td>73356753.0</td>\n      <td>25000.0</td>\n      <td>25000.0</td>\n      <td>25000.0</td>\n      <td>7.49</td>\n      <td>777.55</td>\n      <td>109000.0</td>\n      <td>26.02</td>\n      <td>0.0</td>\n      <td>...</td>\n      <td>0</td>\n      <td>0</td>\n      <td>0</td>\n      <td>0</td>\n      <td>0</td>\n      <td>1</td>\n      <td>0</td>\n      <td>0</td>\n      <td>0</td>\n      <td>0</td>\n    </tr>\n    <tr>\n      <th>3</th>\n      <td>68466961.0</td>\n      <td>73356799.0</td>\n      <td>28000.0</td>\n      <td>28000.0</td>\n      <td>28000.0</td>\n      <td>6.49</td>\n      <td>858.05</td>\n      <td>92000.0</td>\n      <td>21.60</td>\n      <td>0.0</td>\n      <td>...</td>\n      <td>0</td>\n      <td>0</td>\n      <td>0</td>\n      <td>0</td>\n      <td>0</td>\n      <td>1</td>\n      <td>0</td>\n      <td>0</td>\n      <td>0</td>\n      <td>0</td>\n    </tr>\n    <tr>\n      <th>4</th>\n      <td>68495092.0</td>\n      <td>73384866.0</td>\n      <td>8650.0</td>\n      <td>8650.0</td>\n      <td>8650.0</td>\n      <td>19.89</td>\n      <td>320.99</td>\n      <td>55000.0</td>\n      <td>25.49</td>\n      <td>0.0</td>\n      <td>...</td>\n      <td>0</td>\n      <td>0</td>\n      <td>0</td>\n      <td>0</td>\n      <td>0</td>\n      <td>1</td>\n      <td>0</td>\n      <td>0</td>\n      <td>0</td>\n      <td>0</td>\n    </tr>\n    <tr>\n      <th>5</th>\n      <td>68506798.0</td>\n      <td>73396623.0</td>\n      <td>23000.0</td>\n      <td>23000.0</td>\n      <td>23000.0</td>\n      <td>8.49</td>\n      <td>471.77</td>\n      <td>64000.0</td>\n      <td>18.28</td>\n      <td>0.0</td>\n      <td>...</td>\n      <td>0</td>\n      <td>0</td>\n      <td>0</td>\n      <td>0</td>\n      <td>0</td>\n      <td>1</td>\n      <td>0</td>\n      <td>0</td>\n      <td>0</td>\n      <td>0</td>\n    </tr>\n    <tr>\n      <th>6</th>\n      <td>68566886.0</td>\n      <td>73456723.0</td>\n      <td>29900.0</td>\n      <td>29900.0</td>\n      <td>29900.0</td>\n      <td>12.88</td>\n      <td>678.49</td>\n      <td>65000.0</td>\n      <td>21.77</td>\n      <td>0.0</td>\n      <td>...</td>\n      <td>0</td>\n      <td>0</td>\n      <td>0</td>\n      <td>0</td>\n      <td>0</td>\n      <td>1</td>\n      <td>0</td>\n      <td>0</td>\n      <td>0</td>\n      <td>0</td>\n    </tr>\n    <tr>\n      <th>7</th>\n      <td>68577849.0</td>\n      <td>73467703.0</td>\n      <td>18000.0</td>\n      <td>18000.0</td>\n      <td>18000.0</td>\n      <td>11.99</td>\n      <td>400.31</td>\n      <td>112000.0</td>\n      <td>8.68</td>\n      <td>0.0</td>\n      <td>...</td>\n      <td>0</td>\n      <td>0</td>\n      <td>0</td>\n      <td>0</td>\n      <td>0</td>\n      <td>1</td>\n      <td>0</td>\n      <td>0</td>\n      <td>0</td>\n      <td>0</td>\n    </tr>\n    <tr>\n      <th>8</th>\n      <td>66310712.0</td>\n      <td>71035433.0</td>\n      <td>35000.0</td>\n      <td>35000.0</td>\n      <td>35000.0</td>\n      <td>14.85</td>\n      <td>829.90</td>\n      <td>110000.0</td>\n      <td>17.06</td>\n      <td>0.0</td>\n      <td>...</td>\n      <td>0</td>\n      <td>0</td>\n      <td>0</td>\n      <td>0</td>\n      <td>0</td>\n      <td>1</td>\n      <td>0</td>\n      <td>0</td>\n      <td>0</td>\n      <td>0</td>\n    </tr>\n    <tr>\n      <th>9</th>\n      <td>68476807.0</td>\n      <td>73366655.0</td>\n      <td>10400.0</td>\n      <td>10400.0</td>\n      <td>10400.0</td>\n      <td>22.45</td>\n      <td>289.91</td>\n      <td>104433.0</td>\n      <td>25.37</td>\n      <td>1.0</td>\n      <td>...</td>\n      <td>0</td>\n      <td>0</td>\n      <td>0</td>\n      <td>0</td>\n      <td>0</td>\n      <td>1</td>\n      <td>0</td>\n      <td>0</td>\n      <td>0</td>\n      <td>0</td>\n    </tr>\n    <tr>\n      <th>10</th>\n      <td>68341763.0</td>\n      <td>72928789.0</td>\n      <td>20000.0</td>\n      <td>20000.0</td>\n      <td>20000.0</td>\n      <td>10.78</td>\n      <td>432.66</td>\n      <td>63000.0</td>\n      <td>10.78</td>\n      <td>0.0</td>\n      <td>...</td>\n      <td>0</td>\n      <td>0</td>\n      <td>0</td>\n      <td>0</td>\n      <td>0</td>\n      <td>0</td>\n      <td>1</td>\n      <td>1</td>\n      <td>0</td>\n      <td>0</td>\n    </tr>\n    <tr>\n      <th>11</th>\n      <td>68356421.0</td>\n      <td>73246236.0</td>\n      <td>22400.0</td>\n      <td>22400.0</td>\n      <td>22400.0</td>\n      <td>12.88</td>\n      <td>508.30</td>\n      <td>95000.0</td>\n      <td>22.98</td>\n      <td>0.0</td>\n      <td>...</td>\n      <td>0</td>\n      <td>0</td>\n      <td>0</td>\n      <td>0</td>\n      <td>0</td>\n      <td>1</td>\n      <td>0</td>\n      <td>0</td>\n      <td>0</td>\n      <td>0</td>\n    </tr>\n    <tr>\n      <th>12</th>\n      <td>68426545.0</td>\n      <td>73316365.0</td>\n      <td>16000.0</td>\n      <td>16000.0</td>\n      <td>16000.0</td>\n      <td>12.88</td>\n      <td>363.07</td>\n      <td>70000.0</td>\n      <td>26.40</td>\n      <td>0.0</td>\n      <td>...</td>\n      <td>0</td>\n      <td>0</td>\n      <td>0</td>\n      <td>0</td>\n      <td>0</td>\n      <td>1</td>\n      <td>0</td>\n      <td>0</td>\n      <td>0</td>\n      <td>0</td>\n    </tr>\n    <tr>\n      <th>13</th>\n      <td>68407277.0</td>\n      <td>73297111.0</td>\n      <td>3600.0</td>\n      <td>3600.0</td>\n      <td>3600.0</td>\n      <td>13.99</td>\n      <td>123.03</td>\n      <td>55000.0</td>\n      <td>5.91</td>\n      <td>0.0</td>\n      <td>...</td>\n      <td>0</td>\n      <td>0</td>\n      <td>0</td>\n      <td>0</td>\n      <td>0</td>\n      <td>1</td>\n      <td>0</td>\n      <td>0</td>\n      <td>0</td>\n      <td>0</td>\n    </tr>\n    <tr>\n      <th>14</th>\n      <td>68355089.0</td>\n      <td>73244858.0</td>\n      <td>24700.0</td>\n      <td>24700.0</td>\n      <td>24700.0</td>\n      <td>11.99</td>\n      <td>820.28</td>\n      <td>65000.0</td>\n      <td>16.06</td>\n      <td>1.0</td>\n      <td>...</td>\n      <td>0</td>\n      <td>0</td>\n      <td>0</td>\n      <td>0</td>\n      <td>0</td>\n      <td>1</td>\n      <td>0</td>\n      <td>0</td>\n      <td>0</td>\n      <td>0</td>\n    </tr>\n    <tr>\n      <th>15</th>\n      <td>68466926.0</td>\n      <td>73356763.0</td>\n      <td>10000.0</td>\n      <td>10000.0</td>\n      <td>10000.0</td>\n      <td>6.49</td>\n      <td>306.45</td>\n      <td>85000.0</td>\n      <td>13.07</td>\n      <td>0.0</td>\n      <td>...</td>\n      <td>0</td>\n      <td>0</td>\n      <td>0</td>\n      <td>0</td>\n      <td>0</td>\n      <td>1</td>\n      <td>0</td>\n      <td>0</td>\n      <td>0</td>\n      <td>0</td>\n    </tr>\n    <tr>\n      <th>16</th>\n      <td>68338832.0</td>\n      <td>73542831.0</td>\n      <td>1400.0</td>\n      <td>1400.0</td>\n      <td>1400.0</td>\n      <td>12.88</td>\n      <td>47.10</td>\n      <td>64000.0</td>\n      <td>34.95</td>\n      <td>0.0</td>\n      <td>...</td>\n      <td>0</td>\n      <td>0</td>\n      <td>0</td>\n      <td>0</td>\n      <td>0</td>\n      <td>1</td>\n      <td>0</td>\n      <td>0</td>\n      <td>0</td>\n      <td>0</td>\n    </tr>\n    <tr>\n      <th>17</th>\n      <td>68426831.0</td>\n      <td>73316657.0</td>\n      <td>11950.0</td>\n      <td>11950.0</td>\n      <td>11950.0</td>\n      <td>13.44</td>\n      <td>405.18</td>\n      <td>34000.0</td>\n      <td>10.20</td>\n      <td>0.0</td>\n      <td>...</td>\n      <td>0</td>\n      <td>0</td>\n      <td>0</td>\n      <td>0</td>\n      <td>0</td>\n      <td>1</td>\n      <td>0</td>\n      <td>0</td>\n      <td>0</td>\n      <td>0</td>\n    </tr>\n    <tr>\n      <th>18</th>\n      <td>66624733.0</td>\n      <td>71350547.0</td>\n      <td>18000.0</td>\n      <td>18000.0</td>\n      <td>18000.0</td>\n      <td>19.48</td>\n      <td>471.70</td>\n      <td>150000.0</td>\n      <td>9.39</td>\n      <td>0.0</td>\n      <td>...</td>\n      <td>0</td>\n      <td>0</td>\n      <td>0</td>\n      <td>0</td>\n      <td>0</td>\n      <td>1</td>\n      <td>0</td>\n      <td>0</td>\n      <td>0</td>\n      <td>0</td>\n    </tr>\n    <tr>\n      <th>19</th>\n      <td>68616873.0</td>\n      <td>73519699.0</td>\n      <td>8000.0</td>\n      <td>8000.0</td>\n      <td>8000.0</td>\n      <td>11.48</td>\n      <td>263.74</td>\n      <td>42000.0</td>\n      <td>34.80</td>\n      <td>0.0</td>\n      <td>...</td>\n      <td>0</td>\n      <td>0</td>\n      <td>0</td>\n      <td>0</td>\n      <td>0</td>\n      <td>1</td>\n      <td>0</td>\n      <td>0</td>\n      <td>0</td>\n      <td>0</td>\n    </tr>\n    <tr>\n      <th>20</th>\n      <td>67275481.0</td>\n      <td>72077199.0</td>\n      <td>20000.0</td>\n      <td>20000.0</td>\n      <td>20000.0</td>\n      <td>8.49</td>\n      <td>631.26</td>\n      <td>85000.0</td>\n      <td>17.61</td>\n      <td>1.0</td>\n      <td>...</td>\n      <td>0</td>\n      <td>0</td>\n      <td>0</td>\n      <td>0</td>\n      <td>0</td>\n      <td>1</td>\n      <td>0</td>\n      <td>0</td>\n      <td>0</td>\n      <td>0</td>\n    </tr>\n    <tr>\n      <th>21</th>\n      <td>68476668.0</td>\n      <td>73366513.0</td>\n      <td>20000.0</td>\n      <td>20000.0</td>\n      <td>20000.0</td>\n      <td>9.17</td>\n      <td>637.58</td>\n      <td>180000.0</td>\n      <td>14.67</td>\n      <td>0.0</td>\n      <td>...</td>\n      <td>1</td>\n      <td>0</td>\n      <td>0</td>\n      <td>0</td>\n      <td>0</td>\n      <td>1</td>\n      <td>0</td>\n      <td>0</td>\n      <td>0</td>\n      <td>0</td>\n    </tr>\n    <tr>\n      <th>22</th>\n      <td>68476702.0</td>\n      <td>73366548.0</td>\n      <td>28000.0</td>\n      <td>28000.0</td>\n      <td>28000.0</td>\n      <td>13.44</td>\n      <td>949.38</td>\n      <td>125000.0</td>\n      <td>7.49</td>\n      <td>0.0</td>\n      <td>...</td>\n      <td>0</td>\n      <td>0</td>\n      <td>0</td>\n      <td>0</td>\n      <td>0</td>\n      <td>1</td>\n      <td>0</td>\n      <td>0</td>\n      <td>0</td>\n      <td>0</td>\n    </tr>\n    <tr>\n      <th>23</th>\n      <td>68436666.0</td>\n      <td>73326493.0</td>\n      <td>5000.0</td>\n      <td>5000.0</td>\n      <td>5000.0</td>\n      <td>13.44</td>\n      <td>169.54</td>\n      <td>79000.0</td>\n      <td>12.70</td>\n      <td>0.0</td>\n      <td>...</td>\n      <td>0</td>\n      <td>0</td>\n      <td>0</td>\n      <td>0</td>\n      <td>0</td>\n      <td>1</td>\n      <td>0</td>\n      <td>0</td>\n      <td>0</td>\n      <td>0</td>\n    </tr>\n    <tr>\n      <th>24</th>\n      <td>68596180.0</td>\n      <td>73485987.0</td>\n      <td>20000.0</td>\n      <td>20000.0</td>\n      <td>20000.0</td>\n      <td>5.32</td>\n      <td>602.30</td>\n      <td>65000.0</td>\n      <td>18.83</td>\n      <td>0.0</td>\n      <td>...</td>\n      <td>0</td>\n      <td>0</td>\n      <td>0</td>\n      <td>0</td>\n      <td>0</td>\n      <td>1</td>\n      <td>0</td>\n      <td>0</td>\n      <td>0</td>\n      <td>0</td>\n    </tr>\n    <tr>\n      <th>25</th>\n      <td>67849662.0</td>\n      <td>72708407.0</td>\n      <td>4225.0</td>\n      <td>4225.0</td>\n      <td>4225.0</td>\n      <td>14.85</td>\n      <td>146.16</td>\n      <td>35000.0</td>\n      <td>15.22</td>\n      <td>2.0</td>\n      <td>...</td>\n      <td>0</td>\n      <td>0</td>\n      <td>0</td>\n      <td>0</td>\n      <td>0</td>\n      <td>1</td>\n      <td>0</td>\n      <td>0</td>\n      <td>0</td>\n      <td>0</td>\n    </tr>\n    <tr>\n      <th>26</th>\n      <td>68526883.0</td>\n      <td>73416719.0</td>\n      <td>15000.0</td>\n      <td>15000.0</td>\n      <td>15000.0</td>\n      <td>5.32</td>\n      <td>451.73</td>\n      <td>44000.0</td>\n      <td>15.34</td>\n      <td>0.0</td>\n      <td>...</td>\n      <td>0</td>\n      <td>0</td>\n      <td>0</td>\n      <td>0</td>\n      <td>0</td>\n      <td>1</td>\n      <td>0</td>\n      <td>0</td>\n      <td>0</td>\n      <td>0</td>\n    </tr>\n    <tr>\n      <th>27</th>\n      <td>68607141.0</td>\n      <td>73509983.0</td>\n      <td>17600.0</td>\n      <td>17600.0</td>\n      <td>17600.0</td>\n      <td>5.32</td>\n      <td>530.03</td>\n      <td>88000.0</td>\n      <td>26.59</td>\n      <td>0.0</td>\n      <td>...</td>\n      <td>1</td>\n      <td>0</td>\n      <td>0</td>\n      <td>0</td>\n      <td>0</td>\n      <td>1</td>\n      <td>0</td>\n      <td>0</td>\n      <td>0</td>\n      <td>0</td>\n    </tr>\n    <tr>\n      <th>28</th>\n      <td>68476715.0</td>\n      <td>73366561.0</td>\n      <td>6000.0</td>\n      <td>6000.0</td>\n      <td>6000.0</td>\n      <td>7.49</td>\n      <td>186.61</td>\n      <td>100000.0</td>\n      <td>13.28</td>\n      <td>1.0</td>\n      <td>...</td>\n      <td>0</td>\n      <td>0</td>\n      <td>0</td>\n      <td>0</td>\n      <td>0</td>\n      <td>1</td>\n      <td>0</td>\n      <td>0</td>\n      <td>0</td>\n      <td>0</td>\n    </tr>\n    <tr>\n      <th>29</th>\n      <td>67715283.0</td>\n      <td>72569997.0</td>\n      <td>16000.0</td>\n      <td>16000.0</td>\n      <td>16000.0</td>\n      <td>12.88</td>\n      <td>538.18</td>\n      <td>65000.0</td>\n      <td>18.96</td>\n      <td>0.0</td>\n      <td>...</td>\n      <td>0</td>\n      <td>0</td>\n      <td>0</td>\n      <td>0</td>\n      <td>0</td>\n      <td>1</td>\n      <td>0</td>\n      <td>0</td>\n      <td>0</td>\n      <td>0</td>\n    </tr>\n    <tr>\n      <th>...</th>\n      <td>...</td>\n      <td>...</td>\n      <td>...</td>\n      <td>...</td>\n      <td>...</td>\n      <td>...</td>\n      <td>...</td>\n      <td>...</td>\n      <td>...</td>\n      <td>...</td>\n      <td>...</td>\n      <td>...</td>\n      <td>...</td>\n      <td>...</td>\n      <td>...</td>\n      <td>...</td>\n      <td>...</td>\n      <td>...</td>\n      <td>...</td>\n      <td>...</td>\n      <td>...</td>\n    </tr>\n    <tr>\n      <th>421065</th>\n      <td>36631385.0</td>\n      <td>39374138.0</td>\n      <td>13000.0</td>\n      <td>13000.0</td>\n      <td>13000.0</td>\n      <td>8.19</td>\n      <td>408.52</td>\n      <td>85000.0</td>\n      <td>8.05</td>\n      <td>1.0</td>\n      <td>...</td>\n      <td>0</td>\n      <td>0</td>\n      <td>0</td>\n      <td>0</td>\n      <td>0</td>\n      <td>1</td>\n      <td>0</td>\n      <td>0</td>\n      <td>0</td>\n      <td>0</td>\n    </tr>\n    <tr>\n      <th>421066</th>\n      <td>36231083.0</td>\n      <td>38942474.0</td>\n      <td>15000.0</td>\n      <td>15000.0</td>\n      <td>15000.0</td>\n      <td>11.99</td>\n      <td>498.15</td>\n      <td>70000.0</td>\n      <td>8.47</td>\n      <td>0.0</td>\n      <td>...</td>\n      <td>0</td>\n      <td>0</td>\n      <td>0</td>\n      <td>0</td>\n      <td>0</td>\n      <td>1</td>\n      <td>0</td>\n      <td>0</td>\n      <td>0</td>\n      <td>0</td>\n    </tr>\n    <tr>\n      <th>421067</th>\n      <td>36691397.0</td>\n      <td>39434133.0</td>\n      <td>20000.0</td>\n      <td>20000.0</td>\n      <td>20000.0</td>\n      <td>6.99</td>\n      <td>617.46</td>\n      <td>72000.0</td>\n      <td>27.24</td>\n      <td>0.0</td>\n      <td>...</td>\n      <td>0</td>\n      <td>0</td>\n      <td>0</td>\n      <td>0</td>\n      <td>0</td>\n      <td>1</td>\n      <td>0</td>\n      <td>0</td>\n      <td>0</td>\n      <td>0</td>\n    </tr>\n    <tr>\n      <th>421068</th>\n      <td>36743377.0</td>\n      <td>39486112.0</td>\n      <td>4200.0</td>\n      <td>4200.0</td>\n      <td>4200.0</td>\n      <td>15.99</td>\n      <td>147.64</td>\n      <td>48000.0</td>\n      <td>36.93</td>\n      <td>0.0</td>\n      <td>...</td>\n      <td>0</td>\n      <td>0</td>\n      <td>0</td>\n      <td>0</td>\n      <td>0</td>\n      <td>1</td>\n      <td>0</td>\n      <td>0</td>\n      <td>0</td>\n      <td>0</td>\n    </tr>\n    <tr>\n      <th>421069</th>\n      <td>36331554.0</td>\n      <td>39042967.0</td>\n      <td>26950.0</td>\n      <td>26950.0</td>\n      <td>26950.0</td>\n      <td>8.19</td>\n      <td>846.88</td>\n      <td>54000.0</td>\n      <td>18.11</td>\n      <td>0.0</td>\n      <td>...</td>\n      <td>0</td>\n      <td>0</td>\n      <td>0</td>\n      <td>0</td>\n      <td>0</td>\n      <td>1</td>\n      <td>0</td>\n      <td>0</td>\n      <td>0</td>\n      <td>0</td>\n    </tr>\n    <tr>\n      <th>421070</th>\n      <td>36460697.0</td>\n      <td>39182359.0</td>\n      <td>23000.0</td>\n      <td>23000.0</td>\n      <td>23000.0</td>\n      <td>15.59</td>\n      <td>554.32</td>\n      <td>50000.0</td>\n      <td>31.95</td>\n      <td>0.0</td>\n      <td>...</td>\n      <td>0</td>\n      <td>0</td>\n      <td>0</td>\n      <td>0</td>\n      <td>0</td>\n      <td>1</td>\n      <td>0</td>\n      <td>0</td>\n      <td>0</td>\n      <td>0</td>\n    </tr>\n    <tr>\n      <th>421071</th>\n      <td>35773415.0</td>\n      <td>38468842.0</td>\n      <td>18700.0</td>\n      <td>18700.0</td>\n      <td>18700.0</td>\n      <td>17.86</td>\n      <td>473.44</td>\n      <td>52000.0</td>\n      <td>11.28</td>\n      <td>0.0</td>\n      <td>...</td>\n      <td>0</td>\n      <td>0</td>\n      <td>0</td>\n      <td>0</td>\n      <td>0</td>\n      <td>1</td>\n      <td>0</td>\n      <td>0</td>\n      <td>0</td>\n      <td>0</td>\n    </tr>\n    <tr>\n      <th>421072</th>\n      <td>36250801.0</td>\n      <td>38962184.0</td>\n      <td>6000.0</td>\n      <td>6000.0</td>\n      <td>6000.0</td>\n      <td>17.86</td>\n      <td>216.50</td>\n      <td>90000.0</td>\n      <td>2.84</td>\n      <td>0.0</td>\n      <td>...</td>\n      <td>0</td>\n      <td>0</td>\n      <td>0</td>\n      <td>0</td>\n      <td>0</td>\n      <td>1</td>\n      <td>0</td>\n      <td>0</td>\n      <td>0</td>\n      <td>0</td>\n    </tr>\n    <tr>\n      <th>421073</th>\n      <td>36371802.0</td>\n      <td>39103231.0</td>\n      <td>15000.0</td>\n      <td>15000.0</td>\n      <td>15000.0</td>\n      <td>11.44</td>\n      <td>329.44</td>\n      <td>57000.0</td>\n      <td>15.77</td>\n      <td>0.0</td>\n      <td>...</td>\n      <td>0</td>\n      <td>0</td>\n      <td>0</td>\n      <td>0</td>\n      <td>0</td>\n      <td>1</td>\n      <td>0</td>\n      <td>0</td>\n      <td>0</td>\n      <td>0</td>\n    </tr>\n    <tr>\n      <th>421074</th>\n      <td>36440728.0</td>\n      <td>39152101.0</td>\n      <td>25000.0</td>\n      <td>25000.0</td>\n      <td>25000.0</td>\n      <td>15.99</td>\n      <td>607.82</td>\n      <td>103000.0</td>\n      <td>5.27</td>\n      <td>0.0</td>\n      <td>...</td>\n      <td>0</td>\n      <td>0</td>\n      <td>0</td>\n      <td>0</td>\n      <td>0</td>\n      <td>1</td>\n      <td>0</td>\n      <td>0</td>\n      <td>0</td>\n      <td>0</td>\n    </tr>\n    <tr>\n      <th>421075</th>\n      <td>36361815.0</td>\n      <td>39093260.0</td>\n      <td>26500.0</td>\n      <td>26500.0</td>\n      <td>26500.0</td>\n      <td>8.67</td>\n      <td>545.87</td>\n      <td>92000.0</td>\n      <td>29.60</td>\n      <td>1.0</td>\n      <td>...</td>\n      <td>0</td>\n      <td>0</td>\n      <td>0</td>\n      <td>0</td>\n      <td>0</td>\n      <td>1</td>\n      <td>0</td>\n      <td>0</td>\n      <td>0</td>\n      <td>0</td>\n    </tr>\n    <tr>\n      <th>421076</th>\n      <td>35591131.0</td>\n      <td>38288343.0</td>\n      <td>25000.0</td>\n      <td>25000.0</td>\n      <td>25000.0</td>\n      <td>15.59</td>\n      <td>602.52</td>\n      <td>55000.0</td>\n      <td>5.52</td>\n      <td>0.0</td>\n      <td>...</td>\n      <td>0</td>\n      <td>0</td>\n      <td>0</td>\n      <td>0</td>\n      <td>0</td>\n      <td>1</td>\n      <td>0</td>\n      <td>0</td>\n      <td>0</td>\n      <td>0</td>\n    </tr>\n    <tr>\n      <th>421077</th>\n      <td>36201871.0</td>\n      <td>38913321.0</td>\n      <td>21000.0</td>\n      <td>21000.0</td>\n      <td>21000.0</td>\n      <td>6.03</td>\n      <td>639.15</td>\n      <td>65000.0</td>\n      <td>17.09</td>\n      <td>0.0</td>\n      <td>...</td>\n      <td>0</td>\n      <td>0</td>\n      <td>0</td>\n      <td>0</td>\n      <td>0</td>\n      <td>1</td>\n      <td>0</td>\n      <td>0</td>\n      <td>0</td>\n      <td>0</td>\n    </tr>\n    <tr>\n      <th>421078</th>\n      <td>36381756.0</td>\n      <td>39013193.0</td>\n      <td>8000.0</td>\n      <td>8000.0</td>\n      <td>8000.0</td>\n      <td>8.19</td>\n      <td>251.40</td>\n      <td>50000.0</td>\n      <td>17.62</td>\n      <td>0.0</td>\n      <td>...</td>\n      <td>0</td>\n      <td>0</td>\n      <td>0</td>\n      <td>0</td>\n      <td>0</td>\n      <td>1</td>\n      <td>0</td>\n      <td>0</td>\n      <td>0</td>\n      <td>0</td>\n    </tr>\n    <tr>\n      <th>421079</th>\n      <td>36231724.0</td>\n      <td>38943173.0</td>\n      <td>12000.0</td>\n      <td>12000.0</td>\n      <td>12000.0</td>\n      <td>9.49</td>\n      <td>384.34</td>\n      <td>40000.0</td>\n      <td>25.65</td>\n      <td>1.0</td>\n      <td>...</td>\n      <td>0</td>\n      <td>0</td>\n      <td>1</td>\n      <td>0</td>\n      <td>0</td>\n      <td>1</td>\n      <td>0</td>\n      <td>0</td>\n      <td>0</td>\n      <td>0</td>\n    </tr>\n    <tr>\n      <th>421080</th>\n      <td>36301729.0</td>\n      <td>39023153.0</td>\n      <td>10000.0</td>\n      <td>10000.0</td>\n      <td>10000.0</td>\n      <td>6.49</td>\n      <td>306.45</td>\n      <td>75000.0</td>\n      <td>33.66</td>\n      <td>0.0</td>\n      <td>...</td>\n      <td>0</td>\n      <td>0</td>\n      <td>0</td>\n      <td>0</td>\n      <td>0</td>\n      <td>1</td>\n      <td>0</td>\n      <td>0</td>\n      <td>0</td>\n      <td>0</td>\n    </tr>\n    <tr>\n      <th>421081</th>\n      <td>36250208.0</td>\n      <td>38961532.0</td>\n      <td>13150.0</td>\n      <td>13150.0</td>\n      <td>13150.0</td>\n      <td>14.99</td>\n      <td>312.77</td>\n      <td>30000.0</td>\n      <td>1.00</td>\n      <td>0.0</td>\n      <td>...</td>\n      <td>0</td>\n      <td>0</td>\n      <td>0</td>\n      <td>0</td>\n      <td>0</td>\n      <td>1</td>\n      <td>0</td>\n      <td>0</td>\n      <td>0</td>\n      <td>0</td>\n    </tr>\n    <tr>\n      <th>421082</th>\n      <td>36241316.0</td>\n      <td>38952731.0</td>\n      <td>6225.0</td>\n      <td>6225.0</td>\n      <td>6225.0</td>\n      <td>16.49</td>\n      <td>220.37</td>\n      <td>27000.0</td>\n      <td>18.58</td>\n      <td>0.0</td>\n      <td>...</td>\n      <td>0</td>\n      <td>0</td>\n      <td>0</td>\n      <td>0</td>\n      <td>0</td>\n      <td>1</td>\n      <td>0</td>\n      <td>0</td>\n      <td>0</td>\n      <td>0</td>\n    </tr>\n    <tr>\n      <th>421083</th>\n      <td>36231718.0</td>\n      <td>38943165.0</td>\n      <td>10775.0</td>\n      <td>10775.0</td>\n      <td>10775.0</td>\n      <td>6.03</td>\n      <td>327.95</td>\n      <td>54000.0</td>\n      <td>13.22</td>\n      <td>1.0</td>\n      <td>...</td>\n      <td>0</td>\n      <td>0</td>\n      <td>0</td>\n      <td>0</td>\n      <td>0</td>\n      <td>1</td>\n      <td>0</td>\n      <td>0</td>\n      <td>0</td>\n      <td>0</td>\n    </tr>\n    <tr>\n      <th>421084</th>\n      <td>36381704.0</td>\n      <td>39013139.0</td>\n      <td>7000.0</td>\n      <td>7000.0</td>\n      <td>7000.0</td>\n      <td>14.31</td>\n      <td>240.30</td>\n      <td>57000.0</td>\n      <td>16.80</td>\n      <td>2.0</td>\n      <td>...</td>\n      <td>0</td>\n      <td>0</td>\n      <td>0</td>\n      <td>0</td>\n      <td>0</td>\n      <td>1</td>\n      <td>0</td>\n      <td>0</td>\n      <td>0</td>\n      <td>0</td>\n    </tr>\n    <tr>\n      <th>421085</th>\n      <td>36421485.0</td>\n      <td>39142898.0</td>\n      <td>4000.0</td>\n      <td>4000.0</td>\n      <td>4000.0</td>\n      <td>8.67</td>\n      <td>126.59</td>\n      <td>50000.0</td>\n      <td>12.63</td>\n      <td>0.0</td>\n      <td>...</td>\n      <td>0</td>\n      <td>0</td>\n      <td>1</td>\n      <td>0</td>\n      <td>0</td>\n      <td>1</td>\n      <td>0</td>\n      <td>0</td>\n      <td>0</td>\n      <td>0</td>\n    </tr>\n    <tr>\n      <th>421086</th>\n      <td>35094480.0</td>\n      <td>37777829.0</td>\n      <td>7500.0</td>\n      <td>7500.0</td>\n      <td>7500.0</td>\n      <td>9.49</td>\n      <td>240.22</td>\n      <td>40000.0</td>\n      <td>25.63</td>\n      <td>0.0</td>\n      <td>...</td>\n      <td>0</td>\n      <td>0</td>\n      <td>0</td>\n      <td>0</td>\n      <td>0</td>\n      <td>1</td>\n      <td>0</td>\n      <td>0</td>\n      <td>0</td>\n      <td>0</td>\n    </tr>\n    <tr>\n      <th>421087</th>\n      <td>36260758.0</td>\n      <td>38972123.0</td>\n      <td>10850.0</td>\n      <td>10850.0</td>\n      <td>10850.0</td>\n      <td>19.24</td>\n      <td>399.04</td>\n      <td>32000.0</td>\n      <td>29.44</td>\n      <td>0.0</td>\n      <td>...</td>\n      <td>0</td>\n      <td>0</td>\n      <td>1</td>\n      <td>0</td>\n      <td>0</td>\n      <td>1</td>\n      <td>0</td>\n      <td>0</td>\n      <td>0</td>\n      <td>0</td>\n    </tr>\n    <tr>\n      <th>421088</th>\n      <td>36221446.0</td>\n      <td>38932858.0</td>\n      <td>11575.0</td>\n      <td>11575.0</td>\n      <td>11575.0</td>\n      <td>15.59</td>\n      <td>404.61</td>\n      <td>25400.0</td>\n      <td>27.08</td>\n      <td>0.0</td>\n      <td>...</td>\n      <td>1</td>\n      <td>0</td>\n      <td>0</td>\n      <td>0</td>\n      <td>0</td>\n      <td>1</td>\n      <td>0</td>\n      <td>0</td>\n      <td>0</td>\n      <td>0</td>\n    </tr>\n    <tr>\n      <th>421089</th>\n      <td>36330911.0</td>\n      <td>39042282.0</td>\n      <td>12000.0</td>\n      <td>12000.0</td>\n      <td>12000.0</td>\n      <td>11.99</td>\n      <td>398.52</td>\n      <td>63000.0</td>\n      <td>23.69</td>\n      <td>1.0</td>\n      <td>...</td>\n      <td>0</td>\n      <td>0</td>\n      <td>0</td>\n      <td>0</td>\n      <td>0</td>\n      <td>1</td>\n      <td>0</td>\n      <td>0</td>\n      <td>0</td>\n      <td>0</td>\n    </tr>\n    <tr>\n      <th>421090</th>\n      <td>36371250.0</td>\n      <td>39102635.0</td>\n      <td>10000.0</td>\n      <td>10000.0</td>\n      <td>10000.0</td>\n      <td>11.99</td>\n      <td>332.10</td>\n      <td>31000.0</td>\n      <td>28.69</td>\n      <td>0.0</td>\n      <td>...</td>\n      <td>0</td>\n      <td>0</td>\n      <td>0</td>\n      <td>0</td>\n      <td>0</td>\n      <td>1</td>\n      <td>0</td>\n      <td>0</td>\n      <td>0</td>\n      <td>0</td>\n    </tr>\n    <tr>\n      <th>421091</th>\n      <td>36441262.0</td>\n      <td>39152692.0</td>\n      <td>24000.0</td>\n      <td>24000.0</td>\n      <td>24000.0</td>\n      <td>11.99</td>\n      <td>797.03</td>\n      <td>79000.0</td>\n      <td>3.90</td>\n      <td>0.0</td>\n      <td>...</td>\n      <td>0</td>\n      <td>0</td>\n      <td>0</td>\n      <td>0</td>\n      <td>0</td>\n      <td>1</td>\n      <td>0</td>\n      <td>0</td>\n      <td>0</td>\n      <td>0</td>\n    </tr>\n    <tr>\n      <th>421092</th>\n      <td>36271333.0</td>\n      <td>38982739.0</td>\n      <td>13000.0</td>\n      <td>13000.0</td>\n      <td>13000.0</td>\n      <td>15.99</td>\n      <td>316.07</td>\n      <td>35000.0</td>\n      <td>30.90</td>\n      <td>0.0</td>\n      <td>...</td>\n      <td>0</td>\n      <td>0</td>\n      <td>0</td>\n      <td>0</td>\n      <td>0</td>\n      <td>1</td>\n      <td>0</td>\n      <td>0</td>\n      <td>0</td>\n      <td>0</td>\n    </tr>\n    <tr>\n      <th>421093</th>\n      <td>36490806.0</td>\n      <td>39222577.0</td>\n      <td>12000.0</td>\n      <td>12000.0</td>\n      <td>12000.0</td>\n      <td>19.99</td>\n      <td>317.86</td>\n      <td>64400.0</td>\n      <td>27.19</td>\n      <td>1.0</td>\n      <td>...</td>\n      <td>0</td>\n      <td>0</td>\n      <td>1</td>\n      <td>0</td>\n      <td>0</td>\n      <td>1</td>\n      <td>0</td>\n      <td>0</td>\n      <td>0</td>\n      <td>0</td>\n    </tr>\n    <tr>\n      <th>421094</th>\n      <td>36271262.0</td>\n      <td>38982659.0</td>\n      <td>20000.0</td>\n      <td>20000.0</td>\n      <td>20000.0</td>\n      <td>11.99</td>\n      <td>664.20</td>\n      <td>100000.0</td>\n      <td>10.83</td>\n      <td>0.0</td>\n      <td>...</td>\n      <td>0</td>\n      <td>0</td>\n      <td>0</td>\n      <td>0</td>\n      <td>0</td>\n      <td>1</td>\n      <td>0</td>\n      <td>0</td>\n      <td>0</td>\n      <td>0</td>\n    </tr>\n  </tbody>\n</table>\n<p>421095 rows × 237 columns</p>\n</div>",
        "text/plain": "                id   member_id  loan_amnt  funded_amnt  funded_amnt_inv  \\\n0       68009401.0  72868139.0    16000.0      16000.0          16000.0   \n1       68354783.0  73244544.0     9600.0       9600.0           9600.0   \n2       68466916.0  73356753.0    25000.0      25000.0          25000.0   \n3       68466961.0  73356799.0    28000.0      28000.0          28000.0   \n4       68495092.0  73384866.0     8650.0       8650.0           8650.0   \n5       68506798.0  73396623.0    23000.0      23000.0          23000.0   \n6       68566886.0  73456723.0    29900.0      29900.0          29900.0   \n7       68577849.0  73467703.0    18000.0      18000.0          18000.0   \n8       66310712.0  71035433.0    35000.0      35000.0          35000.0   \n9       68476807.0  73366655.0    10400.0      10400.0          10400.0   \n10      68341763.0  72928789.0    20000.0      20000.0          20000.0   \n11      68356421.0  73246236.0    22400.0      22400.0          22400.0   \n12      68426545.0  73316365.0    16000.0      16000.0          16000.0   \n13      68407277.0  73297111.0     3600.0       3600.0           3600.0   \n14      68355089.0  73244858.0    24700.0      24700.0          24700.0   \n15      68466926.0  73356763.0    10000.0      10000.0          10000.0   \n16      68338832.0  73542831.0     1400.0       1400.0           1400.0   \n17      68426831.0  73316657.0    11950.0      11950.0          11950.0   \n18      66624733.0  71350547.0    18000.0      18000.0          18000.0   \n19      68616873.0  73519699.0     8000.0       8000.0           8000.0   \n20      67275481.0  72077199.0    20000.0      20000.0          20000.0   \n21      68476668.0  73366513.0    20000.0      20000.0          20000.0   \n22      68476702.0  73366548.0    28000.0      28000.0          28000.0   \n23      68436666.0  73326493.0     5000.0       5000.0           5000.0   \n24      68596180.0  73485987.0    20000.0      20000.0          20000.0   \n25      67849662.0  72708407.0     4225.0       4225.0           4225.0   \n26      68526883.0  73416719.0    15000.0      15000.0          15000.0   \n27      68607141.0  73509983.0    17600.0      17600.0          17600.0   \n28      68476715.0  73366561.0     6000.0       6000.0           6000.0   \n29      67715283.0  72569997.0    16000.0      16000.0          16000.0   \n...            ...         ...        ...          ...              ...   \n421065  36631385.0  39374138.0    13000.0      13000.0          13000.0   \n421066  36231083.0  38942474.0    15000.0      15000.0          15000.0   \n421067  36691397.0  39434133.0    20000.0      20000.0          20000.0   \n421068  36743377.0  39486112.0     4200.0       4200.0           4200.0   \n421069  36331554.0  39042967.0    26950.0      26950.0          26950.0   \n421070  36460697.0  39182359.0    23000.0      23000.0          23000.0   \n421071  35773415.0  38468842.0    18700.0      18700.0          18700.0   \n421072  36250801.0  38962184.0     6000.0       6000.0           6000.0   \n421073  36371802.0  39103231.0    15000.0      15000.0          15000.0   \n421074  36440728.0  39152101.0    25000.0      25000.0          25000.0   \n421075  36361815.0  39093260.0    26500.0      26500.0          26500.0   \n421076  35591131.0  38288343.0    25000.0      25000.0          25000.0   \n421077  36201871.0  38913321.0    21000.0      21000.0          21000.0   \n421078  36381756.0  39013193.0     8000.0       8000.0           8000.0   \n421079  36231724.0  38943173.0    12000.0      12000.0          12000.0   \n421080  36301729.0  39023153.0    10000.0      10000.0          10000.0   \n421081  36250208.0  38961532.0    13150.0      13150.0          13150.0   \n421082  36241316.0  38952731.0     6225.0       6225.0           6225.0   \n421083  36231718.0  38943165.0    10775.0      10775.0          10775.0   \n421084  36381704.0  39013139.0     7000.0       7000.0           7000.0   \n421085  36421485.0  39142898.0     4000.0       4000.0           4000.0   \n421086  35094480.0  37777829.0     7500.0       7500.0           7500.0   \n421087  36260758.0  38972123.0    10850.0      10850.0          10850.0   \n421088  36221446.0  38932858.0    11575.0      11575.0          11575.0   \n421089  36330911.0  39042282.0    12000.0      12000.0          12000.0   \n421090  36371250.0  39102635.0    10000.0      10000.0          10000.0   \n421091  36441262.0  39152692.0    24000.0      24000.0          24000.0   \n421092  36271333.0  38982739.0    13000.0      13000.0          13000.0   \n421093  36490806.0  39222577.0    12000.0      12000.0          12000.0   \n421094  36271262.0  38982659.0    20000.0      20000.0          20000.0   \n\n        int_rate  installment  annual_inc    dti  delinq_2yrs  ...  \\\n0          14.85       379.39     48000.0  33.18          0.0  ...   \n1           7.49       298.58     60000.0  22.44          0.0  ...   \n2           7.49       777.55    109000.0  26.02          0.0  ...   \n3           6.49       858.05     92000.0  21.60          0.0  ...   \n4          19.89       320.99     55000.0  25.49          0.0  ...   \n5           8.49       471.77     64000.0  18.28          0.0  ...   \n6          12.88       678.49     65000.0  21.77          0.0  ...   \n7          11.99       400.31    112000.0   8.68          0.0  ...   \n8          14.85       829.90    110000.0  17.06          0.0  ...   \n9          22.45       289.91    104433.0  25.37          1.0  ...   \n10         10.78       432.66     63000.0  10.78          0.0  ...   \n11         12.88       508.30     95000.0  22.98          0.0  ...   \n12         12.88       363.07     70000.0  26.40          0.0  ...   \n13         13.99       123.03     55000.0   5.91          0.0  ...   \n14         11.99       820.28     65000.0  16.06          1.0  ...   \n15          6.49       306.45     85000.0  13.07          0.0  ...   \n16         12.88        47.10     64000.0  34.95          0.0  ...   \n17         13.44       405.18     34000.0  10.20          0.0  ...   \n18         19.48       471.70    150000.0   9.39          0.0  ...   \n19         11.48       263.74     42000.0  34.80          0.0  ...   \n20          8.49       631.26     85000.0  17.61          1.0  ...   \n21          9.17       637.58    180000.0  14.67          0.0  ...   \n22         13.44       949.38    125000.0   7.49          0.0  ...   \n23         13.44       169.54     79000.0  12.70          0.0  ...   \n24          5.32       602.30     65000.0  18.83          0.0  ...   \n25         14.85       146.16     35000.0  15.22          2.0  ...   \n26          5.32       451.73     44000.0  15.34          0.0  ...   \n27          5.32       530.03     88000.0  26.59          0.0  ...   \n28          7.49       186.61    100000.0  13.28          1.0  ...   \n29         12.88       538.18     65000.0  18.96          0.0  ...   \n...          ...          ...         ...    ...          ...  ...   \n421065      8.19       408.52     85000.0   8.05          1.0  ...   \n421066     11.99       498.15     70000.0   8.47          0.0  ...   \n421067      6.99       617.46     72000.0  27.24          0.0  ...   \n421068     15.99       147.64     48000.0  36.93          0.0  ...   \n421069      8.19       846.88     54000.0  18.11          0.0  ...   \n421070     15.59       554.32     50000.0  31.95          0.0  ...   \n421071     17.86       473.44     52000.0  11.28          0.0  ...   \n421072     17.86       216.50     90000.0   2.84          0.0  ...   \n421073     11.44       329.44     57000.0  15.77          0.0  ...   \n421074     15.99       607.82    103000.0   5.27          0.0  ...   \n421075      8.67       545.87     92000.0  29.60          1.0  ...   \n421076     15.59       602.52     55000.0   5.52          0.0  ...   \n421077      6.03       639.15     65000.0  17.09          0.0  ...   \n421078      8.19       251.40     50000.0  17.62          0.0  ...   \n421079      9.49       384.34     40000.0  25.65          1.0  ...   \n421080      6.49       306.45     75000.0  33.66          0.0  ...   \n421081     14.99       312.77     30000.0   1.00          0.0  ...   \n421082     16.49       220.37     27000.0  18.58          0.0  ...   \n421083      6.03       327.95     54000.0  13.22          1.0  ...   \n421084     14.31       240.30     57000.0  16.80          2.0  ...   \n421085      8.67       126.59     50000.0  12.63          0.0  ...   \n421086      9.49       240.22     40000.0  25.63          0.0  ...   \n421087     19.24       399.04     32000.0  29.44          0.0  ...   \n421088     15.59       404.61     25400.0  27.08          0.0  ...   \n421089     11.99       398.52     63000.0  23.69          1.0  ...   \n421090     11.99       332.10     31000.0  28.69          0.0  ...   \n421091     11.99       797.03     79000.0   3.90          0.0  ...   \n421092     15.99       316.07     35000.0  30.90          0.0  ...   \n421093     19.99       317.86     64400.0  27.19          1.0  ...   \n421094     11.99       664.20    100000.0  10.83          0.0  ...   \n\n        last_credit_pull_d_Nov-2016  last_credit_pull_d_Oct-2015  \\\n0                                 0                            0   \n1                                 0                            0   \n2                                 0                            0   \n3                                 0                            0   \n4                                 0                            0   \n5                                 0                            0   \n6                                 0                            0   \n7                                 0                            0   \n8                                 0                            0   \n9                                 0                            0   \n10                                0                            0   \n11                                0                            0   \n12                                0                            0   \n13                                0                            0   \n14                                0                            0   \n15                                0                            0   \n16                                0                            0   \n17                                0                            0   \n18                                0                            0   \n19                                0                            0   \n20                                0                            0   \n21                                1                            0   \n22                                0                            0   \n23                                0                            0   \n24                                0                            0   \n25                                0                            0   \n26                                0                            0   \n27                                1                            0   \n28                                0                            0   \n29                                0                            0   \n...                             ...                          ...   \n421065                            0                            0   \n421066                            0                            0   \n421067                            0                            0   \n421068                            0                            0   \n421069                            0                            0   \n421070                            0                            0   \n421071                            0                            0   \n421072                            0                            0   \n421073                            0                            0   \n421074                            0                            0   \n421075                            0                            0   \n421076                            0                            0   \n421077                            0                            0   \n421078                            0                            0   \n421079                            0                            0   \n421080                            0                            0   \n421081                            0                            0   \n421082                            0                            0   \n421083                            0                            0   \n421084                            0                            0   \n421085                            0                            0   \n421086                            0                            0   \n421087                            0                            0   \n421088                            1                            0   \n421089                            0                            0   \n421090                            0                            0   \n421091                            0                            0   \n421092                            0                            0   \n421093                            0                            0   \n421094                            0                            0   \n\n        last_credit_pull_d_Oct-2016  last_credit_pull_d_Sep-2015  \\\n0                                 0                            0   \n1                                 0                            0   \n2                                 0                            0   \n3                                 0                            0   \n4                                 0                            0   \n5                                 0                            0   \n6                                 0                            0   \n7                                 0                            0   \n8                                 0                            0   \n9                                 0                            0   \n10                                0                            0   \n11                                0                            0   \n12                                0                            0   \n13                                0                            0   \n14                                0                            0   \n15                                0                            0   \n16                                0                            0   \n17                                0                            0   \n18                                0                            0   \n19                                0                            0   \n20                                0                            0   \n21                                0                            0   \n22                                0                            0   \n23                                0                            0   \n24                                0                            0   \n25                                0                            0   \n26                                0                            0   \n27                                0                            0   \n28                                0                            0   \n29                                0                            0   \n...                             ...                          ...   \n421065                            0                            0   \n421066                            0                            0   \n421067                            0                            0   \n421068                            0                            0   \n421069                            0                            0   \n421070                            0                            0   \n421071                            0                            0   \n421072                            0                            0   \n421073                            0                            0   \n421074                            0                            0   \n421075                            0                            0   \n421076                            0                            0   \n421077                            0                            0   \n421078                            0                            0   \n421079                            1                            0   \n421080                            0                            0   \n421081                            0                            0   \n421082                            0                            0   \n421083                            0                            0   \n421084                            0                            0   \n421085                            1                            0   \n421086                            0                            0   \n421087                            1                            0   \n421088                            0                            0   \n421089                            0                            0   \n421090                            0                            0   \n421091                            0                            0   \n421092                            0                            0   \n421093                            1                            0   \n421094                            0                            0   \n\n        last_credit_pull_d_Sep-2016  application_type_INDIVIDUAL  \\\n0                                 0                            1   \n1                                 0                            1   \n2                                 0                            1   \n3                                 0                            1   \n4                                 0                            1   \n5                                 0                            1   \n6                                 0                            1   \n7                                 0                            1   \n8                                 0                            1   \n9                                 0                            1   \n10                                0                            0   \n11                                0                            1   \n12                                0                            1   \n13                                0                            1   \n14                                0                            1   \n15                                0                            1   \n16                                0                            1   \n17                                0                            1   \n18                                0                            1   \n19                                0                            1   \n20                                0                            1   \n21                                0                            1   \n22                                0                            1   \n23                                0                            1   \n24                                0                            1   \n25                                0                            1   \n26                                0                            1   \n27                                0                            1   \n28                                0                            1   \n29                                0                            1   \n...                             ...                          ...   \n421065                            0                            1   \n421066                            0                            1   \n421067                            0                            1   \n421068                            0                            1   \n421069                            0                            1   \n421070                            0                            1   \n421071                            0                            1   \n421072                            0                            1   \n421073                            0                            1   \n421074                            0                            1   \n421075                            0                            1   \n421076                            0                            1   \n421077                            0                            1   \n421078                            0                            1   \n421079                            0                            1   \n421080                            0                            1   \n421081                            0                            1   \n421082                            0                            1   \n421083                            0                            1   \n421084                            0                            1   \n421085                            0                            1   \n421086                            0                            1   \n421087                            0                            1   \n421088                            0                            1   \n421089                            0                            1   \n421090                            0                            1   \n421091                            0                            1   \n421092                            0                            1   \n421093                            0                            1   \n421094                            0                            1   \n\n        application_type_JOINT  verification_status_joint_Not Verified  \\\n0                            0                                       0   \n1                            0                                       0   \n2                            0                                       0   \n3                            0                                       0   \n4                            0                                       0   \n5                            0                                       0   \n6                            0                                       0   \n7                            0                                       0   \n8                            0                                       0   \n9                            0                                       0   \n10                           1                                       1   \n11                           0                                       0   \n12                           0                                       0   \n13                           0                                       0   \n14                           0                                       0   \n15                           0                                       0   \n16                           0                                       0   \n17                           0                                       0   \n18                           0                                       0   \n19                           0                                       0   \n20                           0                                       0   \n21                           0                                       0   \n22                           0                                       0   \n23                           0                                       0   \n24                           0                                       0   \n25                           0                                       0   \n26                           0                                       0   \n27                           0                                       0   \n28                           0                                       0   \n29                           0                                       0   \n...                        ...                                     ...   \n421065                       0                                       0   \n421066                       0                                       0   \n421067                       0                                       0   \n421068                       0                                       0   \n421069                       0                                       0   \n421070                       0                                       0   \n421071                       0                                       0   \n421072                       0                                       0   \n421073                       0                                       0   \n421074                       0                                       0   \n421075                       0                                       0   \n421076                       0                                       0   \n421077                       0                                       0   \n421078                       0                                       0   \n421079                       0                                       0   \n421080                       0                                       0   \n421081                       0                                       0   \n421082                       0                                       0   \n421083                       0                                       0   \n421084                       0                                       0   \n421085                       0                                       0   \n421086                       0                                       0   \n421087                       0                                       0   \n421088                       0                                       0   \n421089                       0                                       0   \n421090                       0                                       0   \n421091                       0                                       0   \n421092                       0                                       0   \n421093                       0                                       0   \n421094                       0                                       0   \n\n        verification_status_joint_Source Verified  \\\n0                                               0   \n1                                               0   \n2                                               0   \n3                                               0   \n4                                               0   \n5                                               0   \n6                                               0   \n7                                               0   \n8                                               0   \n9                                               0   \n10                                              0   \n11                                              0   \n12                                              0   \n13                                              0   \n14                                              0   \n15                                              0   \n16                                              0   \n17                                              0   \n18                                              0   \n19                                              0   \n20                                              0   \n21                                              0   \n22                                              0   \n23                                              0   \n24                                              0   \n25                                              0   \n26                                              0   \n27                                              0   \n28                                              0   \n29                                              0   \n...                                           ...   \n421065                                          0   \n421066                                          0   \n421067                                          0   \n421068                                          0   \n421069                                          0   \n421070                                          0   \n421071                                          0   \n421072                                          0   \n421073                                          0   \n421074                                          0   \n421075                                          0   \n421076                                          0   \n421077                                          0   \n421078                                          0   \n421079                                          0   \n421080                                          0   \n421081                                          0   \n421082                                          0   \n421083                                          0   \n421084                                          0   \n421085                                          0   \n421086                                          0   \n421087                                          0   \n421088                                          0   \n421089                                          0   \n421090                                          0   \n421091                                          0   \n421092                                          0   \n421093                                          0   \n421094                                          0   \n\n        verification_status_joint_Verified  \n0                                        0  \n1                                        0  \n2                                        0  \n3                                        0  \n4                                        0  \n5                                        0  \n6                                        0  \n7                                        0  \n8                                        0  \n9                                        0  \n10                                       0  \n11                                       0  \n12                                       0  \n13                                       0  \n14                                       0  \n15                                       0  \n16                                       0  \n17                                       0  \n18                                       0  \n19                                       0  \n20                                       0  \n21                                       0  \n22                                       0  \n23                                       0  \n24                                       0  \n25                                       0  \n26                                       0  \n27                                       0  \n28                                       0  \n29                                       0  \n...                                    ...  \n421065                                   0  \n421066                                   0  \n421067                                   0  \n421068                                   0  \n421069                                   0  \n421070                                   0  \n421071                                   0  \n421072                                   0  \n421073                                   0  \n421074                                   0  \n421075                                   0  \n421076                                   0  \n421077                                   0  \n421078                                   0  \n421079                                   0  \n421080                                   0  \n421081                                   0  \n421082                                   0  \n421083                                   0  \n421084                                   0  \n421085                                   0  \n421086                                   0  \n421087                                   0  \n421088                                   0  \n421089                                   0  \n421090                                   0  \n421091                                   0  \n421092                                   0  \n421093                                   0  \n421094                                   0  \n\n[421095 rows x 237 columns]"
       },
       "execution_count": 18,
       "metadata": {},
       "output_type": "execute_result"
      }
     ],
     "persistentId": "6f1ff233-ce94-44e5-859d-c76a439ea125",
     "text": "pd.get_dummies(loans)"
    },
    "executionTime": "2020-01-13T05:18:26.737Z"
   },
   {
    "cell": {
     "executionCount": 19,
     "executionEventId": "a96e03ff-bd01-4cd9-94db-17866a31cc2b",
     "hasError": false,
     "id": "3da9939a-49f9-48bf-a56e-ebb405c8b3cf",
     "outputs": [],
     "persistentId": "6f1ff233-ce94-44e5-859d-c76a439ea125",
     "text": "loans = pd.get_dummies(loans)"
    },
    "executionTime": "2020-01-13T05:19:40.006Z"
   },
   {
    "cell": {
     "executionCount": 20,
     "executionEventId": "e046a801-175d-4deb-9495-53037ee572c1",
     "hasError": true,
     "id": "b6c75852-3d08-46d0-949c-efd90e7814d1",
     "outputs": [
      {
       "ename": "KeyError",
       "evalue": "\"['loan_status'] not found in axis\"",
       "output_type": "error",
       "traceback": [
        "\u001b[0;31m---------------------------------------------------------------------------\u001b[0m",
        "\u001b[0;31mKeyError\u001b[0m                                  Traceback (most recent call last)",
        "\u001b[0;32m<ipython-input-20-33ae1453a476>\u001b[0m in \u001b[0;36m<module>\u001b[0;34m\u001b[0m\n\u001b[0;32m----> 1\u001b[0;31m \u001b[0mX\u001b[0m \u001b[0;34m=\u001b[0m \u001b[0mloans\u001b[0m\u001b[0;34m.\u001b[0m\u001b[0mdrop\u001b[0m\u001b[0;34m(\u001b[0m\u001b[0;34m'loan_status'\u001b[0m\u001b[0;34m,\u001b[0m \u001b[0;36m1\u001b[0m\u001b[0;34m)\u001b[0m\u001b[0;34m\u001b[0m\u001b[0;34m\u001b[0m\u001b[0m\n\u001b[0m\u001b[1;32m      2\u001b[0m \u001b[0my\u001b[0m \u001b[0;34m=\u001b[0m \u001b[0mloans\u001b[0m\u001b[0;34m[\u001b[0m\u001b[0;34m'loan_status'\u001b[0m\u001b[0;34m]\u001b[0m\u001b[0;34m\u001b[0m\u001b[0;34m\u001b[0m\u001b[0m\n",
        "\u001b[0;32m~/anaconda3/lib/python3.7/site-packages/pandas/core/frame.py\u001b[0m in \u001b[0;36mdrop\u001b[0;34m(self, labels, axis, index, columns, level, inplace, errors)\u001b[0m\n\u001b[1;32m   3938\u001b[0m                                            \u001b[0mindex\u001b[0m\u001b[0;34m=\u001b[0m\u001b[0mindex\u001b[0m\u001b[0;34m,\u001b[0m \u001b[0mcolumns\u001b[0m\u001b[0;34m=\u001b[0m\u001b[0mcolumns\u001b[0m\u001b[0;34m,\u001b[0m\u001b[0;34m\u001b[0m\u001b[0;34m\u001b[0m\u001b[0m\n\u001b[1;32m   3939\u001b[0m                                            \u001b[0mlevel\u001b[0m\u001b[0;34m=\u001b[0m\u001b[0mlevel\u001b[0m\u001b[0;34m,\u001b[0m \u001b[0minplace\u001b[0m\u001b[0;34m=\u001b[0m\u001b[0minplace\u001b[0m\u001b[0;34m,\u001b[0m\u001b[0;34m\u001b[0m\u001b[0;34m\u001b[0m\u001b[0m\n\u001b[0;32m-> 3940\u001b[0;31m                                            errors=errors)\n\u001b[0m\u001b[1;32m   3941\u001b[0m \u001b[0;34m\u001b[0m\u001b[0m\n\u001b[1;32m   3942\u001b[0m     @rewrite_axis_style_signature('mapper', [('copy', True),\n",
        "\u001b[0;32m~/anaconda3/lib/python3.7/site-packages/pandas/core/generic.py\u001b[0m in \u001b[0;36mdrop\u001b[0;34m(self, labels, axis, index, columns, level, inplace, errors)\u001b[0m\n\u001b[1;32m   3778\u001b[0m         \u001b[0;32mfor\u001b[0m \u001b[0maxis\u001b[0m\u001b[0;34m,\u001b[0m \u001b[0mlabels\u001b[0m \u001b[0;32min\u001b[0m \u001b[0maxes\u001b[0m\u001b[0;34m.\u001b[0m\u001b[0mitems\u001b[0m\u001b[0;34m(\u001b[0m\u001b[0;34m)\u001b[0m\u001b[0;34m:\u001b[0m\u001b[0;34m\u001b[0m\u001b[0;34m\u001b[0m\u001b[0m\n\u001b[1;32m   3779\u001b[0m             \u001b[0;32mif\u001b[0m \u001b[0mlabels\u001b[0m \u001b[0;32mis\u001b[0m \u001b[0;32mnot\u001b[0m \u001b[0;32mNone\u001b[0m\u001b[0;34m:\u001b[0m\u001b[0;34m\u001b[0m\u001b[0;34m\u001b[0m\u001b[0m\n\u001b[0;32m-> 3780\u001b[0;31m                 \u001b[0mobj\u001b[0m \u001b[0;34m=\u001b[0m \u001b[0mobj\u001b[0m\u001b[0;34m.\u001b[0m\u001b[0m_drop_axis\u001b[0m\u001b[0;34m(\u001b[0m\u001b[0mlabels\u001b[0m\u001b[0;34m,\u001b[0m \u001b[0maxis\u001b[0m\u001b[0;34m,\u001b[0m \u001b[0mlevel\u001b[0m\u001b[0;34m=\u001b[0m\u001b[0mlevel\u001b[0m\u001b[0;34m,\u001b[0m \u001b[0merrors\u001b[0m\u001b[0;34m=\u001b[0m\u001b[0merrors\u001b[0m\u001b[0;34m)\u001b[0m\u001b[0;34m\u001b[0m\u001b[0;34m\u001b[0m\u001b[0m\n\u001b[0m\u001b[1;32m   3781\u001b[0m \u001b[0;34m\u001b[0m\u001b[0m\n\u001b[1;32m   3782\u001b[0m         \u001b[0;32mif\u001b[0m \u001b[0minplace\u001b[0m\u001b[0;34m:\u001b[0m\u001b[0;34m\u001b[0m\u001b[0;34m\u001b[0m\u001b[0m\n",
        "\u001b[0;32m~/anaconda3/lib/python3.7/site-packages/pandas/core/generic.py\u001b[0m in \u001b[0;36m_drop_axis\u001b[0;34m(self, labels, axis, level, errors)\u001b[0m\n\u001b[1;32m   3810\u001b[0m                 \u001b[0mnew_axis\u001b[0m \u001b[0;34m=\u001b[0m \u001b[0maxis\u001b[0m\u001b[0;34m.\u001b[0m\u001b[0mdrop\u001b[0m\u001b[0;34m(\u001b[0m\u001b[0mlabels\u001b[0m\u001b[0;34m,\u001b[0m \u001b[0mlevel\u001b[0m\u001b[0;34m=\u001b[0m\u001b[0mlevel\u001b[0m\u001b[0;34m,\u001b[0m \u001b[0merrors\u001b[0m\u001b[0;34m=\u001b[0m\u001b[0merrors\u001b[0m\u001b[0;34m)\u001b[0m\u001b[0;34m\u001b[0m\u001b[0;34m\u001b[0m\u001b[0m\n\u001b[1;32m   3811\u001b[0m             \u001b[0;32melse\u001b[0m\u001b[0;34m:\u001b[0m\u001b[0;34m\u001b[0m\u001b[0;34m\u001b[0m\u001b[0m\n\u001b[0;32m-> 3812\u001b[0;31m                 \u001b[0mnew_axis\u001b[0m \u001b[0;34m=\u001b[0m \u001b[0maxis\u001b[0m\u001b[0;34m.\u001b[0m\u001b[0mdrop\u001b[0m\u001b[0;34m(\u001b[0m\u001b[0mlabels\u001b[0m\u001b[0;34m,\u001b[0m \u001b[0merrors\u001b[0m\u001b[0;34m=\u001b[0m\u001b[0merrors\u001b[0m\u001b[0;34m)\u001b[0m\u001b[0;34m\u001b[0m\u001b[0;34m\u001b[0m\u001b[0m\n\u001b[0m\u001b[1;32m   3813\u001b[0m             \u001b[0mresult\u001b[0m \u001b[0;34m=\u001b[0m \u001b[0mself\u001b[0m\u001b[0;34m.\u001b[0m\u001b[0mreindex\u001b[0m\u001b[0;34m(\u001b[0m\u001b[0;34m**\u001b[0m\u001b[0;34m{\u001b[0m\u001b[0maxis_name\u001b[0m\u001b[0;34m:\u001b[0m \u001b[0mnew_axis\u001b[0m\u001b[0;34m}\u001b[0m\u001b[0;34m)\u001b[0m\u001b[0;34m\u001b[0m\u001b[0;34m\u001b[0m\u001b[0m\n\u001b[1;32m   3814\u001b[0m \u001b[0;34m\u001b[0m\u001b[0m\n",
        "\u001b[0;32m~/anaconda3/lib/python3.7/site-packages/pandas/core/indexes/base.py\u001b[0m in \u001b[0;36mdrop\u001b[0;34m(self, labels, errors)\u001b[0m\n\u001b[1;32m   4963\u001b[0m             \u001b[0;32mif\u001b[0m \u001b[0merrors\u001b[0m \u001b[0;34m!=\u001b[0m \u001b[0;34m'ignore'\u001b[0m\u001b[0;34m:\u001b[0m\u001b[0;34m\u001b[0m\u001b[0;34m\u001b[0m\u001b[0m\n\u001b[1;32m   4964\u001b[0m                 raise KeyError(\n\u001b[0;32m-> 4965\u001b[0;31m                     '{} not found in axis'.format(labels[mask]))\n\u001b[0m\u001b[1;32m   4966\u001b[0m             \u001b[0mindexer\u001b[0m \u001b[0;34m=\u001b[0m \u001b[0mindexer\u001b[0m\u001b[0;34m[\u001b[0m\u001b[0;34m~\u001b[0m\u001b[0mmask\u001b[0m\u001b[0;34m]\u001b[0m\u001b[0;34m\u001b[0m\u001b[0;34m\u001b[0m\u001b[0m\n\u001b[1;32m   4967\u001b[0m         \u001b[0;32mreturn\u001b[0m \u001b[0mself\u001b[0m\u001b[0;34m.\u001b[0m\u001b[0mdelete\u001b[0m\u001b[0;34m(\u001b[0m\u001b[0mindexer\u001b[0m\u001b[0;34m)\u001b[0m\u001b[0;34m\u001b[0m\u001b[0;34m\u001b[0m\u001b[0m\n",
        "\u001b[0;31mKeyError\u001b[0m: \"['loan_status'] not found in axis\""
       ]
      }
     ],
     "persistentId": "ac269058-e82e-4737-b5a5-427d36d206fe",
     "text": "X = loans.drop('loan_status', 1)\ny = loans['loan_status']"
    },
    "executionTime": "2020-01-13T05:28:45.744Z"
   },
   {
    "cell": {
     "executionCount": 21,
     "executionEventId": "2a28df8b-4dc8-438b-a152-74fc2ab79369",
     "hasError": false,
     "id": "087d1d67-aec1-4c65-9310-ba063529c530",
     "outputs": [],
     "persistentId": "47827e5d-9598-4b20-88c8-d5f63cfe04b4",
     "text": "# import libraries\nimport pandas as pd\nimport numpy as np\nimport matplotlib.pyplot as plt\nfrom sklearn import ensemble\nfrom sklearn.model_selection import cross_val_score\n\n%matplotlib inline"
    },
    "executionTime": "2020-01-13T05:28:52.898Z"
   },
   {
    "cell": {
     "executionCount": 22,
     "executionEventId": "c173d63d-1c9a-473c-bf1c-b8ba83643915",
     "hasError": false,
     "id": "4b387283-d2d1-4abf-98c7-2cb0238c4f1a",
     "outputs": [
      {
       "data": {
        "text/html": "<div>\n<style scoped>\n    .dataframe tbody tr th:only-of-type {\n        vertical-align: middle;\n    }\n\n    .dataframe tbody tr th {\n        vertical-align: top;\n    }\n\n    .dataframe thead th {\n        text-align: right;\n    }\n</style>\n<table border=\"1\" class=\"dataframe\">\n  <thead>\n    <tr style=\"text-align: right;\">\n      <th></th>\n      <th>id</th>\n      <th>member_id</th>\n      <th>loan_amnt</th>\n      <th>funded_amnt</th>\n      <th>funded_amnt_inv</th>\n      <th>term</th>\n      <th>int_rate</th>\n      <th>installment</th>\n      <th>grade</th>\n      <th>sub_grade</th>\n      <th>...</th>\n      <th>num_tl_90g_dpd_24m</th>\n      <th>num_tl_op_past_12m</th>\n      <th>pct_tl_nvr_dlq</th>\n      <th>percent_bc_gt_75</th>\n      <th>pub_rec_bankruptcies</th>\n      <th>tax_liens</th>\n      <th>tot_hi_cred_lim</th>\n      <th>total_bal_ex_mort</th>\n      <th>total_bc_limit</th>\n      <th>total_il_high_credit_limit</th>\n    </tr>\n  </thead>\n  <tbody>\n    <tr>\n      <th>0</th>\n      <td>68009401</td>\n      <td>72868139.0</td>\n      <td>16000.0</td>\n      <td>16000.0</td>\n      <td>16000.0</td>\n      <td>60 months</td>\n      <td>14.85%</td>\n      <td>379.39</td>\n      <td>C</td>\n      <td>C5</td>\n      <td>...</td>\n      <td>0.0</td>\n      <td>2.0</td>\n      <td>78.9</td>\n      <td>0.0</td>\n      <td>0.0</td>\n      <td>2.0</td>\n      <td>298100.0</td>\n      <td>31329.0</td>\n      <td>281300.0</td>\n      <td>13400.0</td>\n    </tr>\n    <tr>\n      <th>1</th>\n      <td>68354783</td>\n      <td>73244544.0</td>\n      <td>9600.0</td>\n      <td>9600.0</td>\n      <td>9600.0</td>\n      <td>36 months</td>\n      <td>7.49%</td>\n      <td>298.58</td>\n      <td>A</td>\n      <td>A4</td>\n      <td>...</td>\n      <td>0.0</td>\n      <td>2.0</td>\n      <td>100.0</td>\n      <td>66.7</td>\n      <td>0.0</td>\n      <td>0.0</td>\n      <td>88635.0</td>\n      <td>55387.0</td>\n      <td>12500.0</td>\n      <td>75635.0</td>\n    </tr>\n    <tr>\n      <th>2</th>\n      <td>68466916</td>\n      <td>73356753.0</td>\n      <td>25000.0</td>\n      <td>25000.0</td>\n      <td>25000.0</td>\n      <td>36 months</td>\n      <td>7.49%</td>\n      <td>777.55</td>\n      <td>A</td>\n      <td>A4</td>\n      <td>...</td>\n      <td>0.0</td>\n      <td>0.0</td>\n      <td>100.0</td>\n      <td>20.0</td>\n      <td>0.0</td>\n      <td>0.0</td>\n      <td>373572.0</td>\n      <td>68056.0</td>\n      <td>38400.0</td>\n      <td>82117.0</td>\n    </tr>\n    <tr>\n      <th>3</th>\n      <td>68466961</td>\n      <td>73356799.0</td>\n      <td>28000.0</td>\n      <td>28000.0</td>\n      <td>28000.0</td>\n      <td>36 months</td>\n      <td>6.49%</td>\n      <td>858.05</td>\n      <td>A</td>\n      <td>A2</td>\n      <td>...</td>\n      <td>0.0</td>\n      <td>0.0</td>\n      <td>91.7</td>\n      <td>22.2</td>\n      <td>0.0</td>\n      <td>0.0</td>\n      <td>304003.0</td>\n      <td>74920.0</td>\n      <td>41500.0</td>\n      <td>42503.0</td>\n    </tr>\n    <tr>\n      <th>4</th>\n      <td>68495092</td>\n      <td>73384866.0</td>\n      <td>8650.0</td>\n      <td>8650.0</td>\n      <td>8650.0</td>\n      <td>36 months</td>\n      <td>19.89%</td>\n      <td>320.99</td>\n      <td>E</td>\n      <td>E3</td>\n      <td>...</td>\n      <td>0.0</td>\n      <td>12.0</td>\n      <td>100.0</td>\n      <td>50.0</td>\n      <td>1.0</td>\n      <td>0.0</td>\n      <td>38998.0</td>\n      <td>18926.0</td>\n      <td>2750.0</td>\n      <td>18248.0</td>\n    </tr>\n  </tbody>\n</table>\n<p>5 rows × 111 columns</p>\n</div>",
        "text/plain": "         id   member_id  loan_amnt  funded_amnt  funded_amnt_inv        term  \\\n0  68009401  72868139.0    16000.0      16000.0          16000.0   60 months   \n1  68354783  73244544.0     9600.0       9600.0           9600.0   36 months   \n2  68466916  73356753.0    25000.0      25000.0          25000.0   36 months   \n3  68466961  73356799.0    28000.0      28000.0          28000.0   36 months   \n4  68495092  73384866.0     8650.0       8650.0           8650.0   36 months   \n\n  int_rate  installment grade sub_grade  ... num_tl_90g_dpd_24m  \\\n0   14.85%       379.39     C        C5  ...                0.0   \n1    7.49%       298.58     A        A4  ...                0.0   \n2    7.49%       777.55     A        A4  ...                0.0   \n3    6.49%       858.05     A        A2  ...                0.0   \n4   19.89%       320.99     E        E3  ...                0.0   \n\n  num_tl_op_past_12m pct_tl_nvr_dlq  percent_bc_gt_75 pub_rec_bankruptcies  \\\n0                2.0           78.9               0.0                  0.0   \n1                2.0          100.0              66.7                  0.0   \n2                0.0          100.0              20.0                  0.0   \n3                0.0           91.7              22.2                  0.0   \n4               12.0          100.0              50.0                  1.0   \n\n  tax_liens tot_hi_cred_lim total_bal_ex_mort total_bc_limit  \\\n0       2.0        298100.0           31329.0       281300.0   \n1       0.0         88635.0           55387.0        12500.0   \n2       0.0        373572.0           68056.0        38400.0   \n3       0.0        304003.0           74920.0        41500.0   \n4       0.0         38998.0           18926.0         2750.0   \n\n  total_il_high_credit_limit  \n0                    13400.0  \n1                    75635.0  \n2                    82117.0  \n3                    42503.0  \n4                    18248.0  \n\n[5 rows x 111 columns]"
       },
       "execution_count": 22,
       "metadata": {},
       "output_type": "execute_result"
      }
     ],
     "persistentId": "0ff2576a-01f5-4050-a162-f50f1dadb654",
     "text": "# read data from file\nraw = pd.read_csv(\"LoanStats3d.csv\", skipinitialspace=True, header=1)\n\n# show first 5 rows\nraw.head()"
    },
    "executionTime": "2020-01-13T05:29:01.354Z"
   },
   {
    "cell": {
     "executionCount": 23,
     "executionEventId": "d59cfbea-f128-480a-a70d-97bf64412f94",
     "hasError": false,
     "id": "2c8ad38f-dc24-422d-bc25-58618650d28e",
     "outputs": [
      {
       "name": "stdout",
       "output_type": "stream",
       "text": "id: 421097\nterm: 2\nint_rate: 110\ngrade: 7\nsub_grade: 35\nemp_title: 120812\nemp_length: 11\nhome_ownership: 4\nverification_status: 3\nissue_d: 12\nloan_status: 7\npymnt_plan: 1\nurl: 421095\ndesc: 34\npurpose: 14\ntitle: 27\nzip_code: 914\naddr_state: 49\nearliest_cr_line: 668\nrevol_util: 1211\ninitial_list_status: 2\nlast_pymnt_d: 25\nnext_pymnt_d: 4\nlast_credit_pull_d: 26\napplication_type: 2\nverification_status_joint: 3\n"
      }
     ],
     "persistentId": "5b2f0e29-b19e-4b09-a92b-aa4ad1a3d6ce",
     "text": "# number of unique values in each column\ncategorical = raw.select_dtypes(include=['object'])\nfor col in categorical.columns:\n    print(\"{}: {}\".format(col, categorical[col].nunique()))"
    },
    "executionTime": "2020-01-13T05:29:07.487Z"
   },
   {
    "cell": {
     "executionCount": 24,
     "executionEventId": "44b589ec-6d8d-465c-98fd-5c8f47b72c7e",
     "hasError": false,
     "id": "8b44dda3-0965-4d6d-8ead-a544a81537c6",
     "outputs": [],
     "persistentId": "7cf6bb84-5b95-4d11-ada9-a353bb090802",
     "text": "# create a copy of the original data\nloans = raw.copy()\n\n# convert ID and interest rate to numeric.\nloans['id'] = pd.to_numeric(loans['id'], errors='coerce')\nloans['int_rate'] = pd.to_numeric(loans['int_rate'].str.strip('%'), errors='coerce')\n\n# drop columns with too many unique values\nloans.drop(['url', 'emp_title', 'zip_code', 'earliest_cr_line', 'revol_util',\n            'sub_grade', 'addr_state', 'desc'], 1, inplace=True)"
    },
    "executionTime": "2020-01-13T05:29:10.797Z"
   },
   {
    "cell": {
     "executionCount": 25,
     "executionEventId": "d7bb3e1c-a793-48b1-9c07-089f675d20cd",
     "hasError": false,
     "id": "baefa0f7-32a1-438c-aa48-793ebea67d67",
     "outputs": [],
     "persistentId": "fe0fe1d8-47dc-4b67-966d-e861dab860a1",
     "text": "loans.dropna(how='all', inplace=True)"
    },
    "executionTime": "2020-01-13T05:29:12.303Z"
   },
   {
    "cell": {
     "executionCount": 26,
     "executionEventId": "19305ce7-06f3-4cd4-9296-70853de04e4f",
     "hasError": false,
     "id": "9cc4b462-64ff-4188-80f2-c421645dc022",
     "outputs": [
      {
       "data": {
        "text/html": "<div>\n<style scoped>\n    .dataframe tbody tr th:only-of-type {\n        vertical-align: middle;\n    }\n\n    .dataframe tbody tr th {\n        vertical-align: top;\n    }\n\n    .dataframe thead th {\n        text-align: right;\n    }\n</style>\n<table border=\"1\" class=\"dataframe\">\n  <thead>\n    <tr style=\"text-align: right;\">\n      <th></th>\n      <th>id</th>\n      <th>member_id</th>\n      <th>loan_amnt</th>\n      <th>funded_amnt</th>\n      <th>funded_amnt_inv</th>\n      <th>term</th>\n      <th>int_rate</th>\n      <th>installment</th>\n      <th>grade</th>\n      <th>emp_length</th>\n      <th>...</th>\n      <th>num_tl_90g_dpd_24m</th>\n      <th>num_tl_op_past_12m</th>\n      <th>pct_tl_nvr_dlq</th>\n      <th>percent_bc_gt_75</th>\n      <th>pub_rec_bankruptcies</th>\n      <th>tax_liens</th>\n      <th>tot_hi_cred_lim</th>\n      <th>total_bal_ex_mort</th>\n      <th>total_bc_limit</th>\n      <th>total_il_high_credit_limit</th>\n    </tr>\n  </thead>\n  <tbody>\n    <tr>\n      <th>0</th>\n      <td>68009401.0</td>\n      <td>72868139.0</td>\n      <td>16000.0</td>\n      <td>16000.0</td>\n      <td>16000.0</td>\n      <td>60 months</td>\n      <td>14.85</td>\n      <td>379.39</td>\n      <td>C</td>\n      <td>10+ years</td>\n      <td>...</td>\n      <td>0.0</td>\n      <td>2.0</td>\n      <td>78.9</td>\n      <td>0.0</td>\n      <td>0.0</td>\n      <td>2.0</td>\n      <td>298100.0</td>\n      <td>31329.0</td>\n      <td>281300.0</td>\n      <td>13400.0</td>\n    </tr>\n    <tr>\n      <th>1</th>\n      <td>68354783.0</td>\n      <td>73244544.0</td>\n      <td>9600.0</td>\n      <td>9600.0</td>\n      <td>9600.0</td>\n      <td>36 months</td>\n      <td>7.49</td>\n      <td>298.58</td>\n      <td>A</td>\n      <td>8 years</td>\n      <td>...</td>\n      <td>0.0</td>\n      <td>2.0</td>\n      <td>100.0</td>\n      <td>66.7</td>\n      <td>0.0</td>\n      <td>0.0</td>\n      <td>88635.0</td>\n      <td>55387.0</td>\n      <td>12500.0</td>\n      <td>75635.0</td>\n    </tr>\n    <tr>\n      <th>2</th>\n      <td>68466916.0</td>\n      <td>73356753.0</td>\n      <td>25000.0</td>\n      <td>25000.0</td>\n      <td>25000.0</td>\n      <td>36 months</td>\n      <td>7.49</td>\n      <td>777.55</td>\n      <td>A</td>\n      <td>10+ years</td>\n      <td>...</td>\n      <td>0.0</td>\n      <td>0.0</td>\n      <td>100.0</td>\n      <td>20.0</td>\n      <td>0.0</td>\n      <td>0.0</td>\n      <td>373572.0</td>\n      <td>68056.0</td>\n      <td>38400.0</td>\n      <td>82117.0</td>\n    </tr>\n    <tr>\n      <th>3</th>\n      <td>68466961.0</td>\n      <td>73356799.0</td>\n      <td>28000.0</td>\n      <td>28000.0</td>\n      <td>28000.0</td>\n      <td>36 months</td>\n      <td>6.49</td>\n      <td>858.05</td>\n      <td>A</td>\n      <td>10+ years</td>\n      <td>...</td>\n      <td>0.0</td>\n      <td>0.0</td>\n      <td>91.7</td>\n      <td>22.2</td>\n      <td>0.0</td>\n      <td>0.0</td>\n      <td>304003.0</td>\n      <td>74920.0</td>\n      <td>41500.0</td>\n      <td>42503.0</td>\n    </tr>\n    <tr>\n      <th>4</th>\n      <td>68495092.0</td>\n      <td>73384866.0</td>\n      <td>8650.0</td>\n      <td>8650.0</td>\n      <td>8650.0</td>\n      <td>36 months</td>\n      <td>19.89</td>\n      <td>320.99</td>\n      <td>E</td>\n      <td>8 years</td>\n      <td>...</td>\n      <td>0.0</td>\n      <td>12.0</td>\n      <td>100.0</td>\n      <td>50.0</td>\n      <td>1.0</td>\n      <td>0.0</td>\n      <td>38998.0</td>\n      <td>18926.0</td>\n      <td>2750.0</td>\n      <td>18248.0</td>\n    </tr>\n  </tbody>\n</table>\n<p>5 rows × 103 columns</p>\n</div>",
        "text/plain": "           id   member_id  loan_amnt  funded_amnt  funded_amnt_inv  \\\n0  68009401.0  72868139.0    16000.0      16000.0          16000.0   \n1  68354783.0  73244544.0     9600.0       9600.0           9600.0   \n2  68466916.0  73356753.0    25000.0      25000.0          25000.0   \n3  68466961.0  73356799.0    28000.0      28000.0          28000.0   \n4  68495092.0  73384866.0     8650.0       8650.0           8650.0   \n\n         term  int_rate  installment grade emp_length  ... num_tl_90g_dpd_24m  \\\n0   60 months     14.85       379.39     C  10+ years  ...                0.0   \n1   36 months      7.49       298.58     A    8 years  ...                0.0   \n2   36 months      7.49       777.55     A  10+ years  ...                0.0   \n3   36 months      6.49       858.05     A  10+ years  ...                0.0   \n4   36 months     19.89       320.99     E    8 years  ...                0.0   \n\n   num_tl_op_past_12m pct_tl_nvr_dlq percent_bc_gt_75 pub_rec_bankruptcies  \\\n0                 2.0           78.9              0.0                  0.0   \n1                 2.0          100.0             66.7                  0.0   \n2                 0.0          100.0             20.0                  0.0   \n3                 0.0           91.7             22.2                  0.0   \n4                12.0          100.0             50.0                  1.0   \n\n  tax_liens tot_hi_cred_lim total_bal_ex_mort  total_bc_limit  \\\n0       2.0        298100.0           31329.0        281300.0   \n1       0.0         88635.0           55387.0         12500.0   \n2       0.0        373572.0           68056.0         38400.0   \n3       0.0        304003.0           74920.0         41500.0   \n4       0.0         38998.0           18926.0          2750.0   \n\n   total_il_high_credit_limit  \n0                     13400.0  \n1                     75635.0  \n2                     82117.0  \n3                     42503.0  \n4                     18248.0  \n\n[5 rows x 103 columns]"
       },
       "execution_count": 26,
       "metadata": {},
       "output_type": "execute_result"
      }
     ],
     "persistentId": "1c13a956-f286-46c3-8de0-fdc0d233a16f",
     "text": "loans.head()"
    },
    "executionTime": "2020-01-13T05:29:19.330Z"
   },
   {
    "cell": {
     "executionCount": 27,
     "executionEventId": "febf8d81-062a-4d58-94d6-05aec4f23b9f",
     "hasError": false,
     "id": "3da9939a-49f9-48bf-a56e-ebb405c8b3cf",
     "outputs": [
      {
       "data": {
        "text/html": "<div>\n<style scoped>\n    .dataframe tbody tr th:only-of-type {\n        vertical-align: middle;\n    }\n\n    .dataframe tbody tr th {\n        vertical-align: top;\n    }\n\n    .dataframe thead th {\n        text-align: right;\n    }\n</style>\n<table border=\"1\" class=\"dataframe\">\n  <thead>\n    <tr style=\"text-align: right;\">\n      <th></th>\n      <th>id</th>\n      <th>member_id</th>\n      <th>loan_amnt</th>\n      <th>funded_amnt</th>\n      <th>funded_amnt_inv</th>\n      <th>int_rate</th>\n      <th>installment</th>\n      <th>annual_inc</th>\n      <th>dti</th>\n      <th>delinq_2yrs</th>\n      <th>...</th>\n      <th>last_credit_pull_d_Nov-2016</th>\n      <th>last_credit_pull_d_Oct-2015</th>\n      <th>last_credit_pull_d_Oct-2016</th>\n      <th>last_credit_pull_d_Sep-2015</th>\n      <th>last_credit_pull_d_Sep-2016</th>\n      <th>application_type_INDIVIDUAL</th>\n      <th>application_type_JOINT</th>\n      <th>verification_status_joint_Not Verified</th>\n      <th>verification_status_joint_Source Verified</th>\n      <th>verification_status_joint_Verified</th>\n    </tr>\n  </thead>\n  <tbody>\n    <tr>\n      <th>0</th>\n      <td>68009401.0</td>\n      <td>72868139.0</td>\n      <td>16000.0</td>\n      <td>16000.0</td>\n      <td>16000.0</td>\n      <td>14.85</td>\n      <td>379.39</td>\n      <td>48000.0</td>\n      <td>33.18</td>\n      <td>0.0</td>\n      <td>...</td>\n      <td>0</td>\n      <td>0</td>\n      <td>0</td>\n      <td>0</td>\n      <td>0</td>\n      <td>1</td>\n      <td>0</td>\n      <td>0</td>\n      <td>0</td>\n      <td>0</td>\n    </tr>\n    <tr>\n      <th>1</th>\n      <td>68354783.0</td>\n      <td>73244544.0</td>\n      <td>9600.0</td>\n      <td>9600.0</td>\n      <td>9600.0</td>\n      <td>7.49</td>\n      <td>298.58</td>\n      <td>60000.0</td>\n      <td>22.44</td>\n      <td>0.0</td>\n      <td>...</td>\n      <td>0</td>\n      <td>0</td>\n      <td>0</td>\n      <td>0</td>\n      <td>0</td>\n      <td>1</td>\n      <td>0</td>\n      <td>0</td>\n      <td>0</td>\n      <td>0</td>\n    </tr>\n    <tr>\n      <th>2</th>\n      <td>68466916.0</td>\n      <td>73356753.0</td>\n      <td>25000.0</td>\n      <td>25000.0</td>\n      <td>25000.0</td>\n      <td>7.49</td>\n      <td>777.55</td>\n      <td>109000.0</td>\n      <td>26.02</td>\n      <td>0.0</td>\n      <td>...</td>\n      <td>0</td>\n      <td>0</td>\n      <td>0</td>\n      <td>0</td>\n      <td>0</td>\n      <td>1</td>\n      <td>0</td>\n      <td>0</td>\n      <td>0</td>\n      <td>0</td>\n    </tr>\n    <tr>\n      <th>3</th>\n      <td>68466961.0</td>\n      <td>73356799.0</td>\n      <td>28000.0</td>\n      <td>28000.0</td>\n      <td>28000.0</td>\n      <td>6.49</td>\n      <td>858.05</td>\n      <td>92000.0</td>\n      <td>21.60</td>\n      <td>0.0</td>\n      <td>...</td>\n      <td>0</td>\n      <td>0</td>\n      <td>0</td>\n      <td>0</td>\n      <td>0</td>\n      <td>1</td>\n      <td>0</td>\n      <td>0</td>\n      <td>0</td>\n      <td>0</td>\n    </tr>\n    <tr>\n      <th>4</th>\n      <td>68495092.0</td>\n      <td>73384866.0</td>\n      <td>8650.0</td>\n      <td>8650.0</td>\n      <td>8650.0</td>\n      <td>19.89</td>\n      <td>320.99</td>\n      <td>55000.0</td>\n      <td>25.49</td>\n      <td>0.0</td>\n      <td>...</td>\n      <td>0</td>\n      <td>0</td>\n      <td>0</td>\n      <td>0</td>\n      <td>0</td>\n      <td>1</td>\n      <td>0</td>\n      <td>0</td>\n      <td>0</td>\n      <td>0</td>\n    </tr>\n    <tr>\n      <th>5</th>\n      <td>68506798.0</td>\n      <td>73396623.0</td>\n      <td>23000.0</td>\n      <td>23000.0</td>\n      <td>23000.0</td>\n      <td>8.49</td>\n      <td>471.77</td>\n      <td>64000.0</td>\n      <td>18.28</td>\n      <td>0.0</td>\n      <td>...</td>\n      <td>0</td>\n      <td>0</td>\n      <td>0</td>\n      <td>0</td>\n      <td>0</td>\n      <td>1</td>\n      <td>0</td>\n      <td>0</td>\n      <td>0</td>\n      <td>0</td>\n    </tr>\n    <tr>\n      <th>6</th>\n      <td>68566886.0</td>\n      <td>73456723.0</td>\n      <td>29900.0</td>\n      <td>29900.0</td>\n      <td>29900.0</td>\n      <td>12.88</td>\n      <td>678.49</td>\n      <td>65000.0</td>\n      <td>21.77</td>\n      <td>0.0</td>\n      <td>...</td>\n      <td>0</td>\n      <td>0</td>\n      <td>0</td>\n      <td>0</td>\n      <td>0</td>\n      <td>1</td>\n      <td>0</td>\n      <td>0</td>\n      <td>0</td>\n      <td>0</td>\n    </tr>\n    <tr>\n      <th>7</th>\n      <td>68577849.0</td>\n      <td>73467703.0</td>\n      <td>18000.0</td>\n      <td>18000.0</td>\n      <td>18000.0</td>\n      <td>11.99</td>\n      <td>400.31</td>\n      <td>112000.0</td>\n      <td>8.68</td>\n      <td>0.0</td>\n      <td>...</td>\n      <td>0</td>\n      <td>0</td>\n      <td>0</td>\n      <td>0</td>\n      <td>0</td>\n      <td>1</td>\n      <td>0</td>\n      <td>0</td>\n      <td>0</td>\n      <td>0</td>\n    </tr>\n    <tr>\n      <th>8</th>\n      <td>66310712.0</td>\n      <td>71035433.0</td>\n      <td>35000.0</td>\n      <td>35000.0</td>\n      <td>35000.0</td>\n      <td>14.85</td>\n      <td>829.90</td>\n      <td>110000.0</td>\n      <td>17.06</td>\n      <td>0.0</td>\n      <td>...</td>\n      <td>0</td>\n      <td>0</td>\n      <td>0</td>\n      <td>0</td>\n      <td>0</td>\n      <td>1</td>\n      <td>0</td>\n      <td>0</td>\n      <td>0</td>\n      <td>0</td>\n    </tr>\n    <tr>\n      <th>9</th>\n      <td>68476807.0</td>\n      <td>73366655.0</td>\n      <td>10400.0</td>\n      <td>10400.0</td>\n      <td>10400.0</td>\n      <td>22.45</td>\n      <td>289.91</td>\n      <td>104433.0</td>\n      <td>25.37</td>\n      <td>1.0</td>\n      <td>...</td>\n      <td>0</td>\n      <td>0</td>\n      <td>0</td>\n      <td>0</td>\n      <td>0</td>\n      <td>1</td>\n      <td>0</td>\n      <td>0</td>\n      <td>0</td>\n      <td>0</td>\n    </tr>\n    <tr>\n      <th>10</th>\n      <td>68341763.0</td>\n      <td>72928789.0</td>\n      <td>20000.0</td>\n      <td>20000.0</td>\n      <td>20000.0</td>\n      <td>10.78</td>\n      <td>432.66</td>\n      <td>63000.0</td>\n      <td>10.78</td>\n      <td>0.0</td>\n      <td>...</td>\n      <td>0</td>\n      <td>0</td>\n      <td>0</td>\n      <td>0</td>\n      <td>0</td>\n      <td>0</td>\n      <td>1</td>\n      <td>1</td>\n      <td>0</td>\n      <td>0</td>\n    </tr>\n    <tr>\n      <th>11</th>\n      <td>68356421.0</td>\n      <td>73246236.0</td>\n      <td>22400.0</td>\n      <td>22400.0</td>\n      <td>22400.0</td>\n      <td>12.88</td>\n      <td>508.30</td>\n      <td>95000.0</td>\n      <td>22.98</td>\n      <td>0.0</td>\n      <td>...</td>\n      <td>0</td>\n      <td>0</td>\n      <td>0</td>\n      <td>0</td>\n      <td>0</td>\n      <td>1</td>\n      <td>0</td>\n      <td>0</td>\n      <td>0</td>\n      <td>0</td>\n    </tr>\n    <tr>\n      <th>12</th>\n      <td>68426545.0</td>\n      <td>73316365.0</td>\n      <td>16000.0</td>\n      <td>16000.0</td>\n      <td>16000.0</td>\n      <td>12.88</td>\n      <td>363.07</td>\n      <td>70000.0</td>\n      <td>26.40</td>\n      <td>0.0</td>\n      <td>...</td>\n      <td>0</td>\n      <td>0</td>\n      <td>0</td>\n      <td>0</td>\n      <td>0</td>\n      <td>1</td>\n      <td>0</td>\n      <td>0</td>\n      <td>0</td>\n      <td>0</td>\n    </tr>\n    <tr>\n      <th>13</th>\n      <td>68407277.0</td>\n      <td>73297111.0</td>\n      <td>3600.0</td>\n      <td>3600.0</td>\n      <td>3600.0</td>\n      <td>13.99</td>\n      <td>123.03</td>\n      <td>55000.0</td>\n      <td>5.91</td>\n      <td>0.0</td>\n      <td>...</td>\n      <td>0</td>\n      <td>0</td>\n      <td>0</td>\n      <td>0</td>\n      <td>0</td>\n      <td>1</td>\n      <td>0</td>\n      <td>0</td>\n      <td>0</td>\n      <td>0</td>\n    </tr>\n    <tr>\n      <th>14</th>\n      <td>68355089.0</td>\n      <td>73244858.0</td>\n      <td>24700.0</td>\n      <td>24700.0</td>\n      <td>24700.0</td>\n      <td>11.99</td>\n      <td>820.28</td>\n      <td>65000.0</td>\n      <td>16.06</td>\n      <td>1.0</td>\n      <td>...</td>\n      <td>0</td>\n      <td>0</td>\n      <td>0</td>\n      <td>0</td>\n      <td>0</td>\n      <td>1</td>\n      <td>0</td>\n      <td>0</td>\n      <td>0</td>\n      <td>0</td>\n    </tr>\n    <tr>\n      <th>15</th>\n      <td>68466926.0</td>\n      <td>73356763.0</td>\n      <td>10000.0</td>\n      <td>10000.0</td>\n      <td>10000.0</td>\n      <td>6.49</td>\n      <td>306.45</td>\n      <td>85000.0</td>\n      <td>13.07</td>\n      <td>0.0</td>\n      <td>...</td>\n      <td>0</td>\n      <td>0</td>\n      <td>0</td>\n      <td>0</td>\n      <td>0</td>\n      <td>1</td>\n      <td>0</td>\n      <td>0</td>\n      <td>0</td>\n      <td>0</td>\n    </tr>\n    <tr>\n      <th>16</th>\n      <td>68338832.0</td>\n      <td>73542831.0</td>\n      <td>1400.0</td>\n      <td>1400.0</td>\n      <td>1400.0</td>\n      <td>12.88</td>\n      <td>47.10</td>\n      <td>64000.0</td>\n      <td>34.95</td>\n      <td>0.0</td>\n      <td>...</td>\n      <td>0</td>\n      <td>0</td>\n      <td>0</td>\n      <td>0</td>\n      <td>0</td>\n      <td>1</td>\n      <td>0</td>\n      <td>0</td>\n      <td>0</td>\n      <td>0</td>\n    </tr>\n    <tr>\n      <th>17</th>\n      <td>68426831.0</td>\n      <td>73316657.0</td>\n      <td>11950.0</td>\n      <td>11950.0</td>\n      <td>11950.0</td>\n      <td>13.44</td>\n      <td>405.18</td>\n      <td>34000.0</td>\n      <td>10.20</td>\n      <td>0.0</td>\n      <td>...</td>\n      <td>0</td>\n      <td>0</td>\n      <td>0</td>\n      <td>0</td>\n      <td>0</td>\n      <td>1</td>\n      <td>0</td>\n      <td>0</td>\n      <td>0</td>\n      <td>0</td>\n    </tr>\n    <tr>\n      <th>18</th>\n      <td>66624733.0</td>\n      <td>71350547.0</td>\n      <td>18000.0</td>\n      <td>18000.0</td>\n      <td>18000.0</td>\n      <td>19.48</td>\n      <td>471.70</td>\n      <td>150000.0</td>\n      <td>9.39</td>\n      <td>0.0</td>\n      <td>...</td>\n      <td>0</td>\n      <td>0</td>\n      <td>0</td>\n      <td>0</td>\n      <td>0</td>\n      <td>1</td>\n      <td>0</td>\n      <td>0</td>\n      <td>0</td>\n      <td>0</td>\n    </tr>\n    <tr>\n      <th>19</th>\n      <td>68616873.0</td>\n      <td>73519699.0</td>\n      <td>8000.0</td>\n      <td>8000.0</td>\n      <td>8000.0</td>\n      <td>11.48</td>\n      <td>263.74</td>\n      <td>42000.0</td>\n      <td>34.80</td>\n      <td>0.0</td>\n      <td>...</td>\n      <td>0</td>\n      <td>0</td>\n      <td>0</td>\n      <td>0</td>\n      <td>0</td>\n      <td>1</td>\n      <td>0</td>\n      <td>0</td>\n      <td>0</td>\n      <td>0</td>\n    </tr>\n    <tr>\n      <th>20</th>\n      <td>67275481.0</td>\n      <td>72077199.0</td>\n      <td>20000.0</td>\n      <td>20000.0</td>\n      <td>20000.0</td>\n      <td>8.49</td>\n      <td>631.26</td>\n      <td>85000.0</td>\n      <td>17.61</td>\n      <td>1.0</td>\n      <td>...</td>\n      <td>0</td>\n      <td>0</td>\n      <td>0</td>\n      <td>0</td>\n      <td>0</td>\n      <td>1</td>\n      <td>0</td>\n      <td>0</td>\n      <td>0</td>\n      <td>0</td>\n    </tr>\n    <tr>\n      <th>21</th>\n      <td>68476668.0</td>\n      <td>73366513.0</td>\n      <td>20000.0</td>\n      <td>20000.0</td>\n      <td>20000.0</td>\n      <td>9.17</td>\n      <td>637.58</td>\n      <td>180000.0</td>\n      <td>14.67</td>\n      <td>0.0</td>\n      <td>...</td>\n      <td>1</td>\n      <td>0</td>\n      <td>0</td>\n      <td>0</td>\n      <td>0</td>\n      <td>1</td>\n      <td>0</td>\n      <td>0</td>\n      <td>0</td>\n      <td>0</td>\n    </tr>\n    <tr>\n      <th>22</th>\n      <td>68476702.0</td>\n      <td>73366548.0</td>\n      <td>28000.0</td>\n      <td>28000.0</td>\n      <td>28000.0</td>\n      <td>13.44</td>\n      <td>949.38</td>\n      <td>125000.0</td>\n      <td>7.49</td>\n      <td>0.0</td>\n      <td>...</td>\n      <td>0</td>\n      <td>0</td>\n      <td>0</td>\n      <td>0</td>\n      <td>0</td>\n      <td>1</td>\n      <td>0</td>\n      <td>0</td>\n      <td>0</td>\n      <td>0</td>\n    </tr>\n    <tr>\n      <th>23</th>\n      <td>68436666.0</td>\n      <td>73326493.0</td>\n      <td>5000.0</td>\n      <td>5000.0</td>\n      <td>5000.0</td>\n      <td>13.44</td>\n      <td>169.54</td>\n      <td>79000.0</td>\n      <td>12.70</td>\n      <td>0.0</td>\n      <td>...</td>\n      <td>0</td>\n      <td>0</td>\n      <td>0</td>\n      <td>0</td>\n      <td>0</td>\n      <td>1</td>\n      <td>0</td>\n      <td>0</td>\n      <td>0</td>\n      <td>0</td>\n    </tr>\n    <tr>\n      <th>24</th>\n      <td>68596180.0</td>\n      <td>73485987.0</td>\n      <td>20000.0</td>\n      <td>20000.0</td>\n      <td>20000.0</td>\n      <td>5.32</td>\n      <td>602.30</td>\n      <td>65000.0</td>\n      <td>18.83</td>\n      <td>0.0</td>\n      <td>...</td>\n      <td>0</td>\n      <td>0</td>\n      <td>0</td>\n      <td>0</td>\n      <td>0</td>\n      <td>1</td>\n      <td>0</td>\n      <td>0</td>\n      <td>0</td>\n      <td>0</td>\n    </tr>\n    <tr>\n      <th>25</th>\n      <td>67849662.0</td>\n      <td>72708407.0</td>\n      <td>4225.0</td>\n      <td>4225.0</td>\n      <td>4225.0</td>\n      <td>14.85</td>\n      <td>146.16</td>\n      <td>35000.0</td>\n      <td>15.22</td>\n      <td>2.0</td>\n      <td>...</td>\n      <td>0</td>\n      <td>0</td>\n      <td>0</td>\n      <td>0</td>\n      <td>0</td>\n      <td>1</td>\n      <td>0</td>\n      <td>0</td>\n      <td>0</td>\n      <td>0</td>\n    </tr>\n    <tr>\n      <th>26</th>\n      <td>68526883.0</td>\n      <td>73416719.0</td>\n      <td>15000.0</td>\n      <td>15000.0</td>\n      <td>15000.0</td>\n      <td>5.32</td>\n      <td>451.73</td>\n      <td>44000.0</td>\n      <td>15.34</td>\n      <td>0.0</td>\n      <td>...</td>\n      <td>0</td>\n      <td>0</td>\n      <td>0</td>\n      <td>0</td>\n      <td>0</td>\n      <td>1</td>\n      <td>0</td>\n      <td>0</td>\n      <td>0</td>\n      <td>0</td>\n    </tr>\n    <tr>\n      <th>27</th>\n      <td>68607141.0</td>\n      <td>73509983.0</td>\n      <td>17600.0</td>\n      <td>17600.0</td>\n      <td>17600.0</td>\n      <td>5.32</td>\n      <td>530.03</td>\n      <td>88000.0</td>\n      <td>26.59</td>\n      <td>0.0</td>\n      <td>...</td>\n      <td>1</td>\n      <td>0</td>\n      <td>0</td>\n      <td>0</td>\n      <td>0</td>\n      <td>1</td>\n      <td>0</td>\n      <td>0</td>\n      <td>0</td>\n      <td>0</td>\n    </tr>\n    <tr>\n      <th>28</th>\n      <td>68476715.0</td>\n      <td>73366561.0</td>\n      <td>6000.0</td>\n      <td>6000.0</td>\n      <td>6000.0</td>\n      <td>7.49</td>\n      <td>186.61</td>\n      <td>100000.0</td>\n      <td>13.28</td>\n      <td>1.0</td>\n      <td>...</td>\n      <td>0</td>\n      <td>0</td>\n      <td>0</td>\n      <td>0</td>\n      <td>0</td>\n      <td>1</td>\n      <td>0</td>\n      <td>0</td>\n      <td>0</td>\n      <td>0</td>\n    </tr>\n    <tr>\n      <th>29</th>\n      <td>67715283.0</td>\n      <td>72569997.0</td>\n      <td>16000.0</td>\n      <td>16000.0</td>\n      <td>16000.0</td>\n      <td>12.88</td>\n      <td>538.18</td>\n      <td>65000.0</td>\n      <td>18.96</td>\n      <td>0.0</td>\n      <td>...</td>\n      <td>0</td>\n      <td>0</td>\n      <td>0</td>\n      <td>0</td>\n      <td>0</td>\n      <td>1</td>\n      <td>0</td>\n      <td>0</td>\n      <td>0</td>\n      <td>0</td>\n    </tr>\n    <tr>\n      <th>...</th>\n      <td>...</td>\n      <td>...</td>\n      <td>...</td>\n      <td>...</td>\n      <td>...</td>\n      <td>...</td>\n      <td>...</td>\n      <td>...</td>\n      <td>...</td>\n      <td>...</td>\n      <td>...</td>\n      <td>...</td>\n      <td>...</td>\n      <td>...</td>\n      <td>...</td>\n      <td>...</td>\n      <td>...</td>\n      <td>...</td>\n      <td>...</td>\n      <td>...</td>\n      <td>...</td>\n    </tr>\n    <tr>\n      <th>421065</th>\n      <td>36631385.0</td>\n      <td>39374138.0</td>\n      <td>13000.0</td>\n      <td>13000.0</td>\n      <td>13000.0</td>\n      <td>8.19</td>\n      <td>408.52</td>\n      <td>85000.0</td>\n      <td>8.05</td>\n      <td>1.0</td>\n      <td>...</td>\n      <td>0</td>\n      <td>0</td>\n      <td>0</td>\n      <td>0</td>\n      <td>0</td>\n      <td>1</td>\n      <td>0</td>\n      <td>0</td>\n      <td>0</td>\n      <td>0</td>\n    </tr>\n    <tr>\n      <th>421066</th>\n      <td>36231083.0</td>\n      <td>38942474.0</td>\n      <td>15000.0</td>\n      <td>15000.0</td>\n      <td>15000.0</td>\n      <td>11.99</td>\n      <td>498.15</td>\n      <td>70000.0</td>\n      <td>8.47</td>\n      <td>0.0</td>\n      <td>...</td>\n      <td>0</td>\n      <td>0</td>\n      <td>0</td>\n      <td>0</td>\n      <td>0</td>\n      <td>1</td>\n      <td>0</td>\n      <td>0</td>\n      <td>0</td>\n      <td>0</td>\n    </tr>\n    <tr>\n      <th>421067</th>\n      <td>36691397.0</td>\n      <td>39434133.0</td>\n      <td>20000.0</td>\n      <td>20000.0</td>\n      <td>20000.0</td>\n      <td>6.99</td>\n      <td>617.46</td>\n      <td>72000.0</td>\n      <td>27.24</td>\n      <td>0.0</td>\n      <td>...</td>\n      <td>0</td>\n      <td>0</td>\n      <td>0</td>\n      <td>0</td>\n      <td>0</td>\n      <td>1</td>\n      <td>0</td>\n      <td>0</td>\n      <td>0</td>\n      <td>0</td>\n    </tr>\n    <tr>\n      <th>421068</th>\n      <td>36743377.0</td>\n      <td>39486112.0</td>\n      <td>4200.0</td>\n      <td>4200.0</td>\n      <td>4200.0</td>\n      <td>15.99</td>\n      <td>147.64</td>\n      <td>48000.0</td>\n      <td>36.93</td>\n      <td>0.0</td>\n      <td>...</td>\n      <td>0</td>\n      <td>0</td>\n      <td>0</td>\n      <td>0</td>\n      <td>0</td>\n      <td>1</td>\n      <td>0</td>\n      <td>0</td>\n      <td>0</td>\n      <td>0</td>\n    </tr>\n    <tr>\n      <th>421069</th>\n      <td>36331554.0</td>\n      <td>39042967.0</td>\n      <td>26950.0</td>\n      <td>26950.0</td>\n      <td>26950.0</td>\n      <td>8.19</td>\n      <td>846.88</td>\n      <td>54000.0</td>\n      <td>18.11</td>\n      <td>0.0</td>\n      <td>...</td>\n      <td>0</td>\n      <td>0</td>\n      <td>0</td>\n      <td>0</td>\n      <td>0</td>\n      <td>1</td>\n      <td>0</td>\n      <td>0</td>\n      <td>0</td>\n      <td>0</td>\n    </tr>\n    <tr>\n      <th>421070</th>\n      <td>36460697.0</td>\n      <td>39182359.0</td>\n      <td>23000.0</td>\n      <td>23000.0</td>\n      <td>23000.0</td>\n      <td>15.59</td>\n      <td>554.32</td>\n      <td>50000.0</td>\n      <td>31.95</td>\n      <td>0.0</td>\n      <td>...</td>\n      <td>0</td>\n      <td>0</td>\n      <td>0</td>\n      <td>0</td>\n      <td>0</td>\n      <td>1</td>\n      <td>0</td>\n      <td>0</td>\n      <td>0</td>\n      <td>0</td>\n    </tr>\n    <tr>\n      <th>421071</th>\n      <td>35773415.0</td>\n      <td>38468842.0</td>\n      <td>18700.0</td>\n      <td>18700.0</td>\n      <td>18700.0</td>\n      <td>17.86</td>\n      <td>473.44</td>\n      <td>52000.0</td>\n      <td>11.28</td>\n      <td>0.0</td>\n      <td>...</td>\n      <td>0</td>\n      <td>0</td>\n      <td>0</td>\n      <td>0</td>\n      <td>0</td>\n      <td>1</td>\n      <td>0</td>\n      <td>0</td>\n      <td>0</td>\n      <td>0</td>\n    </tr>\n    <tr>\n      <th>421072</th>\n      <td>36250801.0</td>\n      <td>38962184.0</td>\n      <td>6000.0</td>\n      <td>6000.0</td>\n      <td>6000.0</td>\n      <td>17.86</td>\n      <td>216.50</td>\n      <td>90000.0</td>\n      <td>2.84</td>\n      <td>0.0</td>\n      <td>...</td>\n      <td>0</td>\n      <td>0</td>\n      <td>0</td>\n      <td>0</td>\n      <td>0</td>\n      <td>1</td>\n      <td>0</td>\n      <td>0</td>\n      <td>0</td>\n      <td>0</td>\n    </tr>\n    <tr>\n      <th>421073</th>\n      <td>36371802.0</td>\n      <td>39103231.0</td>\n      <td>15000.0</td>\n      <td>15000.0</td>\n      <td>15000.0</td>\n      <td>11.44</td>\n      <td>329.44</td>\n      <td>57000.0</td>\n      <td>15.77</td>\n      <td>0.0</td>\n      <td>...</td>\n      <td>0</td>\n      <td>0</td>\n      <td>0</td>\n      <td>0</td>\n      <td>0</td>\n      <td>1</td>\n      <td>0</td>\n      <td>0</td>\n      <td>0</td>\n      <td>0</td>\n    </tr>\n    <tr>\n      <th>421074</th>\n      <td>36440728.0</td>\n      <td>39152101.0</td>\n      <td>25000.0</td>\n      <td>25000.0</td>\n      <td>25000.0</td>\n      <td>15.99</td>\n      <td>607.82</td>\n      <td>103000.0</td>\n      <td>5.27</td>\n      <td>0.0</td>\n      <td>...</td>\n      <td>0</td>\n      <td>0</td>\n      <td>0</td>\n      <td>0</td>\n      <td>0</td>\n      <td>1</td>\n      <td>0</td>\n      <td>0</td>\n      <td>0</td>\n      <td>0</td>\n    </tr>\n    <tr>\n      <th>421075</th>\n      <td>36361815.0</td>\n      <td>39093260.0</td>\n      <td>26500.0</td>\n      <td>26500.0</td>\n      <td>26500.0</td>\n      <td>8.67</td>\n      <td>545.87</td>\n      <td>92000.0</td>\n      <td>29.60</td>\n      <td>1.0</td>\n      <td>...</td>\n      <td>0</td>\n      <td>0</td>\n      <td>0</td>\n      <td>0</td>\n      <td>0</td>\n      <td>1</td>\n      <td>0</td>\n      <td>0</td>\n      <td>0</td>\n      <td>0</td>\n    </tr>\n    <tr>\n      <th>421076</th>\n      <td>35591131.0</td>\n      <td>38288343.0</td>\n      <td>25000.0</td>\n      <td>25000.0</td>\n      <td>25000.0</td>\n      <td>15.59</td>\n      <td>602.52</td>\n      <td>55000.0</td>\n      <td>5.52</td>\n      <td>0.0</td>\n      <td>...</td>\n      <td>0</td>\n      <td>0</td>\n      <td>0</td>\n      <td>0</td>\n      <td>0</td>\n      <td>1</td>\n      <td>0</td>\n      <td>0</td>\n      <td>0</td>\n      <td>0</td>\n    </tr>\n    <tr>\n      <th>421077</th>\n      <td>36201871.0</td>\n      <td>38913321.0</td>\n      <td>21000.0</td>\n      <td>21000.0</td>\n      <td>21000.0</td>\n      <td>6.03</td>\n      <td>639.15</td>\n      <td>65000.0</td>\n      <td>17.09</td>\n      <td>0.0</td>\n      <td>...</td>\n      <td>0</td>\n      <td>0</td>\n      <td>0</td>\n      <td>0</td>\n      <td>0</td>\n      <td>1</td>\n      <td>0</td>\n      <td>0</td>\n      <td>0</td>\n      <td>0</td>\n    </tr>\n    <tr>\n      <th>421078</th>\n      <td>36381756.0</td>\n      <td>39013193.0</td>\n      <td>8000.0</td>\n      <td>8000.0</td>\n      <td>8000.0</td>\n      <td>8.19</td>\n      <td>251.40</td>\n      <td>50000.0</td>\n      <td>17.62</td>\n      <td>0.0</td>\n      <td>...</td>\n      <td>0</td>\n      <td>0</td>\n      <td>0</td>\n      <td>0</td>\n      <td>0</td>\n      <td>1</td>\n      <td>0</td>\n      <td>0</td>\n      <td>0</td>\n      <td>0</td>\n    </tr>\n    <tr>\n      <th>421079</th>\n      <td>36231724.0</td>\n      <td>38943173.0</td>\n      <td>12000.0</td>\n      <td>12000.0</td>\n      <td>12000.0</td>\n      <td>9.49</td>\n      <td>384.34</td>\n      <td>40000.0</td>\n      <td>25.65</td>\n      <td>1.0</td>\n      <td>...</td>\n      <td>0</td>\n      <td>0</td>\n      <td>1</td>\n      <td>0</td>\n      <td>0</td>\n      <td>1</td>\n      <td>0</td>\n      <td>0</td>\n      <td>0</td>\n      <td>0</td>\n    </tr>\n    <tr>\n      <th>421080</th>\n      <td>36301729.0</td>\n      <td>39023153.0</td>\n      <td>10000.0</td>\n      <td>10000.0</td>\n      <td>10000.0</td>\n      <td>6.49</td>\n      <td>306.45</td>\n      <td>75000.0</td>\n      <td>33.66</td>\n      <td>0.0</td>\n      <td>...</td>\n      <td>0</td>\n      <td>0</td>\n      <td>0</td>\n      <td>0</td>\n      <td>0</td>\n      <td>1</td>\n      <td>0</td>\n      <td>0</td>\n      <td>0</td>\n      <td>0</td>\n    </tr>\n    <tr>\n      <th>421081</th>\n      <td>36250208.0</td>\n      <td>38961532.0</td>\n      <td>13150.0</td>\n      <td>13150.0</td>\n      <td>13150.0</td>\n      <td>14.99</td>\n      <td>312.77</td>\n      <td>30000.0</td>\n      <td>1.00</td>\n      <td>0.0</td>\n      <td>...</td>\n      <td>0</td>\n      <td>0</td>\n      <td>0</td>\n      <td>0</td>\n      <td>0</td>\n      <td>1</td>\n      <td>0</td>\n      <td>0</td>\n      <td>0</td>\n      <td>0</td>\n    </tr>\n    <tr>\n      <th>421082</th>\n      <td>36241316.0</td>\n      <td>38952731.0</td>\n      <td>6225.0</td>\n      <td>6225.0</td>\n      <td>6225.0</td>\n      <td>16.49</td>\n      <td>220.37</td>\n      <td>27000.0</td>\n      <td>18.58</td>\n      <td>0.0</td>\n      <td>...</td>\n      <td>0</td>\n      <td>0</td>\n      <td>0</td>\n      <td>0</td>\n      <td>0</td>\n      <td>1</td>\n      <td>0</td>\n      <td>0</td>\n      <td>0</td>\n      <td>0</td>\n    </tr>\n    <tr>\n      <th>421083</th>\n      <td>36231718.0</td>\n      <td>38943165.0</td>\n      <td>10775.0</td>\n      <td>10775.0</td>\n      <td>10775.0</td>\n      <td>6.03</td>\n      <td>327.95</td>\n      <td>54000.0</td>\n      <td>13.22</td>\n      <td>1.0</td>\n      <td>...</td>\n      <td>0</td>\n      <td>0</td>\n      <td>0</td>\n      <td>0</td>\n      <td>0</td>\n      <td>1</td>\n      <td>0</td>\n      <td>0</td>\n      <td>0</td>\n      <td>0</td>\n    </tr>\n    <tr>\n      <th>421084</th>\n      <td>36381704.0</td>\n      <td>39013139.0</td>\n      <td>7000.0</td>\n      <td>7000.0</td>\n      <td>7000.0</td>\n      <td>14.31</td>\n      <td>240.30</td>\n      <td>57000.0</td>\n      <td>16.80</td>\n      <td>2.0</td>\n      <td>...</td>\n      <td>0</td>\n      <td>0</td>\n      <td>0</td>\n      <td>0</td>\n      <td>0</td>\n      <td>1</td>\n      <td>0</td>\n      <td>0</td>\n      <td>0</td>\n      <td>0</td>\n    </tr>\n    <tr>\n      <th>421085</th>\n      <td>36421485.0</td>\n      <td>39142898.0</td>\n      <td>4000.0</td>\n      <td>4000.0</td>\n      <td>4000.0</td>\n      <td>8.67</td>\n      <td>126.59</td>\n      <td>50000.0</td>\n      <td>12.63</td>\n      <td>0.0</td>\n      <td>...</td>\n      <td>0</td>\n      <td>0</td>\n      <td>1</td>\n      <td>0</td>\n      <td>0</td>\n      <td>1</td>\n      <td>0</td>\n      <td>0</td>\n      <td>0</td>\n      <td>0</td>\n    </tr>\n    <tr>\n      <th>421086</th>\n      <td>35094480.0</td>\n      <td>37777829.0</td>\n      <td>7500.0</td>\n      <td>7500.0</td>\n      <td>7500.0</td>\n      <td>9.49</td>\n      <td>240.22</td>\n      <td>40000.0</td>\n      <td>25.63</td>\n      <td>0.0</td>\n      <td>...</td>\n      <td>0</td>\n      <td>0</td>\n      <td>0</td>\n      <td>0</td>\n      <td>0</td>\n      <td>1</td>\n      <td>0</td>\n      <td>0</td>\n      <td>0</td>\n      <td>0</td>\n    </tr>\n    <tr>\n      <th>421087</th>\n      <td>36260758.0</td>\n      <td>38972123.0</td>\n      <td>10850.0</td>\n      <td>10850.0</td>\n      <td>10850.0</td>\n      <td>19.24</td>\n      <td>399.04</td>\n      <td>32000.0</td>\n      <td>29.44</td>\n      <td>0.0</td>\n      <td>...</td>\n      <td>0</td>\n      <td>0</td>\n      <td>1</td>\n      <td>0</td>\n      <td>0</td>\n      <td>1</td>\n      <td>0</td>\n      <td>0</td>\n      <td>0</td>\n      <td>0</td>\n    </tr>\n    <tr>\n      <th>421088</th>\n      <td>36221446.0</td>\n      <td>38932858.0</td>\n      <td>11575.0</td>\n      <td>11575.0</td>\n      <td>11575.0</td>\n      <td>15.59</td>\n      <td>404.61</td>\n      <td>25400.0</td>\n      <td>27.08</td>\n      <td>0.0</td>\n      <td>...</td>\n      <td>1</td>\n      <td>0</td>\n      <td>0</td>\n      <td>0</td>\n      <td>0</td>\n      <td>1</td>\n      <td>0</td>\n      <td>0</td>\n      <td>0</td>\n      <td>0</td>\n    </tr>\n    <tr>\n      <th>421089</th>\n      <td>36330911.0</td>\n      <td>39042282.0</td>\n      <td>12000.0</td>\n      <td>12000.0</td>\n      <td>12000.0</td>\n      <td>11.99</td>\n      <td>398.52</td>\n      <td>63000.0</td>\n      <td>23.69</td>\n      <td>1.0</td>\n      <td>...</td>\n      <td>0</td>\n      <td>0</td>\n      <td>0</td>\n      <td>0</td>\n      <td>0</td>\n      <td>1</td>\n      <td>0</td>\n      <td>0</td>\n      <td>0</td>\n      <td>0</td>\n    </tr>\n    <tr>\n      <th>421090</th>\n      <td>36371250.0</td>\n      <td>39102635.0</td>\n      <td>10000.0</td>\n      <td>10000.0</td>\n      <td>10000.0</td>\n      <td>11.99</td>\n      <td>332.10</td>\n      <td>31000.0</td>\n      <td>28.69</td>\n      <td>0.0</td>\n      <td>...</td>\n      <td>0</td>\n      <td>0</td>\n      <td>0</td>\n      <td>0</td>\n      <td>0</td>\n      <td>1</td>\n      <td>0</td>\n      <td>0</td>\n      <td>0</td>\n      <td>0</td>\n    </tr>\n    <tr>\n      <th>421091</th>\n      <td>36441262.0</td>\n      <td>39152692.0</td>\n      <td>24000.0</td>\n      <td>24000.0</td>\n      <td>24000.0</td>\n      <td>11.99</td>\n      <td>797.03</td>\n      <td>79000.0</td>\n      <td>3.90</td>\n      <td>0.0</td>\n      <td>...</td>\n      <td>0</td>\n      <td>0</td>\n      <td>0</td>\n      <td>0</td>\n      <td>0</td>\n      <td>1</td>\n      <td>0</td>\n      <td>0</td>\n      <td>0</td>\n      <td>0</td>\n    </tr>\n    <tr>\n      <th>421092</th>\n      <td>36271333.0</td>\n      <td>38982739.0</td>\n      <td>13000.0</td>\n      <td>13000.0</td>\n      <td>13000.0</td>\n      <td>15.99</td>\n      <td>316.07</td>\n      <td>35000.0</td>\n      <td>30.90</td>\n      <td>0.0</td>\n      <td>...</td>\n      <td>0</td>\n      <td>0</td>\n      <td>0</td>\n      <td>0</td>\n      <td>0</td>\n      <td>1</td>\n      <td>0</td>\n      <td>0</td>\n      <td>0</td>\n      <td>0</td>\n    </tr>\n    <tr>\n      <th>421093</th>\n      <td>36490806.0</td>\n      <td>39222577.0</td>\n      <td>12000.0</td>\n      <td>12000.0</td>\n      <td>12000.0</td>\n      <td>19.99</td>\n      <td>317.86</td>\n      <td>64400.0</td>\n      <td>27.19</td>\n      <td>1.0</td>\n      <td>...</td>\n      <td>0</td>\n      <td>0</td>\n      <td>1</td>\n      <td>0</td>\n      <td>0</td>\n      <td>1</td>\n      <td>0</td>\n      <td>0</td>\n      <td>0</td>\n      <td>0</td>\n    </tr>\n    <tr>\n      <th>421094</th>\n      <td>36271262.0</td>\n      <td>38982659.0</td>\n      <td>20000.0</td>\n      <td>20000.0</td>\n      <td>20000.0</td>\n      <td>11.99</td>\n      <td>664.20</td>\n      <td>100000.0</td>\n      <td>10.83</td>\n      <td>0.0</td>\n      <td>...</td>\n      <td>0</td>\n      <td>0</td>\n      <td>0</td>\n      <td>0</td>\n      <td>0</td>\n      <td>1</td>\n      <td>0</td>\n      <td>0</td>\n      <td>0</td>\n      <td>0</td>\n    </tr>\n  </tbody>\n</table>\n<p>421095 rows × 237 columns</p>\n</div>",
        "text/plain": "                id   member_id  loan_amnt  funded_amnt  funded_amnt_inv  \\\n0       68009401.0  72868139.0    16000.0      16000.0          16000.0   \n1       68354783.0  73244544.0     9600.0       9600.0           9600.0   \n2       68466916.0  73356753.0    25000.0      25000.0          25000.0   \n3       68466961.0  73356799.0    28000.0      28000.0          28000.0   \n4       68495092.0  73384866.0     8650.0       8650.0           8650.0   \n5       68506798.0  73396623.0    23000.0      23000.0          23000.0   \n6       68566886.0  73456723.0    29900.0      29900.0          29900.0   \n7       68577849.0  73467703.0    18000.0      18000.0          18000.0   \n8       66310712.0  71035433.0    35000.0      35000.0          35000.0   \n9       68476807.0  73366655.0    10400.0      10400.0          10400.0   \n10      68341763.0  72928789.0    20000.0      20000.0          20000.0   \n11      68356421.0  73246236.0    22400.0      22400.0          22400.0   \n12      68426545.0  73316365.0    16000.0      16000.0          16000.0   \n13      68407277.0  73297111.0     3600.0       3600.0           3600.0   \n14      68355089.0  73244858.0    24700.0      24700.0          24700.0   \n15      68466926.0  73356763.0    10000.0      10000.0          10000.0   \n16      68338832.0  73542831.0     1400.0       1400.0           1400.0   \n17      68426831.0  73316657.0    11950.0      11950.0          11950.0   \n18      66624733.0  71350547.0    18000.0      18000.0          18000.0   \n19      68616873.0  73519699.0     8000.0       8000.0           8000.0   \n20      67275481.0  72077199.0    20000.0      20000.0          20000.0   \n21      68476668.0  73366513.0    20000.0      20000.0          20000.0   \n22      68476702.0  73366548.0    28000.0      28000.0          28000.0   \n23      68436666.0  73326493.0     5000.0       5000.0           5000.0   \n24      68596180.0  73485987.0    20000.0      20000.0          20000.0   \n25      67849662.0  72708407.0     4225.0       4225.0           4225.0   \n26      68526883.0  73416719.0    15000.0      15000.0          15000.0   \n27      68607141.0  73509983.0    17600.0      17600.0          17600.0   \n28      68476715.0  73366561.0     6000.0       6000.0           6000.0   \n29      67715283.0  72569997.0    16000.0      16000.0          16000.0   \n...            ...         ...        ...          ...              ...   \n421065  36631385.0  39374138.0    13000.0      13000.0          13000.0   \n421066  36231083.0  38942474.0    15000.0      15000.0          15000.0   \n421067  36691397.0  39434133.0    20000.0      20000.0          20000.0   \n421068  36743377.0  39486112.0     4200.0       4200.0           4200.0   \n421069  36331554.0  39042967.0    26950.0      26950.0          26950.0   \n421070  36460697.0  39182359.0    23000.0      23000.0          23000.0   \n421071  35773415.0  38468842.0    18700.0      18700.0          18700.0   \n421072  36250801.0  38962184.0     6000.0       6000.0           6000.0   \n421073  36371802.0  39103231.0    15000.0      15000.0          15000.0   \n421074  36440728.0  39152101.0    25000.0      25000.0          25000.0   \n421075  36361815.0  39093260.0    26500.0      26500.0          26500.0   \n421076  35591131.0  38288343.0    25000.0      25000.0          25000.0   \n421077  36201871.0  38913321.0    21000.0      21000.0          21000.0   \n421078  36381756.0  39013193.0     8000.0       8000.0           8000.0   \n421079  36231724.0  38943173.0    12000.0      12000.0          12000.0   \n421080  36301729.0  39023153.0    10000.0      10000.0          10000.0   \n421081  36250208.0  38961532.0    13150.0      13150.0          13150.0   \n421082  36241316.0  38952731.0     6225.0       6225.0           6225.0   \n421083  36231718.0  38943165.0    10775.0      10775.0          10775.0   \n421084  36381704.0  39013139.0     7000.0       7000.0           7000.0   \n421085  36421485.0  39142898.0     4000.0       4000.0           4000.0   \n421086  35094480.0  37777829.0     7500.0       7500.0           7500.0   \n421087  36260758.0  38972123.0    10850.0      10850.0          10850.0   \n421088  36221446.0  38932858.0    11575.0      11575.0          11575.0   \n421089  36330911.0  39042282.0    12000.0      12000.0          12000.0   \n421090  36371250.0  39102635.0    10000.0      10000.0          10000.0   \n421091  36441262.0  39152692.0    24000.0      24000.0          24000.0   \n421092  36271333.0  38982739.0    13000.0      13000.0          13000.0   \n421093  36490806.0  39222577.0    12000.0      12000.0          12000.0   \n421094  36271262.0  38982659.0    20000.0      20000.0          20000.0   \n\n        int_rate  installment  annual_inc    dti  delinq_2yrs  ...  \\\n0          14.85       379.39     48000.0  33.18          0.0  ...   \n1           7.49       298.58     60000.0  22.44          0.0  ...   \n2           7.49       777.55    109000.0  26.02          0.0  ...   \n3           6.49       858.05     92000.0  21.60          0.0  ...   \n4          19.89       320.99     55000.0  25.49          0.0  ...   \n5           8.49       471.77     64000.0  18.28          0.0  ...   \n6          12.88       678.49     65000.0  21.77          0.0  ...   \n7          11.99       400.31    112000.0   8.68          0.0  ...   \n8          14.85       829.90    110000.0  17.06          0.0  ...   \n9          22.45       289.91    104433.0  25.37          1.0  ...   \n10         10.78       432.66     63000.0  10.78          0.0  ...   \n11         12.88       508.30     95000.0  22.98          0.0  ...   \n12         12.88       363.07     70000.0  26.40          0.0  ...   \n13         13.99       123.03     55000.0   5.91          0.0  ...   \n14         11.99       820.28     65000.0  16.06          1.0  ...   \n15          6.49       306.45     85000.0  13.07          0.0  ...   \n16         12.88        47.10     64000.0  34.95          0.0  ...   \n17         13.44       405.18     34000.0  10.20          0.0  ...   \n18         19.48       471.70    150000.0   9.39          0.0  ...   \n19         11.48       263.74     42000.0  34.80          0.0  ...   \n20          8.49       631.26     85000.0  17.61          1.0  ...   \n21          9.17       637.58    180000.0  14.67          0.0  ...   \n22         13.44       949.38    125000.0   7.49          0.0  ...   \n23         13.44       169.54     79000.0  12.70          0.0  ...   \n24          5.32       602.30     65000.0  18.83          0.0  ...   \n25         14.85       146.16     35000.0  15.22          2.0  ...   \n26          5.32       451.73     44000.0  15.34          0.0  ...   \n27          5.32       530.03     88000.0  26.59          0.0  ...   \n28          7.49       186.61    100000.0  13.28          1.0  ...   \n29         12.88       538.18     65000.0  18.96          0.0  ...   \n...          ...          ...         ...    ...          ...  ...   \n421065      8.19       408.52     85000.0   8.05          1.0  ...   \n421066     11.99       498.15     70000.0   8.47          0.0  ...   \n421067      6.99       617.46     72000.0  27.24          0.0  ...   \n421068     15.99       147.64     48000.0  36.93          0.0  ...   \n421069      8.19       846.88     54000.0  18.11          0.0  ...   \n421070     15.59       554.32     50000.0  31.95          0.0  ...   \n421071     17.86       473.44     52000.0  11.28          0.0  ...   \n421072     17.86       216.50     90000.0   2.84          0.0  ...   \n421073     11.44       329.44     57000.0  15.77          0.0  ...   \n421074     15.99       607.82    103000.0   5.27          0.0  ...   \n421075      8.67       545.87     92000.0  29.60          1.0  ...   \n421076     15.59       602.52     55000.0   5.52          0.0  ...   \n421077      6.03       639.15     65000.0  17.09          0.0  ...   \n421078      8.19       251.40     50000.0  17.62          0.0  ...   \n421079      9.49       384.34     40000.0  25.65          1.0  ...   \n421080      6.49       306.45     75000.0  33.66          0.0  ...   \n421081     14.99       312.77     30000.0   1.00          0.0  ...   \n421082     16.49       220.37     27000.0  18.58          0.0  ...   \n421083      6.03       327.95     54000.0  13.22          1.0  ...   \n421084     14.31       240.30     57000.0  16.80          2.0  ...   \n421085      8.67       126.59     50000.0  12.63          0.0  ...   \n421086      9.49       240.22     40000.0  25.63          0.0  ...   \n421087     19.24       399.04     32000.0  29.44          0.0  ...   \n421088     15.59       404.61     25400.0  27.08          0.0  ...   \n421089     11.99       398.52     63000.0  23.69          1.0  ...   \n421090     11.99       332.10     31000.0  28.69          0.0  ...   \n421091     11.99       797.03     79000.0   3.90          0.0  ...   \n421092     15.99       316.07     35000.0  30.90          0.0  ...   \n421093     19.99       317.86     64400.0  27.19          1.0  ...   \n421094     11.99       664.20    100000.0  10.83          0.0  ...   \n\n        last_credit_pull_d_Nov-2016  last_credit_pull_d_Oct-2015  \\\n0                                 0                            0   \n1                                 0                            0   \n2                                 0                            0   \n3                                 0                            0   \n4                                 0                            0   \n5                                 0                            0   \n6                                 0                            0   \n7                                 0                            0   \n8                                 0                            0   \n9                                 0                            0   \n10                                0                            0   \n11                                0                            0   \n12                                0                            0   \n13                                0                            0   \n14                                0                            0   \n15                                0                            0   \n16                                0                            0   \n17                                0                            0   \n18                                0                            0   \n19                                0                            0   \n20                                0                            0   \n21                                1                            0   \n22                                0                            0   \n23                                0                            0   \n24                                0                            0   \n25                                0                            0   \n26                                0                            0   \n27                                1                            0   \n28                                0                            0   \n29                                0                            0   \n...                             ...                          ...   \n421065                            0                            0   \n421066                            0                            0   \n421067                            0                            0   \n421068                            0                            0   \n421069                            0                            0   \n421070                            0                            0   \n421071                            0                            0   \n421072                            0                            0   \n421073                            0                            0   \n421074                            0                            0   \n421075                            0                            0   \n421076                            0                            0   \n421077                            0                            0   \n421078                            0                            0   \n421079                            0                            0   \n421080                            0                            0   \n421081                            0                            0   \n421082                            0                            0   \n421083                            0                            0   \n421084                            0                            0   \n421085                            0                            0   \n421086                            0                            0   \n421087                            0                            0   \n421088                            1                            0   \n421089                            0                            0   \n421090                            0                            0   \n421091                            0                            0   \n421092                            0                            0   \n421093                            0                            0   \n421094                            0                            0   \n\n        last_credit_pull_d_Oct-2016  last_credit_pull_d_Sep-2015  \\\n0                                 0                            0   \n1                                 0                            0   \n2                                 0                            0   \n3                                 0                            0   \n4                                 0                            0   \n5                                 0                            0   \n6                                 0                            0   \n7                                 0                            0   \n8                                 0                            0   \n9                                 0                            0   \n10                                0                            0   \n11                                0                            0   \n12                                0                            0   \n13                                0                            0   \n14                                0                            0   \n15                                0                            0   \n16                                0                            0   \n17                                0                            0   \n18                                0                            0   \n19                                0                            0   \n20                                0                            0   \n21                                0                            0   \n22                                0                            0   \n23                                0                            0   \n24                                0                            0   \n25                                0                            0   \n26                                0                            0   \n27                                0                            0   \n28                                0                            0   \n29                                0                            0   \n...                             ...                          ...   \n421065                            0                            0   \n421066                            0                            0   \n421067                            0                            0   \n421068                            0                            0   \n421069                            0                            0   \n421070                            0                            0   \n421071                            0                            0   \n421072                            0                            0   \n421073                            0                            0   \n421074                            0                            0   \n421075                            0                            0   \n421076                            0                            0   \n421077                            0                            0   \n421078                            0                            0   \n421079                            1                            0   \n421080                            0                            0   \n421081                            0                            0   \n421082                            0                            0   \n421083                            0                            0   \n421084                            0                            0   \n421085                            1                            0   \n421086                            0                            0   \n421087                            1                            0   \n421088                            0                            0   \n421089                            0                            0   \n421090                            0                            0   \n421091                            0                            0   \n421092                            0                            0   \n421093                            1                            0   \n421094                            0                            0   \n\n        last_credit_pull_d_Sep-2016  application_type_INDIVIDUAL  \\\n0                                 0                            1   \n1                                 0                            1   \n2                                 0                            1   \n3                                 0                            1   \n4                                 0                            1   \n5                                 0                            1   \n6                                 0                            1   \n7                                 0                            1   \n8                                 0                            1   \n9                                 0                            1   \n10                                0                            0   \n11                                0                            1   \n12                                0                            1   \n13                                0                            1   \n14                                0                            1   \n15                                0                            1   \n16                                0                            1   \n17                                0                            1   \n18                                0                            1   \n19                                0                            1   \n20                                0                            1   \n21                                0                            1   \n22                                0                            1   \n23                                0                            1   \n24                                0                            1   \n25                                0                            1   \n26                                0                            1   \n27                                0                            1   \n28                                0                            1   \n29                                0                            1   \n...                             ...                          ...   \n421065                            0                            1   \n421066                            0                            1   \n421067                            0                            1   \n421068                            0                            1   \n421069                            0                            1   \n421070                            0                            1   \n421071                            0                            1   \n421072                            0                            1   \n421073                            0                            1   \n421074                            0                            1   \n421075                            0                            1   \n421076                            0                            1   \n421077                            0                            1   \n421078                            0                            1   \n421079                            0                            1   \n421080                            0                            1   \n421081                            0                            1   \n421082                            0                            1   \n421083                            0                            1   \n421084                            0                            1   \n421085                            0                            1   \n421086                            0                            1   \n421087                            0                            1   \n421088                            0                            1   \n421089                            0                            1   \n421090                            0                            1   \n421091                            0                            1   \n421092                            0                            1   \n421093                            0                            1   \n421094                            0                            1   \n\n        application_type_JOINT  verification_status_joint_Not Verified  \\\n0                            0                                       0   \n1                            0                                       0   \n2                            0                                       0   \n3                            0                                       0   \n4                            0                                       0   \n5                            0                                       0   \n6                            0                                       0   \n7                            0                                       0   \n8                            0                                       0   \n9                            0                                       0   \n10                           1                                       1   \n11                           0                                       0   \n12                           0                                       0   \n13                           0                                       0   \n14                           0                                       0   \n15                           0                                       0   \n16                           0                                       0   \n17                           0                                       0   \n18                           0                                       0   \n19                           0                                       0   \n20                           0                                       0   \n21                           0                                       0   \n22                           0                                       0   \n23                           0                                       0   \n24                           0                                       0   \n25                           0                                       0   \n26                           0                                       0   \n27                           0                                       0   \n28                           0                                       0   \n29                           0                                       0   \n...                        ...                                     ...   \n421065                       0                                       0   \n421066                       0                                       0   \n421067                       0                                       0   \n421068                       0                                       0   \n421069                       0                                       0   \n421070                       0                                       0   \n421071                       0                                       0   \n421072                       0                                       0   \n421073                       0                                       0   \n421074                       0                                       0   \n421075                       0                                       0   \n421076                       0                                       0   \n421077                       0                                       0   \n421078                       0                                       0   \n421079                       0                                       0   \n421080                       0                                       0   \n421081                       0                                       0   \n421082                       0                                       0   \n421083                       0                                       0   \n421084                       0                                       0   \n421085                       0                                       0   \n421086                       0                                       0   \n421087                       0                                       0   \n421088                       0                                       0   \n421089                       0                                       0   \n421090                       0                                       0   \n421091                       0                                       0   \n421092                       0                                       0   \n421093                       0                                       0   \n421094                       0                                       0   \n\n        verification_status_joint_Source Verified  \\\n0                                               0   \n1                                               0   \n2                                               0   \n3                                               0   \n4                                               0   \n5                                               0   \n6                                               0   \n7                                               0   \n8                                               0   \n9                                               0   \n10                                              0   \n11                                              0   \n12                                              0   \n13                                              0   \n14                                              0   \n15                                              0   \n16                                              0   \n17                                              0   \n18                                              0   \n19                                              0   \n20                                              0   \n21                                              0   \n22                                              0   \n23                                              0   \n24                                              0   \n25                                              0   \n26                                              0   \n27                                              0   \n28                                              0   \n29                                              0   \n...                                           ...   \n421065                                          0   \n421066                                          0   \n421067                                          0   \n421068                                          0   \n421069                                          0   \n421070                                          0   \n421071                                          0   \n421072                                          0   \n421073                                          0   \n421074                                          0   \n421075                                          0   \n421076                                          0   \n421077                                          0   \n421078                                          0   \n421079                                          0   \n421080                                          0   \n421081                                          0   \n421082                                          0   \n421083                                          0   \n421084                                          0   \n421085                                          0   \n421086                                          0   \n421087                                          0   \n421088                                          0   \n421089                                          0   \n421090                                          0   \n421091                                          0   \n421092                                          0   \n421093                                          0   \n421094                                          0   \n\n        verification_status_joint_Verified  \n0                                        0  \n1                                        0  \n2                                        0  \n3                                        0  \n4                                        0  \n5                                        0  \n6                                        0  \n7                                        0  \n8                                        0  \n9                                        0  \n10                                       0  \n11                                       0  \n12                                       0  \n13                                       0  \n14                                       0  \n15                                       0  \n16                                       0  \n17                                       0  \n18                                       0  \n19                                       0  \n20                                       0  \n21                                       0  \n22                                       0  \n23                                       0  \n24                                       0  \n25                                       0  \n26                                       0  \n27                                       0  \n28                                       0  \n29                                       0  \n...                                    ...  \n421065                                   0  \n421066                                   0  \n421067                                   0  \n421068                                   0  \n421069                                   0  \n421070                                   0  \n421071                                   0  \n421072                                   0  \n421073                                   0  \n421074                                   0  \n421075                                   0  \n421076                                   0  \n421077                                   0  \n421078                                   0  \n421079                                   0  \n421080                                   0  \n421081                                   0  \n421082                                   0  \n421083                                   0  \n421084                                   0  \n421085                                   0  \n421086                                   0  \n421087                                   0  \n421088                                   0  \n421089                                   0  \n421090                                   0  \n421091                                   0  \n421092                                   0  \n421093                                   0  \n421094                                   0  \n\n[421095 rows x 237 columns]"
       },
       "execution_count": 27,
       "metadata": {},
       "output_type": "execute_result"
      }
     ],
     "persistentId": "6f1ff233-ce94-44e5-859d-c76a439ea125",
     "text": "pd.get_dummies(loans)"
    },
    "executionTime": "2020-01-13T05:29:33.486Z"
   },
   {
    "cell": {
     "executionCount": 28,
     "executionEventId": "f18348ee-3380-4a6a-ba31-05553e406280",
     "hasError": false,
     "id": "3da9939a-49f9-48bf-a56e-ebb405c8b3cf",
     "outputs": [],
     "persistentId": "6f1ff233-ce94-44e5-859d-c76a439ea125",
     "text": "X = loans.drop('loan_status', 1)\ny = loans['loan_status']"
    },
    "executionTime": "2020-01-13T05:30:15.464Z"
   },
   {
    "cell": {
     "executionCount": 29,
     "executionEventId": "2d78fd59-89a0-427c-9853-f6fc02233932",
     "hasError": true,
     "id": "5ce26005-3382-4470-8954-20d5ba502b04",
     "outputs": [
      {
       "ename": "AttributeError",
       "evalue": "'DataFrame' object has no attribute 'get_dummies'",
       "output_type": "error",
       "traceback": [
        "\u001b[0;31m---------------------------------------------------------------------------\u001b[0m",
        "\u001b[0;31mAttributeError\u001b[0m                            Traceback (most recent call last)",
        "\u001b[0;32m<ipython-input-29-9611c462380f>\u001b[0m in \u001b[0;36m<module>\u001b[0;34m\u001b[0m\n\u001b[0;32m----> 1\u001b[0;31m \u001b[0mX\u001b[0m \u001b[0;34m=\u001b[0m \u001b[0mX\u001b[0m\u001b[0;34m.\u001b[0m\u001b[0mget_dummies\u001b[0m\u001b[0;34m(\u001b[0m\u001b[0;34m)\u001b[0m\u001b[0;34m\u001b[0m\u001b[0;34m\u001b[0m\u001b[0m\n\u001b[0m",
        "\u001b[0;32m~/anaconda3/lib/python3.7/site-packages/pandas/core/generic.py\u001b[0m in \u001b[0;36m__getattr__\u001b[0;34m(self, name)\u001b[0m\n\u001b[1;32m   5065\u001b[0m             \u001b[0;32mif\u001b[0m \u001b[0mself\u001b[0m\u001b[0;34m.\u001b[0m\u001b[0m_info_axis\u001b[0m\u001b[0;34m.\u001b[0m\u001b[0m_can_hold_identifiers_and_holds_name\u001b[0m\u001b[0;34m(\u001b[0m\u001b[0mname\u001b[0m\u001b[0;34m)\u001b[0m\u001b[0;34m:\u001b[0m\u001b[0;34m\u001b[0m\u001b[0;34m\u001b[0m\u001b[0m\n\u001b[1;32m   5066\u001b[0m                 \u001b[0;32mreturn\u001b[0m \u001b[0mself\u001b[0m\u001b[0;34m[\u001b[0m\u001b[0mname\u001b[0m\u001b[0;34m]\u001b[0m\u001b[0;34m\u001b[0m\u001b[0;34m\u001b[0m\u001b[0m\n\u001b[0;32m-> 5067\u001b[0;31m             \u001b[0;32mreturn\u001b[0m \u001b[0mobject\u001b[0m\u001b[0;34m.\u001b[0m\u001b[0m__getattribute__\u001b[0m\u001b[0;34m(\u001b[0m\u001b[0mself\u001b[0m\u001b[0;34m,\u001b[0m \u001b[0mname\u001b[0m\u001b[0;34m)\u001b[0m\u001b[0;34m\u001b[0m\u001b[0;34m\u001b[0m\u001b[0m\n\u001b[0m\u001b[1;32m   5068\u001b[0m \u001b[0;34m\u001b[0m\u001b[0m\n\u001b[1;32m   5069\u001b[0m     \u001b[0;32mdef\u001b[0m \u001b[0m__setattr__\u001b[0m\u001b[0;34m(\u001b[0m\u001b[0mself\u001b[0m\u001b[0;34m,\u001b[0m \u001b[0mname\u001b[0m\u001b[0;34m,\u001b[0m \u001b[0mvalue\u001b[0m\u001b[0;34m)\u001b[0m\u001b[0;34m:\u001b[0m\u001b[0;34m\u001b[0m\u001b[0;34m\u001b[0m\u001b[0m\n",
        "\u001b[0;31mAttributeError\u001b[0m: 'DataFrame' object has no attribute 'get_dummies'"
       ]
      }
     ],
     "persistentId": "0be45810-fd55-44c9-a620-2ea4e01508e1",
     "text": "X = X.get_dummies()"
    },
    "executionTime": "2020-01-13T05:30:33.696Z"
   },
   {
    "cell": {
     "executionCount": 30,
     "executionEventId": "22f4495f-a115-4576-99eb-257c829e315b",
     "hasError": true,
     "id": "5ce26005-3382-4470-8954-20d5ba502b04",
     "outputs": [
      {
       "ename": "AttributeError",
       "evalue": "'DataFrame' object has no attribute 'get_dummies'",
       "output_type": "error",
       "traceback": [
        "\u001b[0;31m---------------------------------------------------------------------------\u001b[0m",
        "\u001b[0;31mAttributeError\u001b[0m                            Traceback (most recent call last)",
        "\u001b[0;32m<ipython-input-30-9611c462380f>\u001b[0m in \u001b[0;36m<module>\u001b[0;34m\u001b[0m\n\u001b[0;32m----> 1\u001b[0;31m \u001b[0mX\u001b[0m \u001b[0;34m=\u001b[0m \u001b[0mX\u001b[0m\u001b[0;34m.\u001b[0m\u001b[0mget_dummies\u001b[0m\u001b[0;34m(\u001b[0m\u001b[0;34m)\u001b[0m\u001b[0;34m\u001b[0m\u001b[0;34m\u001b[0m\u001b[0m\n\u001b[0m",
        "\u001b[0;32m~/anaconda3/lib/python3.7/site-packages/pandas/core/generic.py\u001b[0m in \u001b[0;36m__getattr__\u001b[0;34m(self, name)\u001b[0m\n\u001b[1;32m   5065\u001b[0m             \u001b[0;32mif\u001b[0m \u001b[0mself\u001b[0m\u001b[0;34m.\u001b[0m\u001b[0m_info_axis\u001b[0m\u001b[0;34m.\u001b[0m\u001b[0m_can_hold_identifiers_and_holds_name\u001b[0m\u001b[0;34m(\u001b[0m\u001b[0mname\u001b[0m\u001b[0;34m)\u001b[0m\u001b[0;34m:\u001b[0m\u001b[0;34m\u001b[0m\u001b[0;34m\u001b[0m\u001b[0m\n\u001b[1;32m   5066\u001b[0m                 \u001b[0;32mreturn\u001b[0m \u001b[0mself\u001b[0m\u001b[0;34m[\u001b[0m\u001b[0mname\u001b[0m\u001b[0;34m]\u001b[0m\u001b[0;34m\u001b[0m\u001b[0;34m\u001b[0m\u001b[0m\n\u001b[0;32m-> 5067\u001b[0;31m             \u001b[0;32mreturn\u001b[0m \u001b[0mobject\u001b[0m\u001b[0;34m.\u001b[0m\u001b[0m__getattribute__\u001b[0m\u001b[0;34m(\u001b[0m\u001b[0mself\u001b[0m\u001b[0;34m,\u001b[0m \u001b[0mname\u001b[0m\u001b[0;34m)\u001b[0m\u001b[0;34m\u001b[0m\u001b[0;34m\u001b[0m\u001b[0m\n\u001b[0m\u001b[1;32m   5068\u001b[0m \u001b[0;34m\u001b[0m\u001b[0m\n\u001b[1;32m   5069\u001b[0m     \u001b[0;32mdef\u001b[0m \u001b[0m__setattr__\u001b[0m\u001b[0;34m(\u001b[0m\u001b[0mself\u001b[0m\u001b[0;34m,\u001b[0m \u001b[0mname\u001b[0m\u001b[0;34m,\u001b[0m \u001b[0mvalue\u001b[0m\u001b[0;34m)\u001b[0m\u001b[0;34m:\u001b[0m\u001b[0;34m\u001b[0m\u001b[0;34m\u001b[0m\u001b[0m\n",
        "\u001b[0;31mAttributeError\u001b[0m: 'DataFrame' object has no attribute 'get_dummies'"
       ]
      }
     ],
     "persistentId": "0be45810-fd55-44c9-a620-2ea4e01508e1",
     "text": "X = X.get_dummies()"
    },
    "executionTime": "2020-01-13T05:31:21.588Z"
   },
   {
    "cell": {
     "executionCount": 31,
     "executionEventId": "bf0ce995-9faf-4be9-ac34-c76022212ed9",
     "hasError": true,
     "id": "0c110be2-cdb5-471a-99a2-4fce0c0c9320",
     "outputs": [
      {
       "ename": "AttributeError",
       "evalue": "'DataFrame' object has no attribute 'get_dummies'",
       "output_type": "error",
       "traceback": [
        "\u001b[0;31m---------------------------------------------------------------------------\u001b[0m",
        "\u001b[0;31mAttributeError\u001b[0m                            Traceback (most recent call last)",
        "\u001b[0;32m<ipython-input-31-83f5baf29470>\u001b[0m in \u001b[0;36m<module>\u001b[0;34m\u001b[0m\n\u001b[0;32m----> 1\u001b[0;31m \u001b[0mX\u001b[0m\u001b[0;34m.\u001b[0m\u001b[0mget_dummies\u001b[0m\u001b[0;34m(\u001b[0m\u001b[0;34m)\u001b[0m\u001b[0;34m\u001b[0m\u001b[0;34m\u001b[0m\u001b[0m\n\u001b[0m",
        "\u001b[0;32m~/anaconda3/lib/python3.7/site-packages/pandas/core/generic.py\u001b[0m in \u001b[0;36m__getattr__\u001b[0;34m(self, name)\u001b[0m\n\u001b[1;32m   5065\u001b[0m             \u001b[0;32mif\u001b[0m \u001b[0mself\u001b[0m\u001b[0;34m.\u001b[0m\u001b[0m_info_axis\u001b[0m\u001b[0;34m.\u001b[0m\u001b[0m_can_hold_identifiers_and_holds_name\u001b[0m\u001b[0;34m(\u001b[0m\u001b[0mname\u001b[0m\u001b[0;34m)\u001b[0m\u001b[0;34m:\u001b[0m\u001b[0;34m\u001b[0m\u001b[0;34m\u001b[0m\u001b[0m\n\u001b[1;32m   5066\u001b[0m                 \u001b[0;32mreturn\u001b[0m \u001b[0mself\u001b[0m\u001b[0;34m[\u001b[0m\u001b[0mname\u001b[0m\u001b[0;34m]\u001b[0m\u001b[0;34m\u001b[0m\u001b[0;34m\u001b[0m\u001b[0m\n\u001b[0;32m-> 5067\u001b[0;31m             \u001b[0;32mreturn\u001b[0m \u001b[0mobject\u001b[0m\u001b[0;34m.\u001b[0m\u001b[0m__getattribute__\u001b[0m\u001b[0;34m(\u001b[0m\u001b[0mself\u001b[0m\u001b[0;34m,\u001b[0m \u001b[0mname\u001b[0m\u001b[0;34m)\u001b[0m\u001b[0;34m\u001b[0m\u001b[0;34m\u001b[0m\u001b[0m\n\u001b[0m\u001b[1;32m   5068\u001b[0m \u001b[0;34m\u001b[0m\u001b[0m\n\u001b[1;32m   5069\u001b[0m     \u001b[0;32mdef\u001b[0m \u001b[0m__setattr__\u001b[0m\u001b[0;34m(\u001b[0m\u001b[0mself\u001b[0m\u001b[0;34m,\u001b[0m \u001b[0mname\u001b[0m\u001b[0;34m,\u001b[0m \u001b[0mvalue\u001b[0m\u001b[0;34m)\u001b[0m\u001b[0;34m:\u001b[0m\u001b[0;34m\u001b[0m\u001b[0;34m\u001b[0m\u001b[0m\n",
        "\u001b[0;31mAttributeError\u001b[0m: 'DataFrame' object has no attribute 'get_dummies'"
       ]
      }
     ],
     "persistentId": "d4605389-82f2-4e72-8e4b-4a57f9905ea9",
     "text": "X.get_dummies()"
    },
    "executionTime": "2020-01-13T05:31:31.973Z"
   },
   {
    "cell": {
     "executionCount": 32,
     "executionEventId": "2ebba67b-0c57-48fd-aabc-e80152e781b3",
     "hasError": false,
     "id": "3da9939a-49f9-48bf-a56e-ebb405c8b3cf",
     "outputs": [],
     "persistentId": "6f1ff233-ce94-44e5-859d-c76a439ea125",
     "text": "X = loans.drop('loan_status', 1)\ny = loans['loan_status']\nX = pd.get_dummies(X)\nX = X.dropna(axis=1)"
    },
    "executionTime": "2020-01-13T05:32:08.152Z"
   },
   {
    "cell": {
     "executionCount": 33,
     "executionEventId": "b723295f-32ab-45d6-a8d5-b1801a416b32",
     "hasError": false,
     "id": "b6c75852-3d08-46d0-949c-efd90e7814d1",
     "outputs": [
      {
       "data": {
        "text/html": "<div>\n<style scoped>\n    .dataframe tbody tr th:only-of-type {\n        vertical-align: middle;\n    }\n\n    .dataframe tbody tr th {\n        vertical-align: top;\n    }\n\n    .dataframe thead th {\n        text-align: right;\n    }\n</style>\n<table border=\"1\" class=\"dataframe\">\n  <thead>\n    <tr style=\"text-align: right;\">\n      <th></th>\n      <th>id</th>\n      <th>member_id</th>\n      <th>loan_amnt</th>\n      <th>funded_amnt</th>\n      <th>funded_amnt_inv</th>\n      <th>int_rate</th>\n      <th>installment</th>\n      <th>annual_inc</th>\n      <th>dti</th>\n      <th>delinq_2yrs</th>\n      <th>...</th>\n      <th>last_credit_pull_d_Nov-2016</th>\n      <th>last_credit_pull_d_Oct-2015</th>\n      <th>last_credit_pull_d_Oct-2016</th>\n      <th>last_credit_pull_d_Sep-2015</th>\n      <th>last_credit_pull_d_Sep-2016</th>\n      <th>application_type_INDIVIDUAL</th>\n      <th>application_type_JOINT</th>\n      <th>verification_status_joint_Not Verified</th>\n      <th>verification_status_joint_Source Verified</th>\n      <th>verification_status_joint_Verified</th>\n    </tr>\n  </thead>\n  <tbody>\n    <tr>\n      <th>0</th>\n      <td>68009401.0</td>\n      <td>72868139.0</td>\n      <td>16000.0</td>\n      <td>16000.0</td>\n      <td>16000.0</td>\n      <td>14.85</td>\n      <td>379.39</td>\n      <td>48000.0</td>\n      <td>33.18</td>\n      <td>0.0</td>\n      <td>...</td>\n      <td>0</td>\n      <td>0</td>\n      <td>0</td>\n      <td>0</td>\n      <td>0</td>\n      <td>1</td>\n      <td>0</td>\n      <td>0</td>\n      <td>0</td>\n      <td>0</td>\n    </tr>\n    <tr>\n      <th>1</th>\n      <td>68354783.0</td>\n      <td>73244544.0</td>\n      <td>9600.0</td>\n      <td>9600.0</td>\n      <td>9600.0</td>\n      <td>7.49</td>\n      <td>298.58</td>\n      <td>60000.0</td>\n      <td>22.44</td>\n      <td>0.0</td>\n      <td>...</td>\n      <td>0</td>\n      <td>0</td>\n      <td>0</td>\n      <td>0</td>\n      <td>0</td>\n      <td>1</td>\n      <td>0</td>\n      <td>0</td>\n      <td>0</td>\n      <td>0</td>\n    </tr>\n    <tr>\n      <th>2</th>\n      <td>68466916.0</td>\n      <td>73356753.0</td>\n      <td>25000.0</td>\n      <td>25000.0</td>\n      <td>25000.0</td>\n      <td>7.49</td>\n      <td>777.55</td>\n      <td>109000.0</td>\n      <td>26.02</td>\n      <td>0.0</td>\n      <td>...</td>\n      <td>0</td>\n      <td>0</td>\n      <td>0</td>\n      <td>0</td>\n      <td>0</td>\n      <td>1</td>\n      <td>0</td>\n      <td>0</td>\n      <td>0</td>\n      <td>0</td>\n    </tr>\n    <tr>\n      <th>3</th>\n      <td>68466961.0</td>\n      <td>73356799.0</td>\n      <td>28000.0</td>\n      <td>28000.0</td>\n      <td>28000.0</td>\n      <td>6.49</td>\n      <td>858.05</td>\n      <td>92000.0</td>\n      <td>21.60</td>\n      <td>0.0</td>\n      <td>...</td>\n      <td>0</td>\n      <td>0</td>\n      <td>0</td>\n      <td>0</td>\n      <td>0</td>\n      <td>1</td>\n      <td>0</td>\n      <td>0</td>\n      <td>0</td>\n      <td>0</td>\n    </tr>\n    <tr>\n      <th>4</th>\n      <td>68495092.0</td>\n      <td>73384866.0</td>\n      <td>8650.0</td>\n      <td>8650.0</td>\n      <td>8650.0</td>\n      <td>19.89</td>\n      <td>320.99</td>\n      <td>55000.0</td>\n      <td>25.49</td>\n      <td>0.0</td>\n      <td>...</td>\n      <td>0</td>\n      <td>0</td>\n      <td>0</td>\n      <td>0</td>\n      <td>0</td>\n      <td>1</td>\n      <td>0</td>\n      <td>0</td>\n      <td>0</td>\n      <td>0</td>\n    </tr>\n  </tbody>\n</table>\n<p>5 rows × 201 columns</p>\n</div>",
        "text/plain": "           id   member_id  loan_amnt  funded_amnt  funded_amnt_inv  int_rate  \\\n0  68009401.0  72868139.0    16000.0      16000.0          16000.0     14.85   \n1  68354783.0  73244544.0     9600.0       9600.0           9600.0      7.49   \n2  68466916.0  73356753.0    25000.0      25000.0          25000.0      7.49   \n3  68466961.0  73356799.0    28000.0      28000.0          28000.0      6.49   \n4  68495092.0  73384866.0     8650.0       8650.0           8650.0     19.89   \n\n   installment  annual_inc    dti  delinq_2yrs  ...  \\\n0       379.39     48000.0  33.18          0.0  ...   \n1       298.58     60000.0  22.44          0.0  ...   \n2       777.55    109000.0  26.02          0.0  ...   \n3       858.05     92000.0  21.60          0.0  ...   \n4       320.99     55000.0  25.49          0.0  ...   \n\n   last_credit_pull_d_Nov-2016  last_credit_pull_d_Oct-2015  \\\n0                            0                            0   \n1                            0                            0   \n2                            0                            0   \n3                            0                            0   \n4                            0                            0   \n\n   last_credit_pull_d_Oct-2016  last_credit_pull_d_Sep-2015  \\\n0                            0                            0   \n1                            0                            0   \n2                            0                            0   \n3                            0                            0   \n4                            0                            0   \n\n   last_credit_pull_d_Sep-2016  application_type_INDIVIDUAL  \\\n0                            0                            1   \n1                            0                            1   \n2                            0                            1   \n3                            0                            1   \n4                            0                            1   \n\n   application_type_JOINT  verification_status_joint_Not Verified  \\\n0                       0                                       0   \n1                       0                                       0   \n2                       0                                       0   \n3                       0                                       0   \n4                       0                                       0   \n\n   verification_status_joint_Source Verified  \\\n0                                          0   \n1                                          0   \n2                                          0   \n3                                          0   \n4                                          0   \n\n   verification_status_joint_Verified  \n0                                   0  \n1                                   0  \n2                                   0  \n3                                   0  \n4                                   0  \n\n[5 rows x 201 columns]"
       },
       "execution_count": 33,
       "metadata": {},
       "output_type": "execute_result"
      }
     ],
     "persistentId": "ac269058-e82e-4737-b5a5-427d36d206fe",
     "text": "X.head()"
    },
    "executionTime": "2020-01-13T05:32:57.767Z"
   },
   {
    "cell": {
     "executionCount": 34,
     "executionEventId": "7d764296-0217-4df1-a23e-6d8b446dd3e6",
     "hasError": false,
     "id": "629a46fb-7d4a-4f63-bfb1-c0166b268207",
     "outputs": [],
     "persistentId": "4e3ca1f8-8bae-43e4-b8de-6487e6a331c7",
     "text": "from sklearn.svm import LinearSVC"
    },
    "executionTime": "2020-01-13T05:34:34.575Z"
   },
   {
    "cell": {
     "executionCount": 1,
     "executionEventId": "bb6320dc-39d3-4816-84bc-2d5192aeb5ff",
     "hasError": false,
     "id": "087d1d67-aec1-4c65-9310-ba063529c530",
     "outputs": [],
     "persistentId": "47827e5d-9598-4b20-88c8-d5f63cfe04b4",
     "text": "# import libraries\nimport pandas as pd\nimport numpy as np\nimport matplotlib.pyplot as plt\nfrom sklearn import ensemble\nfrom sklearn.model_selection import cross_val_score\n\n%matplotlib inline"
    },
    "executionTime": "2020-01-13T05:40:28.383Z"
   },
   {
    "cell": {
     "executionCount": 2,
     "executionEventId": "0b680d39-46ef-40f3-a299-3f00a7e41fde",
     "hasError": false,
     "id": "4b387283-d2d1-4abf-98c7-2cb0238c4f1a",
     "outputs": [
      {
       "name": "stderr",
       "output_type": "stream",
       "text": "/Users/apple/anaconda3/lib/python3.7/site-packages/IPython/core/interactiveshell.py:3057: DtypeWarning: Columns (0,19,55) have mixed types. Specify dtype option on import or set low_memory=False.\n  interactivity=interactivity, compiler=compiler, result=result)\n"
      },
      {
       "data": {
        "text/html": "<div>\n<style scoped>\n    .dataframe tbody tr th:only-of-type {\n        vertical-align: middle;\n    }\n\n    .dataframe tbody tr th {\n        vertical-align: top;\n    }\n\n    .dataframe thead th {\n        text-align: right;\n    }\n</style>\n<table border=\"1\" class=\"dataframe\">\n  <thead>\n    <tr style=\"text-align: right;\">\n      <th></th>\n      <th>id</th>\n      <th>member_id</th>\n      <th>loan_amnt</th>\n      <th>funded_amnt</th>\n      <th>funded_amnt_inv</th>\n      <th>term</th>\n      <th>int_rate</th>\n      <th>installment</th>\n      <th>grade</th>\n      <th>sub_grade</th>\n      <th>...</th>\n      <th>num_tl_90g_dpd_24m</th>\n      <th>num_tl_op_past_12m</th>\n      <th>pct_tl_nvr_dlq</th>\n      <th>percent_bc_gt_75</th>\n      <th>pub_rec_bankruptcies</th>\n      <th>tax_liens</th>\n      <th>tot_hi_cred_lim</th>\n      <th>total_bal_ex_mort</th>\n      <th>total_bc_limit</th>\n      <th>total_il_high_credit_limit</th>\n    </tr>\n  </thead>\n  <tbody>\n    <tr>\n      <th>0</th>\n      <td>68009401</td>\n      <td>72868139.0</td>\n      <td>16000.0</td>\n      <td>16000.0</td>\n      <td>16000.0</td>\n      <td>60 months</td>\n      <td>14.85%</td>\n      <td>379.39</td>\n      <td>C</td>\n      <td>C5</td>\n      <td>...</td>\n      <td>0.0</td>\n      <td>2.0</td>\n      <td>78.9</td>\n      <td>0.0</td>\n      <td>0.0</td>\n      <td>2.0</td>\n      <td>298100.0</td>\n      <td>31329.0</td>\n      <td>281300.0</td>\n      <td>13400.0</td>\n    </tr>\n    <tr>\n      <th>1</th>\n      <td>68354783</td>\n      <td>73244544.0</td>\n      <td>9600.0</td>\n      <td>9600.0</td>\n      <td>9600.0</td>\n      <td>36 months</td>\n      <td>7.49%</td>\n      <td>298.58</td>\n      <td>A</td>\n      <td>A4</td>\n      <td>...</td>\n      <td>0.0</td>\n      <td>2.0</td>\n      <td>100.0</td>\n      <td>66.7</td>\n      <td>0.0</td>\n      <td>0.0</td>\n      <td>88635.0</td>\n      <td>55387.0</td>\n      <td>12500.0</td>\n      <td>75635.0</td>\n    </tr>\n    <tr>\n      <th>2</th>\n      <td>68466916</td>\n      <td>73356753.0</td>\n      <td>25000.0</td>\n      <td>25000.0</td>\n      <td>25000.0</td>\n      <td>36 months</td>\n      <td>7.49%</td>\n      <td>777.55</td>\n      <td>A</td>\n      <td>A4</td>\n      <td>...</td>\n      <td>0.0</td>\n      <td>0.0</td>\n      <td>100.0</td>\n      <td>20.0</td>\n      <td>0.0</td>\n      <td>0.0</td>\n      <td>373572.0</td>\n      <td>68056.0</td>\n      <td>38400.0</td>\n      <td>82117.0</td>\n    </tr>\n    <tr>\n      <th>3</th>\n      <td>68466961</td>\n      <td>73356799.0</td>\n      <td>28000.0</td>\n      <td>28000.0</td>\n      <td>28000.0</td>\n      <td>36 months</td>\n      <td>6.49%</td>\n      <td>858.05</td>\n      <td>A</td>\n      <td>A2</td>\n      <td>...</td>\n      <td>0.0</td>\n      <td>0.0</td>\n      <td>91.7</td>\n      <td>22.2</td>\n      <td>0.0</td>\n      <td>0.0</td>\n      <td>304003.0</td>\n      <td>74920.0</td>\n      <td>41500.0</td>\n      <td>42503.0</td>\n    </tr>\n    <tr>\n      <th>4</th>\n      <td>68495092</td>\n      <td>73384866.0</td>\n      <td>8650.0</td>\n      <td>8650.0</td>\n      <td>8650.0</td>\n      <td>36 months</td>\n      <td>19.89%</td>\n      <td>320.99</td>\n      <td>E</td>\n      <td>E3</td>\n      <td>...</td>\n      <td>0.0</td>\n      <td>12.0</td>\n      <td>100.0</td>\n      <td>50.0</td>\n      <td>1.0</td>\n      <td>0.0</td>\n      <td>38998.0</td>\n      <td>18926.0</td>\n      <td>2750.0</td>\n      <td>18248.0</td>\n    </tr>\n  </tbody>\n</table>\n<p>5 rows × 111 columns</p>\n</div>",
        "text/plain": "         id   member_id  loan_amnt  funded_amnt  funded_amnt_inv        term  \\\n0  68009401  72868139.0    16000.0      16000.0          16000.0   60 months   \n1  68354783  73244544.0     9600.0       9600.0           9600.0   36 months   \n2  68466916  73356753.0    25000.0      25000.0          25000.0   36 months   \n3  68466961  73356799.0    28000.0      28000.0          28000.0   36 months   \n4  68495092  73384866.0     8650.0       8650.0           8650.0   36 months   \n\n  int_rate  installment grade sub_grade  ... num_tl_90g_dpd_24m  \\\n0   14.85%       379.39     C        C5  ...                0.0   \n1    7.49%       298.58     A        A4  ...                0.0   \n2    7.49%       777.55     A        A4  ...                0.0   \n3    6.49%       858.05     A        A2  ...                0.0   \n4   19.89%       320.99     E        E3  ...                0.0   \n\n  num_tl_op_past_12m pct_tl_nvr_dlq  percent_bc_gt_75 pub_rec_bankruptcies  \\\n0                2.0           78.9               0.0                  0.0   \n1                2.0          100.0              66.7                  0.0   \n2                0.0          100.0              20.0                  0.0   \n3                0.0           91.7              22.2                  0.0   \n4               12.0          100.0              50.0                  1.0   \n\n  tax_liens tot_hi_cred_lim total_bal_ex_mort total_bc_limit  \\\n0       2.0        298100.0           31329.0       281300.0   \n1       0.0         88635.0           55387.0        12500.0   \n2       0.0        373572.0           68056.0        38400.0   \n3       0.0        304003.0           74920.0        41500.0   \n4       0.0         38998.0           18926.0         2750.0   \n\n  total_il_high_credit_limit  \n0                    13400.0  \n1                    75635.0  \n2                    82117.0  \n3                    42503.0  \n4                    18248.0  \n\n[5 rows x 111 columns]"
       },
       "execution_count": 2,
       "metadata": {},
       "output_type": "execute_result"
      }
     ],
     "persistentId": "0ff2576a-01f5-4050-a162-f50f1dadb654",
     "text": "# read data from file\nraw = pd.read_csv(\"LoanStats3d.csv\", skipinitialspace=True, header=1)\n\n# show first 5 rows\nraw.head()"
    },
    "executionTime": "2020-01-13T05:40:49.773Z"
   },
   {
    "cell": {
     "executionCount": 3,
     "executionEventId": "fc1b00d5-722e-47dc-ba09-92c23f41fa33",
     "hasError": false,
     "id": "2c8ad38f-dc24-422d-bc25-58618650d28e",
     "outputs": [
      {
       "name": "stdout",
       "output_type": "stream",
       "text": "id: 421097\nterm: 2\nint_rate: 110\ngrade: 7\nsub_grade: 35\nemp_title: 120812\nemp_length: 11\nhome_ownership: 4\nverification_status: 3\nissue_d: 12\nloan_status: 7\npymnt_plan: 1\nurl: 421095\ndesc: 34\npurpose: 14\ntitle: 27\nzip_code: 914\naddr_state: 49\nearliest_cr_line: 668\nrevol_util: 1211\ninitial_list_status: 2\nlast_pymnt_d: 25\nnext_pymnt_d: 4\nlast_credit_pull_d: 26\napplication_type: 2\nverification_status_joint: 3\n"
      }
     ],
     "persistentId": "5b2f0e29-b19e-4b09-a92b-aa4ad1a3d6ce",
     "text": "# number of unique values in each column\ncategorical = raw.select_dtypes(include=['object'])\nfor col in categorical.columns:\n    print(\"{}: {}\".format(col, categorical[col].nunique()))"
    },
    "executionTime": "2020-01-13T05:40:52.995Z"
   },
   {
    "cell": {
     "executionCount": 4,
     "executionEventId": "36b34fac-f391-4340-8e12-f8ae0752ee0d",
     "hasError": false,
     "id": "8b44dda3-0965-4d6d-8ead-a544a81537c6",
     "outputs": [],
     "persistentId": "7cf6bb84-5b95-4d11-ada9-a353bb090802",
     "text": "# create a copy of the original data\nloans = raw.copy()\n\n# convert ID and interest rate to numeric.\nloans['id'] = pd.to_numeric(loans['id'], errors='coerce')\nloans['int_rate'] = pd.to_numeric(loans['int_rate'].str.strip('%'), errors='coerce')\n\n# drop columns with too many unique values\nloans.drop(['url', 'emp_title', 'zip_code', 'earliest_cr_line', 'revol_util',\n            'sub_grade', 'addr_state', 'desc'], 1, inplace=True)"
    },
    "executionTime": "2020-01-13T05:40:56.615Z"
   },
   {
    "cell": {
     "executionCount": 5,
     "executionEventId": "94f77c95-45a0-40e6-990d-4e303112bc0a",
     "hasError": false,
     "id": "baefa0f7-32a1-438c-aa48-793ebea67d67",
     "outputs": [],
     "persistentId": "fe0fe1d8-47dc-4b67-966d-e861dab860a1",
     "text": "loans.dropna(how='all', inplace=True)"
    },
    "executionTime": "2020-01-13T05:41:01.356Z"
   },
   {
    "cell": {
     "executionCount": 6,
     "executionEventId": "0b6baf50-67c6-450e-9a07-6d6032ac4e2a",
     "hasError": false,
     "id": "3da9939a-49f9-48bf-a56e-ebb405c8b3cf",
     "outputs": [],
     "persistentId": "6f1ff233-ce94-44e5-859d-c76a439ea125",
     "text": "# target variable\ny = loans['loan_status']\n\n# feature vector\nX = loans.drop('loan_status', 1)\n\n# one hot encoding \nX = pd.get_dummies(X)\n\n# drop rows with missing data\nX = X.dropna(axis=1)"
    },
    "executionTime": "2020-01-13T05:41:07.048Z"
   },
   {
    "cell": {
     "executionCount": 7,
     "executionEventId": "c027960e-e0ce-4abe-b314-9e7cfbb2dd04",
     "hasError": false,
     "id": "e1281e8f-0c88-43b5-a4f9-12943fdc8924",
     "outputs": [],
     "persistentId": "62a4a7f7-5e25-4fb8-9b8d-53cfb4745cf2",
     "text": "from sklearn.preprocessing import StandardScaler\n\nsc = StandardScaler()\nX = sc.fit_transform(X)"
    },
    "executionTime": "2020-01-13T05:45:30.843Z"
   },
   {
    "cell": {
     "executionCount": 8,
     "executionEventId": "640846f4-094e-4548-b599-d0d72a9bbe8e",
     "hasError": false,
     "id": "223d0685-d5f6-49cf-abbe-1afcc281fbd2",
     "outputs": [],
     "persistentId": "d6f2fdcc-c442-4c0d-9f40-b4badf1e881b",
     "text": "from sklearn.decomposition import PCA\n\npca = PCA()\nX = pca.fit_transform(X)"
    },
    "executionTime": "2020-01-13T05:46:57.187Z"
   },
   {
    "cell": {
     "executionCount": 9,
     "executionEventId": "543e5d77-f995-46b6-a20a-08eea65d2e95",
     "hasError": false,
     "id": "b0c3db21-2db5-4204-b1f7-14a90bff960a",
     "outputs": [],
     "persistentId": "8508952b-772a-469e-8553-7cfecbaa41ab",
     "text": "explained_variance = pca.explained_variance_ratio_"
    },
    "executionTime": "2020-01-13T05:47:18.792Z"
   },
   {
    "cell": {
     "executionCount": 10,
     "executionEventId": "72d33225-f76c-4988-bc9e-e629383a965e",
     "hasError": false,
     "id": "76997043-0994-4175-8bc9-2d3a3c845e69",
     "outputs": [
      {
       "data": {
        "text/plain": "array([5.39819192e-02, 3.10090898e-02, 3.00102910e-02, 2.38085460e-02,\n       1.89730386e-02, 1.61485790e-02, 1.58141780e-02, 1.46920093e-02,\n       1.31939156e-02, 1.28921523e-02, 1.17054573e-02, 1.12642471e-02,\n       1.06395200e-02, 1.03628127e-02, 1.02647375e-02, 1.01640595e-02,\n       1.01311914e-02, 1.01063990e-02, 1.00783996e-02, 1.00563939e-02,\n       1.00289809e-02, 9.86732751e-03, 9.76003149e-03, 9.50640203e-03,\n       8.91364650e-03, 8.33104507e-03, 8.08788132e-03, 7.63605439e-03,\n       7.54539264e-03, 7.40426756e-03, 7.26111289e-03, 7.18241713e-03,\n       7.08061647e-03, 7.02475110e-03, 6.91971111e-03, 6.89686499e-03,\n       6.83314402e-03, 6.79215039e-03, 6.68869513e-03, 6.66134453e-03,\n       6.57991231e-03, 6.52806467e-03, 6.49043277e-03, 6.42358782e-03,\n       6.37717837e-03, 6.33677893e-03, 6.27065098e-03, 6.25025725e-03,\n       6.18572633e-03, 6.11502803e-03, 5.99628574e-03, 5.95964972e-03,\n       5.88270206e-03, 5.85340690e-03, 5.82335632e-03, 5.81388937e-03,\n       5.79155570e-03, 5.67338434e-03, 5.64903126e-03, 5.59327467e-03,\n       5.53792117e-03, 5.50659079e-03, 5.49098899e-03, 5.45238604e-03,\n       5.44201069e-03, 5.42665911e-03, 5.38994946e-03, 5.37794628e-03,\n       5.36071188e-03, 5.32374665e-03, 5.32317875e-03, 5.31118564e-03,\n       5.29622984e-03, 5.27301045e-03, 5.25787917e-03, 5.24812212e-03,\n       5.24184610e-03, 5.21921846e-03, 5.17630262e-03, 5.16834849e-03,\n       5.12905497e-03, 5.08191710e-03, 5.07077190e-03, 5.05928924e-03,\n       5.02617780e-03, 5.02547518e-03, 5.02527117e-03, 5.02456476e-03,\n       5.02404672e-03, 5.02369877e-03, 5.02368142e-03, 5.02233334e-03,\n       5.02200179e-03, 5.02133113e-03, 5.02017169e-03, 5.01911653e-03,\n       5.01865425e-03, 5.01671802e-03, 5.01340275e-03, 5.01052522e-03,\n       5.00916674e-03, 4.99937936e-03, 4.99616019e-03, 4.95691182e-03,\n       4.93509583e-03, 4.89121428e-03, 4.80296578e-03, 4.78264796e-03,\n       4.69264224e-03, 4.62877762e-03, 4.35542302e-03, 4.31261504e-03,\n       4.27125547e-03, 4.21276204e-03, 4.16644407e-03, 4.12851917e-03,\n       4.08404663e-03, 4.07598321e-03, 3.94530934e-03, 3.90448575e-03,\n       3.87013855e-03, 3.82611283e-03, 3.71188912e-03, 3.62416052e-03,\n       3.56216051e-03, 3.54923286e-03, 3.50813581e-03, 3.49786953e-03,\n       3.46268391e-03, 3.41126665e-03, 3.28770183e-03, 3.22549527e-03,\n       3.18859359e-03, 3.10045719e-03, 3.02387682e-03, 2.99052125e-03,\n       2.97093765e-03, 2.89722889e-03, 2.72318701e-03, 2.52410554e-03,\n       2.50868991e-03, 2.33277354e-03, 2.31118969e-03, 2.22022403e-03,\n       1.88655378e-03, 1.71217094e-03, 1.19122443e-03, 1.06568678e-03,\n       1.04679191e-03, 9.93520132e-04, 7.85772535e-04, 6.43259310e-04,\n       5.80172598e-04, 5.61594343e-04, 4.43009256e-04, 3.78731018e-04,\n       3.44387548e-04, 3.27463712e-04, 2.95574907e-04, 2.37636286e-04,\n       1.85320001e-04, 1.74781101e-04, 1.37291364e-04, 1.36500317e-04,\n       1.33605528e-04, 7.46594769e-05, 7.09258633e-05, 6.20293604e-05,\n       3.38872068e-05, 2.50696103e-05, 2.37585323e-05, 2.26714520e-05,\n       2.14649543e-05, 1.99682835e-05, 1.79561727e-05, 1.34801547e-05,\n       1.27898702e-05, 1.18208226e-05, 1.01430264e-05, 8.40888358e-06,\n       5.54198529e-06, 5.51631063e-06, 2.65914332e-06, 3.30654224e-07,\n       6.04695009e-08, 7.09191333e-09, 9.51306034e-10, 1.09912573e-17,\n       6.93058099e-32, 2.68963495e-32, 2.54152479e-32, 5.11764847e-33,\n       3.55940156e-33, 2.83216187e-33, 1.96758457e-33, 1.10225541e-33,\n       4.18637541e-34, 2.38697916e-34, 2.38697916e-34, 8.97791087e-35,\n       4.96407747e-36])"
       },
       "execution_count": 10,
       "metadata": {},
       "output_type": "execute_result"
      }
     ],
     "persistentId": "e5f5a0da-41f8-402e-b553-c480cbcec7c3",
     "text": "explained_variance"
    },
    "executionTime": "2020-01-13T05:47:34.001Z"
   },
   {
    "cell": {
     "executionCount": 1,
     "executionEventId": "25d1e254-c67e-4fbf-b900-5d7dfdb4ab14",
     "hasError": true,
     "id": "53453b41-2b36-4c9c-b536-ee4ba1a8017b",
     "outputs": [
      {
       "ename": "NameError",
       "evalue": "name 'loans' is not defined",
       "output_type": "error",
       "traceback": [
        "\u001b[0;31m---------------------------------------------------------------------------\u001b[0m",
        "\u001b[0;31mNameError\u001b[0m                                 Traceback (most recent call last)",
        "\u001b[0;32m<ipython-input-1-5d9bbde915fe>\u001b[0m in \u001b[0;36m<module>\u001b[0;34m\u001b[0m\n\u001b[0;32m----> 1\u001b[0;31m \u001b[0mloans\u001b[0m\u001b[0;34m.\u001b[0m\u001b[0mdropna\u001b[0m\u001b[0;34m(\u001b[0m\u001b[0mhow\u001b[0m\u001b[0;34m=\u001b[0m\u001b[0;34m\"all\"\u001b[0m\u001b[0;34m,\u001b[0m \u001b[0minplace\u001b[0m\u001b[0;34m=\u001b[0m\u001b[0;32mTrue\u001b[0m\u001b[0;34m)\u001b[0m\u001b[0;34m\u001b[0m\u001b[0;34m\u001b[0m\u001b[0m\n\u001b[0m",
        "\u001b[0;31mNameError\u001b[0m: name 'loans' is not defined"
       ]
      }
     ],
     "persistentId": "17c49fba-75fa-4a9c-b2ce-00b9d9177dd1",
     "text": "loans.dropna(how=\"all\", inplace=True)"
    },
    "executionTime": "2020-01-13T05:50:01.001Z"
   },
   {
    "cell": {
     "executionCount": 2,
     "executionEventId": "c7c98d84-17c6-42bb-ad76-e09de2a9bf40",
     "hasError": false,
     "id": "087d1d67-aec1-4c65-9310-ba063529c530",
     "outputs": [],
     "persistentId": "47827e5d-9598-4b20-88c8-d5f63cfe04b4",
     "text": "# import libraries\nimport pandas as pd\nimport numpy as np\nimport matplotlib.pyplot as plt\nfrom sklearn import ensemble\nfrom sklearn.model_selection import cross_val_score\nfrom sklearn.preprocessing import StandardScaler\n\n%matplotlib inline"
    },
    "executionTime": "2020-01-13T05:50:06.230Z"
   },
   {
    "cell": {
     "executionCount": 3,
     "executionEventId": "9defe874-443a-423f-9239-c81530bbce55",
     "hasError": false,
     "id": "4b387283-d2d1-4abf-98c7-2cb0238c4f1a",
     "outputs": [
      {
       "name": "stderr",
       "output_type": "stream",
       "text": "/Users/apple/anaconda3/lib/python3.7/site-packages/IPython/core/interactiveshell.py:3057: DtypeWarning: Columns (0,19,55) have mixed types. Specify dtype option on import or set low_memory=False.\n  interactivity=interactivity, compiler=compiler, result=result)\n"
      },
      {
       "data": {
        "text/html": "<div>\n<style scoped>\n    .dataframe tbody tr th:only-of-type {\n        vertical-align: middle;\n    }\n\n    .dataframe tbody tr th {\n        vertical-align: top;\n    }\n\n    .dataframe thead th {\n        text-align: right;\n    }\n</style>\n<table border=\"1\" class=\"dataframe\">\n  <thead>\n    <tr style=\"text-align: right;\">\n      <th></th>\n      <th>id</th>\n      <th>member_id</th>\n      <th>loan_amnt</th>\n      <th>funded_amnt</th>\n      <th>funded_amnt_inv</th>\n      <th>term</th>\n      <th>int_rate</th>\n      <th>installment</th>\n      <th>grade</th>\n      <th>sub_grade</th>\n      <th>...</th>\n      <th>num_tl_90g_dpd_24m</th>\n      <th>num_tl_op_past_12m</th>\n      <th>pct_tl_nvr_dlq</th>\n      <th>percent_bc_gt_75</th>\n      <th>pub_rec_bankruptcies</th>\n      <th>tax_liens</th>\n      <th>tot_hi_cred_lim</th>\n      <th>total_bal_ex_mort</th>\n      <th>total_bc_limit</th>\n      <th>total_il_high_credit_limit</th>\n    </tr>\n  </thead>\n  <tbody>\n    <tr>\n      <th>0</th>\n      <td>68009401</td>\n      <td>72868139.0</td>\n      <td>16000.0</td>\n      <td>16000.0</td>\n      <td>16000.0</td>\n      <td>60 months</td>\n      <td>14.85%</td>\n      <td>379.39</td>\n      <td>C</td>\n      <td>C5</td>\n      <td>...</td>\n      <td>0.0</td>\n      <td>2.0</td>\n      <td>78.9</td>\n      <td>0.0</td>\n      <td>0.0</td>\n      <td>2.0</td>\n      <td>298100.0</td>\n      <td>31329.0</td>\n      <td>281300.0</td>\n      <td>13400.0</td>\n    </tr>\n    <tr>\n      <th>1</th>\n      <td>68354783</td>\n      <td>73244544.0</td>\n      <td>9600.0</td>\n      <td>9600.0</td>\n      <td>9600.0</td>\n      <td>36 months</td>\n      <td>7.49%</td>\n      <td>298.58</td>\n      <td>A</td>\n      <td>A4</td>\n      <td>...</td>\n      <td>0.0</td>\n      <td>2.0</td>\n      <td>100.0</td>\n      <td>66.7</td>\n      <td>0.0</td>\n      <td>0.0</td>\n      <td>88635.0</td>\n      <td>55387.0</td>\n      <td>12500.0</td>\n      <td>75635.0</td>\n    </tr>\n    <tr>\n      <th>2</th>\n      <td>68466916</td>\n      <td>73356753.0</td>\n      <td>25000.0</td>\n      <td>25000.0</td>\n      <td>25000.0</td>\n      <td>36 months</td>\n      <td>7.49%</td>\n      <td>777.55</td>\n      <td>A</td>\n      <td>A4</td>\n      <td>...</td>\n      <td>0.0</td>\n      <td>0.0</td>\n      <td>100.0</td>\n      <td>20.0</td>\n      <td>0.0</td>\n      <td>0.0</td>\n      <td>373572.0</td>\n      <td>68056.0</td>\n      <td>38400.0</td>\n      <td>82117.0</td>\n    </tr>\n    <tr>\n      <th>3</th>\n      <td>68466961</td>\n      <td>73356799.0</td>\n      <td>28000.0</td>\n      <td>28000.0</td>\n      <td>28000.0</td>\n      <td>36 months</td>\n      <td>6.49%</td>\n      <td>858.05</td>\n      <td>A</td>\n      <td>A2</td>\n      <td>...</td>\n      <td>0.0</td>\n      <td>0.0</td>\n      <td>91.7</td>\n      <td>22.2</td>\n      <td>0.0</td>\n      <td>0.0</td>\n      <td>304003.0</td>\n      <td>74920.0</td>\n      <td>41500.0</td>\n      <td>42503.0</td>\n    </tr>\n    <tr>\n      <th>4</th>\n      <td>68495092</td>\n      <td>73384866.0</td>\n      <td>8650.0</td>\n      <td>8650.0</td>\n      <td>8650.0</td>\n      <td>36 months</td>\n      <td>19.89%</td>\n      <td>320.99</td>\n      <td>E</td>\n      <td>E3</td>\n      <td>...</td>\n      <td>0.0</td>\n      <td>12.0</td>\n      <td>100.0</td>\n      <td>50.0</td>\n      <td>1.0</td>\n      <td>0.0</td>\n      <td>38998.0</td>\n      <td>18926.0</td>\n      <td>2750.0</td>\n      <td>18248.0</td>\n    </tr>\n  </tbody>\n</table>\n<p>5 rows × 111 columns</p>\n</div>",
        "text/plain": "         id   member_id  loan_amnt  funded_amnt  funded_amnt_inv        term  \\\n0  68009401  72868139.0    16000.0      16000.0          16000.0   60 months   \n1  68354783  73244544.0     9600.0       9600.0           9600.0   36 months   \n2  68466916  73356753.0    25000.0      25000.0          25000.0   36 months   \n3  68466961  73356799.0    28000.0      28000.0          28000.0   36 months   \n4  68495092  73384866.0     8650.0       8650.0           8650.0   36 months   \n\n  int_rate  installment grade sub_grade  ... num_tl_90g_dpd_24m  \\\n0   14.85%       379.39     C        C5  ...                0.0   \n1    7.49%       298.58     A        A4  ...                0.0   \n2    7.49%       777.55     A        A4  ...                0.0   \n3    6.49%       858.05     A        A2  ...                0.0   \n4   19.89%       320.99     E        E3  ...                0.0   \n\n  num_tl_op_past_12m pct_tl_nvr_dlq  percent_bc_gt_75 pub_rec_bankruptcies  \\\n0                2.0           78.9               0.0                  0.0   \n1                2.0          100.0              66.7                  0.0   \n2                0.0          100.0              20.0                  0.0   \n3                0.0           91.7              22.2                  0.0   \n4               12.0          100.0              50.0                  1.0   \n\n  tax_liens tot_hi_cred_lim total_bal_ex_mort total_bc_limit  \\\n0       2.0        298100.0           31329.0       281300.0   \n1       0.0         88635.0           55387.0        12500.0   \n2       0.0        373572.0           68056.0        38400.0   \n3       0.0        304003.0           74920.0        41500.0   \n4       0.0         38998.0           18926.0         2750.0   \n\n  total_il_high_credit_limit  \n0                    13400.0  \n1                    75635.0  \n2                    82117.0  \n3                    42503.0  \n4                    18248.0  \n\n[5 rows x 111 columns]"
       },
       "execution_count": 3,
       "metadata": {},
       "output_type": "execute_result"
      }
     ],
     "persistentId": "0ff2576a-01f5-4050-a162-f50f1dadb654",
     "text": "# read data from file\nraw = pd.read_csv(\"LoanStats3d.csv\", skipinitialspace=True, header=1)\n\n# show first 5 rows\nraw.head()"
    },
    "executionTime": "2020-01-13T05:51:42.102Z"
   },
   {
    "cell": {
     "executionCount": 4,
     "executionEventId": "34b8cab1-5425-4502-8df4-c7ed302fa34e",
     "hasError": false,
     "id": "2c8ad38f-dc24-422d-bc25-58618650d28e",
     "outputs": [
      {
       "name": "stdout",
       "output_type": "stream",
       "text": "id: 421097\nterm: 2\nint_rate: 110\ngrade: 7\nsub_grade: 35\nemp_title: 120812\nemp_length: 11\nhome_ownership: 4\nverification_status: 3\nissue_d: 12\nloan_status: 7\npymnt_plan: 1\nurl: 421095\ndesc: 34\npurpose: 14\ntitle: 27\nzip_code: 914\naddr_state: 49\nearliest_cr_line: 668\nrevol_util: 1211\ninitial_list_status: 2\nlast_pymnt_d: 25\nnext_pymnt_d: 4\nlast_credit_pull_d: 26\napplication_type: 2\nverification_status_joint: 3\n"
      }
     ],
     "persistentId": "5b2f0e29-b19e-4b09-a92b-aa4ad1a3d6ce",
     "text": "# number of unique values in each column\ncategorical = raw.select_dtypes(include=[\"object\"])\nfor col in categorical.columns:\n    print(\"{}: {}\".format(col, categorical[col].nunique()))"
    },
    "executionTime": "2020-01-13T05:51:45.076Z"
   },
   {
    "cell": {
     "executionCount": 5,
     "executionEventId": "30986cc6-765e-4091-ad49-27453ce7f842",
     "hasError": false,
     "id": "8b44dda3-0965-4d6d-8ead-a544a81537c6",
     "outputs": [],
     "persistentId": "7cf6bb84-5b95-4d11-ada9-a353bb090802",
     "text": "# create a copy of the original data\nloans = raw.copy()\n\n# convert ID and interest rate to numeric.\nloans[\"id\"] = pd.to_numeric(loans[\"id\"], errors=\"coerce\")\nloans[\"int_rate\"] = pd.to_numeric(loans[\"int_rate\"].str.strip(\"%\"), errors=\"coerce\")\n\n# drop columns with too many unique values\nloans.drop(\n    [\n        \"url\",\n        \"emp_title\",\n        \"zip_code\",\n        \"earliest_cr_line\",\n        \"revol_util\",\n        \"sub_grade\",\n        \"addr_state\",\n        \"desc\",\n    ],\n    1,\n    inplace=True,\n)"
    },
    "executionTime": "2020-01-13T05:51:48.100Z"
   },
   {
    "cell": {
     "executionCount": 6,
     "executionEventId": "7903369b-5376-4f2f-9cee-4c00c2892850",
     "hasError": false,
     "id": "53453b41-2b36-4c9c-b536-ee4ba1a8017b",
     "outputs": [],
     "persistentId": "17c49fba-75fa-4a9c-b2ce-00b9d9177dd1",
     "text": "loans.dropna(how=\"all\", inplace=True)"
    },
    "executionTime": "2020-01-13T05:51:51.198Z"
   },
   {
    "cell": {
     "executionCount": 7,
     "executionEventId": "efb04517-7345-4ec7-9021-65a8b764be24",
     "hasError": false,
     "id": "8ef58257-96a8-4380-8307-c2b3b1f47574",
     "outputs": [],
     "persistentId": "2017abed-11da-4e1d-9b28-cb95437c807e",
     "text": "# target variable\ny = loans[\"loan_status\"]\n\n# feature vector\nX = loans.drop(\"loan_status\", 1)\n\n# one hot encoding\nX = pd.get_dummies(X)\n\n# drop rows with missing data\nX = X.dropna(axis=1)"
    },
    "executionTime": "2020-01-13T05:51:59.384Z"
   },
   {
    "cell": {
     "executionCount": 8,
     "executionEventId": "50ddc310-7037-424b-9fd8-5d060779cee6",
     "hasError": false,
     "id": "a13682dc-de05-408b-8417-8f6551dd7510",
     "outputs": [],
     "persistentId": "90f8fe66-3b9f-41a0-bc75-02a19dfe9795",
     "text": "from sklearn.model_selection import train_test_split\n\nX_train, X_test, y_train, y_test = train_test_split(X, y, test_size=0.2, random_state=0)"
    },
    "executionTime": "2020-01-13T05:55:29.181Z"
   },
   {
    "cell": {
     "executionCount": 9,
     "executionEventId": "88a27a08-8a5a-4b0f-9eb3-508458e96f58",
     "hasError": false,
     "id": "223d0685-d5f6-49cf-abbe-1afcc281fbd2",
     "outputs": [],
     "persistentId": "d6f2fdcc-c442-4c0d-9f40-b4badf1e881b",
     "text": "from sklearn.decomposition import PCA\n\nsc = StandardScaler()\nX_train = sc.fit_transform(X_train)\nX_test = sc.transform(X_test)"
    },
    "executionTime": "2020-01-13T05:56:08.147Z"
   },
   {
    "cell": {
     "executionCount": 10,
     "executionEventId": "b9700b8e-3f52-4ce1-b0f4-a6463d7bf121",
     "hasError": false,
     "id": "223d0685-d5f6-49cf-abbe-1afcc281fbd2",
     "outputs": [],
     "persistentId": "d6f2fdcc-c442-4c0d-9f40-b4badf1e881b",
     "text": "sc = StandardScaler()\nX_train = sc.fit_transform(X_train)\nX_test = sc.transform(X_test)"
    },
    "executionTime": "2020-01-13T05:56:22.494Z"
   },
   {
    "cell": {
     "executionCount": 11,
     "executionEventId": "0e51bee5-8480-4843-b932-9c8d06853e85",
     "hasError": false,
     "id": "223d0685-d5f6-49cf-abbe-1afcc281fbd2",
     "outputs": [],
     "persistentId": "d6f2fdcc-c442-4c0d-9f40-b4badf1e881b",
     "text": "pca = PCA()\nX_train = pca.fit_transform(X_train)\nX_test = pca.transform(X_test)"
    },
    "executionTime": "2020-01-13T05:57:43.341Z"
   },
   {
    "cell": {
     "executionCount": 12,
     "executionEventId": "97de25b7-36d0-4ccd-951b-5b616af2d540",
     "hasError": false,
     "id": "6ad2d56c-1f7f-4978-bc83-ef6fa815a6aa",
     "outputs": [],
     "persistentId": "9db882cf-c91c-4a3d-b367-a18fda494f9b",
     "text": "sc = StandardScaler()\nX_train = sc.fit_transform(X_train)\nX_test = sc.transform(X_test)"
    },
    "executionTime": "2020-01-13T05:57:44.850Z"
   },
   {
    "cell": {
     "executionCount": 13,
     "executionEventId": "d3df5e87-a5bd-4c6a-be41-6e41f5c4f7fd",
     "hasError": false,
     "id": "b0c3db21-2db5-4204-b1f7-14a90bff960a",
     "outputs": [],
     "persistentId": "8508952b-772a-469e-8553-7cfecbaa41ab",
     "text": "explained_variance = pca.explained_variance_ratio_"
    },
    "executionTime": "2020-01-13T05:59:44.414Z"
   },
   {
    "cell": {
     "executionCount": 14,
     "executionEventId": "506ad64f-90dc-41a6-8946-307526faf021",
     "hasError": false,
     "id": "b0c3db21-2db5-4204-b1f7-14a90bff960a",
     "outputs": [],
     "persistentId": "8508952b-772a-469e-8553-7cfecbaa41ab",
     "text": "explained_variance = pca.explained_variance_ratio_\nexplained_variance = pca.explained_variance_ratio_"
    },
    "executionTime": "2020-01-13T05:59:51.005Z"
   },
   {
    "cell": {
     "executionCount": 15,
     "executionEventId": "256399d2-cce8-4871-bc2e-1be0ce2886bc",
     "hasError": false,
     "id": "b0c3db21-2db5-4204-b1f7-14a90bff960a",
     "outputs": [
      {
       "data": {
        "text/plain": "array([5.47679187e-02, 3.14952225e-02, 3.04838918e-02, 2.41916830e-02,\n       1.92303301e-02, 1.63998694e-02, 1.60476916e-02, 1.49137970e-02,\n       1.33919503e-02, 1.31028093e-02, 1.18896244e-02, 1.14368374e-02,\n       1.08086713e-02, 1.05223571e-02, 1.04209600e-02, 1.03186666e-02,\n       1.02878512e-02, 1.02596968e-02, 1.02300914e-02, 1.02116258e-02,\n       1.02030244e-02, 1.00036600e-02, 9.92423952e-03, 9.65823923e-03,\n       9.01262195e-03, 8.46630255e-03, 8.22889575e-03, 7.78506549e-03,\n       7.67448533e-03, 7.52392645e-03, 7.37579974e-03, 7.28243479e-03,\n       7.19824504e-03, 7.13352959e-03, 7.02560117e-03, 6.99852947e-03,\n       6.95424308e-03, 6.89571126e-03, 6.80203197e-03, 6.76808079e-03,\n       6.68141041e-03, 6.62114030e-03, 6.58451914e-03, 6.52230586e-03,\n       6.46024828e-03, 6.43187794e-03, 6.37010805e-03, 6.31794131e-03,\n       6.24610850e-03, 6.20405937e-03, 6.08813630e-03, 6.04549099e-03,\n       5.95541125e-03, 5.93886455e-03, 5.92136266e-03, 5.89549122e-03,\n       5.88943848e-03, 5.76317586e-03, 5.72976150e-03, 5.67618169e-03,\n       5.61441272e-03, 5.59088338e-03, 5.58162092e-03, 5.53379188e-03,\n       5.52499914e-03, 5.51119955e-03, 5.47151781e-03, 5.45411470e-03,\n       5.44887924e-03, 5.41025473e-03, 5.40495252e-03, 5.38954951e-03,\n       5.37148153e-03, 5.35435874e-03, 5.33453838e-03, 5.31997224e-03,\n       5.31344744e-03, 5.29042476e-03, 5.25034732e-03, 5.19363896e-03,\n       5.15720536e-03, 5.14086076e-03, 5.13322965e-03, 5.11627697e-03,\n       5.10459972e-03, 5.10256462e-03, 5.10149780e-03, 5.10063928e-03,\n       5.09997434e-03, 5.09972470e-03, 5.09910802e-03, 5.09811005e-03,\n       5.09701740e-03, 5.09461755e-03, 5.09413691e-03, 5.09238200e-03,\n       5.09115074e-03, 5.08618633e-03, 5.08465787e-03, 5.08066294e-03,\n       5.07140391e-03, 5.03506954e-03, 4.99458819e-03, 4.89278429e-03,\n       4.85728007e-03, 4.76851907e-03, 4.69429448e-03, 4.40870234e-03,\n       4.38405247e-03, 4.35050773e-03, 4.29725399e-03, 4.23972727e-03,\n       4.18462487e-03, 4.15236973e-03, 4.09992205e-03, 4.01421736e-03,\n       3.96983280e-03, 3.95838732e-03, 3.90202720e-03, 3.78661956e-03,\n       3.69052541e-03, 3.62418582e-03, 3.59259547e-03, 3.55446961e-03,\n       3.54806925e-03, 3.51021765e-03, 3.46588568e-03, 3.33533913e-03,\n       3.27931168e-03, 3.23922053e-03, 3.14636308e-03, 3.05966022e-03,\n       3.02915200e-03, 3.01415935e-03, 2.94620519e-03, 2.74998378e-03,\n       2.56458617e-03, 2.55236217e-03, 2.36690423e-03, 2.34380894e-03,\n       2.25271168e-03, 1.91821777e-03, 1.74127534e-03, 1.21220276e-03,\n       1.07903619e-03, 1.06321725e-03, 1.03707084e-03, 7.98471609e-04,\n       6.53909115e-04, 5.99669619e-04, 5.70220011e-04, 4.74306476e-04,\n       3.85684196e-04, 3.45202280e-04, 3.32813052e-04, 2.99502333e-04,\n       2.40723503e-04, 1.85480432e-04, 1.76630103e-04, 1.55344128e-04,\n       1.39308470e-04, 1.38871880e-04, 7.52908490e-05, 6.30309073e-05,\n       6.19728157e-05, 2.83616874e-05, 2.39135344e-05, 2.31658999e-05,\n       2.24079346e-05, 2.03807007e-05, 1.78120003e-05, 1.38091350e-05,\n       1.24932182e-05, 1.18009886e-05, 1.10652204e-05, 8.65498847e-06,\n       7.82711742e-06, 5.76172615e-06, 5.67197245e-06, 2.84859234e-06,\n       3.67584902e-07, 6.10577287e-08, 7.13213002e-09, 9.72221339e-10,\n       1.12326019e-17, 2.95482850e-32, 5.63195157e-33, 4.46977141e-33,\n       3.55503381e-33, 3.05178913e-33, 2.04965841e-33, 1.07887537e-33,\n       8.45041374e-34, 7.89444295e-34, 2.72769301e-34, 2.44313045e-34,\n       2.44313045e-34, 2.44313045e-34, 1.39651561e-34, 1.14300380e-34,\n       1.85225324e-35])"
       },
       "execution_count": 15,
       "metadata": {},
       "output_type": "execute_result"
      }
     ],
     "persistentId": "8508952b-772a-469e-8553-7cfecbaa41ab",
     "text": "explained_variance = pca.explained_variance_ratio_\nexplained_variance "
    },
    "executionTime": "2020-01-13T05:59:53.328Z"
   },
   {
    "cell": {
     "executionCount": 16,
     "executionEventId": "adf64208-a016-4602-abdd-07dcdfc7e17b",
     "hasError": false,
     "id": "b0c3db21-2db5-4204-b1f7-14a90bff960a",
     "outputs": [],
     "persistentId": "8508952b-772a-469e-8553-7cfecbaa41ab",
     "text": "explained_variance = pca.explained_variance_ratio_"
    },
    "executionTime": "2020-01-13T06:00:00.622Z"
   },
   {
    "cell": {
     "executionCount": 17,
     "executionEventId": "77a1ab63-e677-47a0-96da-4180ce9acf06",
     "hasError": false,
     "id": "46bc1110-9712-4986-ae1f-8bb762deb423",
     "outputs": [
      {
       "data": {
        "image/png": "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\n",
        "text/plain": "<Figure size 432x288 with 1 Axes>"
       },
       "metadata": {
        "needs_background": "light"
       },
       "output_type": "display_data"
      }
     ],
     "persistentId": "4946618a-1f5a-4525-9354-1df4a8f49767",
     "text": "#Fitting the PCA algorithm with our Data\npca = PCA().fit(X_train)\n#Plotting the Cumulative Summation of the Explained Variance\nplt.figure()\nplt.plot(np.cumsum(pca.explained_variance_ratio_))\nplt.xlabel('Number of Components')\nplt.ylabel('Variance (%)') #for each component\nplt.title('Student Loan Dataset Explained Variance')\nplt.show()"
    },
    "executionTime": "2020-01-13T06:01:53.834Z"
   },
   {
    "cell": {
     "executionCount": 18,
     "executionEventId": "9e5eac4b-fe7e-4a92-b740-896e9a205084",
     "hasError": false,
     "id": "6ad2d56c-1f7f-4978-bc83-ef6fa815a6aa",
     "outputs": [],
     "persistentId": "9db882cf-c91c-4a3d-b367-a18fda494f9b",
     "text": "sc = StandardScaler()\nX_train = sc.fit_transform(X_train)\nX_test = sc.transform(X_test)"
    },
    "executionTime": "2020-01-13T06:02:40.401Z"
   },
   {
    "cell": {
     "executionCount": 19,
     "executionEventId": "7dcbea98-17ae-437f-b930-e9b26db900b4",
     "hasError": true,
     "id": "56bf9be9-5bb5-4ddc-81d7-e52d76492ffd",
     "outputs": [
      {
       "ename": "NameError",
       "evalue": "name 'ca' is not defined",
       "output_type": "error",
       "traceback": [
        "\u001b[0;31m---------------------------------------------------------------------------\u001b[0m",
        "\u001b[0;31mNameError\u001b[0m                                 Traceback (most recent call last)",
        "\u001b[0;32m<ipython-input-19-51e5654e2db5>\u001b[0m in \u001b[0;36m<module>\u001b[0;34m\u001b[0m\n\u001b[0;32m----> 1\u001b[0;31m \u001b[0mca\u001b[0m\u001b[0;34m.\u001b[0m\u001b[0mexplained_variance_ratio_\u001b[0m\u001b[0;34m\u001b[0m\u001b[0;34m\u001b[0m\u001b[0m\n\u001b[0m",
        "\u001b[0;31mNameError\u001b[0m: name 'ca' is not defined"
       ]
      }
     ],
     "persistentId": "5f0c849b-2854-4910-9e85-37f7037cab58",
     "text": "ca.explained_variance_ratio_"
    },
    "executionTime": "2020-01-13T06:04:00.599Z"
   },
   {
    "cell": {
     "executionCount": 20,
     "executionEventId": "3767292c-0fe8-4e1e-bbf5-482247ec04c8",
     "hasError": false,
     "id": "56bf9be9-5bb5-4ddc-81d7-e52d76492ffd",
     "outputs": [
      {
       "data": {
        "text/plain": "array([0.00498006, 0.0049795 , 0.00497894, 0.00497777, 0.00497716,\n       0.00497655, 0.00497629, 0.00497576, 0.00497563, 0.00497556,\n       0.00497531, 0.00497528, 0.00497517, 0.00497513, 0.00497512,\n       0.00497512, 0.00497512, 0.00497512, 0.00497512, 0.00497512,\n       0.00497512, 0.00497512, 0.00497512, 0.00497512, 0.00497512,\n       0.00497512, 0.00497512, 0.00497512, 0.00497512, 0.00497512,\n       0.00497512, 0.00497512, 0.00497512, 0.00497512, 0.00497512,\n       0.00497512, 0.00497512, 0.00497512, 0.00497512, 0.00497512,\n       0.00497512, 0.00497512, 0.00497512, 0.00497512, 0.00497512,\n       0.00497512, 0.00497512, 0.00497512, 0.00497512, 0.00497512,\n       0.00497512, 0.00497512, 0.00497512, 0.00497512, 0.00497512,\n       0.00497512, 0.00497512, 0.00497512, 0.00497512, 0.00497512,\n       0.00497512, 0.00497512, 0.00497512, 0.00497512, 0.00497512,\n       0.00497512, 0.00497512, 0.00497512, 0.00497512, 0.00497512,\n       0.00497512, 0.00497512, 0.00497512, 0.00497512, 0.00497512,\n       0.00497512, 0.00497512, 0.00497512, 0.00497512, 0.00497512,\n       0.00497512, 0.00497512, 0.00497512, 0.00497512, 0.00497512,\n       0.00497512, 0.00497512, 0.00497512, 0.00497512, 0.00497512,\n       0.00497512, 0.00497512, 0.00497512, 0.00497512, 0.00497512,\n       0.00497512, 0.00497512, 0.00497512, 0.00497512, 0.00497512,\n       0.00497512, 0.00497512, 0.00497512, 0.00497512, 0.00497512,\n       0.00497512, 0.00497512, 0.00497512, 0.00497512, 0.00497512,\n       0.00497512, 0.00497512, 0.00497512, 0.00497512, 0.00497512,\n       0.00497512, 0.00497512, 0.00497512, 0.00497512, 0.00497512,\n       0.00497512, 0.00497512, 0.00497512, 0.00497512, 0.00497512,\n       0.00497512, 0.00497512, 0.00497512, 0.00497512, 0.00497512,\n       0.00497512, 0.00497512, 0.00497512, 0.00497512, 0.00497512,\n       0.00497512, 0.00497512, 0.00497512, 0.00497512, 0.00497512,\n       0.00497512, 0.00497512, 0.00497512, 0.00497512, 0.00497512,\n       0.00497512, 0.00497512, 0.00497512, 0.00497512, 0.00497512,\n       0.00497512, 0.00497512, 0.00497512, 0.00497512, 0.00497512,\n       0.00497512, 0.00497512, 0.00497512, 0.00497512, 0.00497512,\n       0.00497512, 0.00497512, 0.00497512, 0.00497512, 0.00497512,\n       0.00497512, 0.00497512, 0.00497512, 0.00497512, 0.00497512,\n       0.00497512, 0.00497512, 0.00497512, 0.00497512, 0.00497512,\n       0.00497512, 0.00497512, 0.00497512, 0.00497512, 0.00497512,\n       0.00497512, 0.00497512, 0.00497512, 0.00497512, 0.00497512,\n       0.00497512, 0.00497512, 0.00497512, 0.00497512, 0.00497512,\n       0.00497512, 0.00497512, 0.00497512, 0.00497512, 0.00497512,\n       0.00497512, 0.00497512, 0.00497512, 0.00497512, 0.00497512,\n       0.00495275])"
       },
       "execution_count": 20,
       "metadata": {},
       "output_type": "execute_result"
      }
     ],
     "persistentId": "5f0c849b-2854-4910-9e85-37f7037cab58",
     "text": "pca.explained_variance_ratio_"
    },
    "executionTime": "2020-01-13T06:04:04.648Z"
   },
   {
    "cell": {
     "executionCount": 21,
     "executionEventId": "dfe52e5a-8ea6-44fd-8317-4ad55647058e",
     "hasError": false,
     "id": "223d0685-d5f6-49cf-abbe-1afcc281fbd2",
     "outputs": [],
     "persistentId": "d6f2fdcc-c442-4c0d-9f40-b4badf1e881b",
     "text": "pca = PCA()\nX_train = pca.fit_transform(X_train)\nX_test = pca.transform(X_test)"
    },
    "executionTime": "2020-01-13T06:04:28.485Z"
   },
   {
    "cell": {
     "executionCount": 22,
     "executionEventId": "d188290b-f1e0-4db8-9e7f-113d4af572f0",
     "hasError": false,
     "id": "46bc1110-9712-4986-ae1f-8bb762deb423",
     "outputs": [
      {
       "data": {
        "image/png": "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\n",
        "text/plain": "<Figure size 432x288 with 1 Axes>"
       },
       "metadata": {
        "needs_background": "light"
       },
       "output_type": "display_data"
      }
     ],
     "persistentId": "4946618a-1f5a-4525-9354-1df4a8f49767",
     "text": "#Fitting the PCA algorithm with our Data\n\n#Plotting the Cumulative Summation of the Explained Variance\nplt.figure()\nplt.plot(np.cumsum(pca.explained_variance_ratio_))\nplt.xlabel('Number of Components')\nplt.ylabel('Variance (%)') #for each component\nplt.title('Student Loan Dataset Explained Variance')\nplt.show()"
    },
    "executionTime": "2020-01-13T06:04:28.669Z"
   },
   {
    "cell": {
     "executionCount": 1,
     "executionEventId": "b6dc5d1c-cbaf-4e0f-b975-193192e42870",
     "hasError": false,
     "id": "087d1d67-aec1-4c65-9310-ba063529c530",
     "outputs": [],
     "persistentId": "47827e5d-9598-4b20-88c8-d5f63cfe04b4",
     "text": "# import libraries\nimport pandas as pd\nimport numpy as np\nimport matplotlib.pyplot as plt\nfrom sklearn import ensemble\nfrom sklearn.model_selection import cross_val_score\nfrom sklearn.preprocessing import StandardScaler\nfrom sklearn.model_selection import train_test_split\n\n%matplotlib inline"
    },
    "executionTime": "2020-01-13T06:04:55.321Z"
   },
   {
    "cell": {
     "executionCount": 2,
     "executionEventId": "65ac0724-e802-4ae9-a96e-5bdb6f63619f",
     "hasError": false,
     "id": "4b387283-d2d1-4abf-98c7-2cb0238c4f1a",
     "outputs": [
      {
       "name": "stderr",
       "output_type": "stream",
       "text": "/Users/apple/anaconda3/lib/python3.7/site-packages/IPython/core/interactiveshell.py:3057: DtypeWarning: Columns (0,19,55) have mixed types. Specify dtype option on import or set low_memory=False.\n  interactivity=interactivity, compiler=compiler, result=result)\n"
      },
      {
       "data": {
        "text/html": "<div>\n<style scoped>\n    .dataframe tbody tr th:only-of-type {\n        vertical-align: middle;\n    }\n\n    .dataframe tbody tr th {\n        vertical-align: top;\n    }\n\n    .dataframe thead th {\n        text-align: right;\n    }\n</style>\n<table border=\"1\" class=\"dataframe\">\n  <thead>\n    <tr style=\"text-align: right;\">\n      <th></th>\n      <th>id</th>\n      <th>member_id</th>\n      <th>loan_amnt</th>\n      <th>funded_amnt</th>\n      <th>funded_amnt_inv</th>\n      <th>term</th>\n      <th>int_rate</th>\n      <th>installment</th>\n      <th>grade</th>\n      <th>sub_grade</th>\n      <th>...</th>\n      <th>num_tl_90g_dpd_24m</th>\n      <th>num_tl_op_past_12m</th>\n      <th>pct_tl_nvr_dlq</th>\n      <th>percent_bc_gt_75</th>\n      <th>pub_rec_bankruptcies</th>\n      <th>tax_liens</th>\n      <th>tot_hi_cred_lim</th>\n      <th>total_bal_ex_mort</th>\n      <th>total_bc_limit</th>\n      <th>total_il_high_credit_limit</th>\n    </tr>\n  </thead>\n  <tbody>\n    <tr>\n      <th>0</th>\n      <td>68009401</td>\n      <td>72868139.0</td>\n      <td>16000.0</td>\n      <td>16000.0</td>\n      <td>16000.0</td>\n      <td>60 months</td>\n      <td>14.85%</td>\n      <td>379.39</td>\n      <td>C</td>\n      <td>C5</td>\n      <td>...</td>\n      <td>0.0</td>\n      <td>2.0</td>\n      <td>78.9</td>\n      <td>0.0</td>\n      <td>0.0</td>\n      <td>2.0</td>\n      <td>298100.0</td>\n      <td>31329.0</td>\n      <td>281300.0</td>\n      <td>13400.0</td>\n    </tr>\n    <tr>\n      <th>1</th>\n      <td>68354783</td>\n      <td>73244544.0</td>\n      <td>9600.0</td>\n      <td>9600.0</td>\n      <td>9600.0</td>\n      <td>36 months</td>\n      <td>7.49%</td>\n      <td>298.58</td>\n      <td>A</td>\n      <td>A4</td>\n      <td>...</td>\n      <td>0.0</td>\n      <td>2.0</td>\n      <td>100.0</td>\n      <td>66.7</td>\n      <td>0.0</td>\n      <td>0.0</td>\n      <td>88635.0</td>\n      <td>55387.0</td>\n      <td>12500.0</td>\n      <td>75635.0</td>\n    </tr>\n    <tr>\n      <th>2</th>\n      <td>68466916</td>\n      <td>73356753.0</td>\n      <td>25000.0</td>\n      <td>25000.0</td>\n      <td>25000.0</td>\n      <td>36 months</td>\n      <td>7.49%</td>\n      <td>777.55</td>\n      <td>A</td>\n      <td>A4</td>\n      <td>...</td>\n      <td>0.0</td>\n      <td>0.0</td>\n      <td>100.0</td>\n      <td>20.0</td>\n      <td>0.0</td>\n      <td>0.0</td>\n      <td>373572.0</td>\n      <td>68056.0</td>\n      <td>38400.0</td>\n      <td>82117.0</td>\n    </tr>\n    <tr>\n      <th>3</th>\n      <td>68466961</td>\n      <td>73356799.0</td>\n      <td>28000.0</td>\n      <td>28000.0</td>\n      <td>28000.0</td>\n      <td>36 months</td>\n      <td>6.49%</td>\n      <td>858.05</td>\n      <td>A</td>\n      <td>A2</td>\n      <td>...</td>\n      <td>0.0</td>\n      <td>0.0</td>\n      <td>91.7</td>\n      <td>22.2</td>\n      <td>0.0</td>\n      <td>0.0</td>\n      <td>304003.0</td>\n      <td>74920.0</td>\n      <td>41500.0</td>\n      <td>42503.0</td>\n    </tr>\n    <tr>\n      <th>4</th>\n      <td>68495092</td>\n      <td>73384866.0</td>\n      <td>8650.0</td>\n      <td>8650.0</td>\n      <td>8650.0</td>\n      <td>36 months</td>\n      <td>19.89%</td>\n      <td>320.99</td>\n      <td>E</td>\n      <td>E3</td>\n      <td>...</td>\n      <td>0.0</td>\n      <td>12.0</td>\n      <td>100.0</td>\n      <td>50.0</td>\n      <td>1.0</td>\n      <td>0.0</td>\n      <td>38998.0</td>\n      <td>18926.0</td>\n      <td>2750.0</td>\n      <td>18248.0</td>\n    </tr>\n  </tbody>\n</table>\n<p>5 rows × 111 columns</p>\n</div>",
        "text/plain": "         id   member_id  loan_amnt  funded_amnt  funded_amnt_inv        term  \\\n0  68009401  72868139.0    16000.0      16000.0          16000.0   60 months   \n1  68354783  73244544.0     9600.0       9600.0           9600.0   36 months   \n2  68466916  73356753.0    25000.0      25000.0          25000.0   36 months   \n3  68466961  73356799.0    28000.0      28000.0          28000.0   36 months   \n4  68495092  73384866.0     8650.0       8650.0           8650.0   36 months   \n\n  int_rate  installment grade sub_grade  ... num_tl_90g_dpd_24m  \\\n0   14.85%       379.39     C        C5  ...                0.0   \n1    7.49%       298.58     A        A4  ...                0.0   \n2    7.49%       777.55     A        A4  ...                0.0   \n3    6.49%       858.05     A        A2  ...                0.0   \n4   19.89%       320.99     E        E3  ...                0.0   \n\n  num_tl_op_past_12m pct_tl_nvr_dlq  percent_bc_gt_75 pub_rec_bankruptcies  \\\n0                2.0           78.9               0.0                  0.0   \n1                2.0          100.0              66.7                  0.0   \n2                0.0          100.0              20.0                  0.0   \n3                0.0           91.7              22.2                  0.0   \n4               12.0          100.0              50.0                  1.0   \n\n  tax_liens tot_hi_cred_lim total_bal_ex_mort total_bc_limit  \\\n0       2.0        298100.0           31329.0       281300.0   \n1       0.0         88635.0           55387.0        12500.0   \n2       0.0        373572.0           68056.0        38400.0   \n3       0.0        304003.0           74920.0        41500.0   \n4       0.0         38998.0           18926.0         2750.0   \n\n  total_il_high_credit_limit  \n0                    13400.0  \n1                    75635.0  \n2                    82117.0  \n3                    42503.0  \n4                    18248.0  \n\n[5 rows x 111 columns]"
       },
       "execution_count": 2,
       "metadata": {},
       "output_type": "execute_result"
      }
     ],
     "persistentId": "0ff2576a-01f5-4050-a162-f50f1dadb654",
     "text": "# read data from file\nraw = pd.read_csv(\"LoanStats3d.csv\", skipinitialspace=True, header=1)\n\n# show first 5 rows\nraw.head()"
    },
    "executionTime": "2020-01-13T06:05:01.673Z"
   },
   {
    "cell": {
     "executionCount": 3,
     "executionEventId": "e0d21f10-21fb-4fa7-be72-435b1babc183",
     "hasError": false,
     "id": "2c8ad38f-dc24-422d-bc25-58618650d28e",
     "outputs": [
      {
       "name": "stdout",
       "output_type": "stream",
       "text": "id: 421097\nterm: 2\nint_rate: 110\ngrade: 7\nsub_grade: 35\nemp_title: 120812\nemp_length: 11\nhome_ownership: 4\nverification_status: 3\nissue_d: 12\nloan_status: 7\npymnt_plan: 1\nurl: 421095\ndesc: 34\npurpose: 14\ntitle: 27\nzip_code: 914\naddr_state: 49\nearliest_cr_line: 668\nrevol_util: 1211\ninitial_list_status: 2\nlast_pymnt_d: 25\nnext_pymnt_d: 4\nlast_credit_pull_d: 26\napplication_type: 2\nverification_status_joint: 3\n"
      }
     ],
     "persistentId": "5b2f0e29-b19e-4b09-a92b-aa4ad1a3d6ce",
     "text": "# number of unique values in each column\ncategorical = raw.select_dtypes(include=[\"object\"])\nfor col in categorical.columns:\n    print(\"{}: {}\".format(col, categorical[col].nunique()))"
    },
    "executionTime": "2020-01-13T06:05:02.794Z"
   },
   {
    "cell": {
     "executionCount": 4,
     "executionEventId": "8e707129-4253-4bd0-b65d-7ae95e86ad64",
     "hasError": false,
     "id": "8b44dda3-0965-4d6d-8ead-a544a81537c6",
     "outputs": [],
     "persistentId": "7cf6bb84-5b95-4d11-ada9-a353bb090802",
     "text": "# create a copy of the original data\nloans = raw.copy()\n\n# convert ID and interest rate to numeric.\nloans[\"id\"] = pd.to_numeric(loans[\"id\"], errors=\"coerce\")\nloans[\"int_rate\"] = pd.to_numeric(loans[\"int_rate\"].str.strip(\"%\"), errors=\"coerce\")\n\n# drop columns with too many unique values\nloans.drop(\n    [\n        \"url\",\n        \"emp_title\",\n        \"zip_code\",\n        \"earliest_cr_line\",\n        \"revol_util\",\n        \"sub_grade\",\n        \"addr_state\",\n        \"desc\",\n    ],\n    1,\n    inplace=True,\n)"
    },
    "executionTime": "2020-01-13T06:05:04.769Z"
   },
   {
    "cell": {
     "executionCount": 5,
     "executionEventId": "c8491d77-5398-4243-8969-5ddb7f740523",
     "hasError": false,
     "id": "53453b41-2b36-4c9c-b536-ee4ba1a8017b",
     "outputs": [],
     "persistentId": "17c49fba-75fa-4a9c-b2ce-00b9d9177dd1",
     "text": "loans.dropna(how=\"all\", inplace=True)"
    },
    "executionTime": "2020-01-13T06:05:06.091Z"
   },
   {
    "cell": {
     "executionCount": 6,
     "executionEventId": "fd7defd4-1c00-4b25-9e8a-6f3f3e3dc8f2",
     "hasError": false,
     "id": "8ef58257-96a8-4380-8307-c2b3b1f47574",
     "outputs": [],
     "persistentId": "2017abed-11da-4e1d-9b28-cb95437c807e",
     "text": "# target variable\ny = loans[\"loan_status\"]\n\n# feature vector\nX = loans.drop(\"loan_status\", 1)\n\n# one hot encoding\nX = pd.get_dummies(X)\n\n# drop rows with missing data\nX = X.dropna(axis=1)"
    },
    "executionTime": "2020-01-13T06:05:09.757Z"
   },
   {
    "cell": {
     "executionCount": 7,
     "executionEventId": "292b7926-8450-40af-9e97-838f028bcd30",
     "hasError": false,
     "id": "a13682dc-de05-408b-8417-8f6551dd7510",
     "outputs": [],
     "persistentId": "90f8fe66-3b9f-41a0-bc75-02a19dfe9795",
     "text": "X_train, X_test, y_train, y_test = train_test_split(X, y, test_size=0.2, random_state=0)"
    },
    "executionTime": "2020-01-13T06:05:10.211Z"
   },
   {
    "cell": {
     "executionCount": 8,
     "executionEventId": "635f3335-8627-4f98-acaa-2bf20d8b122a",
     "hasError": false,
     "id": "6ad2d56c-1f7f-4978-bc83-ef6fa815a6aa",
     "outputs": [],
     "persistentId": "9db882cf-c91c-4a3d-b367-a18fda494f9b",
     "text": "sc = StandardScaler()\nX_train = sc.fit_transform(X_train)\nX_test = sc.transform(X_test)"
    },
    "executionTime": "2020-01-13T06:05:13.404Z"
   },
   {
    "cell": {
     "executionCount": 9,
     "executionEventId": "84a59fc7-e887-41eb-9de5-1c92a63ac306",
     "hasError": true,
     "id": "223d0685-d5f6-49cf-abbe-1afcc281fbd2",
     "outputs": [
      {
       "ename": "NameError",
       "evalue": "name 'PCA' is not defined",
       "output_type": "error",
       "traceback": [
        "\u001b[0;31m---------------------------------------------------------------------------\u001b[0m",
        "\u001b[0;31mNameError\u001b[0m                                 Traceback (most recent call last)",
        "\u001b[0;32m<ipython-input-9-07234b3f12ca>\u001b[0m in \u001b[0;36m<module>\u001b[0;34m\u001b[0m\n\u001b[0;32m----> 1\u001b[0;31m \u001b[0mpca\u001b[0m \u001b[0;34m=\u001b[0m \u001b[0mPCA\u001b[0m\u001b[0;34m(\u001b[0m\u001b[0;34m)\u001b[0m\u001b[0;34m\u001b[0m\u001b[0;34m\u001b[0m\u001b[0m\n\u001b[0m\u001b[1;32m      2\u001b[0m \u001b[0mX_train\u001b[0m \u001b[0;34m=\u001b[0m \u001b[0mpca\u001b[0m\u001b[0;34m.\u001b[0m\u001b[0mfit_transform\u001b[0m\u001b[0;34m(\u001b[0m\u001b[0mX_train\u001b[0m\u001b[0;34m)\u001b[0m\u001b[0;34m\u001b[0m\u001b[0;34m\u001b[0m\u001b[0m\n\u001b[1;32m      3\u001b[0m \u001b[0mX_test\u001b[0m \u001b[0;34m=\u001b[0m \u001b[0mpca\u001b[0m\u001b[0;34m.\u001b[0m\u001b[0mtransform\u001b[0m\u001b[0;34m(\u001b[0m\u001b[0mX_test\u001b[0m\u001b[0;34m)\u001b[0m\u001b[0;34m\u001b[0m\u001b[0;34m\u001b[0m\u001b[0m\n",
        "\u001b[0;31mNameError\u001b[0m: name 'PCA' is not defined"
       ]
      }
     ],
     "persistentId": "d6f2fdcc-c442-4c0d-9f40-b4badf1e881b",
     "text": "pca = PCA()\nX_train = pca.fit_transform(X_train)\nX_test = pca.transform(X_test)"
    },
    "executionTime": "2020-01-13T06:05:13.556Z"
   },
   {
    "cell": {
     "executionCount": 1,
     "executionEventId": "4073d8be-96f2-4a73-b7d8-b6825249de51",
     "hasError": false,
     "id": "087d1d67-aec1-4c65-9310-ba063529c530",
     "outputs": [],
     "persistentId": "47827e5d-9598-4b20-88c8-d5f63cfe04b4",
     "text": "# import libraries\nimport pandas as pd\nimport numpy as np\nimport matplotlib.pyplot as plt\nfrom sklearn import ensemble\nfrom sklearn.model_selection import cross_val_score\nfrom sklearn.preprocessing import StandardScaler\nfrom sklearn.model_selection import train_test_split\nfrom sklearn.decomposition import PCA\n\n%matplotlib inline"
    },
    "executionTime": "2020-01-13T06:07:00.574Z"
   },
   {
    "cell": {
     "executionCount": 2,
     "executionEventId": "1a6062b9-0a3c-4bdb-8e64-567d37b551ce",
     "hasError": false,
     "id": "4b387283-d2d1-4abf-98c7-2cb0238c4f1a",
     "outputs": [
      {
       "name": "stderr",
       "output_type": "stream",
       "text": "/Users/apple/anaconda3/lib/python3.7/site-packages/IPython/core/interactiveshell.py:3057: DtypeWarning: Columns (0,19,55) have mixed types. Specify dtype option on import or set low_memory=False.\n  interactivity=interactivity, compiler=compiler, result=result)\n"
      },
      {
       "data": {
        "text/html": "<div>\n<style scoped>\n    .dataframe tbody tr th:only-of-type {\n        vertical-align: middle;\n    }\n\n    .dataframe tbody tr th {\n        vertical-align: top;\n    }\n\n    .dataframe thead th {\n        text-align: right;\n    }\n</style>\n<table border=\"1\" class=\"dataframe\">\n  <thead>\n    <tr style=\"text-align: right;\">\n      <th></th>\n      <th>id</th>\n      <th>member_id</th>\n      <th>loan_amnt</th>\n      <th>funded_amnt</th>\n      <th>funded_amnt_inv</th>\n      <th>term</th>\n      <th>int_rate</th>\n      <th>installment</th>\n      <th>grade</th>\n      <th>sub_grade</th>\n      <th>...</th>\n      <th>num_tl_90g_dpd_24m</th>\n      <th>num_tl_op_past_12m</th>\n      <th>pct_tl_nvr_dlq</th>\n      <th>percent_bc_gt_75</th>\n      <th>pub_rec_bankruptcies</th>\n      <th>tax_liens</th>\n      <th>tot_hi_cred_lim</th>\n      <th>total_bal_ex_mort</th>\n      <th>total_bc_limit</th>\n      <th>total_il_high_credit_limit</th>\n    </tr>\n  </thead>\n  <tbody>\n    <tr>\n      <th>0</th>\n      <td>68009401</td>\n      <td>72868139.0</td>\n      <td>16000.0</td>\n      <td>16000.0</td>\n      <td>16000.0</td>\n      <td>60 months</td>\n      <td>14.85%</td>\n      <td>379.39</td>\n      <td>C</td>\n      <td>C5</td>\n      <td>...</td>\n      <td>0.0</td>\n      <td>2.0</td>\n      <td>78.9</td>\n      <td>0.0</td>\n      <td>0.0</td>\n      <td>2.0</td>\n      <td>298100.0</td>\n      <td>31329.0</td>\n      <td>281300.0</td>\n      <td>13400.0</td>\n    </tr>\n    <tr>\n      <th>1</th>\n      <td>68354783</td>\n      <td>73244544.0</td>\n      <td>9600.0</td>\n      <td>9600.0</td>\n      <td>9600.0</td>\n      <td>36 months</td>\n      <td>7.49%</td>\n      <td>298.58</td>\n      <td>A</td>\n      <td>A4</td>\n      <td>...</td>\n      <td>0.0</td>\n      <td>2.0</td>\n      <td>100.0</td>\n      <td>66.7</td>\n      <td>0.0</td>\n      <td>0.0</td>\n      <td>88635.0</td>\n      <td>55387.0</td>\n      <td>12500.0</td>\n      <td>75635.0</td>\n    </tr>\n    <tr>\n      <th>2</th>\n      <td>68466916</td>\n      <td>73356753.0</td>\n      <td>25000.0</td>\n      <td>25000.0</td>\n      <td>25000.0</td>\n      <td>36 months</td>\n      <td>7.49%</td>\n      <td>777.55</td>\n      <td>A</td>\n      <td>A4</td>\n      <td>...</td>\n      <td>0.0</td>\n      <td>0.0</td>\n      <td>100.0</td>\n      <td>20.0</td>\n      <td>0.0</td>\n      <td>0.0</td>\n      <td>373572.0</td>\n      <td>68056.0</td>\n      <td>38400.0</td>\n      <td>82117.0</td>\n    </tr>\n    <tr>\n      <th>3</th>\n      <td>68466961</td>\n      <td>73356799.0</td>\n      <td>28000.0</td>\n      <td>28000.0</td>\n      <td>28000.0</td>\n      <td>36 months</td>\n      <td>6.49%</td>\n      <td>858.05</td>\n      <td>A</td>\n      <td>A2</td>\n      <td>...</td>\n      <td>0.0</td>\n      <td>0.0</td>\n      <td>91.7</td>\n      <td>22.2</td>\n      <td>0.0</td>\n      <td>0.0</td>\n      <td>304003.0</td>\n      <td>74920.0</td>\n      <td>41500.0</td>\n      <td>42503.0</td>\n    </tr>\n    <tr>\n      <th>4</th>\n      <td>68495092</td>\n      <td>73384866.0</td>\n      <td>8650.0</td>\n      <td>8650.0</td>\n      <td>8650.0</td>\n      <td>36 months</td>\n      <td>19.89%</td>\n      <td>320.99</td>\n      <td>E</td>\n      <td>E3</td>\n      <td>...</td>\n      <td>0.0</td>\n      <td>12.0</td>\n      <td>100.0</td>\n      <td>50.0</td>\n      <td>1.0</td>\n      <td>0.0</td>\n      <td>38998.0</td>\n      <td>18926.0</td>\n      <td>2750.0</td>\n      <td>18248.0</td>\n    </tr>\n  </tbody>\n</table>\n<p>5 rows × 111 columns</p>\n</div>",
        "text/plain": "         id   member_id  loan_amnt  funded_amnt  funded_amnt_inv        term  \\\n0  68009401  72868139.0    16000.0      16000.0          16000.0   60 months   \n1  68354783  73244544.0     9600.0       9600.0           9600.0   36 months   \n2  68466916  73356753.0    25000.0      25000.0          25000.0   36 months   \n3  68466961  73356799.0    28000.0      28000.0          28000.0   36 months   \n4  68495092  73384866.0     8650.0       8650.0           8650.0   36 months   \n\n  int_rate  installment grade sub_grade  ... num_tl_90g_dpd_24m  \\\n0   14.85%       379.39     C        C5  ...                0.0   \n1    7.49%       298.58     A        A4  ...                0.0   \n2    7.49%       777.55     A        A4  ...                0.0   \n3    6.49%       858.05     A        A2  ...                0.0   \n4   19.89%       320.99     E        E3  ...                0.0   \n\n  num_tl_op_past_12m pct_tl_nvr_dlq  percent_bc_gt_75 pub_rec_bankruptcies  \\\n0                2.0           78.9               0.0                  0.0   \n1                2.0          100.0              66.7                  0.0   \n2                0.0          100.0              20.0                  0.0   \n3                0.0           91.7              22.2                  0.0   \n4               12.0          100.0              50.0                  1.0   \n\n  tax_liens tot_hi_cred_lim total_bal_ex_mort total_bc_limit  \\\n0       2.0        298100.0           31329.0       281300.0   \n1       0.0         88635.0           55387.0        12500.0   \n2       0.0        373572.0           68056.0        38400.0   \n3       0.0        304003.0           74920.0        41500.0   \n4       0.0         38998.0           18926.0         2750.0   \n\n  total_il_high_credit_limit  \n0                    13400.0  \n1                    75635.0  \n2                    82117.0  \n3                    42503.0  \n4                    18248.0  \n\n[5 rows x 111 columns]"
       },
       "execution_count": 2,
       "metadata": {},
       "output_type": "execute_result"
      }
     ],
     "persistentId": "0ff2576a-01f5-4050-a162-f50f1dadb654",
     "text": "# read data from file\nraw = pd.read_csv(\"LoanStats3d.csv\", skipinitialspace=True, header=1)\n\n# show first 5 rows\nraw.head()"
    },
    "executionTime": "2020-01-13T06:07:06.980Z"
   },
   {
    "cell": {
     "executionCount": 3,
     "executionEventId": "8d5b1eda-f00b-460b-8986-8a29e3e215bf",
     "hasError": false,
     "id": "2c8ad38f-dc24-422d-bc25-58618650d28e",
     "outputs": [
      {
       "name": "stdout",
       "output_type": "stream",
       "text": "id: 421097\nterm: 2\nint_rate: 110\ngrade: 7\nsub_grade: 35\nemp_title: 120812\nemp_length: 11\nhome_ownership: 4\nverification_status: 3\nissue_d: 12\nloan_status: 7\npymnt_plan: 1\nurl: 421095\ndesc: 34\npurpose: 14\ntitle: 27\nzip_code: 914\naddr_state: 49\nearliest_cr_line: 668\nrevol_util: 1211\ninitial_list_status: 2\nlast_pymnt_d: 25\nnext_pymnt_d: 4\nlast_credit_pull_d: 26\napplication_type: 2\nverification_status_joint: 3\n"
      }
     ],
     "persistentId": "5b2f0e29-b19e-4b09-a92b-aa4ad1a3d6ce",
     "text": "# number of unique values in each column\ncategorical = raw.select_dtypes(include=[\"object\"])\nfor col in categorical.columns:\n    print(\"{}: {}\".format(col, categorical[col].nunique()))"
    },
    "executionTime": "2020-01-13T06:07:07.993Z"
   },
   {
    "cell": {
     "executionCount": 4,
     "executionEventId": "2c7dbcab-3474-4482-8360-253a3f68e076",
     "hasError": false,
     "id": "8b44dda3-0965-4d6d-8ead-a544a81537c6",
     "outputs": [],
     "persistentId": "7cf6bb84-5b95-4d11-ada9-a353bb090802",
     "text": "# create a copy of the original data\nloans = raw.copy()\n\n# convert ID and interest rate to numeric.\nloans[\"id\"] = pd.to_numeric(loans[\"id\"], errors=\"coerce\")\nloans[\"int_rate\"] = pd.to_numeric(loans[\"int_rate\"].str.strip(\"%\"), errors=\"coerce\")\n\n# drop columns with too many unique values\nloans.drop(\n    [\n        \"url\",\n        \"emp_title\",\n        \"zip_code\",\n        \"earliest_cr_line\",\n        \"revol_util\",\n        \"sub_grade\",\n        \"addr_state\",\n        \"desc\",\n    ],\n    1,\n    inplace=True,\n)"
    },
    "executionTime": "2020-01-13T06:07:09.484Z"
   },
   {
    "cell": {
     "executionCount": 5,
     "executionEventId": "c4499381-d68f-42fc-94a1-7123758c47d9",
     "hasError": false,
     "id": "53453b41-2b36-4c9c-b536-ee4ba1a8017b",
     "outputs": [],
     "persistentId": "17c49fba-75fa-4a9c-b2ce-00b9d9177dd1",
     "text": "loans.dropna(how=\"all\", inplace=True)"
    },
    "executionTime": "2020-01-13T06:07:10.575Z"
   },
   {
    "cell": {
     "executionCount": 6,
     "executionEventId": "0a691362-5041-40a9-bb5c-de1a60f8d8e3",
     "hasError": false,
     "id": "8ef58257-96a8-4380-8307-c2b3b1f47574",
     "outputs": [],
     "persistentId": "2017abed-11da-4e1d-9b28-cb95437c807e",
     "text": "# target variable\ny = loans[\"loan_status\"]\n\n# feature vector\nX = loans.drop(\"loan_status\", 1)\n\n# one hot encoding\nX = pd.get_dummies(X)\n\n# drop rows with missing data\nX = X.dropna(axis=1)"
    },
    "executionTime": "2020-01-13T06:07:13.893Z"
   },
   {
    "cell": {
     "executionCount": 7,
     "executionEventId": "d7581e0d-97ac-402c-9a3c-a2798902cf28",
     "hasError": false,
     "id": "a13682dc-de05-408b-8417-8f6551dd7510",
     "outputs": [],
     "persistentId": "90f8fe66-3b9f-41a0-bc75-02a19dfe9795",
     "text": "X_train, X_test, y_train, y_test = train_test_split(X, y, test_size=0.2, random_state=0)"
    },
    "executionTime": "2020-01-13T06:07:14.395Z"
   },
   {
    "cell": {
     "executionCount": 8,
     "executionEventId": "a4153b2f-e676-437f-9494-8cb90f676df9",
     "hasError": false,
     "id": "6ad2d56c-1f7f-4978-bc83-ef6fa815a6aa",
     "outputs": [],
     "persistentId": "9db882cf-c91c-4a3d-b367-a18fda494f9b",
     "text": "sc = StandardScaler()\nX_train = sc.fit_transform(X_train)\nX_test = sc.transform(X_test)"
    },
    "executionTime": "2020-01-13T06:07:17.419Z"
   },
   {
    "cell": {
     "executionCount": 9,
     "executionEventId": "f758b7c4-35c4-4273-b643-0341ec6b3269",
     "hasError": false,
     "id": "223d0685-d5f6-49cf-abbe-1afcc281fbd2",
     "outputs": [],
     "persistentId": "d6f2fdcc-c442-4c0d-9f40-b4badf1e881b",
     "text": "pca = PCA()\nX_train = pca.fit_transform(X_train)\nX_test = pca.transform(X_test)"
    },
    "executionTime": "2020-01-13T06:07:22.640Z"
   },
   {
    "cell": {
     "executionCount": 10,
     "executionEventId": "32bcb4d7-5c53-40f0-ab7b-f878ff363756",
     "hasError": false,
     "id": "b0c3db21-2db5-4204-b1f7-14a90bff960a",
     "outputs": [],
     "persistentId": "8508952b-772a-469e-8553-7cfecbaa41ab",
     "text": "explained_variance = pca.explained_variance_ratio_"
    },
    "executionTime": "2020-01-13T06:07:22.673Z"
   },
   {
    "cell": {
     "executionCount": 11,
     "executionEventId": "0a4204aa-7b39-47e2-8b9c-c176d1e594f1",
     "hasError": false,
     "id": "eddb3a4c-0bb5-4741-9ff1-90e2422caf90",
     "outputs": [
      {
       "data": {
        "text/plain": "array([5.47679187e-02, 3.14952225e-02, 3.04838918e-02, 2.41916830e-02,\n       1.92303301e-02, 1.63998694e-02, 1.60476916e-02, 1.49137970e-02,\n       1.33919503e-02, 1.31028093e-02, 1.18896244e-02, 1.14368374e-02,\n       1.08086713e-02, 1.05223571e-02, 1.04209600e-02, 1.03186666e-02,\n       1.02878512e-02, 1.02596968e-02, 1.02300914e-02, 1.02116258e-02,\n       1.02030244e-02, 1.00036600e-02, 9.92423952e-03, 9.65823923e-03,\n       9.01262195e-03, 8.46630255e-03, 8.22889575e-03, 7.78506549e-03,\n       7.67448533e-03, 7.52392645e-03, 7.37579974e-03, 7.28243479e-03,\n       7.19824504e-03, 7.13352959e-03, 7.02560117e-03, 6.99852947e-03,\n       6.95424308e-03, 6.89571126e-03, 6.80203197e-03, 6.76808079e-03,\n       6.68141041e-03, 6.62114030e-03, 6.58451914e-03, 6.52230586e-03,\n       6.46024828e-03, 6.43187794e-03, 6.37010805e-03, 6.31794131e-03,\n       6.24610850e-03, 6.20405937e-03, 6.08813630e-03, 6.04549099e-03,\n       5.95541125e-03, 5.93886455e-03, 5.92136266e-03, 5.89549122e-03,\n       5.88943848e-03, 5.76317586e-03, 5.72976150e-03, 5.67618169e-03,\n       5.61441272e-03, 5.59088338e-03, 5.58162092e-03, 5.53379188e-03,\n       5.52499914e-03, 5.51119955e-03, 5.47151781e-03, 5.45411470e-03,\n       5.44887924e-03, 5.41025473e-03, 5.40495252e-03, 5.38954951e-03,\n       5.37148153e-03, 5.35435874e-03, 5.33453838e-03, 5.31997224e-03,\n       5.31344744e-03, 5.29042476e-03, 5.25034732e-03, 5.19363896e-03,\n       5.15720536e-03, 5.14086076e-03, 5.13322965e-03, 5.11627697e-03,\n       5.10459972e-03, 5.10256462e-03, 5.10149780e-03, 5.10063928e-03,\n       5.09997434e-03, 5.09972470e-03, 5.09910802e-03, 5.09811005e-03,\n       5.09701740e-03, 5.09461755e-03, 5.09413691e-03, 5.09238200e-03,\n       5.09115074e-03, 5.08618633e-03, 5.08465787e-03, 5.08066294e-03,\n       5.07140391e-03, 5.03506954e-03, 4.99458819e-03, 4.89278429e-03,\n       4.85728007e-03, 4.76851907e-03, 4.69429448e-03, 4.40870234e-03,\n       4.38405247e-03, 4.35050773e-03, 4.29725399e-03, 4.23972727e-03,\n       4.18462487e-03, 4.15236973e-03, 4.09992205e-03, 4.01421736e-03,\n       3.96983280e-03, 3.95838732e-03, 3.90202720e-03, 3.78661956e-03,\n       3.69052541e-03, 3.62418582e-03, 3.59259547e-03, 3.55446961e-03,\n       3.54806925e-03, 3.51021765e-03, 3.46588568e-03, 3.33533913e-03,\n       3.27931168e-03, 3.23922053e-03, 3.14636308e-03, 3.05966022e-03,\n       3.02915200e-03, 3.01415935e-03, 2.94620519e-03, 2.74998378e-03,\n       2.56458617e-03, 2.55236217e-03, 2.36690423e-03, 2.34380894e-03,\n       2.25271168e-03, 1.91821777e-03, 1.74127534e-03, 1.21220276e-03,\n       1.07903619e-03, 1.06321725e-03, 1.03707084e-03, 7.98471609e-04,\n       6.53909115e-04, 5.99669619e-04, 5.70220011e-04, 4.74306476e-04,\n       3.85684196e-04, 3.45202280e-04, 3.32813052e-04, 2.99502333e-04,\n       2.40723503e-04, 1.85480432e-04, 1.76630103e-04, 1.55344128e-04,\n       1.39308470e-04, 1.38871880e-04, 7.52908490e-05, 6.30309073e-05,\n       6.19728157e-05, 2.83616874e-05, 2.39135344e-05, 2.31658999e-05,\n       2.24079346e-05, 2.03807007e-05, 1.78120003e-05, 1.38091350e-05,\n       1.24932182e-05, 1.18009886e-05, 1.10652204e-05, 8.65498847e-06,\n       7.82711742e-06, 5.76172615e-06, 5.67197245e-06, 2.84859234e-06,\n       3.67584902e-07, 6.10577287e-08, 7.13213002e-09, 9.72221339e-10,\n       1.12326019e-17, 4.06271878e-32, 8.68191781e-33, 6.62777305e-33,\n       5.07009282e-33, 3.76746976e-33, 2.96518686e-33, 1.89048921e-33,\n       9.19677621e-34, 6.06705862e-34, 3.07791060e-34, 2.44313045e-34,\n       2.44313045e-34, 2.44313045e-34, 2.43555786e-34, 6.49019422e-35,\n       2.98350149e-35])"
       },
       "execution_count": 11,
       "metadata": {},
       "output_type": "execute_result"
      }
     ],
     "persistentId": "744e8383-b7be-46d2-9aa7-c65b26d7b7d5",
     "text": "explained_variance "
    },
    "executionTime": "2020-01-13T06:07:32.939Z"
   },
   {
    "cell": {
     "executionCount": 12,
     "executionEventId": "63a37d55-f0a0-4ebb-ab0a-ba46bdb40964",
     "hasError": false,
     "id": "a73e31ce-ac47-412e-8773-788b0bab3d11",
     "outputs": [],
     "persistentId": "69b13d58-d904-4002-a0ab-8ceb1b3d601e",
     "text": "pca = PCA(n_components=2)\nX_train = pca.fit_transform(X_train)\nX_test = pca.transform(X_test)"
    },
    "executionTime": "2020-01-13T06:08:14.775Z"
   },
   {
    "cell": {
     "executionCount": 13,
     "executionEventId": "4a5fece2-46ed-4c85-930a-dc550c048e92",
     "hasError": false,
     "id": "087d1d67-aec1-4c65-9310-ba063529c530",
     "outputs": [],
     "persistentId": "47827e5d-9598-4b20-88c8-d5f63cfe04b4",
     "text": "# import libraries\nimport pandas as pd\nimport numpy as np\nimport matplotlib.pyplot as plt\nfrom sklearn import ensemble\nfrom sklearn.model_selection import cross_val_score\nfrom sklearn.preprocessing import StandardScaler\nfrom sklearn.model_selection import train_test_split\nfrom sklearn.decomposition import PCA\nfrom sklearn.ensemble import RandomForestClassifier\n\n\n%matplotlib inline"
    },
    "executionTime": "2020-01-13T06:08:27.845Z"
   },
   {
    "cell": {
     "executionCount": 14,
     "executionEventId": "9bd5e96c-1195-42f4-94f4-3ff5b8740a52",
     "hasError": false,
     "id": "adb5637c-b1d3-4b99-95e6-a4d3a6c0abee",
     "outputs": [
      {
       "name": "stderr",
       "output_type": "stream",
       "text": "/Users/apple/anaconda3/lib/python3.7/site-packages/sklearn/ensemble/forest.py:245: FutureWarning: The default value of n_estimators will change from 10 in version 0.20 to 100 in 0.22.\n  \"10 in version 0.20 to 100 in 0.22.\", FutureWarning)\n"
      }
     ],
     "persistentId": "627587f2-27ac-4da5-8ba3-e03ac7fd60c5",
     "text": "classifier = RandomForestClassifier(max_depth=2, random_state=0)\nclassifier.fit(X_train, y_train)\n\ny_pred = classifier.predict(X_test)"
    },
    "executionTime": "2020-01-13T06:09:23.176Z"
   },
   {
    "cell": {
     "executionCount": 15,
     "executionEventId": "36fa055a-86c6-467c-8d29-67e11d01c639",
     "hasError": false,
     "id": "a73e31ce-ac47-412e-8773-788b0bab3d11",
     "outputs": [],
     "persistentId": "69b13d58-d904-4002-a0ab-8ceb1b3d601e",
     "text": "pca = PCA(n_components=2)\nX_train = pca.fit_transform(X_train)\nX_test = pca.transform(X_test)"
    },
    "executionTime": "2020-01-13T06:09:43.812Z"
   },
   {
    "cell": {
     "executionCount": 16,
     "executionEventId": "1ab90ef5-2087-44fb-9644-c74e92819b6e",
     "hasError": false,
     "id": "76709f5d-83eb-4379-85d1-4c42712a5ee2",
     "outputs": [
      {
       "data": {
        "text/plain": "array([[-1.26051248, -0.66099429],\n       [-2.46457456,  2.66956176],\n       [-2.62219222,  3.17912404],\n       ...,\n       [ 1.20825393,  1.86508209],\n       [ 2.3405591 ,  0.91805376],\n       [-1.03143505,  3.33312139]])"
       },
       "execution_count": 16,
       "metadata": {},
       "output_type": "execute_result"
      }
     ],
     "persistentId": "fc61d6ee-7900-4d5f-97c2-f8fbfce786f1",
     "text": "X_train"
    },
    "executionTime": "2020-01-13T06:09:50.984Z"
   },
   {
    "cell": {
     "executionCount": 17,
     "executionEventId": "aaa36293-a51a-4b15-bae3-8fdf4dea9d52",
     "hasError": false,
     "id": "adb5637c-b1d3-4b99-95e6-a4d3a6c0abee",
     "outputs": [
      {
       "name": "stderr",
       "output_type": "stream",
       "text": "/Users/apple/anaconda3/lib/python3.7/site-packages/sklearn/ensemble/forest.py:245: FutureWarning: The default value of n_estimators will change from 10 in version 0.20 to 100 in 0.22.\n  \"10 in version 0.20 to 100 in 0.22.\", FutureWarning)\n"
      }
     ],
     "persistentId": "627587f2-27ac-4da5-8ba3-e03ac7fd60c5",
     "text": "classifier = RandomForestClassifier(max_depth=2, random_state=0)\nclassifier.fit(X_train, y_train)\n\ny_pred = classifier.predict(X_test)"
    },
    "executionTime": "2020-01-13T06:10:09.987Z"
   },
   {
    "cell": {
     "executionCount": 18,
     "executionEventId": "6e39ca3f-3003-4f3e-9ba0-2b1879e633d0",
     "hasError": true,
     "id": "8f51e8ec-d057-461f-8ca5-eda728150583",
     "outputs": [
      {
       "name": "stdout",
       "output_type": "stream",
       "text": "[[    0  5799     0    51     0     0     0]\n [    0 56799     0   617     0     0     0]\n [    0   153     0     0     0     0     0]\n [    0 16039     0  1549     0     0     0]\n [    0   919     0    12     0     0     0]\n [    0   348     0     7     0     0     0]\n [    0  1901     0    25     0     0     0]]\n"
      },
      {
       "ename": "TypeError",
       "evalue": "can only concatenate str (not \"numpy.float64\") to str",
       "output_type": "error",
       "traceback": [
        "\u001b[0;31m---------------------------------------------------------------------------\u001b[0m",
        "\u001b[0;31mTypeError\u001b[0m                                 Traceback (most recent call last)",
        "\u001b[0;32m<ipython-input-18-e037c4d8c43f>\u001b[0m in \u001b[0;36m<module>\u001b[0;34m\u001b[0m\n\u001b[1;32m      4\u001b[0m \u001b[0mcm\u001b[0m \u001b[0;34m=\u001b[0m \u001b[0mconfusion_matrix\u001b[0m\u001b[0;34m(\u001b[0m\u001b[0my_test\u001b[0m\u001b[0;34m,\u001b[0m \u001b[0my_pred\u001b[0m\u001b[0;34m)\u001b[0m\u001b[0;34m\u001b[0m\u001b[0;34m\u001b[0m\u001b[0m\n\u001b[1;32m      5\u001b[0m \u001b[0mprint\u001b[0m\u001b[0;34m(\u001b[0m\u001b[0mcm\u001b[0m\u001b[0;34m)\u001b[0m\u001b[0;34m\u001b[0m\u001b[0;34m\u001b[0m\u001b[0m\n\u001b[0;32m----> 6\u001b[0;31m \u001b[0mprint\u001b[0m\u001b[0;34m(\u001b[0m\u001b[0;34m'Accuracy'\u001b[0m \u001b[0;34m+\u001b[0m \u001b[0maccuracy_score\u001b[0m\u001b[0;34m(\u001b[0m\u001b[0my_test\u001b[0m\u001b[0;34m,\u001b[0m \u001b[0my_pred\u001b[0m\u001b[0;34m)\u001b[0m\u001b[0;34m)\u001b[0m\u001b[0;34m\u001b[0m\u001b[0;34m\u001b[0m\u001b[0m\n\u001b[0m",
        "\u001b[0;31mTypeError\u001b[0m: can only concatenate str (not \"numpy.float64\") to str"
       ]
      }
     ],
     "persistentId": "620aac66-497b-4957-a744-86dae8e55a29",
     "text": "from sklearn.metrics import confusion_matrix\nfrom sklearn.metrics import accuracy_score\n\ncm = confusion_matrix(y_test, y_pred)\nprint(cm)\nprint('Accuracy' + accuracy_score(y_test, y_pred))"
    },
    "executionTime": "2020-01-13T06:10:26.154Z"
   },
   {
    "cell": {
     "executionCount": 19,
     "executionEventId": "103296a6-0733-4634-adde-a7e0af0a6718",
     "hasError": false,
     "id": "d99bab50-33b1-406f-84f7-1499cf2dc88a",
     "outputs": [
      {
       "data": {
        "text/plain": "0.6928127857134376"
       },
       "execution_count": 19,
       "metadata": {},
       "output_type": "execute_result"
      }
     ],
     "persistentId": "ad4e2092-a0e1-4c09-b772-36b92555df07",
     "text": "accuracy_score(y_test, y_pred)"
    },
    "executionTime": "2020-01-13T06:10:47.058Z"
   },
   {
    "cell": {
     "executionCount": 20,
     "executionEventId": "d7737c46-c3ce-494e-8c12-4ca806a4f185",
     "hasError": false,
     "id": "8f51e8ec-d057-461f-8ca5-eda728150583",
     "outputs": [
      {
       "name": "stdout",
       "output_type": "stream",
       "text": "[[    0  5799     0    51     0     0     0]\n [    0 56799     0   617     0     0     0]\n [    0   153     0     0     0     0     0]\n [    0 16039     0  1549     0     0     0]\n [    0   919     0    12     0     0     0]\n [    0   348     0     7     0     0     0]\n [    0  1901     0    25     0     0     0]]\nAccuracy0.6928127857134376\n"
      }
     ],
     "persistentId": "620aac66-497b-4957-a744-86dae8e55a29",
     "text": "from sklearn.metrics import confusion_matrix\nfrom sklearn.metrics import accuracy_score\n\ncm = confusion_matrix(y_test, y_pred)\nprint(cm)\nprint('Accuracy' + str(accuracy_score(y_test, y_pred)))"
    },
    "executionTime": "2020-01-13T06:10:54.384Z"
   },
   {
    "cell": {
     "executionCount": 21,
     "executionEventId": "2933abb7-9d48-4e9b-9f64-063111b000c6",
     "hasError": false,
     "id": "8f51e8ec-d057-461f-8ca5-eda728150583",
     "outputs": [
      {
       "name": "stdout",
       "output_type": "stream",
       "text": "[[    0  5799     0    51     0     0     0]\n [    0 56799     0   617     0     0     0]\n [    0   153     0     0     0     0     0]\n [    0 16039     0  1549     0     0     0]\n [    0   919     0    12     0     0     0]\n [    0   348     0     7     0     0     0]\n [    0  1901     0    25     0     0     0]]\nAccuracy is0.6928127857134376\n"
      }
     ],
     "persistentId": "620aac66-497b-4957-a744-86dae8e55a29",
     "text": "from sklearn.metrics import confusion_matrix\nfrom sklearn.metrics import accuracy_score\n\ncm = confusion_matrix(y_test, y_pred)\nprint(cm)\nprint('Accuracy is' + str(accuracy_score(y_test, y_pred)))"
    },
    "executionTime": "2020-01-13T06:11:01.600Z"
   },
   {
    "cell": {
     "executionCount": 22,
     "executionEventId": "3eac9070-c407-48e8-b568-63b6a89e91ba",
     "hasError": false,
     "id": "8f51e8ec-d057-461f-8ca5-eda728150583",
     "outputs": [
      {
       "name": "stdout",
       "output_type": "stream",
       "text": "[[    0  5799     0    51     0     0     0]\n [    0 56799     0   617     0     0     0]\n [    0   153     0     0     0     0     0]\n [    0 16039     0  1549     0     0     0]\n [    0   919     0    12     0     0     0]\n [    0   348     0     7     0     0     0]\n [    0  1901     0    25     0     0     0]]\nAccuracy is 0.6928127857134376\n"
      }
     ],
     "persistentId": "620aac66-497b-4957-a744-86dae8e55a29",
     "text": "from sklearn.metrics import confusion_matrix\nfrom sklearn.metrics import accuracy_score\n\ncm = confusion_matrix(y_test, y_pred)\nprint(cm)\nprint('Accuracy is ' + str(accuracy_score(y_test, y_pred)))"
    },
    "executionTime": "2020-01-13T06:11:03.306Z"
   },
   {
    "cell": {
     "executionCount": 23,
     "executionEventId": "2cf37ebc-78b3-43e3-855d-138b72af0c6d",
     "hasError": true,
     "id": "8f51e8ec-d057-461f-8ca5-eda728150583",
     "outputs": [
      {
       "ename": "SyntaxError",
       "evalue": "unexpected EOF while parsing (<ipython-input-23-19224dc15224>, line 6)",
       "output_type": "error",
       "traceback": [
        "\u001b[0;36m  File \u001b[0;32m\"<ipython-input-23-19224dc15224>\"\u001b[0;36m, line \u001b[0;32m6\u001b[0m\n\u001b[0;31m    print('Accuracy is {}'.format(accuracy_score(y_test, y_pred))\u001b[0m\n\u001b[0m                                                                 ^\u001b[0m\n\u001b[0;31mSyntaxError\u001b[0m\u001b[0;31m:\u001b[0m unexpected EOF while parsing\n"
       ]
      }
     ],
     "persistentId": "620aac66-497b-4957-a744-86dae8e55a29",
     "text": "from sklearn.metrics import confusion_matrix\nfrom sklearn.metrics import accuracy_score\n\ncm = confusion_matrix(y_test, y_pred)\nprint(cm)\nprint('Accuracy is {}'.format(accuracy_score(y_test, y_pred))"
    },
    "executionTime": "2020-01-13T06:11:25.826Z"
   },
   {
    "cell": {
     "executionCount": 24,
     "executionEventId": "0568b665-3011-4408-a3af-bcbf31b65b18",
     "hasError": false,
     "id": "8f51e8ec-d057-461f-8ca5-eda728150583",
     "outputs": [
      {
       "name": "stdout",
       "output_type": "stream",
       "text": "[[    0  5799     0    51     0     0     0]\n [    0 56799     0   617     0     0     0]\n [    0   153     0     0     0     0     0]\n [    0 16039     0  1549     0     0     0]\n [    0   919     0    12     0     0     0]\n [    0   348     0     7     0     0     0]\n [    0  1901     0    25     0     0     0]]\nAccuracy is 0.6928127857134376\n"
      }
     ],
     "persistentId": "620aac66-497b-4957-a744-86dae8e55a29",
     "text": "from sklearn.metrics import confusion_matrix\nfrom sklearn.metrics import accuracy_score\n\ncm = confusion_matrix(y_test, y_pred)\nprint(cm)\nprint('Accuracy is {}'.format(accuracy_score(y_test, y_pred)))"
    },
    "executionTime": "2020-01-13T06:11:35.593Z"
   },
   {
    "cell": {
     "executionCount": 25,
     "executionEventId": "430f20a5-4420-42ae-8c2b-0005724234af",
     "hasError": false,
     "id": "8f51e8ec-d057-461f-8ca5-eda728150583",
     "outputs": [
      {
       "name": "stdout",
       "output_type": "stream",
       "text": "Confusion matrix: [[    0  5799     0    51     0     0     0]\n [    0 56799     0   617     0     0     0]\n [    0   153     0     0     0     0     0]\n [    0 16039     0  1549     0     0     0]\n [    0   919     0    12     0     0     0]\n [    0   348     0     7     0     0     0]\n [    0  1901     0    25     0     0     0]]\nAccuracy is 0.6928127857134376\n"
      }
     ],
     "persistentId": "620aac66-497b-4957-a744-86dae8e55a29",
     "text": "from sklearn.metrics import confusion_matrix\nfrom sklearn.metrics import accuracy_score\n\ncm = confusion_matrix(y_test, y_pred)\nprint('Confusion matrix: {}'.format(cm))\nprint('Accuracy is {}'.format(accuracy_score(y_test, y_pred)))"
    },
    "executionTime": "2020-01-13T06:11:50.151Z"
   },
   {
    "cell": {
     "executionCount": 26,
     "executionEventId": "e2b34021-391c-4ab5-81aa-2eab982f9770",
     "hasError": false,
     "id": "8f51e8ec-d057-461f-8ca5-eda728150583",
     "outputs": [
      {
       "name": "stdout",
       "output_type": "stream",
       "text": "Confusion matrix: \n[[    0  5799     0    51     0     0     0]\n [    0 56799     0   617     0     0     0]\n [    0   153     0     0     0     0     0]\n [    0 16039     0  1549     0     0     0]\n [    0   919     0    12     0     0     0]\n [    0   348     0     7     0     0     0]\n [    0  1901     0    25     0     0     0]]\nAccuracy is 0.6928127857134376\n"
      }
     ],
     "persistentId": "620aac66-497b-4957-a744-86dae8e55a29",
     "text": "from sklearn.metrics import confusion_matrix\nfrom sklearn.metrics import accuracy_score\n\ncm = confusion_matrix(y_test, y_pred)\nprint('Confusion matrix: \\n{}'.format(cm))\nprint('Accuracy is {}'.format(accuracy_score(y_test, y_pred)))"
    },
    "executionTime": "2020-01-13T06:11:56.554Z"
   },
   {
    "cell": {
     "executionCount": 27,
     "executionEventId": "3edffb86-5fca-492f-bb96-fc6d731646b5",
     "hasError": true,
     "id": "8f51e8ec-d057-461f-8ca5-eda728150583",
     "outputs": [
      {
       "ename": "SyntaxError",
       "evalue": "unexpected character after line continuation character (<ipython-input-27-3d14991199c2>, line 5)",
       "output_type": "error",
       "traceback": [
        "\u001b[0;36m  File \u001b[0;32m\"<ipython-input-27-3d14991199c2>\"\u001b[0;36m, line \u001b[0;32m5\u001b[0m\n\u001b[0;31m    print('Confusion matrix: \\n{}'\\n.format(cm))\u001b[0m\n\u001b[0m                                                ^\u001b[0m\n\u001b[0;31mSyntaxError\u001b[0m\u001b[0;31m:\u001b[0m unexpected character after line continuation character\n"
       ]
      }
     ],
     "persistentId": "620aac66-497b-4957-a744-86dae8e55a29",
     "text": "from sklearn.metrics import confusion_matrix\nfrom sklearn.metrics import accuracy_score\n\ncm = confusion_matrix(y_test, y_pred)\nprint('Confusion matrix: \\n{}'\\n.format(cm))\nprint('Accuracy is {}'.format(accuracy_score(y_test, y_pred)))"
    },
    "executionTime": "2020-01-13T06:12:02.615Z"
   },
   {
    "cell": {
     "executionCount": 28,
     "executionEventId": "10f0a5d9-20a9-4046-adae-bababb9db244",
     "hasError": false,
     "id": "8f51e8ec-d057-461f-8ca5-eda728150583",
     "outputs": [
      {
       "name": "stdout",
       "output_type": "stream",
       "text": "Confusion matrix: \n[[    0  5799     0    51     0     0     0]\n [    0 56799     0   617     0     0     0]\n [    0   153     0     0     0     0     0]\n [    0 16039     0  1549     0     0     0]\n [    0   919     0    12     0     0     0]\n [    0   348     0     7     0     0     0]\n [    0  1901     0    25     0     0     0]]\n\nAccuracy is 0.6928127857134376\n"
      }
     ],
     "persistentId": "620aac66-497b-4957-a744-86dae8e55a29",
     "text": "from sklearn.metrics import confusion_matrix\nfrom sklearn.metrics import accuracy_score\n\ncm = confusion_matrix(y_test, y_pred)\nprint('Confusion matrix: \\n{}\\n'.format(cm))\nprint('Accuracy is {}'.format(accuracy_score(y_test, y_pred)))"
    },
    "executionTime": "2020-01-13T06:12:07.211Z"
   },
   {
    "cell": {
     "executionCount": 29,
     "executionEventId": "399fa79d-cb6a-4fe6-a772-da5f37db1166",
     "hasError": true,
     "id": "a73e31ce-ac47-412e-8773-788b0bab3d11",
     "outputs": [
      {
       "ename": "ValueError",
       "evalue": "n_components=3 must be between 0 and min(n_samples, n_features)=2 with svd_solver='full'",
       "output_type": "error",
       "traceback": [
        "\u001b[0;31m---------------------------------------------------------------------------\u001b[0m",
        "\u001b[0;31mValueError\u001b[0m                                Traceback (most recent call last)",
        "\u001b[0;32m<ipython-input-29-5d1484e3b903>\u001b[0m in \u001b[0;36m<module>\u001b[0;34m\u001b[0m\n\u001b[1;32m      1\u001b[0m \u001b[0mpca\u001b[0m \u001b[0;34m=\u001b[0m \u001b[0mPCA\u001b[0m\u001b[0;34m(\u001b[0m\u001b[0mn_components\u001b[0m\u001b[0;34m=\u001b[0m\u001b[0;36m3\u001b[0m\u001b[0;34m)\u001b[0m\u001b[0;34m\u001b[0m\u001b[0;34m\u001b[0m\u001b[0m\n\u001b[0;32m----> 2\u001b[0;31m \u001b[0mX_train\u001b[0m \u001b[0;34m=\u001b[0m \u001b[0mpca\u001b[0m\u001b[0;34m.\u001b[0m\u001b[0mfit_transform\u001b[0m\u001b[0;34m(\u001b[0m\u001b[0mX_train\u001b[0m\u001b[0;34m)\u001b[0m\u001b[0;34m\u001b[0m\u001b[0;34m\u001b[0m\u001b[0m\n\u001b[0m\u001b[1;32m      3\u001b[0m \u001b[0mX_test\u001b[0m \u001b[0;34m=\u001b[0m \u001b[0mpca\u001b[0m\u001b[0;34m.\u001b[0m\u001b[0mtransform\u001b[0m\u001b[0;34m(\u001b[0m\u001b[0mX_test\u001b[0m\u001b[0;34m)\u001b[0m\u001b[0;34m\u001b[0m\u001b[0;34m\u001b[0m\u001b[0m\n",
        "\u001b[0;32m~/anaconda3/lib/python3.7/site-packages/sklearn/decomposition/pca.py\u001b[0m in \u001b[0;36mfit_transform\u001b[0;34m(self, X, y)\u001b[0m\n\u001b[1;32m    358\u001b[0m \u001b[0;34m\u001b[0m\u001b[0m\n\u001b[1;32m    359\u001b[0m         \"\"\"\n\u001b[0;32m--> 360\u001b[0;31m         \u001b[0mU\u001b[0m\u001b[0;34m,\u001b[0m \u001b[0mS\u001b[0m\u001b[0;34m,\u001b[0m \u001b[0mV\u001b[0m \u001b[0;34m=\u001b[0m \u001b[0mself\u001b[0m\u001b[0;34m.\u001b[0m\u001b[0m_fit\u001b[0m\u001b[0;34m(\u001b[0m\u001b[0mX\u001b[0m\u001b[0;34m)\u001b[0m\u001b[0;34m\u001b[0m\u001b[0;34m\u001b[0m\u001b[0m\n\u001b[0m\u001b[1;32m    361\u001b[0m         \u001b[0mU\u001b[0m \u001b[0;34m=\u001b[0m \u001b[0mU\u001b[0m\u001b[0;34m[\u001b[0m\u001b[0;34m:\u001b[0m\u001b[0;34m,\u001b[0m \u001b[0;34m:\u001b[0m\u001b[0mself\u001b[0m\u001b[0;34m.\u001b[0m\u001b[0mn_components_\u001b[0m\u001b[0;34m]\u001b[0m\u001b[0;34m\u001b[0m\u001b[0;34m\u001b[0m\u001b[0m\n\u001b[1;32m    362\u001b[0m \u001b[0;34m\u001b[0m\u001b[0m\n",
        "\u001b[0;32m~/anaconda3/lib/python3.7/site-packages/sklearn/decomposition/pca.py\u001b[0m in \u001b[0;36m_fit\u001b[0;34m(self, X)\u001b[0m\n\u001b[1;32m    405\u001b[0m         \u001b[0;31m# Call different fits for either full or truncated SVD\u001b[0m\u001b[0;34m\u001b[0m\u001b[0;34m\u001b[0m\u001b[0;34m\u001b[0m\u001b[0m\n\u001b[1;32m    406\u001b[0m         \u001b[0;32mif\u001b[0m \u001b[0mself\u001b[0m\u001b[0;34m.\u001b[0m\u001b[0m_fit_svd_solver\u001b[0m \u001b[0;34m==\u001b[0m \u001b[0;34m'full'\u001b[0m\u001b[0;34m:\u001b[0m\u001b[0;34m\u001b[0m\u001b[0;34m\u001b[0m\u001b[0m\n\u001b[0;32m--> 407\u001b[0;31m             \u001b[0;32mreturn\u001b[0m \u001b[0mself\u001b[0m\u001b[0;34m.\u001b[0m\u001b[0m_fit_full\u001b[0m\u001b[0;34m(\u001b[0m\u001b[0mX\u001b[0m\u001b[0;34m,\u001b[0m \u001b[0mn_components\u001b[0m\u001b[0;34m)\u001b[0m\u001b[0;34m\u001b[0m\u001b[0;34m\u001b[0m\u001b[0m\n\u001b[0m\u001b[1;32m    408\u001b[0m         \u001b[0;32melif\u001b[0m \u001b[0mself\u001b[0m\u001b[0;34m.\u001b[0m\u001b[0m_fit_svd_solver\u001b[0m \u001b[0;32min\u001b[0m \u001b[0;34m[\u001b[0m\u001b[0;34m'arpack'\u001b[0m\u001b[0;34m,\u001b[0m \u001b[0;34m'randomized'\u001b[0m\u001b[0;34m]\u001b[0m\u001b[0;34m:\u001b[0m\u001b[0;34m\u001b[0m\u001b[0;34m\u001b[0m\u001b[0m\n\u001b[1;32m    409\u001b[0m             \u001b[0;32mreturn\u001b[0m \u001b[0mself\u001b[0m\u001b[0;34m.\u001b[0m\u001b[0m_fit_truncated\u001b[0m\u001b[0;34m(\u001b[0m\u001b[0mX\u001b[0m\u001b[0;34m,\u001b[0m \u001b[0mn_components\u001b[0m\u001b[0;34m,\u001b[0m \u001b[0mself\u001b[0m\u001b[0;34m.\u001b[0m\u001b[0m_fit_svd_solver\u001b[0m\u001b[0;34m)\u001b[0m\u001b[0;34m\u001b[0m\u001b[0;34m\u001b[0m\u001b[0m\n",
        "\u001b[0;32m~/anaconda3/lib/python3.7/site-packages/sklearn/decomposition/pca.py\u001b[0m in \u001b[0;36m_fit_full\u001b[0;34m(self, X, n_components)\u001b[0m\n\u001b[1;32m    424\u001b[0m                              \u001b[0;34m\"min(n_samples, n_features)=%r with \"\u001b[0m\u001b[0;34m\u001b[0m\u001b[0;34m\u001b[0m\u001b[0m\n\u001b[1;32m    425\u001b[0m                              \u001b[0;34m\"svd_solver='full'\"\u001b[0m\u001b[0;34m\u001b[0m\u001b[0;34m\u001b[0m\u001b[0m\n\u001b[0;32m--> 426\u001b[0;31m                              % (n_components, min(n_samples, n_features)))\n\u001b[0m\u001b[1;32m    427\u001b[0m         \u001b[0;32melif\u001b[0m \u001b[0mn_components\u001b[0m \u001b[0;34m>=\u001b[0m \u001b[0;36m1\u001b[0m\u001b[0;34m:\u001b[0m\u001b[0;34m\u001b[0m\u001b[0;34m\u001b[0m\u001b[0m\n\u001b[1;32m    428\u001b[0m             \u001b[0;32mif\u001b[0m \u001b[0;32mnot\u001b[0m \u001b[0misinstance\u001b[0m\u001b[0;34m(\u001b[0m\u001b[0mn_components\u001b[0m\u001b[0;34m,\u001b[0m \u001b[0;34m(\u001b[0m\u001b[0mnumbers\u001b[0m\u001b[0;34m.\u001b[0m\u001b[0mIntegral\u001b[0m\u001b[0;34m,\u001b[0m \u001b[0mnp\u001b[0m\u001b[0;34m.\u001b[0m\u001b[0minteger\u001b[0m\u001b[0;34m)\u001b[0m\u001b[0;34m)\u001b[0m\u001b[0;34m:\u001b[0m\u001b[0;34m\u001b[0m\u001b[0;34m\u001b[0m\u001b[0m\n",
        "\u001b[0;31mValueError\u001b[0m: n_components=3 must be between 0 and min(n_samples, n_features)=2 with svd_solver='full'"
       ]
      }
     ],
     "persistentId": "69b13d58-d904-4002-a0ab-8ceb1b3d601e",
     "text": "pca = PCA(n_components=3)\nX_train = pca.fit_transform(X_train)\nX_test = pca.transform(X_test)"
    },
    "executionTime": "2020-01-13T06:12:19.315Z"
   },
   {
    "cell": {
     "executionCount": 1,
     "executionEventId": "4db38640-bdb5-4d05-a982-3c23484fd552",
     "hasError": false,
     "id": "087d1d67-aec1-4c65-9310-ba063529c530",
     "outputs": [],
     "persistentId": "47827e5d-9598-4b20-88c8-d5f63cfe04b4",
     "text": "# import libraries\nimport pandas as pd\nimport numpy as np\nimport matplotlib.pyplot as plt\nfrom sklearn import ensemble\nfrom sklearn.model_selection import cross_val_score\nfrom sklearn.preprocessing import StandardScaler\nfrom sklearn.model_selection import train_test_split\nfrom sklearn.decomposition import PCA\nfrom sklearn.ensemble import RandomForestClassifier\n\n\n%matplotlib inline"
    },
    "executionTime": "2020-01-13T06:12:38.046Z"
   },
   {
    "cell": {
     "executionCount": 2,
     "executionEventId": "d312523d-33e9-4d99-9c2f-2257b7ab0c53",
     "hasError": false,
     "id": "4b387283-d2d1-4abf-98c7-2cb0238c4f1a",
     "outputs": [
      {
       "name": "stderr",
       "output_type": "stream",
       "text": "/Users/apple/anaconda3/lib/python3.7/site-packages/IPython/core/interactiveshell.py:3057: DtypeWarning: Columns (0,19,55) have mixed types. Specify dtype option on import or set low_memory=False.\n  interactivity=interactivity, compiler=compiler, result=result)\n"
      },
      {
       "data": {
        "text/html": "<div>\n<style scoped>\n    .dataframe tbody tr th:only-of-type {\n        vertical-align: middle;\n    }\n\n    .dataframe tbody tr th {\n        vertical-align: top;\n    }\n\n    .dataframe thead th {\n        text-align: right;\n    }\n</style>\n<table border=\"1\" class=\"dataframe\">\n  <thead>\n    <tr style=\"text-align: right;\">\n      <th></th>\n      <th>id</th>\n      <th>member_id</th>\n      <th>loan_amnt</th>\n      <th>funded_amnt</th>\n      <th>funded_amnt_inv</th>\n      <th>term</th>\n      <th>int_rate</th>\n      <th>installment</th>\n      <th>grade</th>\n      <th>sub_grade</th>\n      <th>...</th>\n      <th>num_tl_90g_dpd_24m</th>\n      <th>num_tl_op_past_12m</th>\n      <th>pct_tl_nvr_dlq</th>\n      <th>percent_bc_gt_75</th>\n      <th>pub_rec_bankruptcies</th>\n      <th>tax_liens</th>\n      <th>tot_hi_cred_lim</th>\n      <th>total_bal_ex_mort</th>\n      <th>total_bc_limit</th>\n      <th>total_il_high_credit_limit</th>\n    </tr>\n  </thead>\n  <tbody>\n    <tr>\n      <th>0</th>\n      <td>68009401</td>\n      <td>72868139.0</td>\n      <td>16000.0</td>\n      <td>16000.0</td>\n      <td>16000.0</td>\n      <td>60 months</td>\n      <td>14.85%</td>\n      <td>379.39</td>\n      <td>C</td>\n      <td>C5</td>\n      <td>...</td>\n      <td>0.0</td>\n      <td>2.0</td>\n      <td>78.9</td>\n      <td>0.0</td>\n      <td>0.0</td>\n      <td>2.0</td>\n      <td>298100.0</td>\n      <td>31329.0</td>\n      <td>281300.0</td>\n      <td>13400.0</td>\n    </tr>\n    <tr>\n      <th>1</th>\n      <td>68354783</td>\n      <td>73244544.0</td>\n      <td>9600.0</td>\n      <td>9600.0</td>\n      <td>9600.0</td>\n      <td>36 months</td>\n      <td>7.49%</td>\n      <td>298.58</td>\n      <td>A</td>\n      <td>A4</td>\n      <td>...</td>\n      <td>0.0</td>\n      <td>2.0</td>\n      <td>100.0</td>\n      <td>66.7</td>\n      <td>0.0</td>\n      <td>0.0</td>\n      <td>88635.0</td>\n      <td>55387.0</td>\n      <td>12500.0</td>\n      <td>75635.0</td>\n    </tr>\n    <tr>\n      <th>2</th>\n      <td>68466916</td>\n      <td>73356753.0</td>\n      <td>25000.0</td>\n      <td>25000.0</td>\n      <td>25000.0</td>\n      <td>36 months</td>\n      <td>7.49%</td>\n      <td>777.55</td>\n      <td>A</td>\n      <td>A4</td>\n      <td>...</td>\n      <td>0.0</td>\n      <td>0.0</td>\n      <td>100.0</td>\n      <td>20.0</td>\n      <td>0.0</td>\n      <td>0.0</td>\n      <td>373572.0</td>\n      <td>68056.0</td>\n      <td>38400.0</td>\n      <td>82117.0</td>\n    </tr>\n    <tr>\n      <th>3</th>\n      <td>68466961</td>\n      <td>73356799.0</td>\n      <td>28000.0</td>\n      <td>28000.0</td>\n      <td>28000.0</td>\n      <td>36 months</td>\n      <td>6.49%</td>\n      <td>858.05</td>\n      <td>A</td>\n      <td>A2</td>\n      <td>...</td>\n      <td>0.0</td>\n      <td>0.0</td>\n      <td>91.7</td>\n      <td>22.2</td>\n      <td>0.0</td>\n      <td>0.0</td>\n      <td>304003.0</td>\n      <td>74920.0</td>\n      <td>41500.0</td>\n      <td>42503.0</td>\n    </tr>\n    <tr>\n      <th>4</th>\n      <td>68495092</td>\n      <td>73384866.0</td>\n      <td>8650.0</td>\n      <td>8650.0</td>\n      <td>8650.0</td>\n      <td>36 months</td>\n      <td>19.89%</td>\n      <td>320.99</td>\n      <td>E</td>\n      <td>E3</td>\n      <td>...</td>\n      <td>0.0</td>\n      <td>12.0</td>\n      <td>100.0</td>\n      <td>50.0</td>\n      <td>1.0</td>\n      <td>0.0</td>\n      <td>38998.0</td>\n      <td>18926.0</td>\n      <td>2750.0</td>\n      <td>18248.0</td>\n    </tr>\n  </tbody>\n</table>\n<p>5 rows × 111 columns</p>\n</div>",
        "text/plain": "         id   member_id  loan_amnt  funded_amnt  funded_amnt_inv        term  \\\n0  68009401  72868139.0    16000.0      16000.0          16000.0   60 months   \n1  68354783  73244544.0     9600.0       9600.0           9600.0   36 months   \n2  68466916  73356753.0    25000.0      25000.0          25000.0   36 months   \n3  68466961  73356799.0    28000.0      28000.0          28000.0   36 months   \n4  68495092  73384866.0     8650.0       8650.0           8650.0   36 months   \n\n  int_rate  installment grade sub_grade  ... num_tl_90g_dpd_24m  \\\n0   14.85%       379.39     C        C5  ...                0.0   \n1    7.49%       298.58     A        A4  ...                0.0   \n2    7.49%       777.55     A        A4  ...                0.0   \n3    6.49%       858.05     A        A2  ...                0.0   \n4   19.89%       320.99     E        E3  ...                0.0   \n\n  num_tl_op_past_12m pct_tl_nvr_dlq  percent_bc_gt_75 pub_rec_bankruptcies  \\\n0                2.0           78.9               0.0                  0.0   \n1                2.0          100.0              66.7                  0.0   \n2                0.0          100.0              20.0                  0.0   \n3                0.0           91.7              22.2                  0.0   \n4               12.0          100.0              50.0                  1.0   \n\n  tax_liens tot_hi_cred_lim total_bal_ex_mort total_bc_limit  \\\n0       2.0        298100.0           31329.0       281300.0   \n1       0.0         88635.0           55387.0        12500.0   \n2       0.0        373572.0           68056.0        38400.0   \n3       0.0        304003.0           74920.0        41500.0   \n4       0.0         38998.0           18926.0         2750.0   \n\n  total_il_high_credit_limit  \n0                    13400.0  \n1                    75635.0  \n2                    82117.0  \n3                    42503.0  \n4                    18248.0  \n\n[5 rows x 111 columns]"
       },
       "execution_count": 2,
       "metadata": {},
       "output_type": "execute_result"
      }
     ],
     "persistentId": "0ff2576a-01f5-4050-a162-f50f1dadb654",
     "text": "# read data from file\nraw = pd.read_csv(\"LoanStats3d.csv\", skipinitialspace=True, header=1)\n\n# show first 5 rows\nraw.head()"
    },
    "executionTime": "2020-01-13T06:12:44.654Z"
   },
   {
    "cell": {
     "executionCount": 3,
     "executionEventId": "f4803cb1-0af2-4997-acca-e396d378712f",
     "hasError": false,
     "id": "2c8ad38f-dc24-422d-bc25-58618650d28e",
     "outputs": [
      {
       "name": "stdout",
       "output_type": "stream",
       "text": "id: 421097\nterm: 2\nint_rate: 110\ngrade: 7\nsub_grade: 35\nemp_title: 120812\nemp_length: 11\nhome_ownership: 4\nverification_status: 3\nissue_d: 12\nloan_status: 7\npymnt_plan: 1\nurl: 421095\ndesc: 34\npurpose: 14\ntitle: 27\nzip_code: 914\naddr_state: 49\nearliest_cr_line: 668\nrevol_util: 1211\ninitial_list_status: 2\nlast_pymnt_d: 25\nnext_pymnt_d: 4\nlast_credit_pull_d: 26\napplication_type: 2\nverification_status_joint: 3\n"
      }
     ],
     "persistentId": "5b2f0e29-b19e-4b09-a92b-aa4ad1a3d6ce",
     "text": "# number of unique values in each column\ncategorical = raw.select_dtypes(include=[\"object\"])\nfor col in categorical.columns:\n    print(\"{}: {}\".format(col, categorical[col].nunique()))"
    },
    "executionTime": "2020-01-13T06:12:45.612Z"
   },
   {
    "cell": {
     "executionCount": 4,
     "executionEventId": "fe9c530d-fbb8-4a1d-a5d9-7c9c1dc3c08c",
     "hasError": false,
     "id": "8b44dda3-0965-4d6d-8ead-a544a81537c6",
     "outputs": [],
     "persistentId": "7cf6bb84-5b95-4d11-ada9-a353bb090802",
     "text": "# create a copy of the original data\nloans = raw.copy()\n\n# convert ID and interest rate to numeric.\nloans[\"id\"] = pd.to_numeric(loans[\"id\"], errors=\"coerce\")\nloans[\"int_rate\"] = pd.to_numeric(loans[\"int_rate\"].str.strip(\"%\"), errors=\"coerce\")\n\n# drop columns with too many unique values\nloans.drop(\n    [\n        \"url\",\n        \"emp_title\",\n        \"zip_code\",\n        \"earliest_cr_line\",\n        \"revol_util\",\n        \"sub_grade\",\n        \"addr_state\",\n        \"desc\",\n    ],\n    1,\n    inplace=True,\n)"
    },
    "executionTime": "2020-01-13T06:12:47.032Z"
   },
   {
    "cell": {
     "executionCount": 5,
     "executionEventId": "ec8c8f5b-22eb-4563-b731-c2295ac2f69c",
     "hasError": false,
     "id": "53453b41-2b36-4c9c-b536-ee4ba1a8017b",
     "outputs": [],
     "persistentId": "17c49fba-75fa-4a9c-b2ce-00b9d9177dd1",
     "text": "loans.dropna(how=\"all\", inplace=True)"
    },
    "executionTime": "2020-01-13T06:12:48.083Z"
   },
   {
    "cell": {
     "executionCount": 6,
     "executionEventId": "e5fb1368-4da4-4ac3-8016-e7d501a97e9b",
     "hasError": false,
     "id": "8ef58257-96a8-4380-8307-c2b3b1f47574",
     "outputs": [],
     "persistentId": "2017abed-11da-4e1d-9b28-cb95437c807e",
     "text": "# target variable\ny = loans[\"loan_status\"]\n\n# feature vector\nX = loans.drop(\"loan_status\", 1)\n\n# one hot encoding\nX = pd.get_dummies(X)\n\n# drop rows with missing data\nX = X.dropna(axis=1)"
    },
    "executionTime": "2020-01-13T06:12:51.059Z"
   },
   {
    "cell": {
     "executionCount": 7,
     "executionEventId": "d261c0d7-8834-49ae-a342-30df29d6a547",
     "hasError": false,
     "id": "a13682dc-de05-408b-8417-8f6551dd7510",
     "outputs": [],
     "persistentId": "90f8fe66-3b9f-41a0-bc75-02a19dfe9795",
     "text": "X_train, X_test, y_train, y_test = train_test_split(X, y, test_size=0.2, random_state=0)"
    },
    "executionTime": "2020-01-13T06:12:51.466Z"
   },
   {
    "cell": {
     "executionCount": 8,
     "executionEventId": "eb7e4107-a37f-485b-abb9-4ca83a79e09c",
     "hasError": false,
     "id": "6ad2d56c-1f7f-4978-bc83-ef6fa815a6aa",
     "outputs": [],
     "persistentId": "9db882cf-c91c-4a3d-b367-a18fda494f9b",
     "text": "sc = StandardScaler()\nX_train = sc.fit_transform(X_train)\nX_test = sc.transform(X_test)"
    },
    "executionTime": "2020-01-13T06:12:54.353Z"
   },
   {
    "cell": {
     "executionCount": 9,
     "executionEventId": "574814ca-26a9-487c-a089-6755a33ab75c",
     "hasError": false,
     "id": "223d0685-d5f6-49cf-abbe-1afcc281fbd2",
     "outputs": [],
     "persistentId": "d6f2fdcc-c442-4c0d-9f40-b4badf1e881b",
     "text": "pca = PCA()\nX_train = pca.fit_transform(X_train)\nX_test = pca.transform(X_test)"
    },
    "executionTime": "2020-01-13T06:12:58.021Z"
   },
   {
    "cell": {
     "executionCount": 10,
     "executionEventId": "e82fb0f5-e730-405c-85fb-c9e6c6278e0d",
     "hasError": false,
     "id": "b0c3db21-2db5-4204-b1f7-14a90bff960a",
     "outputs": [],
     "persistentId": "8508952b-772a-469e-8553-7cfecbaa41ab",
     "text": "explained_variance = pca.explained_variance_ratio_"
    },
    "executionTime": "2020-01-13T06:12:58.038Z"
   },
   {
    "cell": {
     "executionCount": 11,
     "executionEventId": "b36c8d25-28a2-455a-851e-6416ba27d5d7",
     "hasError": false,
     "id": "a73e31ce-ac47-412e-8773-788b0bab3d11",
     "outputs": [],
     "persistentId": "69b13d58-d904-4002-a0ab-8ceb1b3d601e",
     "text": "pca = PCA(n_components=3)\nX_train = pca.fit_transform(X_train)\nX_test = pca.transform(X_test)"
    },
    "executionTime": "2020-01-13T06:13:00.142Z"
   },
   {
    "cell": {
     "executionCount": 12,
     "executionEventId": "5ca854b5-1b0b-40ea-a29b-8e0a8caed525",
     "hasError": false,
     "id": "adb5637c-b1d3-4b99-95e6-a4d3a6c0abee",
     "outputs": [
      {
       "name": "stderr",
       "output_type": "stream",
       "text": "/Users/apple/anaconda3/lib/python3.7/site-packages/sklearn/ensemble/forest.py:245: FutureWarning: The default value of n_estimators will change from 10 in version 0.20 to 100 in 0.22.\n  \"10 in version 0.20 to 100 in 0.22.\", FutureWarning)\n"
      }
     ],
     "persistentId": "627587f2-27ac-4da5-8ba3-e03ac7fd60c5",
     "text": "classifier = RandomForestClassifier(max_depth=2, random_state=0)\nclassifier.fit(X_train, y_train)\n\ny_pred = classifier.predict(X_test)"
    },
    "executionTime": "2020-01-13T06:13:02.053Z"
   },
   {
    "cell": {
     "executionCount": 13,
     "executionEventId": "63b4a3d5-26ec-442d-8d5c-a2c8b4f8b55f",
     "hasError": false,
     "id": "8f51e8ec-d057-461f-8ca5-eda728150583",
     "outputs": [
      {
       "name": "stdout",
       "output_type": "stream",
       "text": "Confusion matrix: \n[[    0  1654     0  4196     0     0     0]\n [    0 56641     0   775     0     0     0]\n [    0   142     0    11     0     0     0]\n [    0  1587     0 16001     0     0     0]\n [    0   902     0    29     0     0     0]\n [    0   342     0    13     0     0     0]\n [    0  1756     0   170     0     0     0]]\n\nAccuracy is 0.8625369572186798\n"
      }
     ],
     "persistentId": "620aac66-497b-4957-a744-86dae8e55a29",
     "text": "from sklearn.metrics import confusion_matrix\nfrom sklearn.metrics import accuracy_score\n\ncm = confusion_matrix(y_test, y_pred)\nprint('Confusion matrix: \\n{}\\n'.format(cm))\nprint('Accuracy is {}'.format(accuracy_score(y_test, y_pred)))"
    },
    "executionTime": "2020-01-13T06:13:02.497Z"
   },
   {
    "cell": {
     "executionCount": 14,
     "executionEventId": "1f6faab0-ecd7-4d1b-8f39-55b37d11727c",
     "hasError": false,
     "id": "d99bab50-33b1-406f-84f7-1499cf2dc88a",
     "outputs": [
      {
       "data": {
        "text/plain": "0.8625369572186798"
       },
       "execution_count": 14,
       "metadata": {},
       "output_type": "execute_result"
      }
     ],
     "persistentId": "ad4e2092-a0e1-4c09-b772-36b92555df07",
     "text": "accuracy_score(y_test, y_pred)"
    },
    "executionTime": "2020-01-13T06:13:02.603Z"
   },
   {
    "cell": {
     "executionCount": 1,
     "executionEventId": "9a72b5c9-7f59-46be-b3c3-6362ec795a3d",
     "hasError": false,
     "id": "087d1d67-aec1-4c65-9310-ba063529c530",
     "outputs": [],
     "persistentId": "47827e5d-9598-4b20-88c8-d5f63cfe04b4",
     "text": "# import libraries\nimport pandas as pd\nimport numpy as np\nimport matplotlib.pyplot as plt\nfrom sklearn import ensemble\nfrom sklearn.model_selection import cross_val_score\nfrom sklearn.preprocessing import StandardScaler\nfrom sklearn.model_selection import train_test_split\nfrom sklearn.decomposition import PCA\nfrom sklearn.ensemble import RandomForestClassifier\n\n\n%matplotlib inline"
    },
    "executionTime": "2020-01-13T06:14:06.428Z"
   },
   {
    "cell": {
     "executionCount": 2,
     "executionEventId": "e13e5e15-7c53-47c9-afd2-791e6a83c314",
     "hasError": false,
     "id": "4b387283-d2d1-4abf-98c7-2cb0238c4f1a",
     "outputs": [
      {
       "name": "stderr",
       "output_type": "stream",
       "text": "/Users/apple/anaconda3/lib/python3.7/site-packages/IPython/core/interactiveshell.py:3057: DtypeWarning: Columns (0,19,55) have mixed types. Specify dtype option on import or set low_memory=False.\n  interactivity=interactivity, compiler=compiler, result=result)\n"
      },
      {
       "data": {
        "text/html": "<div>\n<style scoped>\n    .dataframe tbody tr th:only-of-type {\n        vertical-align: middle;\n    }\n\n    .dataframe tbody tr th {\n        vertical-align: top;\n    }\n\n    .dataframe thead th {\n        text-align: right;\n    }\n</style>\n<table border=\"1\" class=\"dataframe\">\n  <thead>\n    <tr style=\"text-align: right;\">\n      <th></th>\n      <th>id</th>\n      <th>member_id</th>\n      <th>loan_amnt</th>\n      <th>funded_amnt</th>\n      <th>funded_amnt_inv</th>\n      <th>term</th>\n      <th>int_rate</th>\n      <th>installment</th>\n      <th>grade</th>\n      <th>sub_grade</th>\n      <th>...</th>\n      <th>num_tl_90g_dpd_24m</th>\n      <th>num_tl_op_past_12m</th>\n      <th>pct_tl_nvr_dlq</th>\n      <th>percent_bc_gt_75</th>\n      <th>pub_rec_bankruptcies</th>\n      <th>tax_liens</th>\n      <th>tot_hi_cred_lim</th>\n      <th>total_bal_ex_mort</th>\n      <th>total_bc_limit</th>\n      <th>total_il_high_credit_limit</th>\n    </tr>\n  </thead>\n  <tbody>\n    <tr>\n      <th>0</th>\n      <td>68009401</td>\n      <td>72868139.0</td>\n      <td>16000.0</td>\n      <td>16000.0</td>\n      <td>16000.0</td>\n      <td>60 months</td>\n      <td>14.85%</td>\n      <td>379.39</td>\n      <td>C</td>\n      <td>C5</td>\n      <td>...</td>\n      <td>0.0</td>\n      <td>2.0</td>\n      <td>78.9</td>\n      <td>0.0</td>\n      <td>0.0</td>\n      <td>2.0</td>\n      <td>298100.0</td>\n      <td>31329.0</td>\n      <td>281300.0</td>\n      <td>13400.0</td>\n    </tr>\n    <tr>\n      <th>1</th>\n      <td>68354783</td>\n      <td>73244544.0</td>\n      <td>9600.0</td>\n      <td>9600.0</td>\n      <td>9600.0</td>\n      <td>36 months</td>\n      <td>7.49%</td>\n      <td>298.58</td>\n      <td>A</td>\n      <td>A4</td>\n      <td>...</td>\n      <td>0.0</td>\n      <td>2.0</td>\n      <td>100.0</td>\n      <td>66.7</td>\n      <td>0.0</td>\n      <td>0.0</td>\n      <td>88635.0</td>\n      <td>55387.0</td>\n      <td>12500.0</td>\n      <td>75635.0</td>\n    </tr>\n    <tr>\n      <th>2</th>\n      <td>68466916</td>\n      <td>73356753.0</td>\n      <td>25000.0</td>\n      <td>25000.0</td>\n      <td>25000.0</td>\n      <td>36 months</td>\n      <td>7.49%</td>\n      <td>777.55</td>\n      <td>A</td>\n      <td>A4</td>\n      <td>...</td>\n      <td>0.0</td>\n      <td>0.0</td>\n      <td>100.0</td>\n      <td>20.0</td>\n      <td>0.0</td>\n      <td>0.0</td>\n      <td>373572.0</td>\n      <td>68056.0</td>\n      <td>38400.0</td>\n      <td>82117.0</td>\n    </tr>\n    <tr>\n      <th>3</th>\n      <td>68466961</td>\n      <td>73356799.0</td>\n      <td>28000.0</td>\n      <td>28000.0</td>\n      <td>28000.0</td>\n      <td>36 months</td>\n      <td>6.49%</td>\n      <td>858.05</td>\n      <td>A</td>\n      <td>A2</td>\n      <td>...</td>\n      <td>0.0</td>\n      <td>0.0</td>\n      <td>91.7</td>\n      <td>22.2</td>\n      <td>0.0</td>\n      <td>0.0</td>\n      <td>304003.0</td>\n      <td>74920.0</td>\n      <td>41500.0</td>\n      <td>42503.0</td>\n    </tr>\n    <tr>\n      <th>4</th>\n      <td>68495092</td>\n      <td>73384866.0</td>\n      <td>8650.0</td>\n      <td>8650.0</td>\n      <td>8650.0</td>\n      <td>36 months</td>\n      <td>19.89%</td>\n      <td>320.99</td>\n      <td>E</td>\n      <td>E3</td>\n      <td>...</td>\n      <td>0.0</td>\n      <td>12.0</td>\n      <td>100.0</td>\n      <td>50.0</td>\n      <td>1.0</td>\n      <td>0.0</td>\n      <td>38998.0</td>\n      <td>18926.0</td>\n      <td>2750.0</td>\n      <td>18248.0</td>\n    </tr>\n  </tbody>\n</table>\n<p>5 rows × 111 columns</p>\n</div>",
        "text/plain": "         id   member_id  loan_amnt  funded_amnt  funded_amnt_inv        term  \\\n0  68009401  72868139.0    16000.0      16000.0          16000.0   60 months   \n1  68354783  73244544.0     9600.0       9600.0           9600.0   36 months   \n2  68466916  73356753.0    25000.0      25000.0          25000.0   36 months   \n3  68466961  73356799.0    28000.0      28000.0          28000.0   36 months   \n4  68495092  73384866.0     8650.0       8650.0           8650.0   36 months   \n\n  int_rate  installment grade sub_grade  ... num_tl_90g_dpd_24m  \\\n0   14.85%       379.39     C        C5  ...                0.0   \n1    7.49%       298.58     A        A4  ...                0.0   \n2    7.49%       777.55     A        A4  ...                0.0   \n3    6.49%       858.05     A        A2  ...                0.0   \n4   19.89%       320.99     E        E3  ...                0.0   \n\n  num_tl_op_past_12m pct_tl_nvr_dlq  percent_bc_gt_75 pub_rec_bankruptcies  \\\n0                2.0           78.9               0.0                  0.0   \n1                2.0          100.0              66.7                  0.0   \n2                0.0          100.0              20.0                  0.0   \n3                0.0           91.7              22.2                  0.0   \n4               12.0          100.0              50.0                  1.0   \n\n  tax_liens tot_hi_cred_lim total_bal_ex_mort total_bc_limit  \\\n0       2.0        298100.0           31329.0       281300.0   \n1       0.0         88635.0           55387.0        12500.0   \n2       0.0        373572.0           68056.0        38400.0   \n3       0.0        304003.0           74920.0        41500.0   \n4       0.0         38998.0           18926.0         2750.0   \n\n  total_il_high_credit_limit  \n0                    13400.0  \n1                    75635.0  \n2                    82117.0  \n3                    42503.0  \n4                    18248.0  \n\n[5 rows x 111 columns]"
       },
       "execution_count": 2,
       "metadata": {},
       "output_type": "execute_result"
      }
     ],
     "persistentId": "0ff2576a-01f5-4050-a162-f50f1dadb654",
     "text": "# read data from file\nraw = pd.read_csv(\"LoanStats3d.csv\", skipinitialspace=True, header=1)\n\n# show first 5 rows\nraw.head()"
    },
    "executionTime": "2020-01-13T06:14:12.291Z"
   },
   {
    "cell": {
     "executionCount": 3,
     "executionEventId": "7cc1880c-8e07-482c-b597-4ae0199fea28",
     "hasError": false,
     "id": "2c8ad38f-dc24-422d-bc25-58618650d28e",
     "outputs": [
      {
       "name": "stdout",
       "output_type": "stream",
       "text": "id: 421097\nterm: 2\nint_rate: 110\ngrade: 7\nsub_grade: 35\nemp_title: 120812\nemp_length: 11\nhome_ownership: 4\nverification_status: 3\nissue_d: 12\nloan_status: 7\npymnt_plan: 1\nurl: 421095\ndesc: 34\npurpose: 14\ntitle: 27\nzip_code: 914\naddr_state: 49\nearliest_cr_line: 668\nrevol_util: 1211\ninitial_list_status: 2\nlast_pymnt_d: 25\nnext_pymnt_d: 4\nlast_credit_pull_d: 26\napplication_type: 2\nverification_status_joint: 3\n"
      }
     ],
     "persistentId": "5b2f0e29-b19e-4b09-a92b-aa4ad1a3d6ce",
     "text": "# number of unique values in each column\ncategorical = raw.select_dtypes(include=[\"object\"])\nfor col in categorical.columns:\n    print(\"{}: {}\".format(col, categorical[col].nunique()))"
    },
    "executionTime": "2020-01-13T06:14:13.346Z"
   },
   {
    "cell": {
     "executionCount": 4,
     "executionEventId": "a01cf352-1a16-414a-bf9a-561d28533858",
     "hasError": false,
     "id": "8b44dda3-0965-4d6d-8ead-a544a81537c6",
     "outputs": [],
     "persistentId": "7cf6bb84-5b95-4d11-ada9-a353bb090802",
     "text": "# create a copy of the original data\nloans = raw.copy()\n\n# convert ID and interest rate to numeric.\nloans[\"id\"] = pd.to_numeric(loans[\"id\"], errors=\"coerce\")\nloans[\"int_rate\"] = pd.to_numeric(loans[\"int_rate\"].str.strip(\"%\"), errors=\"coerce\")\n\n# drop columns with too many unique values\nloans.drop(\n    [\n        \"url\",\n        \"emp_title\",\n        \"zip_code\",\n        \"earliest_cr_line\",\n        \"revol_util\",\n        \"sub_grade\",\n        \"addr_state\",\n        \"desc\",\n    ],\n    1,\n    inplace=True,\n)"
    },
    "executionTime": "2020-01-13T06:14:15.062Z"
   },
   {
    "cell": {
     "executionCount": 5,
     "executionEventId": "1403f13e-0e1d-446f-a4b3-1a53eaa0b6db",
     "hasError": false,
     "id": "53453b41-2b36-4c9c-b536-ee4ba1a8017b",
     "outputs": [],
     "persistentId": "17c49fba-75fa-4a9c-b2ce-00b9d9177dd1",
     "text": "loans.dropna(how=\"all\", inplace=True)"
    },
    "executionTime": "2020-01-13T06:14:16.257Z"
   },
   {
    "cell": {
     "executionCount": 6,
     "executionEventId": "d23b9216-a93a-44e5-abe4-47a2459cf811",
     "hasError": false,
     "id": "8ef58257-96a8-4380-8307-c2b3b1f47574",
     "outputs": [],
     "persistentId": "2017abed-11da-4e1d-9b28-cb95437c807e",
     "text": "# target variable\ny = loans[\"loan_status\"]\n\n# feature vector\nX = loans.drop(\"loan_status\", 1)\n\n# one hot encoding\nX = pd.get_dummies(X)\n\n# drop rows with missing data\nX = X.dropna(axis=1)"
    },
    "executionTime": "2020-01-13T06:14:19.306Z"
   },
   {
    "cell": {
     "executionCount": 7,
     "executionEventId": "21214b70-a098-4015-8431-66fb1cdb8931",
     "hasError": false,
     "id": "a13682dc-de05-408b-8417-8f6551dd7510",
     "outputs": [],
     "persistentId": "90f8fe66-3b9f-41a0-bc75-02a19dfe9795",
     "text": "X_train, X_test, y_train, y_test = train_test_split(X, y, test_size=0.2, random_state=0)"
    },
    "executionTime": "2020-01-13T06:14:19.784Z"
   },
   {
    "cell": {
     "executionCount": 8,
     "executionEventId": "ee387ba2-1172-4bff-b64d-351ba8d636c8",
     "hasError": false,
     "id": "6ad2d56c-1f7f-4978-bc83-ef6fa815a6aa",
     "outputs": [],
     "persistentId": "9db882cf-c91c-4a3d-b367-a18fda494f9b",
     "text": "sc = StandardScaler()\nX_train = sc.fit_transform(X_train)\nX_test = sc.transform(X_test)"
    },
    "executionTime": "2020-01-13T06:14:22.650Z"
   },
   {
    "cell": {
     "executionCount": 9,
     "executionEventId": "9c6bacc5-d287-415b-9edf-c730252ef2d2",
     "hasError": false,
     "id": "223d0685-d5f6-49cf-abbe-1afcc281fbd2",
     "outputs": [],
     "persistentId": "d6f2fdcc-c442-4c0d-9f40-b4badf1e881b",
     "text": "pca = PCA()\nX_train = pca.fit_transform(X_train)\nX_test = pca.transform(X_test)"
    },
    "executionTime": "2020-01-13T06:14:26.551Z"
   },
   {
    "cell": {
     "executionCount": 10,
     "executionEventId": "bc52292d-7eec-427b-9d2d-5cae09477071",
     "hasError": false,
     "id": "b0c3db21-2db5-4204-b1f7-14a90bff960a",
     "outputs": [],
     "persistentId": "8508952b-772a-469e-8553-7cfecbaa41ab",
     "text": "explained_variance = pca.explained_variance_ratio_"
    },
    "executionTime": "2020-01-13T06:14:26.581Z"
   },
   {
    "cell": {
     "executionCount": 1,
     "executionEventId": "56332f50-f1f7-4420-a211-414862ee3f38",
     "hasError": false,
     "id": "087d1d67-aec1-4c65-9310-ba063529c530",
     "outputs": [],
     "persistentId": "47827e5d-9598-4b20-88c8-d5f63cfe04b4",
     "text": "# import libraries\nimport pandas as pd\nimport numpy as np\nimport matplotlib.pyplot as plt\nfrom sklearn import ensemble\nfrom sklearn.model_selection import cross_val_score\nfrom sklearn.preprocessing import StandardScaler\nfrom sklearn.model_selection import train_test_split\nfrom sklearn.decomposition import PCA\nfrom sklearn.ensemble import RandomForestClassifier\n\nimport warnings\nwarnings.filterwarnings('ignore')\n\n%matplotlib inline"
    },
    "executionTime": "2020-01-13T06:15:23.022Z"
   },
   {
    "cell": {
     "executionCount": 2,
     "executionEventId": "74bad29d-6915-40d2-b34a-d1d35e5a963a",
     "hasError": false,
     "id": "4b387283-d2d1-4abf-98c7-2cb0238c4f1a",
     "outputs": [
      {
       "data": {
        "text/html": "<div>\n<style scoped>\n    .dataframe tbody tr th:only-of-type {\n        vertical-align: middle;\n    }\n\n    .dataframe tbody tr th {\n        vertical-align: top;\n    }\n\n    .dataframe thead th {\n        text-align: right;\n    }\n</style>\n<table border=\"1\" class=\"dataframe\">\n  <thead>\n    <tr style=\"text-align: right;\">\n      <th></th>\n      <th>id</th>\n      <th>member_id</th>\n      <th>loan_amnt</th>\n      <th>funded_amnt</th>\n      <th>funded_amnt_inv</th>\n      <th>term</th>\n      <th>int_rate</th>\n      <th>installment</th>\n      <th>grade</th>\n      <th>sub_grade</th>\n      <th>...</th>\n      <th>num_tl_90g_dpd_24m</th>\n      <th>num_tl_op_past_12m</th>\n      <th>pct_tl_nvr_dlq</th>\n      <th>percent_bc_gt_75</th>\n      <th>pub_rec_bankruptcies</th>\n      <th>tax_liens</th>\n      <th>tot_hi_cred_lim</th>\n      <th>total_bal_ex_mort</th>\n      <th>total_bc_limit</th>\n      <th>total_il_high_credit_limit</th>\n    </tr>\n  </thead>\n  <tbody>\n    <tr>\n      <th>0</th>\n      <td>68009401</td>\n      <td>72868139.0</td>\n      <td>16000.0</td>\n      <td>16000.0</td>\n      <td>16000.0</td>\n      <td>60 months</td>\n      <td>14.85%</td>\n      <td>379.39</td>\n      <td>C</td>\n      <td>C5</td>\n      <td>...</td>\n      <td>0.0</td>\n      <td>2.0</td>\n      <td>78.9</td>\n      <td>0.0</td>\n      <td>0.0</td>\n      <td>2.0</td>\n      <td>298100.0</td>\n      <td>31329.0</td>\n      <td>281300.0</td>\n      <td>13400.0</td>\n    </tr>\n    <tr>\n      <th>1</th>\n      <td>68354783</td>\n      <td>73244544.0</td>\n      <td>9600.0</td>\n      <td>9600.0</td>\n      <td>9600.0</td>\n      <td>36 months</td>\n      <td>7.49%</td>\n      <td>298.58</td>\n      <td>A</td>\n      <td>A4</td>\n      <td>...</td>\n      <td>0.0</td>\n      <td>2.0</td>\n      <td>100.0</td>\n      <td>66.7</td>\n      <td>0.0</td>\n      <td>0.0</td>\n      <td>88635.0</td>\n      <td>55387.0</td>\n      <td>12500.0</td>\n      <td>75635.0</td>\n    </tr>\n    <tr>\n      <th>2</th>\n      <td>68466916</td>\n      <td>73356753.0</td>\n      <td>25000.0</td>\n      <td>25000.0</td>\n      <td>25000.0</td>\n      <td>36 months</td>\n      <td>7.49%</td>\n      <td>777.55</td>\n      <td>A</td>\n      <td>A4</td>\n      <td>...</td>\n      <td>0.0</td>\n      <td>0.0</td>\n      <td>100.0</td>\n      <td>20.0</td>\n      <td>0.0</td>\n      <td>0.0</td>\n      <td>373572.0</td>\n      <td>68056.0</td>\n      <td>38400.0</td>\n      <td>82117.0</td>\n    </tr>\n    <tr>\n      <th>3</th>\n      <td>68466961</td>\n      <td>73356799.0</td>\n      <td>28000.0</td>\n      <td>28000.0</td>\n      <td>28000.0</td>\n      <td>36 months</td>\n      <td>6.49%</td>\n      <td>858.05</td>\n      <td>A</td>\n      <td>A2</td>\n      <td>...</td>\n      <td>0.0</td>\n      <td>0.0</td>\n      <td>91.7</td>\n      <td>22.2</td>\n      <td>0.0</td>\n      <td>0.0</td>\n      <td>304003.0</td>\n      <td>74920.0</td>\n      <td>41500.0</td>\n      <td>42503.0</td>\n    </tr>\n    <tr>\n      <th>4</th>\n      <td>68495092</td>\n      <td>73384866.0</td>\n      <td>8650.0</td>\n      <td>8650.0</td>\n      <td>8650.0</td>\n      <td>36 months</td>\n      <td>19.89%</td>\n      <td>320.99</td>\n      <td>E</td>\n      <td>E3</td>\n      <td>...</td>\n      <td>0.0</td>\n      <td>12.0</td>\n      <td>100.0</td>\n      <td>50.0</td>\n      <td>1.0</td>\n      <td>0.0</td>\n      <td>38998.0</td>\n      <td>18926.0</td>\n      <td>2750.0</td>\n      <td>18248.0</td>\n    </tr>\n  </tbody>\n</table>\n<p>5 rows × 111 columns</p>\n</div>",
        "text/plain": "         id   member_id  loan_amnt  funded_amnt  funded_amnt_inv        term  \\\n0  68009401  72868139.0    16000.0      16000.0          16000.0   60 months   \n1  68354783  73244544.0     9600.0       9600.0           9600.0   36 months   \n2  68466916  73356753.0    25000.0      25000.0          25000.0   36 months   \n3  68466961  73356799.0    28000.0      28000.0          28000.0   36 months   \n4  68495092  73384866.0     8650.0       8650.0           8650.0   36 months   \n\n  int_rate  installment grade sub_grade  ... num_tl_90g_dpd_24m  \\\n0   14.85%       379.39     C        C5  ...                0.0   \n1    7.49%       298.58     A        A4  ...                0.0   \n2    7.49%       777.55     A        A4  ...                0.0   \n3    6.49%       858.05     A        A2  ...                0.0   \n4   19.89%       320.99     E        E3  ...                0.0   \n\n  num_tl_op_past_12m pct_tl_nvr_dlq  percent_bc_gt_75 pub_rec_bankruptcies  \\\n0                2.0           78.9               0.0                  0.0   \n1                2.0          100.0              66.7                  0.0   \n2                0.0          100.0              20.0                  0.0   \n3                0.0           91.7              22.2                  0.0   \n4               12.0          100.0              50.0                  1.0   \n\n  tax_liens tot_hi_cred_lim total_bal_ex_mort total_bc_limit  \\\n0       2.0        298100.0           31329.0       281300.0   \n1       0.0         88635.0           55387.0        12500.0   \n2       0.0        373572.0           68056.0        38400.0   \n3       0.0        304003.0           74920.0        41500.0   \n4       0.0         38998.0           18926.0         2750.0   \n\n  total_il_high_credit_limit  \n0                    13400.0  \n1                    75635.0  \n2                    82117.0  \n3                    42503.0  \n4                    18248.0  \n\n[5 rows x 111 columns]"
       },
       "execution_count": 2,
       "metadata": {},
       "output_type": "execute_result"
      }
     ],
     "persistentId": "0ff2576a-01f5-4050-a162-f50f1dadb654",
     "text": "# read data from file\nraw = pd.read_csv(\"LoanStats3d.csv\", skipinitialspace=True, header=1)\n\n# show first 5 rows\nraw.head()"
    },
    "executionTime": "2020-01-13T06:15:28.035Z"
   },
   {
    "cell": {
     "executionCount": 3,
     "executionEventId": "73569773-940d-4327-a94a-d5d8e712816f",
     "hasError": false,
     "id": "2c8ad38f-dc24-422d-bc25-58618650d28e",
     "outputs": [
      {
       "name": "stdout",
       "output_type": "stream",
       "text": "id: 421097\nterm: 2\nint_rate: 110\ngrade: 7\nsub_grade: 35\nemp_title: 120812\nemp_length: 11\nhome_ownership: 4\nverification_status: 3\nissue_d: 12\nloan_status: 7\npymnt_plan: 1\nurl: 421095\ndesc: 34\npurpose: 14\ntitle: 27\nzip_code: 914\naddr_state: 49\nearliest_cr_line: 668\nrevol_util: 1211\ninitial_list_status: 2\nlast_pymnt_d: 25\nnext_pymnt_d: 4\nlast_credit_pull_d: 26\napplication_type: 2\nverification_status_joint: 3\n"
      }
     ],
     "persistentId": "5b2f0e29-b19e-4b09-a92b-aa4ad1a3d6ce",
     "text": "# number of unique values in each column\ncategorical = raw.select_dtypes(include=[\"object\"])\nfor col in categorical.columns:\n    print(\"{}: {}\".format(col, categorical[col].nunique()))"
    },
    "executionTime": "2020-01-13T06:15:29.042Z"
   },
   {
    "cell": {
     "executionCount": 4,
     "executionEventId": "ec932736-c46e-4955-b31a-fa20a534277c",
     "hasError": false,
     "id": "8b44dda3-0965-4d6d-8ead-a544a81537c6",
     "outputs": [],
     "persistentId": "7cf6bb84-5b95-4d11-ada9-a353bb090802",
     "text": "# create a copy of the original data\nloans = raw.copy()\n\n# convert ID and interest rate to numeric.\nloans[\"id\"] = pd.to_numeric(loans[\"id\"], errors=\"coerce\")\nloans[\"int_rate\"] = pd.to_numeric(loans[\"int_rate\"].str.strip(\"%\"), errors=\"coerce\")\n\n# drop columns with too many unique values\nloans.drop(\n    [\n        \"url\",\n        \"emp_title\",\n        \"zip_code\",\n        \"earliest_cr_line\",\n        \"revol_util\",\n        \"sub_grade\",\n        \"addr_state\",\n        \"desc\",\n    ],\n    1,\n    inplace=True,\n)"
    },
    "executionTime": "2020-01-13T06:15:30.384Z"
   },
   {
    "cell": {
     "executionCount": 5,
     "executionEventId": "5cdeef12-5279-479b-b9b8-7fbc926eb8ea",
     "hasError": false,
     "id": "53453b41-2b36-4c9c-b536-ee4ba1a8017b",
     "outputs": [],
     "persistentId": "17c49fba-75fa-4a9c-b2ce-00b9d9177dd1",
     "text": "loans.dropna(how=\"all\", inplace=True)"
    },
    "executionTime": "2020-01-13T06:15:31.416Z"
   },
   {
    "cell": {
     "executionCount": 6,
     "executionEventId": "90d1dcec-136b-458d-86ca-d3da813cceb5",
     "hasError": false,
     "id": "8ef58257-96a8-4380-8307-c2b3b1f47574",
     "outputs": [],
     "persistentId": "2017abed-11da-4e1d-9b28-cb95437c807e",
     "text": "# target variable\ny = loans[\"loan_status\"]\n\n# feature vector\nX = loans.drop(\"loan_status\", 1)\n\n# one hot encoding\nX = pd.get_dummies(X)\n\n# drop rows with missing data\nX = X.dropna(axis=1)"
    },
    "executionTime": "2020-01-13T06:15:34.269Z"
   },
   {
    "cell": {
     "executionCount": 7,
     "executionEventId": "b8d5c61a-9bb3-4b0a-9f64-796981d7886a",
     "hasError": false,
     "id": "a13682dc-de05-408b-8417-8f6551dd7510",
     "outputs": [],
     "persistentId": "90f8fe66-3b9f-41a0-bc75-02a19dfe9795",
     "text": "X_train, X_test, y_train, y_test = train_test_split(X, y, test_size=0.2, random_state=0)"
    },
    "executionTime": "2020-01-13T06:15:34.643Z"
   },
   {
    "cell": {
     "executionCount": 8,
     "executionEventId": "05a89fe9-b77a-4792-8690-152b9fefb50a",
     "hasError": false,
     "id": "6ad2d56c-1f7f-4978-bc83-ef6fa815a6aa",
     "outputs": [],
     "persistentId": "9db882cf-c91c-4a3d-b367-a18fda494f9b",
     "text": "sc = StandardScaler()\nX_train = sc.fit_transform(X_train)\nX_test = sc.transform(X_test)"
    },
    "executionTime": "2020-01-13T06:15:36.954Z"
   },
   {
    "cell": {
     "executionCount": 9,
     "executionEventId": "57231876-feec-4ac3-ab24-cb47eb078e24",
     "hasError": false,
     "id": "223d0685-d5f6-49cf-abbe-1afcc281fbd2",
     "outputs": [],
     "persistentId": "d6f2fdcc-c442-4c0d-9f40-b4badf1e881b",
     "text": "pca = PCA()\nX_train = pca.fit_transform(X_train)\nX_test = pca.transform(X_test)"
    },
    "executionTime": "2020-01-13T06:15:40.584Z"
   },
   {
    "cell": {
     "executionCount": 10,
     "executionEventId": "c06eba27-1ff8-4861-8dd8-6643754e1d1e",
     "hasError": false,
     "id": "b0c3db21-2db5-4204-b1f7-14a90bff960a",
     "outputs": [],
     "persistentId": "8508952b-772a-469e-8553-7cfecbaa41ab",
     "text": "explained_variance = pca.explained_variance_ratio_"
    },
    "executionTime": "2020-01-13T06:15:40.595Z"
   },
   {
    "cell": {
     "executionCount": 11,
     "executionEventId": "04e0cf64-915c-4ecf-a712-b6d4224a1dbb",
     "hasError": false,
     "id": "a73e31ce-ac47-412e-8773-788b0bab3d11",
     "outputs": [],
     "persistentId": "69b13d58-d904-4002-a0ab-8ceb1b3d601e",
     "text": "pca = PCA(n_components=5)\nX_train = pca.fit_transform(X_train)\nX_test = pca.transform(X_test)"
    },
    "executionTime": "2020-01-13T06:15:42.679Z"
   },
   {
    "cell": {
     "executionCount": 12,
     "executionEventId": "4225753a-390d-4cee-af35-c895adfd6c83",
     "hasError": false,
     "id": "adb5637c-b1d3-4b99-95e6-a4d3a6c0abee",
     "outputs": [],
     "persistentId": "627587f2-27ac-4da5-8ba3-e03ac7fd60c5",
     "text": "classifier = RandomForestClassifier(max_depth=2, random_state=0)\nclassifier.fit(X_train, y_train)\n\ny_pred = classifier.predict(X_test)"
    },
    "executionTime": "2020-01-13T06:15:45.294Z"
   },
   {
    "cell": {
     "executionCount": 13,
     "executionEventId": "b5dc5eb8-39fc-4297-abe6-3b65a2df28ea",
     "hasError": false,
     "id": "8f51e8ec-d057-461f-8ca5-eda728150583",
     "outputs": [
      {
       "name": "stdout",
       "output_type": "stream",
       "text": "Confusion matrix: \n[[    0  3028     0  2822     0     0     0]\n [    0 57174     0   242     0     0     0]\n [    0   150     0     3     0     0     0]\n [    0  3389     0 14199     0     0     0]\n [    0   921     0    10     0     0     0]\n [    0   349     0     6     0     0     0]\n [    0  1865     0    61     0     0     0]]\n\nAccuracy is 0.8474690984219713\n"
      }
     ],
     "persistentId": "620aac66-497b-4957-a744-86dae8e55a29",
     "text": "from sklearn.metrics import confusion_matrix\nfrom sklearn.metrics import accuracy_score\n\ncm = confusion_matrix(y_test, y_pred)\nprint('Confusion matrix: \\n{}\\n'.format(cm))\nprint('Accuracy is {}'.format(accuracy_score(y_test, y_pred)))"
    },
    "executionTime": "2020-01-13T06:15:45.739Z"
   },
   {
    "cell": {
     "executionCount": 14,
     "executionEventId": "31696e87-873e-4d39-bdc9-9472af9853d9",
     "hasError": false,
     "id": "d99bab50-33b1-406f-84f7-1499cf2dc88a",
     "outputs": [
      {
       "data": {
        "text/plain": "0.8474690984219713"
       },
       "execution_count": 14,
       "metadata": {},
       "output_type": "execute_result"
      }
     ],
     "persistentId": "ad4e2092-a0e1-4c09-b772-36b92555df07",
     "text": "accuracy_score(y_test, y_pred)"
    },
    "executionTime": "2020-01-13T06:15:45.843Z"
   },
   {
    "cell": {
     "executionCount": 15,
     "executionEventId": "e12c2a03-dd72-4949-9140-50a20cf4a96f",
     "hasError": true,
     "id": "fef59ee1-c650-4df0-9b6c-dd7d9fb10ee7",
     "outputs": [
      {
       "ename": "NameError",
       "evalue": "name 'n_components' is not defined",
       "output_type": "error",
       "traceback": [
        "\u001b[0;31m---------------------------------------------------------------------------\u001b[0m",
        "\u001b[0;31mNameError\u001b[0m                                 Traceback (most recent call last)",
        "\u001b[0;32m<ipython-input-15-b0786a41abca>\u001b[0m in \u001b[0;36m<module>\u001b[0;34m\u001b[0m\n\u001b[0;32m----> 1\u001b[0;31m \u001b[0mn_components\u001b[0m\u001b[0;34m\u001b[0m\u001b[0;34m\u001b[0m\u001b[0m\n\u001b[0m",
        "\u001b[0;31mNameError\u001b[0m: name 'n_components' is not defined"
       ]
      }
     ],
     "persistentId": "dc4ddfcc-bfe5-4cf0-9a29-02c52178819b",
     "text": "n_components"
    },
    "executionTime": "2020-01-13T06:16:47.622Z"
   },
   {
    "cell": {
     "executionCount": 16,
     "executionEventId": "c8761c7e-d767-4993-b1fd-3799a4d9aefe",
     "hasError": false,
     "id": "8f51e8ec-d057-461f-8ca5-eda728150583",
     "outputs": [
      {
       "name": "stdout",
       "output_type": "stream",
       "text": "Confusion matrix: \n[[    0  3028     0  2822     0     0     0]\n [    0 57174     0   242     0     0     0]\n [    0   150     0     3     0     0     0]\n [    0  3389     0 14199     0     0     0]\n [    0   921     0    10     0     0     0]\n [    0   349     0     6     0     0     0]\n [    0  1865     0    61     0     0     0]]\n\nAccuracy is 0.8474690984219713 with 5 components\n"
      }
     ],
     "persistentId": "620aac66-497b-4957-a744-86dae8e55a29",
     "text": "from sklearn.metrics import confusion_matrix\nfrom sklearn.metrics import accuracy_score\n\ncm = confusion_matrix(y_test, y_pred)\nprint('Confusion matrix: \\n{}\\n'.format(cm))\nprint('Accuracy is {} with 5 components'.format(accuracy_score(y_test, y_pred)))"
    },
    "executionTime": "2020-01-13T06:16:59.722Z"
   },
   {
    "cell": {
     "executionCount": 17,
     "executionEventId": "760ec5ff-ab22-48a2-84a2-b76792d465d0",
     "hasError": false,
     "id": "8f51e8ec-d057-461f-8ca5-eda728150583",
     "outputs": [
      {
       "name": "stdout",
       "output_type": "stream",
       "text": "Confusion matrix: \n[[    0  3028     0  2822     0     0     0]\n [    0 57174     0   242     0     0     0]\n [    0   150     0     3     0     0     0]\n [    0  3389     0 14199     0     0     0]\n [    0   921     0    10     0     0     0]\n [    0   349     0     6     0     0     0]\n [    0  1865     0    61     0     0     0]]\n\nAccuracy is 0.8474690984219713 with 5 components.\n"
      }
     ],
     "persistentId": "620aac66-497b-4957-a744-86dae8e55a29",
     "text": "from sklearn.metrics import confusion_matrix\nfrom sklearn.metrics import accuracy_score\n\ncm = confusion_matrix(y_test, y_pred)\nprint('Confusion matrix: \\n{}\\n'.format(cm))\nprint('Accuracy is {} with 5 components.'.format(accuracy_score(y_test, y_pred)))"
    },
    "executionTime": "2020-01-13T06:17:04.234Z"
   },
   {
    "cell": {
     "executionCount": 18,
     "executionEventId": "3fdc4b8b-b54f-4aac-935c-97ee7e16144c",
     "hasError": false,
     "id": "370bb2e9-80eb-4242-88ed-78d95ad16bfb",
     "outputs": [],
     "persistentId": "0282139b-afd8-4ca2-9694-e2c21192b23a",
     "text": "n_components = 5"
    },
    "executionTime": "2020-01-13T06:17:19.113Z"
   },
   {
    "cell": {
     "executionCount": 1,
     "executionEventId": "c3496801-1548-4edc-9050-bd6f67c7f473",
     "hasError": false,
     "id": "087d1d67-aec1-4c65-9310-ba063529c530",
     "outputs": [],
     "persistentId": "47827e5d-9598-4b20-88c8-d5f63cfe04b4",
     "text": "# import libraries\nimport pandas as pd\nimport numpy as np\nimport matplotlib.pyplot as plt\nfrom sklearn import ensemble\nfrom sklearn.model_selection import cross_val_score\nfrom sklearn.preprocessing import StandardScaler\nfrom sklearn.model_selection import train_test_split\nfrom sklearn.decomposition import PCA\nfrom sklearn.ensemble import RandomForestClassifier\n\nimport warnings\n\nwarnings.filterwarnings(\"ignore\")\n\n%matplotlib inline"
    },
    "executionTime": "2020-01-13T06:18:08.434Z"
   },
   {
    "cell": {
     "executionCount": 2,
     "executionEventId": "f214b341-56aa-49e7-9aa6-f2393db45e26",
     "hasError": false,
     "id": "4b387283-d2d1-4abf-98c7-2cb0238c4f1a",
     "outputs": [
      {
       "data": {
        "text/html": "<div>\n<style scoped>\n    .dataframe tbody tr th:only-of-type {\n        vertical-align: middle;\n    }\n\n    .dataframe tbody tr th {\n        vertical-align: top;\n    }\n\n    .dataframe thead th {\n        text-align: right;\n    }\n</style>\n<table border=\"1\" class=\"dataframe\">\n  <thead>\n    <tr style=\"text-align: right;\">\n      <th></th>\n      <th>id</th>\n      <th>member_id</th>\n      <th>loan_amnt</th>\n      <th>funded_amnt</th>\n      <th>funded_amnt_inv</th>\n      <th>term</th>\n      <th>int_rate</th>\n      <th>installment</th>\n      <th>grade</th>\n      <th>sub_grade</th>\n      <th>...</th>\n      <th>num_tl_90g_dpd_24m</th>\n      <th>num_tl_op_past_12m</th>\n      <th>pct_tl_nvr_dlq</th>\n      <th>percent_bc_gt_75</th>\n      <th>pub_rec_bankruptcies</th>\n      <th>tax_liens</th>\n      <th>tot_hi_cred_lim</th>\n      <th>total_bal_ex_mort</th>\n      <th>total_bc_limit</th>\n      <th>total_il_high_credit_limit</th>\n    </tr>\n  </thead>\n  <tbody>\n    <tr>\n      <th>0</th>\n      <td>68009401</td>\n      <td>72868139.0</td>\n      <td>16000.0</td>\n      <td>16000.0</td>\n      <td>16000.0</td>\n      <td>60 months</td>\n      <td>14.85%</td>\n      <td>379.39</td>\n      <td>C</td>\n      <td>C5</td>\n      <td>...</td>\n      <td>0.0</td>\n      <td>2.0</td>\n      <td>78.9</td>\n      <td>0.0</td>\n      <td>0.0</td>\n      <td>2.0</td>\n      <td>298100.0</td>\n      <td>31329.0</td>\n      <td>281300.0</td>\n      <td>13400.0</td>\n    </tr>\n    <tr>\n      <th>1</th>\n      <td>68354783</td>\n      <td>73244544.0</td>\n      <td>9600.0</td>\n      <td>9600.0</td>\n      <td>9600.0</td>\n      <td>36 months</td>\n      <td>7.49%</td>\n      <td>298.58</td>\n      <td>A</td>\n      <td>A4</td>\n      <td>...</td>\n      <td>0.0</td>\n      <td>2.0</td>\n      <td>100.0</td>\n      <td>66.7</td>\n      <td>0.0</td>\n      <td>0.0</td>\n      <td>88635.0</td>\n      <td>55387.0</td>\n      <td>12500.0</td>\n      <td>75635.0</td>\n    </tr>\n    <tr>\n      <th>2</th>\n      <td>68466916</td>\n      <td>73356753.0</td>\n      <td>25000.0</td>\n      <td>25000.0</td>\n      <td>25000.0</td>\n      <td>36 months</td>\n      <td>7.49%</td>\n      <td>777.55</td>\n      <td>A</td>\n      <td>A4</td>\n      <td>...</td>\n      <td>0.0</td>\n      <td>0.0</td>\n      <td>100.0</td>\n      <td>20.0</td>\n      <td>0.0</td>\n      <td>0.0</td>\n      <td>373572.0</td>\n      <td>68056.0</td>\n      <td>38400.0</td>\n      <td>82117.0</td>\n    </tr>\n    <tr>\n      <th>3</th>\n      <td>68466961</td>\n      <td>73356799.0</td>\n      <td>28000.0</td>\n      <td>28000.0</td>\n      <td>28000.0</td>\n      <td>36 months</td>\n      <td>6.49%</td>\n      <td>858.05</td>\n      <td>A</td>\n      <td>A2</td>\n      <td>...</td>\n      <td>0.0</td>\n      <td>0.0</td>\n      <td>91.7</td>\n      <td>22.2</td>\n      <td>0.0</td>\n      <td>0.0</td>\n      <td>304003.0</td>\n      <td>74920.0</td>\n      <td>41500.0</td>\n      <td>42503.0</td>\n    </tr>\n    <tr>\n      <th>4</th>\n      <td>68495092</td>\n      <td>73384866.0</td>\n      <td>8650.0</td>\n      <td>8650.0</td>\n      <td>8650.0</td>\n      <td>36 months</td>\n      <td>19.89%</td>\n      <td>320.99</td>\n      <td>E</td>\n      <td>E3</td>\n      <td>...</td>\n      <td>0.0</td>\n      <td>12.0</td>\n      <td>100.0</td>\n      <td>50.0</td>\n      <td>1.0</td>\n      <td>0.0</td>\n      <td>38998.0</td>\n      <td>18926.0</td>\n      <td>2750.0</td>\n      <td>18248.0</td>\n    </tr>\n  </tbody>\n</table>\n<p>5 rows × 111 columns</p>\n</div>",
        "text/plain": "         id   member_id  loan_amnt  funded_amnt  funded_amnt_inv        term  \\\n0  68009401  72868139.0    16000.0      16000.0          16000.0   60 months   \n1  68354783  73244544.0     9600.0       9600.0           9600.0   36 months   \n2  68466916  73356753.0    25000.0      25000.0          25000.0   36 months   \n3  68466961  73356799.0    28000.0      28000.0          28000.0   36 months   \n4  68495092  73384866.0     8650.0       8650.0           8650.0   36 months   \n\n  int_rate  installment grade sub_grade  ... num_tl_90g_dpd_24m  \\\n0   14.85%       379.39     C        C5  ...                0.0   \n1    7.49%       298.58     A        A4  ...                0.0   \n2    7.49%       777.55     A        A4  ...                0.0   \n3    6.49%       858.05     A        A2  ...                0.0   \n4   19.89%       320.99     E        E3  ...                0.0   \n\n  num_tl_op_past_12m pct_tl_nvr_dlq  percent_bc_gt_75 pub_rec_bankruptcies  \\\n0                2.0           78.9               0.0                  0.0   \n1                2.0          100.0              66.7                  0.0   \n2                0.0          100.0              20.0                  0.0   \n3                0.0           91.7              22.2                  0.0   \n4               12.0          100.0              50.0                  1.0   \n\n  tax_liens tot_hi_cred_lim total_bal_ex_mort total_bc_limit  \\\n0       2.0        298100.0           31329.0       281300.0   \n1       0.0         88635.0           55387.0        12500.0   \n2       0.0        373572.0           68056.0        38400.0   \n3       0.0        304003.0           74920.0        41500.0   \n4       0.0         38998.0           18926.0         2750.0   \n\n  total_il_high_credit_limit  \n0                    13400.0  \n1                    75635.0  \n2                    82117.0  \n3                    42503.0  \n4                    18248.0  \n\n[5 rows x 111 columns]"
       },
       "execution_count": 2,
       "metadata": {},
       "output_type": "execute_result"
      }
     ],
     "persistentId": "0ff2576a-01f5-4050-a162-f50f1dadb654",
     "text": "# read data from file\nraw = pd.read_csv(\"LoanStats3d.csv\", skipinitialspace=True, header=1)\n\n# show first 5 rows\nraw.head()"
    },
    "executionTime": "2020-01-13T06:18:14.029Z"
   },
   {
    "cell": {
     "executionCount": 3,
     "executionEventId": "3d979fca-3708-45cf-9e97-66c95a024fa5",
     "hasError": false,
     "id": "2c8ad38f-dc24-422d-bc25-58618650d28e",
     "outputs": [
      {
       "name": "stdout",
       "output_type": "stream",
       "text": "id: 421097\nterm: 2\nint_rate: 110\ngrade: 7\nsub_grade: 35\nemp_title: 120812\nemp_length: 11\nhome_ownership: 4\nverification_status: 3\nissue_d: 12\nloan_status: 7\npymnt_plan: 1\nurl: 421095\ndesc: 34\npurpose: 14\ntitle: 27\nzip_code: 914\naddr_state: 49\nearliest_cr_line: 668\nrevol_util: 1211\ninitial_list_status: 2\nlast_pymnt_d: 25\nnext_pymnt_d: 4\nlast_credit_pull_d: 26\napplication_type: 2\nverification_status_joint: 3\n"
      }
     ],
     "persistentId": "5b2f0e29-b19e-4b09-a92b-aa4ad1a3d6ce",
     "text": "# number of unique values in each column\ncategorical = raw.select_dtypes(include=[\"object\"])\nfor col in categorical.columns:\n    print(\"{}: {}\".format(col, categorical[col].nunique()))"
    },
    "executionTime": "2020-01-13T06:18:14.995Z"
   },
   {
    "cell": {
     "executionCount": 4,
     "executionEventId": "fdb718a6-4276-41a2-a906-cbdf400fd413",
     "hasError": false,
     "id": "8b44dda3-0965-4d6d-8ead-a544a81537c6",
     "outputs": [],
     "persistentId": "7cf6bb84-5b95-4d11-ada9-a353bb090802",
     "text": "# create a copy of the original data\nloans = raw.copy()\n\n# convert ID and interest rate to numeric.\nloans[\"id\"] = pd.to_numeric(loans[\"id\"], errors=\"coerce\")\nloans[\"int_rate\"] = pd.to_numeric(loans[\"int_rate\"].str.strip(\"%\"), errors=\"coerce\")\n\n# drop columns with too many unique values\nloans.drop(\n    [\n        \"url\",\n        \"emp_title\",\n        \"zip_code\",\n        \"earliest_cr_line\",\n        \"revol_util\",\n        \"sub_grade\",\n        \"addr_state\",\n        \"desc\",\n    ],\n    1,\n    inplace=True,\n)"
    },
    "executionTime": "2020-01-13T06:18:16.513Z"
   },
   {
    "cell": {
     "executionCount": 5,
     "executionEventId": "189a736b-5acd-468c-9adb-737dd3fbf152",
     "hasError": false,
     "id": "53453b41-2b36-4c9c-b536-ee4ba1a8017b",
     "outputs": [],
     "persistentId": "17c49fba-75fa-4a9c-b2ce-00b9d9177dd1",
     "text": "loans.dropna(how=\"all\", inplace=True)"
    },
    "executionTime": "2020-01-13T06:18:17.604Z"
   },
   {
    "cell": {
     "executionCount": 6,
     "executionEventId": "73788f6d-5f7e-4839-a700-897856dfb5cd",
     "hasError": false,
     "id": "8ef58257-96a8-4380-8307-c2b3b1f47574",
     "outputs": [],
     "persistentId": "2017abed-11da-4e1d-9b28-cb95437c807e",
     "text": "# target variable\ny = loans[\"loan_status\"]\n\n# feature vector\nX = loans.drop(\"loan_status\", 1)\n\n# one hot encoding\nX = pd.get_dummies(X)\n\n# drop rows with missing data\nX = X.dropna(axis=1)"
    },
    "executionTime": "2020-01-13T06:18:20.500Z"
   },
   {
    "cell": {
     "executionCount": 7,
     "executionEventId": "bcab9934-b51f-4069-9c68-8a2b7f40da23",
     "hasError": false,
     "id": "a13682dc-de05-408b-8417-8f6551dd7510",
     "outputs": [],
     "persistentId": "90f8fe66-3b9f-41a0-bc75-02a19dfe9795",
     "text": "X_train, X_test, y_train, y_test = train_test_split(X, y, test_size=0.2, random_state=0)"
    },
    "executionTime": "2020-01-13T06:18:20.907Z"
   },
   {
    "cell": {
     "executionCount": 8,
     "executionEventId": "9adc73a8-87de-444d-b4fe-7640efd65cef",
     "hasError": false,
     "id": "6ad2d56c-1f7f-4978-bc83-ef6fa815a6aa",
     "outputs": [],
     "persistentId": "9db882cf-c91c-4a3d-b367-a18fda494f9b",
     "text": "sc = StandardScaler()\nX_train = sc.fit_transform(X_train)\nX_test = sc.transform(X_test)"
    },
    "executionTime": "2020-01-13T06:18:23.407Z"
   },
   {
    "cell": {
     "executionCount": 9,
     "executionEventId": "eada202a-c614-408d-8126-3f3edf5ba7b9",
     "hasError": false,
     "id": "223d0685-d5f6-49cf-abbe-1afcc281fbd2",
     "outputs": [],
     "persistentId": "d6f2fdcc-c442-4c0d-9f40-b4badf1e881b",
     "text": "pca = PCA()\nX_train = pca.fit_transform(X_train)\nX_test = pca.transform(X_test)"
    },
    "executionTime": "2020-01-13T06:18:27.240Z"
   },
   {
    "cell": {
     "executionCount": 10,
     "executionEventId": "bea542de-aeca-4ad3-9843-34f387e150f9",
     "hasError": false,
     "id": "b0c3db21-2db5-4204-b1f7-14a90bff960a",
     "outputs": [],
     "persistentId": "8508952b-772a-469e-8553-7cfecbaa41ab",
     "text": "explained_variance = pca.explained_variance_ratio_"
    },
    "executionTime": "2020-01-13T06:18:27.253Z"
   },
   {
    "cell": {
     "executionCount": 11,
     "executionEventId": "c540da79-13a4-4430-9a7f-b88ba1c1d9fb",
     "hasError": false,
     "id": "a73e31ce-ac47-412e-8773-788b0bab3d11",
     "outputs": [],
     "persistentId": "69b13d58-d904-4002-a0ab-8ceb1b3d601e",
     "text": "n_components = 5\n\npca = PCA(n_components=n_components)\nX_train = pca.fit_transform(X_train)\nX_test = pca.transform(X_test)"
    },
    "executionTime": "2020-01-13T06:18:29.699Z"
   },
   {
    "cell": {
     "executionCount": 12,
     "executionEventId": "e72248c8-48a5-4794-a21c-50a556089369",
     "hasError": false,
     "id": "adb5637c-b1d3-4b99-95e6-a4d3a6c0abee",
     "outputs": [],
     "persistentId": "627587f2-27ac-4da5-8ba3-e03ac7fd60c5",
     "text": "classifier = RandomForestClassifier(max_depth=2, random_state=0)\nclassifier.fit(X_train, y_train)\n\ny_pred = classifier.predict(X_test)"
    },
    "executionTime": "2020-01-13T06:18:32.333Z"
   },
   {
    "cell": {
     "executionCount": 13,
     "executionEventId": "495cb170-348d-44bc-bebd-6b19aeca940c",
     "hasError": false,
     "id": "8f51e8ec-d057-461f-8ca5-eda728150583",
     "outputs": [
      {
       "name": "stdout",
       "output_type": "stream",
       "text": "Confusion matrix: \n[[    0  3036     0  2814     0     0     0]\n [    0 57176     0   240     0     0     0]\n [    0   150     0     3     0     0     0]\n [    0  3410     0 14178     0     0     0]\n [    0   921     0    10     0     0     0]\n [    0   349     0     6     0     0     0]\n [    0  1865     0    61     0     0     0]]\n\nAccuracy is 0.8472434961232026 with 5 components.\n"
      }
     ],
     "persistentId": "620aac66-497b-4957-a744-86dae8e55a29",
     "text": "from sklearn.metrics import confusion_matrix\nfrom sklearn.metrics import accuracy_score\n\ncm = confusion_matrix(y_test, y_pred)\nprint(\"Confusion matrix: \\n{}\\n\".format(cm))\nprint(\n    \"Accuracy is {} with {} components.\".format(\n        accuracy_score(y_test, y_pred), n_components\n    )\n)"
    },
    "executionTime": "2020-01-13T06:18:32.780Z"
   },
   {
    "cell": {
     "executionCount": 1,
     "executionEventId": "c14721ef-86db-4187-a2fa-9499adbaec17",
     "hasError": false,
     "id": "087d1d67-aec1-4c65-9310-ba063529c530",
     "outputs": [],
     "persistentId": "47827e5d-9598-4b20-88c8-d5f63cfe04b4",
     "text": "# import libraries\nimport pandas as pd\nimport numpy as np\nimport matplotlib.pyplot as plt\nfrom sklearn import ensemble\nfrom sklearn.model_selection import cross_val_score\nfrom sklearn.preprocessing import StandardScaler\nfrom sklearn.model_selection import train_test_split\nfrom sklearn.decomposition import PCA\nfrom sklearn.ensemble import RandomForestClassifier\n\nimport warnings\n\nwarnings.filterwarnings(\"ignore\")\n\n%matplotlib inline"
    },
    "executionTime": "2020-01-13T06:22:37.886Z"
   },
   {
    "cell": {
     "executionCount": 2,
     "executionEventId": "dd626d11-7491-4c08-b3ab-31ab1d92d6bc",
     "hasError": false,
     "id": "4b387283-d2d1-4abf-98c7-2cb0238c4f1a",
     "outputs": [
      {
       "data": {
        "text/html": "<div>\n<style scoped>\n    .dataframe tbody tr th:only-of-type {\n        vertical-align: middle;\n    }\n\n    .dataframe tbody tr th {\n        vertical-align: top;\n    }\n\n    .dataframe thead th {\n        text-align: right;\n    }\n</style>\n<table border=\"1\" class=\"dataframe\">\n  <thead>\n    <tr style=\"text-align: right;\">\n      <th></th>\n      <th>id</th>\n      <th>member_id</th>\n      <th>loan_amnt</th>\n      <th>funded_amnt</th>\n      <th>funded_amnt_inv</th>\n      <th>term</th>\n      <th>int_rate</th>\n      <th>installment</th>\n      <th>grade</th>\n      <th>sub_grade</th>\n      <th>...</th>\n      <th>num_tl_90g_dpd_24m</th>\n      <th>num_tl_op_past_12m</th>\n      <th>pct_tl_nvr_dlq</th>\n      <th>percent_bc_gt_75</th>\n      <th>pub_rec_bankruptcies</th>\n      <th>tax_liens</th>\n      <th>tot_hi_cred_lim</th>\n      <th>total_bal_ex_mort</th>\n      <th>total_bc_limit</th>\n      <th>total_il_high_credit_limit</th>\n    </tr>\n  </thead>\n  <tbody>\n    <tr>\n      <th>0</th>\n      <td>68009401</td>\n      <td>72868139.0</td>\n      <td>16000.0</td>\n      <td>16000.0</td>\n      <td>16000.0</td>\n      <td>60 months</td>\n      <td>14.85%</td>\n      <td>379.39</td>\n      <td>C</td>\n      <td>C5</td>\n      <td>...</td>\n      <td>0.0</td>\n      <td>2.0</td>\n      <td>78.9</td>\n      <td>0.0</td>\n      <td>0.0</td>\n      <td>2.0</td>\n      <td>298100.0</td>\n      <td>31329.0</td>\n      <td>281300.0</td>\n      <td>13400.0</td>\n    </tr>\n    <tr>\n      <th>1</th>\n      <td>68354783</td>\n      <td>73244544.0</td>\n      <td>9600.0</td>\n      <td>9600.0</td>\n      <td>9600.0</td>\n      <td>36 months</td>\n      <td>7.49%</td>\n      <td>298.58</td>\n      <td>A</td>\n      <td>A4</td>\n      <td>...</td>\n      <td>0.0</td>\n      <td>2.0</td>\n      <td>100.0</td>\n      <td>66.7</td>\n      <td>0.0</td>\n      <td>0.0</td>\n      <td>88635.0</td>\n      <td>55387.0</td>\n      <td>12500.0</td>\n      <td>75635.0</td>\n    </tr>\n    <tr>\n      <th>2</th>\n      <td>68466916</td>\n      <td>73356753.0</td>\n      <td>25000.0</td>\n      <td>25000.0</td>\n      <td>25000.0</td>\n      <td>36 months</td>\n      <td>7.49%</td>\n      <td>777.55</td>\n      <td>A</td>\n      <td>A4</td>\n      <td>...</td>\n      <td>0.0</td>\n      <td>0.0</td>\n      <td>100.0</td>\n      <td>20.0</td>\n      <td>0.0</td>\n      <td>0.0</td>\n      <td>373572.0</td>\n      <td>68056.0</td>\n      <td>38400.0</td>\n      <td>82117.0</td>\n    </tr>\n    <tr>\n      <th>3</th>\n      <td>68466961</td>\n      <td>73356799.0</td>\n      <td>28000.0</td>\n      <td>28000.0</td>\n      <td>28000.0</td>\n      <td>36 months</td>\n      <td>6.49%</td>\n      <td>858.05</td>\n      <td>A</td>\n      <td>A2</td>\n      <td>...</td>\n      <td>0.0</td>\n      <td>0.0</td>\n      <td>91.7</td>\n      <td>22.2</td>\n      <td>0.0</td>\n      <td>0.0</td>\n      <td>304003.0</td>\n      <td>74920.0</td>\n      <td>41500.0</td>\n      <td>42503.0</td>\n    </tr>\n    <tr>\n      <th>4</th>\n      <td>68495092</td>\n      <td>73384866.0</td>\n      <td>8650.0</td>\n      <td>8650.0</td>\n      <td>8650.0</td>\n      <td>36 months</td>\n      <td>19.89%</td>\n      <td>320.99</td>\n      <td>E</td>\n      <td>E3</td>\n      <td>...</td>\n      <td>0.0</td>\n      <td>12.0</td>\n      <td>100.0</td>\n      <td>50.0</td>\n      <td>1.0</td>\n      <td>0.0</td>\n      <td>38998.0</td>\n      <td>18926.0</td>\n      <td>2750.0</td>\n      <td>18248.0</td>\n    </tr>\n  </tbody>\n</table>\n<p>5 rows × 111 columns</p>\n</div>",
        "text/plain": "         id   member_id  loan_amnt  funded_amnt  funded_amnt_inv        term  \\\n0  68009401  72868139.0    16000.0      16000.0          16000.0   60 months   \n1  68354783  73244544.0     9600.0       9600.0           9600.0   36 months   \n2  68466916  73356753.0    25000.0      25000.0          25000.0   36 months   \n3  68466961  73356799.0    28000.0      28000.0          28000.0   36 months   \n4  68495092  73384866.0     8650.0       8650.0           8650.0   36 months   \n\n  int_rate  installment grade sub_grade  ... num_tl_90g_dpd_24m  \\\n0   14.85%       379.39     C        C5  ...                0.0   \n1    7.49%       298.58     A        A4  ...                0.0   \n2    7.49%       777.55     A        A4  ...                0.0   \n3    6.49%       858.05     A        A2  ...                0.0   \n4   19.89%       320.99     E        E3  ...                0.0   \n\n  num_tl_op_past_12m pct_tl_nvr_dlq  percent_bc_gt_75 pub_rec_bankruptcies  \\\n0                2.0           78.9               0.0                  0.0   \n1                2.0          100.0              66.7                  0.0   \n2                0.0          100.0              20.0                  0.0   \n3                0.0           91.7              22.2                  0.0   \n4               12.0          100.0              50.0                  1.0   \n\n  tax_liens tot_hi_cred_lim total_bal_ex_mort total_bc_limit  \\\n0       2.0        298100.0           31329.0       281300.0   \n1       0.0         88635.0           55387.0        12500.0   \n2       0.0        373572.0           68056.0        38400.0   \n3       0.0        304003.0           74920.0        41500.0   \n4       0.0         38998.0           18926.0         2750.0   \n\n  total_il_high_credit_limit  \n0                    13400.0  \n1                    75635.0  \n2                    82117.0  \n3                    42503.0  \n4                    18248.0  \n\n[5 rows x 111 columns]"
       },
       "execution_count": 2,
       "metadata": {},
       "output_type": "execute_result"
      }
     ],
     "persistentId": "0ff2576a-01f5-4050-a162-f50f1dadb654",
     "text": "# read data from file\nraw = pd.read_csv(\"LoanStats3d.csv\", skipinitialspace=True, header=1)\n\n# show first 5 rows\nraw.head()"
    },
    "executionTime": "2020-01-13T06:22:43.202Z"
   },
   {
    "cell": {
     "executionCount": 3,
     "executionEventId": "f72cdccf-38b0-4a50-9208-9db9cae480cd",
     "hasError": false,
     "id": "2c8ad38f-dc24-422d-bc25-58618650d28e",
     "outputs": [
      {
       "name": "stdout",
       "output_type": "stream",
       "text": "id: 421097\nterm: 2\nint_rate: 110\ngrade: 7\nsub_grade: 35\nemp_title: 120812\nemp_length: 11\nhome_ownership: 4\nverification_status: 3\nissue_d: 12\nloan_status: 7\npymnt_plan: 1\nurl: 421095\ndesc: 34\npurpose: 14\ntitle: 27\nzip_code: 914\naddr_state: 49\nearliest_cr_line: 668\nrevol_util: 1211\ninitial_list_status: 2\nlast_pymnt_d: 25\nnext_pymnt_d: 4\nlast_credit_pull_d: 26\napplication_type: 2\nverification_status_joint: 3\n"
      }
     ],
     "persistentId": "5b2f0e29-b19e-4b09-a92b-aa4ad1a3d6ce",
     "text": "# number of unique values in each column\ncategorical = raw.select_dtypes(include=[\"object\"])\nfor col in categorical.columns:\n    print(\"{}: {}\".format(col, categorical[col].nunique()))"
    },
    "executionTime": "2020-01-13T06:22:44.123Z"
   },
   {
    "cell": {
     "executionCount": 4,
     "executionEventId": "22f54714-3949-4db6-80a9-b99f8828a4bf",
     "hasError": false,
     "id": "8b44dda3-0965-4d6d-8ead-a544a81537c6",
     "outputs": [],
     "persistentId": "7cf6bb84-5b95-4d11-ada9-a353bb090802",
     "text": "# create a copy of the original data\nloans = raw.copy()\n\n# convert ID and interest rate to numeric.\nloans[\"id\"] = pd.to_numeric(loans[\"id\"], errors=\"coerce\")\nloans[\"int_rate\"] = pd.to_numeric(loans[\"int_rate\"].str.strip(\"%\"), errors=\"coerce\")\n\n# drop columns with too many unique values\nloans.drop(\n    [\n        \"url\",\n        \"emp_title\",\n        \"zip_code\",\n        \"earliest_cr_line\",\n        \"revol_util\",\n        \"sub_grade\",\n        \"addr_state\",\n        \"desc\",\n    ],\n    1,\n    inplace=True,\n)"
    },
    "executionTime": "2020-01-13T06:22:45.487Z"
   },
   {
    "cell": {
     "executionCount": 5,
     "executionEventId": "fdf2c42b-6060-4207-a7e7-de3706ecad01",
     "hasError": false,
     "id": "53453b41-2b36-4c9c-b536-ee4ba1a8017b",
     "outputs": [],
     "persistentId": "17c49fba-75fa-4a9c-b2ce-00b9d9177dd1",
     "text": "loans.dropna(how=\"all\", inplace=True)"
    },
    "executionTime": "2020-01-13T06:22:46.527Z"
   },
   {
    "cell": {
     "executionCount": 6,
     "executionEventId": "924bfc66-439f-45e7-9dbc-675a1a537120",
     "hasError": false,
     "id": "8ef58257-96a8-4380-8307-c2b3b1f47574",
     "outputs": [],
     "persistentId": "2017abed-11da-4e1d-9b28-cb95437c807e",
     "text": "# target variable\ny = loans[\"loan_status\"]\n\n# feature vector\nX = loans.drop(\"loan_status\", 1)\n\n# one hot encoding\nX = pd.get_dummies(X)\n\n# drop rows with missing data\nX = X.dropna(axis=1)"
    },
    "executionTime": "2020-01-13T06:22:49.415Z"
   },
   {
    "cell": {
     "executionCount": 7,
     "executionEventId": "e8bf9d43-71ec-49fc-b8b4-3d18adab0f98",
     "hasError": false,
     "id": "a13682dc-de05-408b-8417-8f6551dd7510",
     "outputs": [],
     "persistentId": "90f8fe66-3b9f-41a0-bc75-02a19dfe9795",
     "text": "X_train, X_test, y_train, y_test = train_test_split(X, y, test_size=0.2, random_state=0)"
    },
    "executionTime": "2020-01-13T06:22:49.797Z"
   },
   {
    "cell": {
     "executionCount": 8,
     "executionEventId": "00d794dc-e7d2-4084-8e47-786a9ea923d8",
     "hasError": false,
     "id": "6ad2d56c-1f7f-4978-bc83-ef6fa815a6aa",
     "outputs": [],
     "persistentId": "9db882cf-c91c-4a3d-b367-a18fda494f9b",
     "text": "sc = StandardScaler()\nX_train = sc.fit_transform(X_train)\nX_test = sc.transform(X_test)"
    },
    "executionTime": "2020-01-13T06:22:52.421Z"
   },
   {
    "cell": {
     "executionCount": 9,
     "executionEventId": "25f07d31-3718-45e0-9604-effbde1a2180",
     "hasError": false,
     "id": "223d0685-d5f6-49cf-abbe-1afcc281fbd2",
     "outputs": [],
     "persistentId": "d6f2fdcc-c442-4c0d-9f40-b4badf1e881b",
     "text": "pca = PCA()\nX_train = pca.fit_transform(X_train)\nX_test = pca.transform(X_test)"
    },
    "executionTime": "2020-01-13T06:22:55.499Z"
   },
   {
    "cell": {
     "executionCount": 10,
     "executionEventId": "5ed32e0b-26d4-4249-b8f7-9a61593df385",
     "hasError": false,
     "id": "b0c3db21-2db5-4204-b1f7-14a90bff960a",
     "outputs": [],
     "persistentId": "8508952b-772a-469e-8553-7cfecbaa41ab",
     "text": "explained_variance = pca.explained_variance_ratio_"
    },
    "executionTime": "2020-01-13T06:22:55.510Z"
   },
   {
    "cell": {
     "executionCount": 11,
     "executionEventId": "a4732863-946e-4b06-a599-fca52a559042",
     "hasError": false,
     "id": "a73e31ce-ac47-412e-8773-788b0bab3d11",
     "outputs": [],
     "persistentId": "69b13d58-d904-4002-a0ab-8ceb1b3d601e",
     "text": "n_components = 6\n\npca = PCA(n_components=n_components)\nX_train = pca.fit_transform(X_train)\nX_test = pca.transform(X_test)"
    },
    "executionTime": "2020-01-13T06:22:57.673Z"
   },
   {
    "cell": {
     "executionCount": 12,
     "executionEventId": "592d640e-1d8c-4549-9230-540102616a65",
     "hasError": false,
     "id": "adb5637c-b1d3-4b99-95e6-a4d3a6c0abee",
     "outputs": [],
     "persistentId": "627587f2-27ac-4da5-8ba3-e03ac7fd60c5",
     "text": "classifier = RandomForestClassifier(max_depth=2, random_state=0)\nclassifier.fit(X_train, y_train)\n\ny_pred = classifier.predict(X_test)"
    },
    "executionTime": "2020-01-13T06:23:00.287Z"
   },
   {
    "cell": {
     "executionCount": 13,
     "executionEventId": "11f0365a-2c1d-4b70-869a-9aa45c92b894",
     "hasError": false,
     "id": "8f51e8ec-d057-461f-8ca5-eda728150583",
     "outputs": [
      {
       "name": "stdout",
       "output_type": "stream",
       "text": "Confusion matrix: \n[[    0  1587     0  4263     0     0     0]\n [    0 56677     0   739     0     0     0]\n [    0   145     0     8     0     0     0]\n [    0  1106     0 16482     0     0     0]\n [    0   905     0    26     0     0     0]\n [    0   341     0    14     0     0     0]\n [    0  1763     0   163     0     0     0]]\n\nAccuracy is 0.8686757145062278 with 6 components.\n"
      }
     ],
     "persistentId": "620aac66-497b-4957-a744-86dae8e55a29",
     "text": "from sklearn.metrics import confusion_matrix\nfrom sklearn.metrics import accuracy_score\n\ncm = confusion_matrix(y_test, y_pred)\nprint(\"Confusion matrix: \\n{}\\n\".format(cm))\nprint(\n    \"Accuracy is {} with {} components.\".format(\n        accuracy_score(y_test, y_pred), n_components\n    )\n)"
    },
    "executionTime": "2020-01-13T06:23:00.771Z"
   },
   {
    "cell": {
     "executionCount": 14,
     "executionEventId": "5d70098a-f47e-4b4c-a3d0-a392b3e0b423",
     "hasError": false,
     "id": "a73e31ce-ac47-412e-8773-788b0bab3d11",
     "outputs": [],
     "persistentId": "69b13d58-d904-4002-a0ab-8ceb1b3d601e",
     "text": "n_components = 4\n\npca = PCA(n_components=n_components)\nX_train = pca.fit_transform(X_train)\nX_test = pca.transform(X_test)"
    },
    "executionTime": "2020-01-13T06:23:31.482Z"
   },
   {
    "cell": {
     "executionCount": 1,
     "executionEventId": "ff24f8c4-e883-4d5a-b2be-47fc0cff725a",
     "hasError": false,
     "id": "087d1d67-aec1-4c65-9310-ba063529c530",
     "outputs": [],
     "persistentId": "47827e5d-9598-4b20-88c8-d5f63cfe04b4",
     "text": "# import libraries\nimport pandas as pd\nimport numpy as np\nimport matplotlib.pyplot as plt\nfrom sklearn import ensemble\nfrom sklearn.model_selection import cross_val_score\nfrom sklearn.preprocessing import StandardScaler\nfrom sklearn.model_selection import train_test_split\nfrom sklearn.decomposition import PCA\nfrom sklearn.ensemble import RandomForestClassifier\n\nimport warnings\n\nwarnings.filterwarnings(\"ignore\")\n\n%matplotlib inline"
    },
    "executionTime": "2020-01-13T06:23:41.522Z"
   },
   {
    "cell": {
     "executionCount": 2,
     "executionEventId": "ab70d989-1236-4aa7-b684-a2e3cb21194d",
     "hasError": false,
     "id": "4b387283-d2d1-4abf-98c7-2cb0238c4f1a",
     "outputs": [
      {
       "data": {
        "text/html": "<div>\n<style scoped>\n    .dataframe tbody tr th:only-of-type {\n        vertical-align: middle;\n    }\n\n    .dataframe tbody tr th {\n        vertical-align: top;\n    }\n\n    .dataframe thead th {\n        text-align: right;\n    }\n</style>\n<table border=\"1\" class=\"dataframe\">\n  <thead>\n    <tr style=\"text-align: right;\">\n      <th></th>\n      <th>id</th>\n      <th>member_id</th>\n      <th>loan_amnt</th>\n      <th>funded_amnt</th>\n      <th>funded_amnt_inv</th>\n      <th>term</th>\n      <th>int_rate</th>\n      <th>installment</th>\n      <th>grade</th>\n      <th>sub_grade</th>\n      <th>...</th>\n      <th>num_tl_90g_dpd_24m</th>\n      <th>num_tl_op_past_12m</th>\n      <th>pct_tl_nvr_dlq</th>\n      <th>percent_bc_gt_75</th>\n      <th>pub_rec_bankruptcies</th>\n      <th>tax_liens</th>\n      <th>tot_hi_cred_lim</th>\n      <th>total_bal_ex_mort</th>\n      <th>total_bc_limit</th>\n      <th>total_il_high_credit_limit</th>\n    </tr>\n  </thead>\n  <tbody>\n    <tr>\n      <th>0</th>\n      <td>68009401</td>\n      <td>72868139.0</td>\n      <td>16000.0</td>\n      <td>16000.0</td>\n      <td>16000.0</td>\n      <td>60 months</td>\n      <td>14.85%</td>\n      <td>379.39</td>\n      <td>C</td>\n      <td>C5</td>\n      <td>...</td>\n      <td>0.0</td>\n      <td>2.0</td>\n      <td>78.9</td>\n      <td>0.0</td>\n      <td>0.0</td>\n      <td>2.0</td>\n      <td>298100.0</td>\n      <td>31329.0</td>\n      <td>281300.0</td>\n      <td>13400.0</td>\n    </tr>\n    <tr>\n      <th>1</th>\n      <td>68354783</td>\n      <td>73244544.0</td>\n      <td>9600.0</td>\n      <td>9600.0</td>\n      <td>9600.0</td>\n      <td>36 months</td>\n      <td>7.49%</td>\n      <td>298.58</td>\n      <td>A</td>\n      <td>A4</td>\n      <td>...</td>\n      <td>0.0</td>\n      <td>2.0</td>\n      <td>100.0</td>\n      <td>66.7</td>\n      <td>0.0</td>\n      <td>0.0</td>\n      <td>88635.0</td>\n      <td>55387.0</td>\n      <td>12500.0</td>\n      <td>75635.0</td>\n    </tr>\n    <tr>\n      <th>2</th>\n      <td>68466916</td>\n      <td>73356753.0</td>\n      <td>25000.0</td>\n      <td>25000.0</td>\n      <td>25000.0</td>\n      <td>36 months</td>\n      <td>7.49%</td>\n      <td>777.55</td>\n      <td>A</td>\n      <td>A4</td>\n      <td>...</td>\n      <td>0.0</td>\n      <td>0.0</td>\n      <td>100.0</td>\n      <td>20.0</td>\n      <td>0.0</td>\n      <td>0.0</td>\n      <td>373572.0</td>\n      <td>68056.0</td>\n      <td>38400.0</td>\n      <td>82117.0</td>\n    </tr>\n    <tr>\n      <th>3</th>\n      <td>68466961</td>\n      <td>73356799.0</td>\n      <td>28000.0</td>\n      <td>28000.0</td>\n      <td>28000.0</td>\n      <td>36 months</td>\n      <td>6.49%</td>\n      <td>858.05</td>\n      <td>A</td>\n      <td>A2</td>\n      <td>...</td>\n      <td>0.0</td>\n      <td>0.0</td>\n      <td>91.7</td>\n      <td>22.2</td>\n      <td>0.0</td>\n      <td>0.0</td>\n      <td>304003.0</td>\n      <td>74920.0</td>\n      <td>41500.0</td>\n      <td>42503.0</td>\n    </tr>\n    <tr>\n      <th>4</th>\n      <td>68495092</td>\n      <td>73384866.0</td>\n      <td>8650.0</td>\n      <td>8650.0</td>\n      <td>8650.0</td>\n      <td>36 months</td>\n      <td>19.89%</td>\n      <td>320.99</td>\n      <td>E</td>\n      <td>E3</td>\n      <td>...</td>\n      <td>0.0</td>\n      <td>12.0</td>\n      <td>100.0</td>\n      <td>50.0</td>\n      <td>1.0</td>\n      <td>0.0</td>\n      <td>38998.0</td>\n      <td>18926.0</td>\n      <td>2750.0</td>\n      <td>18248.0</td>\n    </tr>\n  </tbody>\n</table>\n<p>5 rows × 111 columns</p>\n</div>",
        "text/plain": "         id   member_id  loan_amnt  funded_amnt  funded_amnt_inv        term  \\\n0  68009401  72868139.0    16000.0      16000.0          16000.0   60 months   \n1  68354783  73244544.0     9600.0       9600.0           9600.0   36 months   \n2  68466916  73356753.0    25000.0      25000.0          25000.0   36 months   \n3  68466961  73356799.0    28000.0      28000.0          28000.0   36 months   \n4  68495092  73384866.0     8650.0       8650.0           8650.0   36 months   \n\n  int_rate  installment grade sub_grade  ... num_tl_90g_dpd_24m  \\\n0   14.85%       379.39     C        C5  ...                0.0   \n1    7.49%       298.58     A        A4  ...                0.0   \n2    7.49%       777.55     A        A4  ...                0.0   \n3    6.49%       858.05     A        A2  ...                0.0   \n4   19.89%       320.99     E        E3  ...                0.0   \n\n  num_tl_op_past_12m pct_tl_nvr_dlq  percent_bc_gt_75 pub_rec_bankruptcies  \\\n0                2.0           78.9               0.0                  0.0   \n1                2.0          100.0              66.7                  0.0   \n2                0.0          100.0              20.0                  0.0   \n3                0.0           91.7              22.2                  0.0   \n4               12.0          100.0              50.0                  1.0   \n\n  tax_liens tot_hi_cred_lim total_bal_ex_mort total_bc_limit  \\\n0       2.0        298100.0           31329.0       281300.0   \n1       0.0         88635.0           55387.0        12500.0   \n2       0.0        373572.0           68056.0        38400.0   \n3       0.0        304003.0           74920.0        41500.0   \n4       0.0         38998.0           18926.0         2750.0   \n\n  total_il_high_credit_limit  \n0                    13400.0  \n1                    75635.0  \n2                    82117.0  \n3                    42503.0  \n4                    18248.0  \n\n[5 rows x 111 columns]"
       },
       "execution_count": 2,
       "metadata": {},
       "output_type": "execute_result"
      }
     ],
     "persistentId": "0ff2576a-01f5-4050-a162-f50f1dadb654",
     "text": "# read data from file\nraw = pd.read_csv(\"LoanStats3d.csv\", skipinitialspace=True, header=1)\n\n# show first 5 rows\nraw.head()"
    },
    "executionTime": "2020-01-13T06:23:46.954Z"
   },
   {
    "cell": {
     "executionCount": 3,
     "executionEventId": "2caa9b23-4514-4ec5-aab8-5328cb41517e",
     "hasError": false,
     "id": "2c8ad38f-dc24-422d-bc25-58618650d28e",
     "outputs": [
      {
       "name": "stdout",
       "output_type": "stream",
       "text": "id: 421097\nterm: 2\nint_rate: 110\ngrade: 7\nsub_grade: 35\nemp_title: 120812\nemp_length: 11\nhome_ownership: 4\nverification_status: 3\nissue_d: 12\nloan_status: 7\npymnt_plan: 1\nurl: 421095\ndesc: 34\npurpose: 14\ntitle: 27\nzip_code: 914\naddr_state: 49\nearliest_cr_line: 668\nrevol_util: 1211\ninitial_list_status: 2\nlast_pymnt_d: 25\nnext_pymnt_d: 4\nlast_credit_pull_d: 26\napplication_type: 2\nverification_status_joint: 3\n"
      }
     ],
     "persistentId": "5b2f0e29-b19e-4b09-a92b-aa4ad1a3d6ce",
     "text": "# number of unique values in each column\ncategorical = raw.select_dtypes(include=[\"object\"])\nfor col in categorical.columns:\n    print(\"{}: {}\".format(col, categorical[col].nunique()))"
    },
    "executionTime": "2020-01-13T06:23:47.967Z"
   },
   {
    "cell": {
     "executionCount": 4,
     "executionEventId": "adad4065-76a4-4292-808c-ed233c66a834",
     "hasError": false,
     "id": "8b44dda3-0965-4d6d-8ead-a544a81537c6",
     "outputs": [],
     "persistentId": "7cf6bb84-5b95-4d11-ada9-a353bb090802",
     "text": "# create a copy of the original data\nloans = raw.copy()\n\n# convert ID and interest rate to numeric.\nloans[\"id\"] = pd.to_numeric(loans[\"id\"], errors=\"coerce\")\nloans[\"int_rate\"] = pd.to_numeric(loans[\"int_rate\"].str.strip(\"%\"), errors=\"coerce\")\n\n# drop columns with too many unique values\nloans.drop(\n    [\n        \"url\",\n        \"emp_title\",\n        \"zip_code\",\n        \"earliest_cr_line\",\n        \"revol_util\",\n        \"sub_grade\",\n        \"addr_state\",\n        \"desc\",\n    ],\n    1,\n    inplace=True,\n)"
    },
    "executionTime": "2020-01-13T06:23:49.429Z"
   },
   {
    "cell": {
     "executionCount": 5,
     "executionEventId": "8d8073be-fd69-4ba5-bacb-1c3bfbf6927d",
     "hasError": false,
     "id": "53453b41-2b36-4c9c-b536-ee4ba1a8017b",
     "outputs": [],
     "persistentId": "17c49fba-75fa-4a9c-b2ce-00b9d9177dd1",
     "text": "loans.dropna(how=\"all\", inplace=True)"
    },
    "executionTime": "2020-01-13T06:23:50.484Z"
   },
   {
    "cell": {
     "executionCount": 6,
     "executionEventId": "63592659-26bf-4b04-95f9-add3a09fbf16",
     "hasError": false,
     "id": "8ef58257-96a8-4380-8307-c2b3b1f47574",
     "outputs": [],
     "persistentId": "2017abed-11da-4e1d-9b28-cb95437c807e",
     "text": "# target variable\ny = loans[\"loan_status\"]\n\n# feature vector\nX = loans.drop(\"loan_status\", 1)\n\n# one hot encoding\nX = pd.get_dummies(X)\n\n# drop rows with missing data\nX = X.dropna(axis=1)"
    },
    "executionTime": "2020-01-13T06:23:53.443Z"
   },
   {
    "cell": {
     "executionCount": 7,
     "executionEventId": "7fc26839-b62b-44f7-858a-4a992fa5038c",
     "hasError": false,
     "id": "a13682dc-de05-408b-8417-8f6551dd7510",
     "outputs": [],
     "persistentId": "90f8fe66-3b9f-41a0-bc75-02a19dfe9795",
     "text": "X_train, X_test, y_train, y_test = train_test_split(X, y, test_size=0.2, random_state=0)"
    },
    "executionTime": "2020-01-13T06:23:53.847Z"
   },
   {
    "cell": {
     "executionCount": 8,
     "executionEventId": "d2d7b3ed-198b-49e1-963e-bc32c986983b",
     "hasError": false,
     "id": "6ad2d56c-1f7f-4978-bc83-ef6fa815a6aa",
     "outputs": [],
     "persistentId": "9db882cf-c91c-4a3d-b367-a18fda494f9b",
     "text": "sc = StandardScaler()\nX_train = sc.fit_transform(X_train)\nX_test = sc.transform(X_test)"
    },
    "executionTime": "2020-01-13T06:23:56.578Z"
   },
   {
    "cell": {
     "executionCount": 9,
     "executionEventId": "29efccd2-638e-4069-8433-c4613b496d0e",
     "hasError": false,
     "id": "a73e31ce-ac47-412e-8773-788b0bab3d11",
     "outputs": [],
     "persistentId": "69b13d58-d904-4002-a0ab-8ceb1b3d601e",
     "text": "n_components = 4\n\npca = PCA(n_components=n_components)\nX_train = pca.fit_transform(X_train)\nX_test = pca.transform(X_test)"
    },
    "executionTime": "2020-01-13T06:23:59.055Z"
   },
   {
    "cell": {
     "executionCount": 10,
     "executionEventId": "decf8023-a73a-483f-922c-39ea426e54b2",
     "hasError": false,
     "id": "adb5637c-b1d3-4b99-95e6-a4d3a6c0abee",
     "outputs": [],
     "persistentId": "627587f2-27ac-4da5-8ba3-e03ac7fd60c5",
     "text": "classifier = RandomForestClassifier(max_depth=2, random_state=0)\nclassifier.fit(X_train, y_train)\n\ny_pred = classifier.predict(X_test)"
    },
    "executionTime": "2020-01-13T06:24:01.694Z"
   },
   {
    "cell": {
     "executionCount": 11,
     "executionEventId": "95fa3a5e-dbe2-4f72-a513-161b4c35cb91",
     "hasError": false,
     "id": "8f51e8ec-d057-461f-8ca5-eda728150583",
     "outputs": [
      {
       "name": "stdout",
       "output_type": "stream",
       "text": "Confusion matrix: \n[[    0  2431     0  3419     0     0     0]\n [    0 57027     0   389     0     0     0]\n [    0   149     0     4     0     0     0]\n [    0  1477     0 16111     0     0     0]\n [    0   920     0    11     0     0     0]\n [    0   348     0     7     0     0     0]\n [    0  1846     0    80     0     0     0]]\n\nAccuracy is 0.8684263645970625 with 4 components.\n"
      }
     ],
     "persistentId": "620aac66-497b-4957-a744-86dae8e55a29",
     "text": "from sklearn.metrics import confusion_matrix\nfrom sklearn.metrics import accuracy_score\n\ncm = confusion_matrix(y_test, y_pred)\nprint(\"Confusion matrix: \\n{}\\n\".format(cm))\nprint(\n    \"Accuracy is {} with {} components.\".format(\n        accuracy_score(y_test, y_pred), n_components\n    )\n)"
    },
    "executionTime": "2020-01-13T06:24:02.172Z"
   },
   {
    "cell": {
     "executionCount": 1,
     "executionEventId": "a4f6f83a-6af7-48fc-b9fe-71f1a3a58f3a",
     "hasError": false,
     "id": "087d1d67-aec1-4c65-9310-ba063529c530",
     "outputs": [],
     "persistentId": "47827e5d-9598-4b20-88c8-d5f63cfe04b4",
     "text": "# import libraries\nimport pandas as pd\nimport numpy as np\nimport matplotlib.pyplot as plt\nfrom sklearn import ensemble\nfrom sklearn.model_selection import cross_val_score\nfrom sklearn.preprocessing import StandardScaler\nfrom sklearn.model_selection import train_test_split\nfrom sklearn.decomposition import PCA\nfrom sklearn.ensemble import RandomForestClassifier\n\nimport warnings\n\nwarnings.filterwarnings(\"ignore\")\n\n%matplotlib inline"
    },
    "executionTime": "2020-01-13T06:24:28.692Z"
   },
   {
    "cell": {
     "executionCount": 2,
     "executionEventId": "130e716c-badd-4c1b-a416-a4b5b0e95c4c",
     "hasError": false,
     "id": "4b387283-d2d1-4abf-98c7-2cb0238c4f1a",
     "outputs": [
      {
       "data": {
        "text/html": "<div>\n<style scoped>\n    .dataframe tbody tr th:only-of-type {\n        vertical-align: middle;\n    }\n\n    .dataframe tbody tr th {\n        vertical-align: top;\n    }\n\n    .dataframe thead th {\n        text-align: right;\n    }\n</style>\n<table border=\"1\" class=\"dataframe\">\n  <thead>\n    <tr style=\"text-align: right;\">\n      <th></th>\n      <th>id</th>\n      <th>member_id</th>\n      <th>loan_amnt</th>\n      <th>funded_amnt</th>\n      <th>funded_amnt_inv</th>\n      <th>term</th>\n      <th>int_rate</th>\n      <th>installment</th>\n      <th>grade</th>\n      <th>sub_grade</th>\n      <th>...</th>\n      <th>num_tl_90g_dpd_24m</th>\n      <th>num_tl_op_past_12m</th>\n      <th>pct_tl_nvr_dlq</th>\n      <th>percent_bc_gt_75</th>\n      <th>pub_rec_bankruptcies</th>\n      <th>tax_liens</th>\n      <th>tot_hi_cred_lim</th>\n      <th>total_bal_ex_mort</th>\n      <th>total_bc_limit</th>\n      <th>total_il_high_credit_limit</th>\n    </tr>\n  </thead>\n  <tbody>\n    <tr>\n      <th>0</th>\n      <td>68009401</td>\n      <td>72868139.0</td>\n      <td>16000.0</td>\n      <td>16000.0</td>\n      <td>16000.0</td>\n      <td>60 months</td>\n      <td>14.85%</td>\n      <td>379.39</td>\n      <td>C</td>\n      <td>C5</td>\n      <td>...</td>\n      <td>0.0</td>\n      <td>2.0</td>\n      <td>78.9</td>\n      <td>0.0</td>\n      <td>0.0</td>\n      <td>2.0</td>\n      <td>298100.0</td>\n      <td>31329.0</td>\n      <td>281300.0</td>\n      <td>13400.0</td>\n    </tr>\n    <tr>\n      <th>1</th>\n      <td>68354783</td>\n      <td>73244544.0</td>\n      <td>9600.0</td>\n      <td>9600.0</td>\n      <td>9600.0</td>\n      <td>36 months</td>\n      <td>7.49%</td>\n      <td>298.58</td>\n      <td>A</td>\n      <td>A4</td>\n      <td>...</td>\n      <td>0.0</td>\n      <td>2.0</td>\n      <td>100.0</td>\n      <td>66.7</td>\n      <td>0.0</td>\n      <td>0.0</td>\n      <td>88635.0</td>\n      <td>55387.0</td>\n      <td>12500.0</td>\n      <td>75635.0</td>\n    </tr>\n    <tr>\n      <th>2</th>\n      <td>68466916</td>\n      <td>73356753.0</td>\n      <td>25000.0</td>\n      <td>25000.0</td>\n      <td>25000.0</td>\n      <td>36 months</td>\n      <td>7.49%</td>\n      <td>777.55</td>\n      <td>A</td>\n      <td>A4</td>\n      <td>...</td>\n      <td>0.0</td>\n      <td>0.0</td>\n      <td>100.0</td>\n      <td>20.0</td>\n      <td>0.0</td>\n      <td>0.0</td>\n      <td>373572.0</td>\n      <td>68056.0</td>\n      <td>38400.0</td>\n      <td>82117.0</td>\n    </tr>\n    <tr>\n      <th>3</th>\n      <td>68466961</td>\n      <td>73356799.0</td>\n      <td>28000.0</td>\n      <td>28000.0</td>\n      <td>28000.0</td>\n      <td>36 months</td>\n      <td>6.49%</td>\n      <td>858.05</td>\n      <td>A</td>\n      <td>A2</td>\n      <td>...</td>\n      <td>0.0</td>\n      <td>0.0</td>\n      <td>91.7</td>\n      <td>22.2</td>\n      <td>0.0</td>\n      <td>0.0</td>\n      <td>304003.0</td>\n      <td>74920.0</td>\n      <td>41500.0</td>\n      <td>42503.0</td>\n    </tr>\n    <tr>\n      <th>4</th>\n      <td>68495092</td>\n      <td>73384866.0</td>\n      <td>8650.0</td>\n      <td>8650.0</td>\n      <td>8650.0</td>\n      <td>36 months</td>\n      <td>19.89%</td>\n      <td>320.99</td>\n      <td>E</td>\n      <td>E3</td>\n      <td>...</td>\n      <td>0.0</td>\n      <td>12.0</td>\n      <td>100.0</td>\n      <td>50.0</td>\n      <td>1.0</td>\n      <td>0.0</td>\n      <td>38998.0</td>\n      <td>18926.0</td>\n      <td>2750.0</td>\n      <td>18248.0</td>\n    </tr>\n  </tbody>\n</table>\n<p>5 rows × 111 columns</p>\n</div>",
        "text/plain": "         id   member_id  loan_amnt  funded_amnt  funded_amnt_inv        term  \\\n0  68009401  72868139.0    16000.0      16000.0          16000.0   60 months   \n1  68354783  73244544.0     9600.0       9600.0           9600.0   36 months   \n2  68466916  73356753.0    25000.0      25000.0          25000.0   36 months   \n3  68466961  73356799.0    28000.0      28000.0          28000.0   36 months   \n4  68495092  73384866.0     8650.0       8650.0           8650.0   36 months   \n\n  int_rate  installment grade sub_grade  ... num_tl_90g_dpd_24m  \\\n0   14.85%       379.39     C        C5  ...                0.0   \n1    7.49%       298.58     A        A4  ...                0.0   \n2    7.49%       777.55     A        A4  ...                0.0   \n3    6.49%       858.05     A        A2  ...                0.0   \n4   19.89%       320.99     E        E3  ...                0.0   \n\n  num_tl_op_past_12m pct_tl_nvr_dlq  percent_bc_gt_75 pub_rec_bankruptcies  \\\n0                2.0           78.9               0.0                  0.0   \n1                2.0          100.0              66.7                  0.0   \n2                0.0          100.0              20.0                  0.0   \n3                0.0           91.7              22.2                  0.0   \n4               12.0          100.0              50.0                  1.0   \n\n  tax_liens tot_hi_cred_lim total_bal_ex_mort total_bc_limit  \\\n0       2.0        298100.0           31329.0       281300.0   \n1       0.0         88635.0           55387.0        12500.0   \n2       0.0        373572.0           68056.0        38400.0   \n3       0.0        304003.0           74920.0        41500.0   \n4       0.0         38998.0           18926.0         2750.0   \n\n  total_il_high_credit_limit  \n0                    13400.0  \n1                    75635.0  \n2                    82117.0  \n3                    42503.0  \n4                    18248.0  \n\n[5 rows x 111 columns]"
       },
       "execution_count": 2,
       "metadata": {},
       "output_type": "execute_result"
      }
     ],
     "persistentId": "0ff2576a-01f5-4050-a162-f50f1dadb654",
     "text": "# read data from file\nraw = pd.read_csv(\"LoanStats3d.csv\", skipinitialspace=True, header=1)\n\n# show first 5 rows\nraw.head()"
    },
    "executionTime": "2020-01-13T06:24:34.590Z"
   },
   {
    "cell": {
     "executionCount": 3,
     "executionEventId": "97039a22-08d7-4a18-b3ac-f20c8c365361",
     "hasError": false,
     "id": "2c8ad38f-dc24-422d-bc25-58618650d28e",
     "outputs": [
      {
       "name": "stdout",
       "output_type": "stream",
       "text": "id: 421097\nterm: 2\nint_rate: 110\ngrade: 7\nsub_grade: 35\nemp_title: 120812\nemp_length: 11\nhome_ownership: 4\nverification_status: 3\nissue_d: 12\nloan_status: 7\npymnt_plan: 1\nurl: 421095\ndesc: 34\npurpose: 14\ntitle: 27\nzip_code: 914\naddr_state: 49\nearliest_cr_line: 668\nrevol_util: 1211\ninitial_list_status: 2\nlast_pymnt_d: 25\nnext_pymnt_d: 4\nlast_credit_pull_d: 26\napplication_type: 2\nverification_status_joint: 3\n"
      }
     ],
     "persistentId": "5b2f0e29-b19e-4b09-a92b-aa4ad1a3d6ce",
     "text": "# number of unique values in each column\ncategorical = raw.select_dtypes(include=[\"object\"])\nfor col in categorical.columns:\n    print(\"{}: {}\".format(col, categorical[col].nunique()))"
    },
    "executionTime": "2020-01-13T06:24:35.503Z"
   },
   {
    "cell": {
     "executionCount": 4,
     "executionEventId": "283caf11-8ce9-4601-a7c6-c5a69a385936",
     "hasError": false,
     "id": "8b44dda3-0965-4d6d-8ead-a544a81537c6",
     "outputs": [],
     "persistentId": "7cf6bb84-5b95-4d11-ada9-a353bb090802",
     "text": "# create a copy of the original data\nloans = raw.copy()\n\n# convert ID and interest rate to numeric.\nloans[\"id\"] = pd.to_numeric(loans[\"id\"], errors=\"coerce\")\nloans[\"int_rate\"] = pd.to_numeric(loans[\"int_rate\"].str.strip(\"%\"), errors=\"coerce\")\n\n# drop columns with too many unique values\nloans.drop(\n    [\n        \"url\",\n        \"emp_title\",\n        \"zip_code\",\n        \"earliest_cr_line\",\n        \"revol_util\",\n        \"sub_grade\",\n        \"addr_state\",\n        \"desc\",\n    ],\n    1,\n    inplace=True,\n)"
    },
    "executionTime": "2020-01-13T06:24:36.931Z"
   },
   {
    "cell": {
     "executionCount": 5,
     "executionEventId": "a3e6ec39-b398-4268-b7d0-33204008bcde",
     "hasError": false,
     "id": "53453b41-2b36-4c9c-b536-ee4ba1a8017b",
     "outputs": [],
     "persistentId": "17c49fba-75fa-4a9c-b2ce-00b9d9177dd1",
     "text": "loans.dropna(how=\"all\", inplace=True)"
    },
    "executionTime": "2020-01-13T06:24:37.999Z"
   },
   {
    "cell": {
     "executionCount": 6,
     "executionEventId": "2eaa1480-9524-4626-99f9-9b09c2f2f0b2",
     "hasError": false,
     "id": "8ef58257-96a8-4380-8307-c2b3b1f47574",
     "outputs": [],
     "persistentId": "2017abed-11da-4e1d-9b28-cb95437c807e",
     "text": "# target variable\ny = loans[\"loan_status\"]\n\n# feature vector\nX = loans.drop(\"loan_status\", 1)\n\n# one hot encoding\nX = pd.get_dummies(X)\n\n# drop rows with missing data\nX = X.dropna(axis=1)"
    },
    "executionTime": "2020-01-13T06:24:40.876Z"
   },
   {
    "cell": {
     "executionCount": 7,
     "executionEventId": "e98c7bb8-c503-42f6-93d4-173f6ed0d4f2",
     "hasError": false,
     "id": "a13682dc-de05-408b-8417-8f6551dd7510",
     "outputs": [],
     "persistentId": "90f8fe66-3b9f-41a0-bc75-02a19dfe9795",
     "text": "X_train, X_test, y_train, y_test = train_test_split(X, y, test_size=0.2, random_state=0)"
    },
    "executionTime": "2020-01-13T06:24:41.256Z"
   },
   {
    "cell": {
     "executionCount": 8,
     "executionEventId": "b512fbf6-aef7-4acd-9eef-856641daf076",
     "hasError": false,
     "id": "6ad2d56c-1f7f-4978-bc83-ef6fa815a6aa",
     "outputs": [],
     "persistentId": "9db882cf-c91c-4a3d-b367-a18fda494f9b",
     "text": "sc = StandardScaler()\nX_train = sc.fit_transform(X_train)\nX_test = sc.transform(X_test)"
    },
    "executionTime": "2020-01-13T06:24:43.495Z"
   },
   {
    "cell": {
     "executionCount": 9,
     "executionEventId": "5901a913-bbfe-43fd-935b-83f93a6fc104",
     "hasError": false,
     "id": "a73e31ce-ac47-412e-8773-788b0bab3d11",
     "outputs": [],
     "persistentId": "69b13d58-d904-4002-a0ab-8ceb1b3d601e",
     "text": "n_components = 3\n\npca = PCA(n_components=n_components)\nX_train = pca.fit_transform(X_train)\nX_test = pca.transform(X_test)"
    },
    "executionTime": "2020-01-13T06:24:45.633Z"
   },
   {
    "cell": {
     "executionCount": 10,
     "executionEventId": "a10c11f2-87e7-499d-b405-9feb25688b65",
     "hasError": false,
     "id": "adb5637c-b1d3-4b99-95e6-a4d3a6c0abee",
     "outputs": [],
     "persistentId": "627587f2-27ac-4da5-8ba3-e03ac7fd60c5",
     "text": "classifier = RandomForestClassifier(max_depth=2, random_state=0)\nclassifier.fit(X_train, y_train)\n\ny_pred = classifier.predict(X_test)"
    },
    "executionTime": "2020-01-13T06:24:47.396Z"
   },
   {
    "cell": {
     "executionCount": 11,
     "executionEventId": "5ef83a75-4ce8-44ec-ba00-6e830c711a5c",
     "hasError": false,
     "id": "8f51e8ec-d057-461f-8ca5-eda728150583",
     "outputs": [
      {
       "name": "stdout",
       "output_type": "stream",
       "text": "Confusion matrix: \n[[    0  1660     0  4190     0     0     0]\n [    0 56647     0   769     0     0     0]\n [    0   142     0    11     0     0     0]\n [    0  1590     0 15998     0     0     0]\n [    0   902     0    29     0     0     0]\n [    0   342     0    13     0     0     0]\n [    0  1758     0   168     0     0     0]]\n\nAccuracy is 0.862572578634275 with 3 components.\n"
      }
     ],
     "persistentId": "620aac66-497b-4957-a744-86dae8e55a29",
     "text": "from sklearn.metrics import confusion_matrix\nfrom sklearn.metrics import accuracy_score\n\ncm = confusion_matrix(y_test, y_pred)\nprint(\"Confusion matrix: \\n{}\\n\".format(cm))\nprint(\n    \"Accuracy is {} with {} components.\".format(\n        accuracy_score(y_test, y_pred), n_components\n    )\n)"
    },
    "executionTime": "2020-01-13T06:24:47.846Z"
   },
   {
    "cell": {
     "executionCount": 12,
     "executionEventId": "b0379bfd-435e-4086-91c1-039cff944035",
     "hasError": false,
     "id": "d48a07ce-6f64-45d3-9826-91c3b3c0bf54",
     "outputs": [
      {
       "data": {
        "image/png": "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\n",
        "text/plain": "<Figure size 432x288 with 1 Axes>"
       },
       "metadata": {
        "needs_background": "light"
       },
       "output_type": "display_data"
      }
     ],
     "persistentId": "8c50f1ad-05ae-4f23-98db-acc45041e9e3",
     "text": "pca = PCA().fit(X_train)\nplt.plot(np.cumsum(pca.explained_variance_ratio_))\nplt.xlabel('number of components')\nplt.ylabel('cumulative explained variance');"
    },
    "executionTime": "2020-01-13T06:25:40.967Z"
   },
   {
    "cell": {
     "executionCount": 1,
     "executionEventId": "066fb074-d292-4e86-95dc-558f575ffe7d",
     "hasError": false,
     "id": "087d1d67-aec1-4c65-9310-ba063529c530",
     "outputs": [],
     "persistentId": "47827e5d-9598-4b20-88c8-d5f63cfe04b4",
     "text": "# import libraries\nimport pandas as pd\nimport numpy as np\nimport matplotlib.pyplot as plt\nfrom sklearn import ensemble\nfrom sklearn.model_selection import cross_val_score\nfrom sklearn.preprocessing import StandardScaler\nfrom sklearn.model_selection import train_test_split\nfrom sklearn.decomposition import PCA\nfrom sklearn.ensemble import RandomForestClassifier\n\nimport warnings\n\nwarnings.filterwarnings(\"ignore\")\n\n%matplotlib inline"
    },
    "executionTime": "2020-01-13T06:27:54.707Z"
   },
   {
    "cell": {
     "executionCount": 2,
     "executionEventId": "09815f1d-3def-4bad-992b-b9241f1a33ba",
     "hasError": false,
     "id": "4b387283-d2d1-4abf-98c7-2cb0238c4f1a",
     "outputs": [
      {
       "data": {
        "text/html": "<div>\n<style scoped>\n    .dataframe tbody tr th:only-of-type {\n        vertical-align: middle;\n    }\n\n    .dataframe tbody tr th {\n        vertical-align: top;\n    }\n\n    .dataframe thead th {\n        text-align: right;\n    }\n</style>\n<table border=\"1\" class=\"dataframe\">\n  <thead>\n    <tr style=\"text-align: right;\">\n      <th></th>\n      <th>id</th>\n      <th>member_id</th>\n      <th>loan_amnt</th>\n      <th>funded_amnt</th>\n      <th>funded_amnt_inv</th>\n      <th>term</th>\n      <th>int_rate</th>\n      <th>installment</th>\n      <th>grade</th>\n      <th>sub_grade</th>\n      <th>...</th>\n      <th>num_tl_90g_dpd_24m</th>\n      <th>num_tl_op_past_12m</th>\n      <th>pct_tl_nvr_dlq</th>\n      <th>percent_bc_gt_75</th>\n      <th>pub_rec_bankruptcies</th>\n      <th>tax_liens</th>\n      <th>tot_hi_cred_lim</th>\n      <th>total_bal_ex_mort</th>\n      <th>total_bc_limit</th>\n      <th>total_il_high_credit_limit</th>\n    </tr>\n  </thead>\n  <tbody>\n    <tr>\n      <th>0</th>\n      <td>68009401</td>\n      <td>72868139.0</td>\n      <td>16000.0</td>\n      <td>16000.0</td>\n      <td>16000.0</td>\n      <td>60 months</td>\n      <td>14.85%</td>\n      <td>379.39</td>\n      <td>C</td>\n      <td>C5</td>\n      <td>...</td>\n      <td>0.0</td>\n      <td>2.0</td>\n      <td>78.9</td>\n      <td>0.0</td>\n      <td>0.0</td>\n      <td>2.0</td>\n      <td>298100.0</td>\n      <td>31329.0</td>\n      <td>281300.0</td>\n      <td>13400.0</td>\n    </tr>\n    <tr>\n      <th>1</th>\n      <td>68354783</td>\n      <td>73244544.0</td>\n      <td>9600.0</td>\n      <td>9600.0</td>\n      <td>9600.0</td>\n      <td>36 months</td>\n      <td>7.49%</td>\n      <td>298.58</td>\n      <td>A</td>\n      <td>A4</td>\n      <td>...</td>\n      <td>0.0</td>\n      <td>2.0</td>\n      <td>100.0</td>\n      <td>66.7</td>\n      <td>0.0</td>\n      <td>0.0</td>\n      <td>88635.0</td>\n      <td>55387.0</td>\n      <td>12500.0</td>\n      <td>75635.0</td>\n    </tr>\n    <tr>\n      <th>2</th>\n      <td>68466916</td>\n      <td>73356753.0</td>\n      <td>25000.0</td>\n      <td>25000.0</td>\n      <td>25000.0</td>\n      <td>36 months</td>\n      <td>7.49%</td>\n      <td>777.55</td>\n      <td>A</td>\n      <td>A4</td>\n      <td>...</td>\n      <td>0.0</td>\n      <td>0.0</td>\n      <td>100.0</td>\n      <td>20.0</td>\n      <td>0.0</td>\n      <td>0.0</td>\n      <td>373572.0</td>\n      <td>68056.0</td>\n      <td>38400.0</td>\n      <td>82117.0</td>\n    </tr>\n    <tr>\n      <th>3</th>\n      <td>68466961</td>\n      <td>73356799.0</td>\n      <td>28000.0</td>\n      <td>28000.0</td>\n      <td>28000.0</td>\n      <td>36 months</td>\n      <td>6.49%</td>\n      <td>858.05</td>\n      <td>A</td>\n      <td>A2</td>\n      <td>...</td>\n      <td>0.0</td>\n      <td>0.0</td>\n      <td>91.7</td>\n      <td>22.2</td>\n      <td>0.0</td>\n      <td>0.0</td>\n      <td>304003.0</td>\n      <td>74920.0</td>\n      <td>41500.0</td>\n      <td>42503.0</td>\n    </tr>\n    <tr>\n      <th>4</th>\n      <td>68495092</td>\n      <td>73384866.0</td>\n      <td>8650.0</td>\n      <td>8650.0</td>\n      <td>8650.0</td>\n      <td>36 months</td>\n      <td>19.89%</td>\n      <td>320.99</td>\n      <td>E</td>\n      <td>E3</td>\n      <td>...</td>\n      <td>0.0</td>\n      <td>12.0</td>\n      <td>100.0</td>\n      <td>50.0</td>\n      <td>1.0</td>\n      <td>0.0</td>\n      <td>38998.0</td>\n      <td>18926.0</td>\n      <td>2750.0</td>\n      <td>18248.0</td>\n    </tr>\n  </tbody>\n</table>\n<p>5 rows × 111 columns</p>\n</div>",
        "text/plain": "         id   member_id  loan_amnt  funded_amnt  funded_amnt_inv        term  \\\n0  68009401  72868139.0    16000.0      16000.0          16000.0   60 months   \n1  68354783  73244544.0     9600.0       9600.0           9600.0   36 months   \n2  68466916  73356753.0    25000.0      25000.0          25000.0   36 months   \n3  68466961  73356799.0    28000.0      28000.0          28000.0   36 months   \n4  68495092  73384866.0     8650.0       8650.0           8650.0   36 months   \n\n  int_rate  installment grade sub_grade  ... num_tl_90g_dpd_24m  \\\n0   14.85%       379.39     C        C5  ...                0.0   \n1    7.49%       298.58     A        A4  ...                0.0   \n2    7.49%       777.55     A        A4  ...                0.0   \n3    6.49%       858.05     A        A2  ...                0.0   \n4   19.89%       320.99     E        E3  ...                0.0   \n\n  num_tl_op_past_12m pct_tl_nvr_dlq  percent_bc_gt_75 pub_rec_bankruptcies  \\\n0                2.0           78.9               0.0                  0.0   \n1                2.0          100.0              66.7                  0.0   \n2                0.0          100.0              20.0                  0.0   \n3                0.0           91.7              22.2                  0.0   \n4               12.0          100.0              50.0                  1.0   \n\n  tax_liens tot_hi_cred_lim total_bal_ex_mort total_bc_limit  \\\n0       2.0        298100.0           31329.0       281300.0   \n1       0.0         88635.0           55387.0        12500.0   \n2       0.0        373572.0           68056.0        38400.0   \n3       0.0        304003.0           74920.0        41500.0   \n4       0.0         38998.0           18926.0         2750.0   \n\n  total_il_high_credit_limit  \n0                    13400.0  \n1                    75635.0  \n2                    82117.0  \n3                    42503.0  \n4                    18248.0  \n\n[5 rows x 111 columns]"
       },
       "execution_count": 2,
       "metadata": {},
       "output_type": "execute_result"
      }
     ],
     "persistentId": "0ff2576a-01f5-4050-a162-f50f1dadb654",
     "text": "# read data from file\nraw = pd.read_csv(\"LoanStats3d.csv\", skipinitialspace=True, header=1)\n\n# show first 5 rows\nraw.head()"
    },
    "executionTime": "2020-01-13T06:28:04.425Z"
   },
   {
    "cell": {
     "executionCount": 3,
     "executionEventId": "a7743c53-e425-4bb7-8cd7-bf9347b6d688",
     "hasError": false,
     "id": "2c8ad38f-dc24-422d-bc25-58618650d28e",
     "outputs": [
      {
       "name": "stdout",
       "output_type": "stream",
       "text": "id: 421097\nterm: 2\nint_rate: 110\ngrade: 7\nsub_grade: 35\nemp_title: 120812\nemp_length: 11\nhome_ownership: 4\nverification_status: 3\nissue_d: 12\nloan_status: 7\npymnt_plan: 1\nurl: 421095\ndesc: 34\npurpose: 14\ntitle: 27\nzip_code: 914\naddr_state: 49\nearliest_cr_line: 668\nrevol_util: 1211\ninitial_list_status: 2\nlast_pymnt_d: 25\nnext_pymnt_d: 4\nlast_credit_pull_d: 26\napplication_type: 2\nverification_status_joint: 3\n"
      }
     ],
     "persistentId": "5b2f0e29-b19e-4b09-a92b-aa4ad1a3d6ce",
     "text": "# number of unique values in each column\ncategorical = raw.select_dtypes(include=[\"object\"])\nfor col in categorical.columns:\n    print(\"{}: {}\".format(col, categorical[col].nunique()))"
    },
    "executionTime": "2020-01-13T06:28:05.446Z"
   },
   {
    "cell": {
     "executionCount": 4,
     "executionEventId": "c96cc57d-af0d-48ed-81ee-33030840604a",
     "hasError": false,
     "id": "8b44dda3-0965-4d6d-8ead-a544a81537c6",
     "outputs": [],
     "persistentId": "7cf6bb84-5b95-4d11-ada9-a353bb090802",
     "text": "# create a copy of the original data\nloans = raw.copy()\n\n# convert ID and interest rate to numeric.\nloans[\"id\"] = pd.to_numeric(loans[\"id\"], errors=\"coerce\")\nloans[\"int_rate\"] = pd.to_numeric(loans[\"int_rate\"].str.strip(\"%\"), errors=\"coerce\")\n\n# drop columns with too many unique values\nloans.drop(\n    [\n        \"url\",\n        \"emp_title\",\n        \"zip_code\",\n        \"earliest_cr_line\",\n        \"revol_util\",\n        \"sub_grade\",\n        \"addr_state\",\n        \"desc\",\n    ],\n    1,\n    inplace=True,\n)"
    },
    "executionTime": "2020-01-13T06:28:06.875Z"
   },
   {
    "cell": {
     "executionCount": 5,
     "executionEventId": "4d6b0d05-b6a8-4905-a26d-aba4c29e9d82",
     "hasError": false,
     "id": "53453b41-2b36-4c9c-b536-ee4ba1a8017b",
     "outputs": [],
     "persistentId": "17c49fba-75fa-4a9c-b2ce-00b9d9177dd1",
     "text": "loans.dropna(how=\"all\", inplace=True)"
    },
    "executionTime": "2020-01-13T06:28:07.955Z"
   },
   {
    "cell": {
     "executionCount": 6,
     "executionEventId": "8148c0e2-5933-414d-a7df-ed847a123721",
     "hasError": false,
     "id": "8ef58257-96a8-4380-8307-c2b3b1f47574",
     "outputs": [],
     "persistentId": "2017abed-11da-4e1d-9b28-cb95437c807e",
     "text": "# target variable\ny = loans[\"loan_status\"]\n\n# feature vector\nX = loans.drop(\"loan_status\", 1)\n\n# one hot encoding\nX = pd.get_dummies(X)\n\n# drop rows with missing data\nX = X.dropna(axis=1)"
    },
    "executionTime": "2020-01-13T06:28:11.413Z"
   },
   {
    "cell": {
     "executionCount": 7,
     "executionEventId": "5772ed3b-404f-45c4-bd6d-6614be1bb3db",
     "hasError": false,
     "id": "a13682dc-de05-408b-8417-8f6551dd7510",
     "outputs": [],
     "persistentId": "90f8fe66-3b9f-41a0-bc75-02a19dfe9795",
     "text": "X_train, X_test, y_train, y_test = train_test_split(X, y, test_size=0.2, random_state=0)"
    },
    "executionTime": "2020-01-13T06:28:11.841Z"
   },
   {
    "cell": {
     "executionCount": 8,
     "executionEventId": "8ca06650-1fe8-4f2f-93cb-d89786c16332",
     "hasError": false,
     "id": "6ad2d56c-1f7f-4978-bc83-ef6fa815a6aa",
     "outputs": [],
     "persistentId": "9db882cf-c91c-4a3d-b367-a18fda494f9b",
     "text": "sc = StandardScaler()\nX_train = sc.fit_transform(X_train)\nX_test = sc.transform(X_test)"
    },
    "executionTime": "2020-01-13T06:28:16.014Z"
   },
   {
    "cell": {
     "executionCount": 9,
     "executionEventId": "9e7654c9-eceb-4134-b015-f001a3e8f4de",
     "hasError": false,
     "id": "0563297d-ff8e-4684-93f2-4485df75392d",
     "outputs": [
      {
       "data": {
        "image/png": "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\n",
        "text/plain": "<Figure size 432x288 with 1 Axes>"
       },
       "metadata": {
        "needs_background": "light"
       },
       "output_type": "display_data"
      }
     ],
     "persistentId": "1e984b11-1cc0-42b4-819d-d9111d3947fa",
     "text": "pca = PCA().fit(X_train)\nplt.plot(np.cumsum(pca.explained_variance_ratio_))\nplt.xlabel('number of components')\nplt.ylabel('cumulative explained variance');"
    },
    "executionTime": "2020-01-13T06:28:38.012Z"
   },
   {
    "cell": {
     "executionCount": 10,
     "executionEventId": "9eefbe79-f66f-468e-ae40-f83c526ae7ea",
     "hasError": false,
     "id": "a73e31ce-ac47-412e-8773-788b0bab3d11",
     "outputs": [],
     "persistentId": "69b13d58-d904-4002-a0ab-8ceb1b3d601e",
     "text": "n_components = 150\n\npca = PCA(n_components=n_components)\nX_train = pca.fit_transform(X_train)\nX_test = pca.transform(X_test)"
    },
    "executionTime": "2020-01-13T06:31:18.452Z"
   },
   {
    "cell": {
     "executionCount": 11,
     "executionEventId": "0996783c-3567-4ef7-8f45-3885093222be",
     "hasError": false,
     "id": "adb5637c-b1d3-4b99-95e6-a4d3a6c0abee",
     "outputs": [],
     "persistentId": "627587f2-27ac-4da5-8ba3-e03ac7fd60c5",
     "text": "classifier = RandomForestClassifier(max_depth=2, random_state=0)\nclassifier.fit(X_train, y_train)\n\ny_pred = classifier.predict(X_test)"
    },
    "executionTime": "2020-01-13T06:31:39.714Z"
   },
   {
    "cell": {
     "executionCount": 12,
     "executionEventId": "653599b3-c14f-49b7-9e74-9595a60e77b7",
     "hasError": false,
     "id": "8f51e8ec-d057-461f-8ca5-eda728150583",
     "outputs": [
      {
       "name": "stdout",
       "output_type": "stream",
       "text": "Confusion matrix: \n[[    0  1464     0  4386     0     0     0]\n [    0 57263     0   153     0     0     0]\n [    0    13     0   140     0     0     0]\n [    0  6003     0 11585     0     0     0]\n [    0   927     0     4     0     0     0]\n [    0   350     0     5     0     0     0]\n [    0   924     0  1002     0     0     0]]\n\nAccuracy is 0.8174877402961327 with 150 components.\n"
      }
     ],
     "persistentId": "620aac66-497b-4957-a744-86dae8e55a29",
     "text": "from sklearn.metrics import confusion_matrix\nfrom sklearn.metrics import accuracy_score\n\ncm = confusion_matrix(y_test, y_pred)\nprint(\"Confusion matrix: \\n{}\\n\".format(cm))\nprint(\n    \"Accuracy is {} with {} components.\".format(\n        accuracy_score(y_test, y_pred), n_components\n    )\n)"
    },
    "executionTime": "2020-01-13T06:32:06.178Z"
   },
   {
    "cell": {
     "executionCount": 13,
     "executionEventId": "bb5de0a2-3b06-4c29-b437-10954c07d294",
     "hasError": false,
     "id": "3b13aa25-59fc-494a-af18-8ad7924ba162",
     "outputs": [
      {
       "data": {
        "text/plain": "Index(['id', 'member_id', 'loan_amnt', 'funded_amnt', 'funded_amnt_inv',\n       'term', 'int_rate', 'installment', 'grade', 'sub_grade',\n       ...\n       'num_tl_90g_dpd_24m', 'num_tl_op_past_12m', 'pct_tl_nvr_dlq',\n       'percent_bc_gt_75', 'pub_rec_bankruptcies', 'tax_liens',\n       'tot_hi_cred_lim', 'total_bal_ex_mort', 'total_bc_limit',\n       'total_il_high_credit_limit'],\n      dtype='object', length=111)"
       },
       "execution_count": 13,
       "metadata": {},
       "output_type": "execute_result"
      }
     ],
     "persistentId": "247df3b2-2658-4434-bfb9-35ac20d3b703",
     "text": "raw.columns"
    },
    "executionTime": "2020-01-13T06:32:09.546Z"
   },
   {
    "cell": {
     "executionCount": 14,
     "executionEventId": "b7910894-b5e3-4787-8921-a5949ae0201c",
     "hasError": false,
     "id": "39b41a2d-2cc2-4c5d-bbde-497daeea29fd",
     "outputs": [
      {
       "name": "stdout",
       "output_type": "stream",
       "text": "id\nmember_id\nloan_amnt\nfunded_amnt\nfunded_amnt_inv\nterm\nint_rate\ninstallment\ngrade\nsub_grade\nemp_title\nemp_length\nhome_ownership\nannual_inc\nverification_status\nissue_d\nloan_status\npymnt_plan\nurl\ndesc\npurpose\ntitle\nzip_code\naddr_state\ndti\ndelinq_2yrs\nearliest_cr_line\ninq_last_6mths\nmths_since_last_delinq\nmths_since_last_record\nopen_acc\npub_rec\nrevol_bal\nrevol_util\ntotal_acc\ninitial_list_status\nout_prncp\nout_prncp_inv\ntotal_pymnt\ntotal_pymnt_inv\ntotal_rec_prncp\ntotal_rec_int\ntotal_rec_late_fee\nrecoveries\ncollection_recovery_fee\nlast_pymnt_d\nlast_pymnt_amnt\nnext_pymnt_d\nlast_credit_pull_d\ncollections_12_mths_ex_med\nmths_since_last_major_derog\npolicy_code\napplication_type\nannual_inc_joint\ndti_joint\nverification_status_joint\nacc_now_delinq\ntot_coll_amt\ntot_cur_bal\nopen_acc_6m\nopen_il_6m\nopen_il_12m\nopen_il_24m\nmths_since_rcnt_il\ntotal_bal_il\nil_util\nopen_rv_12m\nopen_rv_24m\nmax_bal_bc\nall_util\ntotal_rev_hi_lim\ninq_fi\ntotal_cu_tl\ninq_last_12m\nacc_open_past_24mths\navg_cur_bal\nbc_open_to_buy\nbc_util\nchargeoff_within_12_mths\ndelinq_amnt\nmo_sin_old_il_acct\nmo_sin_old_rev_tl_op\nmo_sin_rcnt_rev_tl_op\nmo_sin_rcnt_tl\nmort_acc\nmths_since_recent_bc\nmths_since_recent_bc_dlq\nmths_since_recent_inq\nmths_since_recent_revol_delinq\nnum_accts_ever_120_pd\nnum_actv_bc_tl\nnum_actv_rev_tl\nnum_bc_sats\nnum_bc_tl\nnum_il_tl\nnum_op_rev_tl\nnum_rev_accts\nnum_rev_tl_bal_gt_0\nnum_sats\nnum_tl_120dpd_2m\nnum_tl_30dpd\nnum_tl_90g_dpd_24m\nnum_tl_op_past_12m\npct_tl_nvr_dlq\npercent_bc_gt_75\npub_rec_bankruptcies\ntax_liens\ntot_hi_cred_lim\ntotal_bal_ex_mort\ntotal_bc_limit\ntotal_il_high_credit_limit\n"
      }
     ],
     "persistentId": "fdfa1dae-f57b-4216-9fa3-f1376c494026",
     "text": "for col in raw.columns:\n    print(col)"
    },
    "executionTime": "2020-01-13T06:33:29.375Z"
   },
   {
    "cell": {
     "executionCount": 15,
     "executionEventId": "9f3b98d7-c9e1-4ac0-8056-509388cad74d",
     "hasError": false,
     "id": "4acdfb61-0d65-41b2-8dc2-42643f8da018",
     "outputs": [
      {
       "data": {
        "text/plain": "0         379.39\n1         298.58\n2         777.55\n3         858.05\n4         320.99\n5         471.77\n6         678.49\n7         400.31\n8         829.90\n9         289.91\n10        432.66\n11        508.30\n12        363.07\n13        123.03\n14        820.28\n15        306.45\n16         47.10\n17        405.18\n18        471.70\n19        263.74\n20        631.26\n21        637.58\n22        949.38\n23        169.54\n24        602.30\n25        146.16\n26        451.73\n27        530.03\n28        186.61\n29        538.18\n           ...  \n421067    617.46\n421068    147.64\n421069    846.88\n421070    554.32\n421071    473.44\n421072    216.50\n421073    329.44\n421074    607.82\n421075    545.87\n421076    602.52\n421077    639.15\n421078    251.40\n421079    384.34\n421080    306.45\n421081    312.77\n421082    220.37\n421083    327.95\n421084    240.30\n421085    126.59\n421086    240.22\n421087    399.04\n421088    404.61\n421089    398.52\n421090    332.10\n421091    797.03\n421092    316.07\n421093    317.86\n421094    664.20\n421095       NaN\n421096       NaN\nName: installment, Length: 421097, dtype: float64"
       },
       "execution_count": 15,
       "metadata": {},
       "output_type": "execute_result"
      }
     ],
     "persistentId": "0e2da174-51e9-49f9-bc76-5334193c5bde",
     "text": "raw['installment']"
    },
    "executionTime": "2020-01-13T06:33:45.865Z"
   },
   {
    "cell": {
     "executionCount": 16,
     "executionEventId": "1f636a94-ac17-4bce-b189-5160abbcf048",
     "hasError": false,
     "id": "ae6b1c66-9891-4239-a840-ca905b330e5a",
     "outputs": [
      {
       "data": {
        "text/plain": "Index(['id', 'member_id', 'loan_amnt', 'funded_amnt', 'funded_amnt_inv',\n       'term', 'int_rate', 'installment', 'grade', 'sub_grade',\n       ...\n       'num_tl_90g_dpd_24m', 'num_tl_op_past_12m', 'pct_tl_nvr_dlq',\n       'percent_bc_gt_75', 'pub_rec_bankruptcies', 'tax_liens',\n       'tot_hi_cred_lim', 'total_bal_ex_mort', 'total_bc_limit',\n       'total_il_high_credit_limit'],\n      dtype='object', length=111)"
       },
       "execution_count": 16,
       "metadata": {},
       "output_type": "execute_result"
      }
     ],
     "persistentId": "c3f65291-8e3a-4957-887f-23c9ccfab188",
     "text": "raw.columns"
    },
    "executionTime": "2020-01-13T06:42:33.900Z"
   },
   {
    "cell": {
     "executionCount": 17,
     "executionEventId": "0db96134-41f7-40bf-a7ef-00c49cf9000b",
     "hasError": false,
     "id": "d27f1747-662a-4d35-90bb-025dd3cae493",
     "outputs": [],
     "persistentId": "41da0e10-e7a8-42c6-bed2-a606e5c6e993",
     "text": "cols = [col for col in raw.columns if \"pymnt\" in col or \"out\" in col]"
    },
    "executionTime": "2020-01-13T06:43:31.782Z"
   },
   {
    "cell": {
     "executionCount": 18,
     "executionEventId": "4b5f43a8-6dff-418e-a4dc-71d22cbecc68",
     "hasError": false,
     "id": "659240d1-a777-47bc-bce9-7df44b8fe078",
     "outputs": [
      {
       "data": {
        "text/plain": "['pymnt_plan',\n 'out_prncp',\n 'out_prncp_inv',\n 'total_pymnt',\n 'total_pymnt_inv',\n 'last_pymnt_d',\n 'last_pymnt_amnt',\n 'next_pymnt_d']"
       },
       "execution_count": 18,
       "metadata": {},
       "output_type": "execute_result"
      }
     ],
     "persistentId": "9ed9cae6-b727-44cc-a577-4cf7f1b6d50f",
     "text": "cols"
    },
    "executionTime": "2020-01-13T06:43:33.740Z"
   },
   {
    "cell": {
     "executionCount": 19,
     "executionEventId": "98d7e857-65bc-422d-80dc-9953739552e6",
     "hasError": false,
     "id": "d27f1747-662a-4d35-90bb-025dd3cae493",
     "outputs": [],
     "persistentId": "41da0e10-e7a8-42c6-bed2-a606e5c6e993",
     "text": "to_drop = [col for col in raw.columns if \"pymnt\" in col or \"out\" in col]"
    },
    "executionTime": "2020-01-13T06:43:51.564Z"
   },
   {
    "cell": {
     "executionCount": 20,
     "executionEventId": "717cfb67-a5ab-4ca1-a324-499f640e1f6d",
     "hasError": false,
     "id": "659240d1-a777-47bc-bce9-7df44b8fe078",
     "outputs": [
      {
       "data": {
        "text/plain": "['pymnt_plan',\n 'out_prncp',\n 'out_prncp_inv',\n 'total_pymnt',\n 'total_pymnt_inv',\n 'last_pymnt_d',\n 'last_pymnt_amnt',\n 'next_pymnt_d']"
       },
       "execution_count": 20,
       "metadata": {},
       "output_type": "execute_result"
      }
     ],
     "persistentId": "9ed9cae6-b727-44cc-a577-4cf7f1b6d50f",
     "text": "to_drop"
    },
    "executionTime": "2020-01-13T06:43:55.681Z"
   },
   {
    "cell": {
     "executionCount": 21,
     "executionEventId": "12c38cca-48de-4c21-9268-bbe7cf25f397",
     "hasError": false,
     "id": "659240d1-a777-47bc-bce9-7df44b8fe078",
     "outputs": [],
     "persistentId": "9ed9cae6-b727-44cc-a577-4cf7f1b6d50f",
     "text": "# drop from a copy of the raw data\nloans2 = raw.copy()\nloans2 = raw.drop(to_drop, axis=1)"
    },
    "executionTime": "2020-01-13T06:44:44.295Z"
   },
   {
    "cell": {
     "executionCount": 22,
     "executionEventId": "7cc9031a-7bba-4f17-9b8e-c4e8303e99d6",
     "hasError": false,
     "id": "659240d1-a777-47bc-bce9-7df44b8fe078",
     "outputs": [],
     "persistentId": "9ed9cae6-b727-44cc-a577-4cf7f1b6d50f",
     "text": "# convert ID and interest rate to numeric.\nloans2[\"id\"] = pd.to_numeric(loans2[\"id\"], errors=\"coerce\")\nloans2[\"int_rate\"] = pd.to_numeric(loans2[\"int_rate\"].str.strip(\"%\"), errors=\"coerce\")\n\n# drop columns with too many unique values\nloans2.drop(\n    [\n        \"url\",\n        \"emp_title\",\n        \"zip_code\",\n        \"earliest_cr_line\",\n        \"revol_util\",\n        \"sub_grade\",\n        \"addr_state\",\n        \"desc\",\n    ],\n    1,\n    inplace=True,\n)"
    },
    "executionTime": "2020-01-13T06:46:21.471Z"
   },
   {
    "cell": {
     "executionCount": 23,
     "executionEventId": "16e0c7c4-cb0e-464f-a824-2b6d50a993fc",
     "hasError": false,
     "id": "7d6d0045-d996-4f0f-80d7-43264cb46a8b",
     "outputs": [],
     "persistentId": "ec4ad368-917b-4d95-9eb1-48d734ca4424",
     "text": "loans2.dropna(how=\"all\", inplace=True)"
    },
    "executionTime": "2020-01-13T06:46:53.020Z"
   },
   {
    "cell": {
     "executionCount": 24,
     "executionEventId": "cf98a9fa-b665-4fc6-84d2-a5a1a2a01a96",
     "hasError": false,
     "id": "7d6d0045-d996-4f0f-80d7-43264cb46a8b",
     "outputs": [],
     "persistentId": "ec4ad368-917b-4d95-9eb1-48d734ca4424",
     "text": "# feature vector\nX_new = loans2.drop(\"loan_status\", 1)\n\n# one hot encoding\nX_new = pd.get_dummies(X)\n\n# drop rows with missing data\nX_new = X_new.dropna(axis=1)"
    },
    "executionTime": "2020-01-13T06:47:22.460Z"
   },
   {
    "cell": {
     "executionCount": 25,
     "executionEventId": "3265408c-4c68-4f27-9d45-855d396fa1e0",
     "hasError": false,
     "id": "ab7b4ab9-2d9a-40e4-8a19-5949a917def7",
     "outputs": [],
     "persistentId": "775e151f-6da0-434a-848a-ae6b35c1747b",
     "text": "X_train2, X_test2, y_train, y_test = train_test_split(X, y, test_size=0.2, random_state=0)"
    },
    "executionTime": "2020-01-13T06:49:33.995Z"
   },
   {
    "cell": {
     "executionCount": 26,
     "executionEventId": "2c93ce25-8d47-4c16-ae85-88c41e46342e",
     "hasError": false,
     "id": "7e8dc4e5-63e2-4d4a-8b56-95ad97b79274",
     "outputs": [
      {
       "data": {
        "image/png": "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\n",
        "text/plain": "<Figure size 432x288 with 1 Axes>"
       },
       "metadata": {
        "needs_background": "light"
       },
       "output_type": "display_data"
      }
     ],
     "persistentId": "b049abdc-0238-4421-80a2-283d70fce852",
     "text": "pca = PCA().fit(X_train2)\nplt.plot(np.cumsum(pca.explained_variance_ratio_))\nplt.xlabel('number of components')\nplt.ylabel('cumulative explained variance');"
    },
    "executionTime": "2020-01-13T06:49:44.213Z"
   },
   {
    "cell": {
     "executionCount": 27,
     "executionEventId": "ea1d1c11-5e61-4223-9aa6-a9e85088b546",
     "hasError": false,
     "id": "eb444f69-e45d-4d33-9739-29864eecf896",
     "outputs": [
      {
       "data": {
        "text/plain": "array([9.98440531e-01, 1.20384001e-03, 2.97832404e-04, 2.47958447e-05,\n       1.54600420e-05, 9.80692838e-06, 3.12448868e-06, 1.55466689e-06,\n       1.08589259e-06, 6.81377445e-07, 5.39892434e-07, 3.29620907e-07,\n       2.78073207e-07, 6.94995384e-08, 3.12416443e-08, 2.65109378e-08,\n       8.22210492e-09, 3.19237512e-09, 9.60811052e-10, 4.22859496e-11,\n       2.44998659e-11, 4.06418681e-12, 1.84502034e-12, 1.67302902e-12,\n       1.60539865e-12, 6.67616273e-13, 3.73132492e-13, 3.42134710e-13,\n       2.34826654e-13, 2.18006615e-13, 1.69641191e-13, 9.31183284e-14,\n       5.32395433e-14, 4.38443695e-14, 4.18265691e-14, 3.00455882e-14,\n       2.85554874e-14, 1.23331463e-14, 1.01896358e-14, 6.19319073e-15,\n       5.79018194e-15, 4.39435828e-15, 3.95271867e-15, 3.61090606e-15,\n       3.21966896e-15, 2.93940719e-15, 2.69530280e-15, 2.08906132e-15,\n       1.85601084e-15, 1.53950891e-15, 1.38583841e-15, 1.28755971e-15,\n       1.27375535e-15, 1.13244688e-15, 1.03771470e-15, 9.60491551e-16,\n       9.50623274e-16, 7.95922282e-16, 7.85965074e-16, 7.34490193e-16,\n       6.09331758e-16, 6.05640899e-16, 5.83322851e-16, 5.45860032e-16,\n       5.09687587e-16, 5.05844438e-16, 4.88678363e-16, 4.51888427e-16,\n       4.37265010e-16, 4.33407342e-16, 4.17315068e-16, 4.02835175e-16,\n       3.73703533e-16, 3.64559054e-16, 3.57259080e-16, 3.35604132e-16,\n       3.24748287e-16, 3.06923353e-16, 3.02114601e-16, 2.75569406e-16,\n       2.72991259e-16, 2.39541021e-16, 2.37108159e-16, 2.30179620e-16,\n       2.19569743e-16, 2.16324067e-16, 2.06408197e-16, 1.93019126e-16,\n       1.66368019e-16, 1.29637057e-16, 1.25938025e-16, 1.24369296e-16,\n       1.12188559e-16, 1.10706564e-16, 1.09008668e-16, 1.07207219e-16,\n       1.01714730e-16, 9.80974446e-17, 9.16500973e-17, 8.89070654e-17,\n       8.80870912e-17, 8.68400503e-17, 8.35249958e-17, 7.85572815e-17,\n       7.52811203e-17, 7.18077865e-17, 6.69024474e-17, 6.53404995e-17,\n       6.09202978e-17, 5.70114248e-17, 5.62543210e-17, 5.45800683e-17,\n       5.27419736e-17, 5.16101630e-17, 4.68175488e-17, 4.26728296e-17,\n       4.04792208e-17, 3.70397075e-17, 3.62769507e-17, 3.55741127e-17,\n       3.45176510e-17, 3.07482580e-17, 3.03446422e-17, 2.84937657e-17,\n       2.77105330e-17, 2.58916653e-17, 2.40313658e-17, 2.16319499e-17,\n       2.06020943e-17, 1.98347176e-17, 1.77116663e-17, 1.68319828e-17,\n       1.56544190e-17, 1.37148734e-17, 1.30986736e-17, 1.24744379e-17,\n       1.21039836e-17, 1.06038904e-17, 8.59049016e-18, 7.81575738e-18,\n       7.19290708e-18, 6.23625696e-18, 6.04094261e-18, 5.38916798e-18,\n       5.02002345e-18, 4.94139682e-18, 3.51080428e-18, 2.88627474e-18,\n       2.67957030e-18, 1.80409509e-18, 1.49559051e-18, 1.14334599e-18,\n       9.61719162e-19, 8.48069242e-19, 8.04459864e-19, 4.58732256e-19,\n       4.06505607e-19, 2.32498310e-19, 1.95519905e-19, 1.77379455e-19,\n       1.69433504e-19, 1.43447659e-19, 1.40669576e-19, 7.78418207e-20,\n       6.38490807e-20, 5.28712707e-20, 4.62081550e-20, 4.47667531e-20,\n       3.13247920e-20, 2.05705990e-20, 1.54303281e-20, 1.54295454e-20,\n       1.54290807e-20, 1.54283407e-20, 1.54258655e-20, 1.54254426e-20,\n       1.54237221e-20, 1.53833208e-20, 1.53015911e-20, 1.52554435e-20,\n       1.48152174e-20, 1.36545505e-20, 7.90611179e-21, 4.13700189e-21,\n       2.12675898e-22, 5.29915626e-33, 5.29915626e-33, 5.29915626e-33,\n       5.29915626e-33, 5.29915626e-33, 5.29915626e-33, 5.29915626e-33,\n       5.29915626e-33, 5.29915626e-33, 5.29915626e-33, 5.29915626e-33,\n       5.29915626e-33, 5.29915626e-33, 5.29915626e-33, 8.18410994e-36,\n       1.52791313e-40])"
       },
       "execution_count": 27,
       "metadata": {},
       "output_type": "execute_result"
      }
     ],
     "persistentId": "9e47939f-948b-4449-8c5a-1e61ea8807ec",
     "text": "pca.explained_variance_ratio_"
    },
    "executionTime": "2020-01-13T06:50:36.569Z"
   },
   {
    "cell": {
     "executionCount": 28,
     "executionEventId": "9dfb5473-46ab-4352-a6c8-a788c8ccada9",
     "hasError": false,
     "id": "ab7b4ab9-2d9a-40e4-8a19-5949a917def7",
     "outputs": [],
     "persistentId": "775e151f-6da0-434a-848a-ae6b35c1747b",
     "text": "X_train2, X_test2, y_train2, y_test2 = train_test_split(X, y, test_size=0.2, random_state=0)"
    },
    "executionTime": "2020-01-13T06:51:22.015Z"
   },
   {
    "cell": {
     "executionCount": 29,
     "executionEventId": "23587f32-51a8-428d-bf10-99f10e3536b5",
     "hasError": false,
     "id": "ab7b4ab9-2d9a-40e4-8a19-5949a917def7",
     "outputs": [],
     "persistentId": "775e151f-6da0-434a-848a-ae6b35c1747b",
     "text": "X_train2, X_test2, y_train2, y_test2 = train_test_split(X_new, y, test_size=0.2, random_state=0)"
    },
    "executionTime": "2020-01-13T06:51:35.528Z"
   },
   {
    "cell": {
     "executionCount": 30,
     "executionEventId": "eddae823-5d54-4184-bd42-1b765cf55c29",
     "hasError": false,
     "id": "7e8dc4e5-63e2-4d4a-8b56-95ad97b79274",
     "outputs": [
      {
       "data": {
        "image/png": "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\n",
        "text/plain": "<Figure size 432x288 with 1 Axes>"
       },
       "metadata": {
        "needs_background": "light"
       },
       "output_type": "display_data"
      }
     ],
     "persistentId": "b049abdc-0238-4421-80a2-283d70fce852",
     "text": "pca = PCA().fit(X_train2)\nplt.plot(np.cumsum(pca.explained_variance_ratio_))\nplt.xlabel('number of components')\nplt.ylabel('cumulative explained variance');"
    },
    "executionTime": "2020-01-13T06:51:41.341Z"
   },
   {
    "cell": {
     "executionCount": 31,
     "executionEventId": "873ffc41-32b0-44f3-8604-1982fd9ade19",
     "hasError": false,
     "id": "0324931c-af0a-48fc-908c-836b3b40baad",
     "outputs": [],
     "persistentId": "815f8941-0da7-449d-8336-c0c8f8428c66",
     "text": "classifier = RandomForestClassifier(max_depth=2, random_state=0)\nclassifier.fit(X_train2, y_train2)\n\ny_pred = classifier.predict(X_test2)"
    },
    "executionTime": "2020-01-13T06:51:57.610Z"
   },
   {
    "cell": {
     "executionCount": 1,
     "executionEventId": "51b5c8b9-a702-4fea-a38b-962de08b6b47",
     "hasError": false,
     "id": "93805fe6-8ad9-49ac-b1e6-b41747195978",
     "outputs": [],
     "persistentId": "47827e5d-9598-4b20-88c8-d5f63cfe04b4",
     "text": "# import libraries\nimport pandas as pd\nimport numpy as np\nimport matplotlib.pyplot as plt\nfrom sklearn import ensemble\nfrom sklearn.model_selection import cross_val_score\nfrom sklearn.preprocessing import StandardScaler\nfrom sklearn.model_selection import train_test_split\nfrom sklearn.decomposition import PCA\nfrom sklearn.ensemble import RandomForestClassifier\n\nimport warnings\n\nwarnings.filterwarnings(\"ignore\")\n\n%matplotlib inline"
    },
    "executionTime": "2020-01-13T07:02:03.472Z"
   },
   {
    "cell": {
     "executionCount": 2,
     "executionEventId": "5cd0953d-d08a-4b55-af78-e4256f168cd3",
     "hasError": true,
     "id": "81b5fadc-4b72-4bb1-b1b9-4c8de7de0f1d",
     "outputs": [
      {
       "ename": "FileNotFoundError",
       "evalue": "[Errno 2] File b'LoanStats3d.csv' does not exist: b'LoanStats3d.csv'",
       "output_type": "error",
       "traceback": [
        "\u001b[0;31m---------------------------------------------------------------------------\u001b[0m",
        "\u001b[0;31mFileNotFoundError\u001b[0m                         Traceback (most recent call last)",
        "\u001b[0;32m<ipython-input-2-d70797396ee7>\u001b[0m in \u001b[0;36m<module>\u001b[0;34m\u001b[0m\n\u001b[1;32m      1\u001b[0m \u001b[0;31m# read data from file\u001b[0m\u001b[0;34m\u001b[0m\u001b[0;34m\u001b[0m\u001b[0;34m\u001b[0m\u001b[0m\n\u001b[0;32m----> 2\u001b[0;31m \u001b[0mraw\u001b[0m \u001b[0;34m=\u001b[0m \u001b[0mpd\u001b[0m\u001b[0;34m.\u001b[0m\u001b[0mread_csv\u001b[0m\u001b[0;34m(\u001b[0m\u001b[0;34m\"LoanStats3d.csv\"\u001b[0m\u001b[0;34m,\u001b[0m \u001b[0mskipinitialspace\u001b[0m\u001b[0;34m=\u001b[0m\u001b[0;32mTrue\u001b[0m\u001b[0;34m,\u001b[0m \u001b[0mheader\u001b[0m\u001b[0;34m=\u001b[0m\u001b[0;36m1\u001b[0m\u001b[0;34m)\u001b[0m\u001b[0;34m\u001b[0m\u001b[0;34m\u001b[0m\u001b[0m\n\u001b[0m\u001b[1;32m      3\u001b[0m \u001b[0;34m\u001b[0m\u001b[0m\n\u001b[1;32m      4\u001b[0m \u001b[0;31m# show first 5 rows\u001b[0m\u001b[0;34m\u001b[0m\u001b[0;34m\u001b[0m\u001b[0;34m\u001b[0m\u001b[0m\n\u001b[1;32m      5\u001b[0m \u001b[0mraw\u001b[0m\u001b[0;34m.\u001b[0m\u001b[0mhead\u001b[0m\u001b[0;34m(\u001b[0m\u001b[0;34m)\u001b[0m\u001b[0;34m\u001b[0m\u001b[0;34m\u001b[0m\u001b[0m\n",
        "\u001b[0;32m~/anaconda3/lib/python3.7/site-packages/pandas/io/parsers.py\u001b[0m in \u001b[0;36mparser_f\u001b[0;34m(filepath_or_buffer, sep, delimiter, header, names, index_col, usecols, squeeze, prefix, mangle_dupe_cols, dtype, engine, converters, true_values, false_values, skipinitialspace, skiprows, skipfooter, nrows, na_values, keep_default_na, na_filter, verbose, skip_blank_lines, parse_dates, infer_datetime_format, keep_date_col, date_parser, dayfirst, iterator, chunksize, compression, thousands, decimal, lineterminator, quotechar, quoting, doublequote, escapechar, comment, encoding, dialect, tupleize_cols, error_bad_lines, warn_bad_lines, delim_whitespace, low_memory, memory_map, float_precision)\u001b[0m\n\u001b[1;32m    700\u001b[0m                     skip_blank_lines=skip_blank_lines)\n\u001b[1;32m    701\u001b[0m \u001b[0;34m\u001b[0m\u001b[0m\n\u001b[0;32m--> 702\u001b[0;31m         \u001b[0;32mreturn\u001b[0m \u001b[0m_read\u001b[0m\u001b[0;34m(\u001b[0m\u001b[0mfilepath_or_buffer\u001b[0m\u001b[0;34m,\u001b[0m \u001b[0mkwds\u001b[0m\u001b[0;34m)\u001b[0m\u001b[0;34m\u001b[0m\u001b[0;34m\u001b[0m\u001b[0m\n\u001b[0m\u001b[1;32m    703\u001b[0m \u001b[0;34m\u001b[0m\u001b[0m\n\u001b[1;32m    704\u001b[0m     \u001b[0mparser_f\u001b[0m\u001b[0;34m.\u001b[0m\u001b[0m__name__\u001b[0m \u001b[0;34m=\u001b[0m \u001b[0mname\u001b[0m\u001b[0;34m\u001b[0m\u001b[0;34m\u001b[0m\u001b[0m\n",
        "\u001b[0;32m~/anaconda3/lib/python3.7/site-packages/pandas/io/parsers.py\u001b[0m in \u001b[0;36m_read\u001b[0;34m(filepath_or_buffer, kwds)\u001b[0m\n\u001b[1;32m    427\u001b[0m \u001b[0;34m\u001b[0m\u001b[0m\n\u001b[1;32m    428\u001b[0m     \u001b[0;31m# Create the parser.\u001b[0m\u001b[0;34m\u001b[0m\u001b[0;34m\u001b[0m\u001b[0;34m\u001b[0m\u001b[0m\n\u001b[0;32m--> 429\u001b[0;31m     \u001b[0mparser\u001b[0m \u001b[0;34m=\u001b[0m \u001b[0mTextFileReader\u001b[0m\u001b[0;34m(\u001b[0m\u001b[0mfilepath_or_buffer\u001b[0m\u001b[0;34m,\u001b[0m \u001b[0;34m**\u001b[0m\u001b[0mkwds\u001b[0m\u001b[0;34m)\u001b[0m\u001b[0;34m\u001b[0m\u001b[0;34m\u001b[0m\u001b[0m\n\u001b[0m\u001b[1;32m    430\u001b[0m \u001b[0;34m\u001b[0m\u001b[0m\n\u001b[1;32m    431\u001b[0m     \u001b[0;32mif\u001b[0m \u001b[0mchunksize\u001b[0m \u001b[0;32mor\u001b[0m \u001b[0miterator\u001b[0m\u001b[0;34m:\u001b[0m\u001b[0;34m\u001b[0m\u001b[0;34m\u001b[0m\u001b[0m\n",
        "\u001b[0;32m~/anaconda3/lib/python3.7/site-packages/pandas/io/parsers.py\u001b[0m in \u001b[0;36m__init__\u001b[0;34m(self, f, engine, **kwds)\u001b[0m\n\u001b[1;32m    893\u001b[0m             \u001b[0mself\u001b[0m\u001b[0;34m.\u001b[0m\u001b[0moptions\u001b[0m\u001b[0;34m[\u001b[0m\u001b[0;34m'has_index_names'\u001b[0m\u001b[0;34m]\u001b[0m \u001b[0;34m=\u001b[0m \u001b[0mkwds\u001b[0m\u001b[0;34m[\u001b[0m\u001b[0;34m'has_index_names'\u001b[0m\u001b[0;34m]\u001b[0m\u001b[0;34m\u001b[0m\u001b[0;34m\u001b[0m\u001b[0m\n\u001b[1;32m    894\u001b[0m \u001b[0;34m\u001b[0m\u001b[0m\n\u001b[0;32m--> 895\u001b[0;31m         \u001b[0mself\u001b[0m\u001b[0;34m.\u001b[0m\u001b[0m_make_engine\u001b[0m\u001b[0;34m(\u001b[0m\u001b[0mself\u001b[0m\u001b[0;34m.\u001b[0m\u001b[0mengine\u001b[0m\u001b[0;34m)\u001b[0m\u001b[0;34m\u001b[0m\u001b[0;34m\u001b[0m\u001b[0m\n\u001b[0m\u001b[1;32m    896\u001b[0m \u001b[0;34m\u001b[0m\u001b[0m\n\u001b[1;32m    897\u001b[0m     \u001b[0;32mdef\u001b[0m \u001b[0mclose\u001b[0m\u001b[0;34m(\u001b[0m\u001b[0mself\u001b[0m\u001b[0;34m)\u001b[0m\u001b[0;34m:\u001b[0m\u001b[0;34m\u001b[0m\u001b[0;34m\u001b[0m\u001b[0m\n",
        "\u001b[0;32m~/anaconda3/lib/python3.7/site-packages/pandas/io/parsers.py\u001b[0m in \u001b[0;36m_make_engine\u001b[0;34m(self, engine)\u001b[0m\n\u001b[1;32m   1120\u001b[0m     \u001b[0;32mdef\u001b[0m \u001b[0m_make_engine\u001b[0m\u001b[0;34m(\u001b[0m\u001b[0mself\u001b[0m\u001b[0;34m,\u001b[0m \u001b[0mengine\u001b[0m\u001b[0;34m=\u001b[0m\u001b[0;34m'c'\u001b[0m\u001b[0;34m)\u001b[0m\u001b[0;34m:\u001b[0m\u001b[0;34m\u001b[0m\u001b[0;34m\u001b[0m\u001b[0m\n\u001b[1;32m   1121\u001b[0m         \u001b[0;32mif\u001b[0m \u001b[0mengine\u001b[0m \u001b[0;34m==\u001b[0m \u001b[0;34m'c'\u001b[0m\u001b[0;34m:\u001b[0m\u001b[0;34m\u001b[0m\u001b[0;34m\u001b[0m\u001b[0m\n\u001b[0;32m-> 1122\u001b[0;31m             \u001b[0mself\u001b[0m\u001b[0;34m.\u001b[0m\u001b[0m_engine\u001b[0m \u001b[0;34m=\u001b[0m \u001b[0mCParserWrapper\u001b[0m\u001b[0;34m(\u001b[0m\u001b[0mself\u001b[0m\u001b[0;34m.\u001b[0m\u001b[0mf\u001b[0m\u001b[0;34m,\u001b[0m \u001b[0;34m**\u001b[0m\u001b[0mself\u001b[0m\u001b[0;34m.\u001b[0m\u001b[0moptions\u001b[0m\u001b[0;34m)\u001b[0m\u001b[0;34m\u001b[0m\u001b[0;34m\u001b[0m\u001b[0m\n\u001b[0m\u001b[1;32m   1123\u001b[0m         \u001b[0;32melse\u001b[0m\u001b[0;34m:\u001b[0m\u001b[0;34m\u001b[0m\u001b[0;34m\u001b[0m\u001b[0m\n\u001b[1;32m   1124\u001b[0m             \u001b[0;32mif\u001b[0m \u001b[0mengine\u001b[0m \u001b[0;34m==\u001b[0m \u001b[0;34m'python'\u001b[0m\u001b[0;34m:\u001b[0m\u001b[0;34m\u001b[0m\u001b[0;34m\u001b[0m\u001b[0m\n",
        "\u001b[0;32m~/anaconda3/lib/python3.7/site-packages/pandas/io/parsers.py\u001b[0m in \u001b[0;36m__init__\u001b[0;34m(self, src, **kwds)\u001b[0m\n\u001b[1;32m   1851\u001b[0m         \u001b[0mkwds\u001b[0m\u001b[0;34m[\u001b[0m\u001b[0;34m'usecols'\u001b[0m\u001b[0;34m]\u001b[0m \u001b[0;34m=\u001b[0m \u001b[0mself\u001b[0m\u001b[0;34m.\u001b[0m\u001b[0musecols\u001b[0m\u001b[0;34m\u001b[0m\u001b[0;34m\u001b[0m\u001b[0m\n\u001b[1;32m   1852\u001b[0m \u001b[0;34m\u001b[0m\u001b[0m\n\u001b[0;32m-> 1853\u001b[0;31m         \u001b[0mself\u001b[0m\u001b[0;34m.\u001b[0m\u001b[0m_reader\u001b[0m \u001b[0;34m=\u001b[0m \u001b[0mparsers\u001b[0m\u001b[0;34m.\u001b[0m\u001b[0mTextReader\u001b[0m\u001b[0;34m(\u001b[0m\u001b[0msrc\u001b[0m\u001b[0;34m,\u001b[0m \u001b[0;34m**\u001b[0m\u001b[0mkwds\u001b[0m\u001b[0;34m)\u001b[0m\u001b[0;34m\u001b[0m\u001b[0;34m\u001b[0m\u001b[0m\n\u001b[0m\u001b[1;32m   1854\u001b[0m         \u001b[0mself\u001b[0m\u001b[0;34m.\u001b[0m\u001b[0munnamed_cols\u001b[0m \u001b[0;34m=\u001b[0m \u001b[0mself\u001b[0m\u001b[0;34m.\u001b[0m\u001b[0m_reader\u001b[0m\u001b[0;34m.\u001b[0m\u001b[0munnamed_cols\u001b[0m\u001b[0;34m\u001b[0m\u001b[0;34m\u001b[0m\u001b[0m\n\u001b[1;32m   1855\u001b[0m \u001b[0;34m\u001b[0m\u001b[0m\n",
        "\u001b[0;32mpandas/_libs/parsers.pyx\u001b[0m in \u001b[0;36mpandas._libs.parsers.TextReader.__cinit__\u001b[0;34m()\u001b[0m\n",
        "\u001b[0;32mpandas/_libs/parsers.pyx\u001b[0m in \u001b[0;36mpandas._libs.parsers.TextReader._setup_parser_source\u001b[0;34m()\u001b[0m\n",
        "\u001b[0;31mFileNotFoundError\u001b[0m: [Errno 2] File b'LoanStats3d.csv' does not exist: b'LoanStats3d.csv'"
       ]
      }
     ],
     "persistentId": "0ff2576a-01f5-4050-a162-f50f1dadb654",
     "text": "# read data from file\nraw = pd.read_csv(\"LoanStats3d.csv\", skipinitialspace=True, header=1)\n\n# show first 5 rows\nraw.head()"
    },
    "executionTime": "2020-01-13T07:02:03.598Z"
   }
  ],
  "kernelspec": {
   "display_name": "Python 3",
   "language": "python",
   "name": "python3"
  },
  "language_info": {
   "codemirror_mode": {
    "name": "ipython",
    "version": 3
   },
   "file_extension": ".py",
   "mimetype": "text/x-python",
   "name": "python",
   "nbconvert_exporter": "python",
   "pygments_lexer": "ipython3",
   "version": "3.7.3"
  },
  "uuid": "f9bf6534-5035-406c-af4f-6ab392d77d7d"
 },
 "nbformat": 4,
 "nbformat_minor": 4
}
